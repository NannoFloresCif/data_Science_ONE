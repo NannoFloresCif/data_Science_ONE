{
  "cells": [
    {
      "cell_type": "markdown",
      "metadata": {
        "id": "RhEdWd9YUR6H"
      },
      "source": [
        "### Importación de datos\n",
        "\n"
      ]
    },
    {
      "cell_type": "code",
      "execution_count": 1,
      "metadata": {
        "colab": {
          "base_uri": "https://localhost:8080/",
          "height": 206
        },
        "id": "T3EvaeQ_INIL",
        "outputId": "e9c5efe1-82a3-43ab-e8d7-6d01e4fa3514"
      },
      "outputs": [
        {
          "data": {
            "text/html": [
              "<div>\n",
              "<style scoped>\n",
              "    .dataframe tbody tr th:only-of-type {\n",
              "        vertical-align: middle;\n",
              "    }\n",
              "\n",
              "    .dataframe tbody tr th {\n",
              "        vertical-align: top;\n",
              "    }\n",
              "\n",
              "    .dataframe thead th {\n",
              "        text-align: right;\n",
              "    }\n",
              "</style>\n",
              "<table border=\"1\" class=\"dataframe\">\n",
              "  <thead>\n",
              "    <tr style=\"text-align: right;\">\n",
              "      <th></th>\n",
              "      <th>Producto</th>\n",
              "      <th>Categoría del Producto</th>\n",
              "      <th>Precio</th>\n",
              "      <th>Costo de envío</th>\n",
              "      <th>Fecha de Compra</th>\n",
              "      <th>Vendedor</th>\n",
              "      <th>Lugar de Compra</th>\n",
              "      <th>Calificación</th>\n",
              "      <th>Método de pago</th>\n",
              "      <th>Cantidad de cuotas</th>\n",
              "      <th>lat</th>\n",
              "      <th>lon</th>\n",
              "    </tr>\n",
              "  </thead>\n",
              "  <tbody>\n",
              "    <tr>\n",
              "      <th>0</th>\n",
              "      <td>Asistente virtual</td>\n",
              "      <td>Electrónicos</td>\n",
              "      <td>164300.0</td>\n",
              "      <td>6900.0</td>\n",
              "      <td>16/01/2021</td>\n",
              "      <td>Pedro Gomez</td>\n",
              "      <td>Bogotá</td>\n",
              "      <td>4</td>\n",
              "      <td>Tarjeta de crédito</td>\n",
              "      <td>8</td>\n",
              "      <td>4.60971</td>\n",
              "      <td>-74.08175</td>\n",
              "    </tr>\n",
              "    <tr>\n",
              "      <th>1</th>\n",
              "      <td>Mesa de comedor</td>\n",
              "      <td>Muebles</td>\n",
              "      <td>192300.0</td>\n",
              "      <td>8400.0</td>\n",
              "      <td>18/05/2022</td>\n",
              "      <td>Beatriz Morales</td>\n",
              "      <td>Medellín</td>\n",
              "      <td>1</td>\n",
              "      <td>Tarjeta de crédito</td>\n",
              "      <td>4</td>\n",
              "      <td>6.25184</td>\n",
              "      <td>-75.56359</td>\n",
              "    </tr>\n",
              "    <tr>\n",
              "      <th>2</th>\n",
              "      <td>Juego de mesa</td>\n",
              "      <td>Juguetes</td>\n",
              "      <td>209600.0</td>\n",
              "      <td>15900.0</td>\n",
              "      <td>15/03/2021</td>\n",
              "      <td>Juan Fernandez</td>\n",
              "      <td>Cartagena</td>\n",
              "      <td>1</td>\n",
              "      <td>Tarjeta de crédito</td>\n",
              "      <td>1</td>\n",
              "      <td>10.39972</td>\n",
              "      <td>-75.51444</td>\n",
              "    </tr>\n",
              "    <tr>\n",
              "      <th>3</th>\n",
              "      <td>Microondas</td>\n",
              "      <td>Electrodomésticos</td>\n",
              "      <td>757500.0</td>\n",
              "      <td>41000.0</td>\n",
              "      <td>03/05/2022</td>\n",
              "      <td>Juan Fernandez</td>\n",
              "      <td>Cali</td>\n",
              "      <td>4</td>\n",
              "      <td>Nequi</td>\n",
              "      <td>1</td>\n",
              "      <td>3.43722</td>\n",
              "      <td>-76.52250</td>\n",
              "    </tr>\n",
              "    <tr>\n",
              "      <th>4</th>\n",
              "      <td>Silla de oficina</td>\n",
              "      <td>Muebles</td>\n",
              "      <td>335200.0</td>\n",
              "      <td>20200.0</td>\n",
              "      <td>07/11/2020</td>\n",
              "      <td>Maria Alfonso</td>\n",
              "      <td>Medellín</td>\n",
              "      <td>5</td>\n",
              "      <td>Nequi</td>\n",
              "      <td>1</td>\n",
              "      <td>6.25184</td>\n",
              "      <td>-75.56359</td>\n",
              "    </tr>\n",
              "    <tr>\n",
              "      <th>...</th>\n",
              "      <td>...</td>\n",
              "      <td>...</td>\n",
              "      <td>...</td>\n",
              "      <td>...</td>\n",
              "      <td>...</td>\n",
              "      <td>...</td>\n",
              "      <td>...</td>\n",
              "      <td>...</td>\n",
              "      <td>...</td>\n",
              "      <td>...</td>\n",
              "      <td>...</td>\n",
              "      <td>...</td>\n",
              "    </tr>\n",
              "    <tr>\n",
              "      <th>9430</th>\n",
              "      <td>Mesa de comedor</td>\n",
              "      <td>Muebles</td>\n",
              "      <td>227700.0</td>\n",
              "      <td>12600.0</td>\n",
              "      <td>12/02/2020</td>\n",
              "      <td>Camila Rivera</td>\n",
              "      <td>Medellín</td>\n",
              "      <td>5</td>\n",
              "      <td>Tarjeta de crédito</td>\n",
              "      <td>1</td>\n",
              "      <td>6.25184</td>\n",
              "      <td>-75.56359</td>\n",
              "    </tr>\n",
              "    <tr>\n",
              "      <th>9431</th>\n",
              "      <td>Silla de oficina</td>\n",
              "      <td>Muebles</td>\n",
              "      <td>342000.0</td>\n",
              "      <td>18600.0</td>\n",
              "      <td>17/05/2022</td>\n",
              "      <td>Felipe Santos</td>\n",
              "      <td>Bucaramanga</td>\n",
              "      <td>5</td>\n",
              "      <td>Tarjeta de crédito</td>\n",
              "      <td>3</td>\n",
              "      <td>7.12539</td>\n",
              "      <td>-73.11980</td>\n",
              "    </tr>\n",
              "    <tr>\n",
              "      <th>9432</th>\n",
              "      <td>Vaso térmico</td>\n",
              "      <td>Deportes y diversión</td>\n",
              "      <td>36700.0</td>\n",
              "      <td>2400.0</td>\n",
              "      <td>03/05/2022</td>\n",
              "      <td>Camila Rivera</td>\n",
              "      <td>Bogotá</td>\n",
              "      <td>5</td>\n",
              "      <td>Tarjeta de crédito</td>\n",
              "      <td>1</td>\n",
              "      <td>4.60971</td>\n",
              "      <td>-74.08175</td>\n",
              "    </tr>\n",
              "    <tr>\n",
              "      <th>9433</th>\n",
              "      <td>Set de ollas</td>\n",
              "      <td>Artículos para el hogar</td>\n",
              "      <td>151800.0</td>\n",
              "      <td>8300.0</td>\n",
              "      <td>15/06/2020</td>\n",
              "      <td>Blanca Ramirez</td>\n",
              "      <td>Cali</td>\n",
              "      <td>5</td>\n",
              "      <td>Tarjeta de crédito</td>\n",
              "      <td>1</td>\n",
              "      <td>3.43722</td>\n",
              "      <td>-76.52250</td>\n",
              "    </tr>\n",
              "    <tr>\n",
              "      <th>9434</th>\n",
              "      <td>Cuerda para saltar</td>\n",
              "      <td>Deportes y diversión</td>\n",
              "      <td>11200.0</td>\n",
              "      <td>1300.0</td>\n",
              "      <td>17/11/2021</td>\n",
              "      <td>Felipe Santos</td>\n",
              "      <td>Bogotá</td>\n",
              "      <td>5</td>\n",
              "      <td>Tarjeta de crédito</td>\n",
              "      <td>1</td>\n",
              "      <td>4.60971</td>\n",
              "      <td>-74.08175</td>\n",
              "    </tr>\n",
              "  </tbody>\n",
              "</table>\n",
              "<p>9435 rows × 12 columns</p>\n",
              "</div>"
            ],
            "text/plain": [
              "                Producto   Categoría del Producto    Precio  Costo de envío  \\\n",
              "0      Asistente virtual             Electrónicos  164300.0          6900.0   \n",
              "1        Mesa de comedor                  Muebles  192300.0          8400.0   \n",
              "2          Juego de mesa                 Juguetes  209600.0         15900.0   \n",
              "3             Microondas        Electrodomésticos  757500.0         41000.0   \n",
              "4       Silla de oficina                  Muebles  335200.0         20200.0   \n",
              "...                  ...                      ...       ...             ...   \n",
              "9430     Mesa de comedor                  Muebles  227700.0         12600.0   \n",
              "9431    Silla de oficina                  Muebles  342000.0         18600.0   \n",
              "9432        Vaso térmico     Deportes y diversión   36700.0          2400.0   \n",
              "9433        Set de ollas  Artículos para el hogar  151800.0          8300.0   \n",
              "9434  Cuerda para saltar     Deportes y diversión   11200.0          1300.0   \n",
              "\n",
              "     Fecha de Compra         Vendedor Lugar de Compra  Calificación  \\\n",
              "0         16/01/2021      Pedro Gomez          Bogotá             4   \n",
              "1         18/05/2022  Beatriz Morales        Medellín             1   \n",
              "2         15/03/2021   Juan Fernandez       Cartagena             1   \n",
              "3         03/05/2022   Juan Fernandez            Cali             4   \n",
              "4         07/11/2020    Maria Alfonso        Medellín             5   \n",
              "...              ...              ...             ...           ...   \n",
              "9430      12/02/2020    Camila Rivera        Medellín             5   \n",
              "9431      17/05/2022    Felipe Santos     Bucaramanga             5   \n",
              "9432      03/05/2022    Camila Rivera          Bogotá             5   \n",
              "9433      15/06/2020   Blanca Ramirez            Cali             5   \n",
              "9434      17/11/2021    Felipe Santos          Bogotá             5   \n",
              "\n",
              "          Método de pago  Cantidad de cuotas       lat       lon  \n",
              "0     Tarjeta de crédito                   8   4.60971 -74.08175  \n",
              "1     Tarjeta de crédito                   4   6.25184 -75.56359  \n",
              "2     Tarjeta de crédito                   1  10.39972 -75.51444  \n",
              "3                  Nequi                   1   3.43722 -76.52250  \n",
              "4                  Nequi                   1   6.25184 -75.56359  \n",
              "...                  ...                 ...       ...       ...  \n",
              "9430  Tarjeta de crédito                   1   6.25184 -75.56359  \n",
              "9431  Tarjeta de crédito                   3   7.12539 -73.11980  \n",
              "9432  Tarjeta de crédito                   1   4.60971 -74.08175  \n",
              "9433  Tarjeta de crédito                   1   3.43722 -76.52250  \n",
              "9434  Tarjeta de crédito                   1   4.60971 -74.08175  \n",
              "\n",
              "[9435 rows x 12 columns]"
            ]
          },
          "execution_count": 1,
          "metadata": {},
          "output_type": "execute_result"
        }
      ],
      "source": [
        "import pandas as pd\n",
        "\n",
        "url = \"https://raw.githubusercontent.com/alura-es-cursos/challenge1-data-science-latam/refs/heads/main/base-de-datos-challenge1-latam/tienda_1%20.csv\"\n",
        "url2 = \"https://raw.githubusercontent.com/alura-es-cursos/challenge1-data-science-latam/refs/heads/main/base-de-datos-challenge1-latam/tienda_2.csv\"\n",
        "url3 = \"https://raw.githubusercontent.com/alura-es-cursos/challenge1-data-science-latam/refs/heads/main/base-de-datos-challenge1-latam/tienda_3.csv\"\n",
        "url4 = \"https://raw.githubusercontent.com/alura-es-cursos/challenge1-data-science-latam/refs/heads/main/base-de-datos-challenge1-latam/tienda_4.csv\"\n",
        "\n",
        "tienda = pd.read_csv(url)\n",
        "tienda2 = pd.read_csv(url2)\n",
        "tienda3 = pd.read_csv(url3)\n",
        "tienda4 = pd.read_csv(url4)\n",
        "\n",
        "tiendas = [tienda, tienda2, tienda3, tienda4] # Se crea una lista con los dataframes de cada tienda\n",
        "# Se concatenan los dataframes de cada tienda en uno solo e ignorando los índices\n",
        "# Se utiliza la función pd.concat para unir los dataframes en uno solo\n",
        "db_tiendas = pd.concat(tiendas, ignore_index=True)\n",
        "\n",
        "#db_tiendas.iloc[len(db_tiendas[db_tiendas[\"Lugar de Compra\"]==\"Manizales\"]), :] # Se muestran las últimas 5 filas del dataframe\n",
        "\n",
        "db_tiendas\n"
      ]
    },
    {
      "cell_type": "markdown",
      "metadata": {
        "id": "X62IW3KFUIYm"
      },
      "source": [
        "# 1. Análisis de facturación\n",
        "\n"
      ]
    },
    {
      "cell_type": "code",
      "execution_count": 2,
      "metadata": {
        "id": "A34YupIuYhfF"
      },
      "outputs": [
        {
          "data": {
            "text/html": [
              "<div>\n",
              "<style scoped>\n",
              "    .dataframe tbody tr th:only-of-type {\n",
              "        vertical-align: middle;\n",
              "    }\n",
              "\n",
              "    .dataframe tbody tr th {\n",
              "        vertical-align: top;\n",
              "    }\n",
              "\n",
              "    .dataframe thead th {\n",
              "        text-align: right;\n",
              "    }\n",
              "</style>\n",
              "<table border=\"1\" class=\"dataframe\">\n",
              "  <thead>\n",
              "    <tr style=\"text-align: right;\">\n",
              "      <th></th>\n",
              "      <th>Lugar de Compra</th>\n",
              "      <th>lat</th>\n",
              "      <th>lon</th>\n",
              "      <th>Precio</th>\n",
              "      <th>Costo de envío</th>\n",
              "      <th>Calificación</th>\n",
              "      <th>Ganancia</th>\n",
              "      <th>p_ganancia/precio</th>\n",
              "      <th>p_costo/precio</th>\n",
              "    </tr>\n",
              "  </thead>\n",
              "  <tbody>\n",
              "    <tr>\n",
              "      <th>0</th>\n",
              "      <td>Bogotá</td>\n",
              "      <td>4.60971</td>\n",
              "      <td>-74.08175</td>\n",
              "      <td>1.814858e+09</td>\n",
              "      <td>96730000.0</td>\n",
              "      <td>4.113619</td>\n",
              "      <td>1.718128e+09</td>\n",
              "      <td>94.670107</td>\n",
              "      <td>5.329893</td>\n",
              "    </tr>\n",
              "    <tr>\n",
              "      <th>1</th>\n",
              "      <td>Medellín</td>\n",
              "      <td>6.25184</td>\n",
              "      <td>-75.56359</td>\n",
              "      <td>1.096669e+09</td>\n",
              "      <td>58502600.0</td>\n",
              "      <td>3.926534</td>\n",
              "      <td>1.038167e+09</td>\n",
              "      <td>94.665429</td>\n",
              "      <td>5.334571</td>\n",
              "    </tr>\n",
              "    <tr>\n",
              "      <th>2</th>\n",
              "      <td>Cali</td>\n",
              "      <td>3.43722</td>\n",
              "      <td>-76.52250</td>\n",
              "      <td>5.065261e+08</td>\n",
              "      <td>26913900.0</td>\n",
              "      <td>4.046673</td>\n",
              "      <td>4.796122e+08</td>\n",
              "      <td>94.686572</td>\n",
              "      <td>5.313428</td>\n",
              "    </tr>\n",
              "    <tr>\n",
              "      <th>3</th>\n",
              "      <td>Pereira</td>\n",
              "      <td>4.81333</td>\n",
              "      <td>-75.69611</td>\n",
              "      <td>2.259273e+08</td>\n",
              "      <td>12000300.0</td>\n",
              "      <td>4.013540</td>\n",
              "      <td>2.139270e+08</td>\n",
              "      <td>94.688424</td>\n",
              "      <td>5.311576</td>\n",
              "    </tr>\n",
              "    <tr>\n",
              "      <th>4</th>\n",
              "      <td>Barranquilla</td>\n",
              "      <td>10.96854</td>\n",
              "      <td>-74.78132</td>\n",
              "      <td>1.320405e+08</td>\n",
              "      <td>7034600.0</td>\n",
              "      <td>3.803226</td>\n",
              "      <td>1.250059e+08</td>\n",
              "      <td>94.672392</td>\n",
              "      <td>5.327608</td>\n",
              "    </tr>\n",
              "    <tr>\n",
              "      <th>5</th>\n",
              "      <td>Cartagena</td>\n",
              "      <td>10.39972</td>\n",
              "      <td>-75.51444</td>\n",
              "      <td>1.023767e+08</td>\n",
              "      <td>5478500.0</td>\n",
              "      <td>4.020661</td>\n",
              "      <td>9.689820e+07</td>\n",
              "      <td>94.648685</td>\n",
              "      <td>5.351315</td>\n",
              "    </tr>\n",
              "    <tr>\n",
              "      <th>6</th>\n",
              "      <td>Cúcuta</td>\n",
              "      <td>7.89391</td>\n",
              "      <td>-72.50782</td>\n",
              "      <td>9.936910e+07</td>\n",
              "      <td>5319100.0</td>\n",
              "      <td>3.940860</td>\n",
              "      <td>9.405000e+07</td>\n",
              "      <td>94.647129</td>\n",
              "      <td>5.352871</td>\n",
              "    </tr>\n",
              "    <tr>\n",
              "      <th>7</th>\n",
              "      <td>Bucaramanga</td>\n",
              "      <td>7.12539</td>\n",
              "      <td>-73.11980</td>\n",
              "      <td>9.057330e+07</td>\n",
              "      <td>4849000.0</td>\n",
              "      <td>3.977901</td>\n",
              "      <td>8.572430e+07</td>\n",
              "      <td>94.646325</td>\n",
              "      <td>5.353675</td>\n",
              "    </tr>\n",
              "    <tr>\n",
              "      <th>8</th>\n",
              "      <td>Riohacha</td>\n",
              "      <td>11.54444</td>\n",
              "      <td>-72.90722</td>\n",
              "      <td>7.387970e+07</td>\n",
              "      <td>3932800.0</td>\n",
              "      <td>3.895706</td>\n",
              "      <td>6.994690e+07</td>\n",
              "      <td>94.676752</td>\n",
              "      <td>5.323248</td>\n",
              "    </tr>\n",
              "    <tr>\n",
              "      <th>9</th>\n",
              "      <td>Leticia</td>\n",
              "      <td>-4.21528</td>\n",
              "      <td>-69.94056</td>\n",
              "      <td>6.714990e+07</td>\n",
              "      <td>3595100.0</td>\n",
              "      <td>3.922535</td>\n",
              "      <td>6.355480e+07</td>\n",
              "      <td>94.646157</td>\n",
              "      <td>5.353843</td>\n",
              "    </tr>\n",
              "    <tr>\n",
              "      <th>10</th>\n",
              "      <td>Santa Marta</td>\n",
              "      <td>11.24079</td>\n",
              "      <td>-74.19904</td>\n",
              "      <td>5.310050e+07</td>\n",
              "      <td>2831600.0</td>\n",
              "      <td>3.596026</td>\n",
              "      <td>5.026890e+07</td>\n",
              "      <td>94.667470</td>\n",
              "      <td>5.332530</td>\n",
              "    </tr>\n",
              "    <tr>\n",
              "      <th>11</th>\n",
              "      <td>Pasto</td>\n",
              "      <td>1.21361</td>\n",
              "      <td>-77.28111</td>\n",
              "      <td>4.901430e+07</td>\n",
              "      <td>2613300.0</td>\n",
              "      <td>4.148936</td>\n",
              "      <td>4.640100e+07</td>\n",
              "      <td>94.668291</td>\n",
              "      <td>5.331709</td>\n",
              "    </tr>\n",
              "    <tr>\n",
              "      <th>12</th>\n",
              "      <td>Neiva</td>\n",
              "      <td>2.92730</td>\n",
              "      <td>-75.28189</td>\n",
              "      <td>2.089800e+07</td>\n",
              "      <td>1108400.0</td>\n",
              "      <td>3.800000</td>\n",
              "      <td>1.978960e+07</td>\n",
              "      <td>94.696143</td>\n",
              "      <td>5.303857</td>\n",
              "    </tr>\n",
              "    <tr>\n",
              "      <th>13</th>\n",
              "      <td>Manizales</td>\n",
              "      <td>5.06889</td>\n",
              "      <td>-75.51738</td>\n",
              "      <td>1.936790e+07</td>\n",
              "      <td>1022900.0</td>\n",
              "      <td>3.634146</td>\n",
              "      <td>1.834500e+07</td>\n",
              "      <td>94.718581</td>\n",
              "      <td>5.281419</td>\n",
              "    </tr>\n",
              "    <tr>\n",
              "      <th>14</th>\n",
              "      <td>Villavicencio</td>\n",
              "      <td>4.14200</td>\n",
              "      <td>-73.62664</td>\n",
              "      <td>1.333360e+07</td>\n",
              "      <td>727900.0</td>\n",
              "      <td>3.827586</td>\n",
              "      <td>1.260570e+07</td>\n",
              "      <td>94.540859</td>\n",
              "      <td>5.459141</td>\n",
              "    </tr>\n",
              "    <tr>\n",
              "      <th>15</th>\n",
              "      <td>Soacha</td>\n",
              "      <td>4.57937</td>\n",
              "      <td>-74.21682</td>\n",
              "      <td>1.231770e+07</td>\n",
              "      <td>660600.0</td>\n",
              "      <td>3.894737</td>\n",
              "      <td>1.165710e+07</td>\n",
              "      <td>94.636986</td>\n",
              "      <td>5.363014</td>\n",
              "    </tr>\n",
              "    <tr>\n",
              "      <th>16</th>\n",
              "      <td>Armenia</td>\n",
              "      <td>4.53389</td>\n",
              "      <td>-75.68111</td>\n",
              "      <td>1.224290e+07</td>\n",
              "      <td>640300.0</td>\n",
              "      <td>3.464286</td>\n",
              "      <td>1.160260e+07</td>\n",
              "      <td>94.770030</td>\n",
              "      <td>5.229970</td>\n",
              "    </tr>\n",
              "    <tr>\n",
              "      <th>17</th>\n",
              "      <td>Inírida</td>\n",
              "      <td>3.86530</td>\n",
              "      <td>-67.92390</td>\n",
              "      <td>8.087900e+06</td>\n",
              "      <td>427800.0</td>\n",
              "      <td>3.642857</td>\n",
              "      <td>7.660100e+06</td>\n",
              "      <td>94.710617</td>\n",
              "      <td>5.289383</td>\n",
              "    </tr>\n",
              "    <tr>\n",
              "      <th>18</th>\n",
              "      <td>Valledupar</td>\n",
              "      <td>10.46314</td>\n",
              "      <td>-73.25322</td>\n",
              "      <td>5.886300e+06</td>\n",
              "      <td>308300.0</td>\n",
              "      <td>4.071429</td>\n",
              "      <td>5.578000e+06</td>\n",
              "      <td>94.762414</td>\n",
              "      <td>5.237586</td>\n",
              "    </tr>\n",
              "  </tbody>\n",
              "</table>\n",
              "</div>"
            ],
            "text/plain": [
              "   Lugar de Compra       lat       lon        Precio  Costo de envío  \\\n",
              "0           Bogotá   4.60971 -74.08175  1.814858e+09      96730000.0   \n",
              "1         Medellín   6.25184 -75.56359  1.096669e+09      58502600.0   \n",
              "2             Cali   3.43722 -76.52250  5.065261e+08      26913900.0   \n",
              "3          Pereira   4.81333 -75.69611  2.259273e+08      12000300.0   \n",
              "4     Barranquilla  10.96854 -74.78132  1.320405e+08       7034600.0   \n",
              "5        Cartagena  10.39972 -75.51444  1.023767e+08       5478500.0   \n",
              "6           Cúcuta   7.89391 -72.50782  9.936910e+07       5319100.0   \n",
              "7      Bucaramanga   7.12539 -73.11980  9.057330e+07       4849000.0   \n",
              "8         Riohacha  11.54444 -72.90722  7.387970e+07       3932800.0   \n",
              "9          Leticia  -4.21528 -69.94056  6.714990e+07       3595100.0   \n",
              "10     Santa Marta  11.24079 -74.19904  5.310050e+07       2831600.0   \n",
              "11           Pasto   1.21361 -77.28111  4.901430e+07       2613300.0   \n",
              "12           Neiva   2.92730 -75.28189  2.089800e+07       1108400.0   \n",
              "13       Manizales   5.06889 -75.51738  1.936790e+07       1022900.0   \n",
              "14   Villavicencio   4.14200 -73.62664  1.333360e+07        727900.0   \n",
              "15          Soacha   4.57937 -74.21682  1.231770e+07        660600.0   \n",
              "16         Armenia   4.53389 -75.68111  1.224290e+07        640300.0   \n",
              "17         Inírida   3.86530 -67.92390  8.087900e+06        427800.0   \n",
              "18      Valledupar  10.46314 -73.25322  5.886300e+06        308300.0   \n",
              "\n",
              "    Calificación      Ganancia  p_ganancia/precio  p_costo/precio  \n",
              "0       4.113619  1.718128e+09          94.670107        5.329893  \n",
              "1       3.926534  1.038167e+09          94.665429        5.334571  \n",
              "2       4.046673  4.796122e+08          94.686572        5.313428  \n",
              "3       4.013540  2.139270e+08          94.688424        5.311576  \n",
              "4       3.803226  1.250059e+08          94.672392        5.327608  \n",
              "5       4.020661  9.689820e+07          94.648685        5.351315  \n",
              "6       3.940860  9.405000e+07          94.647129        5.352871  \n",
              "7       3.977901  8.572430e+07          94.646325        5.353675  \n",
              "8       3.895706  6.994690e+07          94.676752        5.323248  \n",
              "9       3.922535  6.355480e+07          94.646157        5.353843  \n",
              "10      3.596026  5.026890e+07          94.667470        5.332530  \n",
              "11      4.148936  4.640100e+07          94.668291        5.331709  \n",
              "12      3.800000  1.978960e+07          94.696143        5.303857  \n",
              "13      3.634146  1.834500e+07          94.718581        5.281419  \n",
              "14      3.827586  1.260570e+07          94.540859        5.459141  \n",
              "15      3.894737  1.165710e+07          94.636986        5.363014  \n",
              "16      3.464286  1.160260e+07          94.770030        5.229970  \n",
              "17      3.642857  7.660100e+06          94.710617        5.289383  \n",
              "18      4.071429  5.578000e+06          94.762414        5.237586  "
            ]
          },
          "execution_count": 2,
          "metadata": {},
          "output_type": "execute_result"
        }
      ],
      "source": [
        "\"\"\"Se crea un grupo con Lugar de Compra, sumando los precios, el costo de envio y calculando un promedio de la calificación por Lugar de Compra (Tienda), \n",
        "para tener una vision general del comportamiento de los datos para cada tienda\"\"\"\n",
        "\n",
        "utilidades = db_tiendas.groupby([\"Lugar de Compra\", \"lat\", \"lon\"]).agg({\n",
        "    \"Precio\": \"sum\",\n",
        "    \"Costo de envío\": \"sum\",\n",
        "    \"Calificación\": \"mean\"\n",
        "})\n",
        "\n",
        "# Se crea una nueva columna para obtener la ganancia tras restar el precio por el costo de envío\n",
        "utilidades[\"Ganancia\"] = utilidades[\"Precio\"] - utilidades[\"Costo de envío\"]\n",
        "\n",
        "utilidades[\"p_ganancia/precio\"] = (utilidades[\"Ganancia\"] / utilidades[\"Precio\"])*100 # Se crea una nueva columna para obtener el porcentaje de precio por ganancia\n",
        "\n",
        "utilidades[\"p_costo/precio\"] = (utilidades[\"Costo de envío\"] / utilidades[\"Precio\"])*100 # Se crea una nueva columna para obtener el porcentaje de precio por costo de envío\n",
        "\n",
        "utilidades.sort_values(by=\"Ganancia\", ascending=False, inplace=True) # Se ordena el dataframe por la columna Ganancia de mayor a menor\n",
        "utilidades.reset_index(inplace=True) # Se reinicia el índice para que quede más ordenado\n",
        "utilidades\n",
        "\n",
        "# Se puede observar que el porcentaje de los costos es relativamente similar para todas las tiendas. Se encuentran alrededor del 5,2% y el 5,4% del ingreso total.\n",
        "# Dado esto tambien podemos observar que las ganancias son relativamente similares, oscilando entre el 94,6% y el 94,8% del ingreso total.\n",
        "# Tambien podemos ver que las tiendas que mayores ingresos tienen son Bogotá y Medellín, mientras que las que menos ingresos en los 4 años fueron Valledupar y Inírida."
      ]
    },
    {
      "cell_type": "markdown",
      "metadata": {},
      "source": [
        "### Ganancias (ingresos - costos) por tienda al año"
      ]
    },
    {
      "cell_type": "code",
      "execution_count": 3,
      "metadata": {
        "id": "yZR6cOjXYSk1"
      },
      "outputs": [
        {
          "data": {
            "text/html": [
              "<div>\n",
              "<style scoped>\n",
              "    .dataframe tbody tr th:only-of-type {\n",
              "        vertical-align: middle;\n",
              "    }\n",
              "\n",
              "    .dataframe tbody tr th {\n",
              "        vertical-align: top;\n",
              "    }\n",
              "\n",
              "    .dataframe thead th {\n",
              "        text-align: right;\n",
              "    }\n",
              "</style>\n",
              "<table border=\"1\" class=\"dataframe\">\n",
              "  <thead>\n",
              "    <tr style=\"text-align: right;\">\n",
              "      <th></th>\n",
              "      <th></th>\n",
              "      <th>Precio</th>\n",
              "      <th>Costo de envío</th>\n",
              "      <th>Calificación</th>\n",
              "    </tr>\n",
              "    <tr>\n",
              "      <th>Lugar de Compra</th>\n",
              "      <th>año</th>\n",
              "      <th></th>\n",
              "      <th></th>\n",
              "      <th></th>\n",
              "    </tr>\n",
              "  </thead>\n",
              "  <tbody>\n",
              "    <tr>\n",
              "      <th rowspan=\"4\" valign=\"top\">Armenia</th>\n",
              "      <th>2020</th>\n",
              "      <td>5382100.0</td>\n",
              "      <td>286000.0</td>\n",
              "      <td>3.111111</td>\n",
              "    </tr>\n",
              "    <tr>\n",
              "      <th>2021</th>\n",
              "      <td>5500300.0</td>\n",
              "      <td>286300.0</td>\n",
              "      <td>3.250000</td>\n",
              "    </tr>\n",
              "    <tr>\n",
              "      <th>2022</th>\n",
              "      <td>1135400.0</td>\n",
              "      <td>55400.0</td>\n",
              "      <td>4.000000</td>\n",
              "    </tr>\n",
              "    <tr>\n",
              "      <th>2023</th>\n",
              "      <td>225100.0</td>\n",
              "      <td>12600.0</td>\n",
              "      <td>5.000000</td>\n",
              "    </tr>\n",
              "    <tr>\n",
              "      <th>Barranquilla</th>\n",
              "      <th>2020</th>\n",
              "      <td>48804300.0</td>\n",
              "      <td>2584300.0</td>\n",
              "      <td>3.828283</td>\n",
              "    </tr>\n",
              "    <tr>\n",
              "      <th>...</th>\n",
              "      <th>...</th>\n",
              "      <td>...</td>\n",
              "      <td>...</td>\n",
              "      <td>...</td>\n",
              "    </tr>\n",
              "    <tr>\n",
              "      <th>Valledupar</th>\n",
              "      <th>2023</th>\n",
              "      <td>238600.0</td>\n",
              "      <td>12900.0</td>\n",
              "      <td>5.000000</td>\n",
              "    </tr>\n",
              "    <tr>\n",
              "      <th rowspan=\"4\" valign=\"top\">Villavicencio</th>\n",
              "      <th>2020</th>\n",
              "      <td>3482700.0</td>\n",
              "      <td>185800.0</td>\n",
              "      <td>3.750000</td>\n",
              "    </tr>\n",
              "    <tr>\n",
              "      <th>2021</th>\n",
              "      <td>2812400.0</td>\n",
              "      <td>148700.0</td>\n",
              "      <td>4.000000</td>\n",
              "    </tr>\n",
              "    <tr>\n",
              "      <th>2022</th>\n",
              "      <td>6916100.0</td>\n",
              "      <td>386200.0</td>\n",
              "      <td>3.692308</td>\n",
              "    </tr>\n",
              "    <tr>\n",
              "      <th>2023</th>\n",
              "      <td>122400.0</td>\n",
              "      <td>7200.0</td>\n",
              "      <td>5.000000</td>\n",
              "    </tr>\n",
              "  </tbody>\n",
              "</table>\n",
              "<p>75 rows × 3 columns</p>\n",
              "</div>"
            ],
            "text/plain": [
              "                          Precio  Costo de envío  Calificación\n",
              "Lugar de Compra año                                           \n",
              "Armenia         2020   5382100.0        286000.0      3.111111\n",
              "                2021   5500300.0        286300.0      3.250000\n",
              "                2022   1135400.0         55400.0      4.000000\n",
              "                2023    225100.0         12600.0      5.000000\n",
              "Barranquilla    2020  48804300.0       2584300.0      3.828283\n",
              "...                          ...             ...           ...\n",
              "Valledupar      2023    238600.0         12900.0      5.000000\n",
              "Villavicencio   2020   3482700.0        185800.0      3.750000\n",
              "                2021   2812400.0        148700.0      4.000000\n",
              "                2022   6916100.0        386200.0      3.692308\n",
              "                2023    122400.0          7200.0      5.000000\n",
              "\n",
              "[75 rows x 3 columns]"
            ]
          },
          "execution_count": 3,
          "metadata": {},
          "output_type": "execute_result"
        }
      ],
      "source": [
        "# Analizando el comportamiento de las ganancias por tienda y por año\n",
        "# Se crea un nuevo dataFrame que contenga los Precios, los costos de envío y la calificación por cada tienda y por cada año\n",
        "# Se establece el formato fecha para la columna \"Fecha de Compra\" y se extraen los días, meses y años para crear nuevas columnas, con los datos antes mencionados\n",
        "db_tiendas[\"Fecha de Compra\"] = pd.to_datetime(db_tiendas[\"Fecha de Compra\"], format=\"%d/%m/%Y\")\n",
        "db_tiendas[\"dia\"] = db_tiendas[\"Fecha de Compra\"].dt.day\n",
        "db_tiendas[\"mes\"] = db_tiendas[\"Fecha de Compra\"].dt.month\n",
        "db_tiendas[\"año\"] = db_tiendas[\"Fecha de Compra\"].dt.year\n",
        "\n",
        "# Se crea un nuevo dataframe agrupandos por Lugar de compra y por año, sumando las ganancias de cada mes\n",
        "\n",
        "comportamiento_al_anio = db_tiendas.groupby([\"Lugar de Compra\", \"año\"]).agg({\n",
        "    \"Precio\": \"sum\",\n",
        "    \"Costo de envío\": \"sum\",\n",
        "    \"Calificación\": \"mean\"\n",
        "})\n",
        "\n",
        "comportamiento_al_anio\n",
        "\n"
      ]
    },
    {
      "cell_type": "code",
      "execution_count": 4,
      "metadata": {},
      "outputs": [
        {
          "data": {
            "text/html": [
              "<div>\n",
              "<style scoped>\n",
              "    .dataframe tbody tr th:only-of-type {\n",
              "        vertical-align: middle;\n",
              "    }\n",
              "\n",
              "    .dataframe tbody tr th {\n",
              "        vertical-align: top;\n",
              "    }\n",
              "\n",
              "    .dataframe thead th {\n",
              "        text-align: right;\n",
              "    }\n",
              "</style>\n",
              "<table border=\"1\" class=\"dataframe\">\n",
              "  <thead>\n",
              "    <tr style=\"text-align: right;\">\n",
              "      <th></th>\n",
              "      <th>Lugar de Compra</th>\n",
              "      <th>año</th>\n",
              "      <th>Precio</th>\n",
              "      <th>Costo de envío</th>\n",
              "      <th>Calificación</th>\n",
              "      <th>Ganancia</th>\n",
              "    </tr>\n",
              "  </thead>\n",
              "  <tbody>\n",
              "    <tr>\n",
              "      <th>0</th>\n",
              "      <td>Armenia</td>\n",
              "      <td>2020</td>\n",
              "      <td>5382100.0</td>\n",
              "      <td>286000.0</td>\n",
              "      <td>3.111111</td>\n",
              "      <td>5096100.0</td>\n",
              "    </tr>\n",
              "    <tr>\n",
              "      <th>1</th>\n",
              "      <td>Armenia</td>\n",
              "      <td>2021</td>\n",
              "      <td>5500300.0</td>\n",
              "      <td>286300.0</td>\n",
              "      <td>3.250000</td>\n",
              "      <td>5214000.0</td>\n",
              "    </tr>\n",
              "    <tr>\n",
              "      <th>2</th>\n",
              "      <td>Armenia</td>\n",
              "      <td>2022</td>\n",
              "      <td>1135400.0</td>\n",
              "      <td>55400.0</td>\n",
              "      <td>4.000000</td>\n",
              "      <td>1080000.0</td>\n",
              "    </tr>\n",
              "    <tr>\n",
              "      <th>3</th>\n",
              "      <td>Armenia</td>\n",
              "      <td>2023</td>\n",
              "      <td>225100.0</td>\n",
              "      <td>12600.0</td>\n",
              "      <td>5.000000</td>\n",
              "      <td>212500.0</td>\n",
              "    </tr>\n",
              "    <tr>\n",
              "      <th>4</th>\n",
              "      <td>Barranquilla</td>\n",
              "      <td>2020</td>\n",
              "      <td>48804300.0</td>\n",
              "      <td>2584300.0</td>\n",
              "      <td>3.828283</td>\n",
              "      <td>46220000.0</td>\n",
              "    </tr>\n",
              "    <tr>\n",
              "      <th>...</th>\n",
              "      <td>...</td>\n",
              "      <td>...</td>\n",
              "      <td>...</td>\n",
              "      <td>...</td>\n",
              "      <td>...</td>\n",
              "      <td>...</td>\n",
              "    </tr>\n",
              "    <tr>\n",
              "      <th>70</th>\n",
              "      <td>Valledupar</td>\n",
              "      <td>2023</td>\n",
              "      <td>238600.0</td>\n",
              "      <td>12900.0</td>\n",
              "      <td>5.000000</td>\n",
              "      <td>225700.0</td>\n",
              "    </tr>\n",
              "    <tr>\n",
              "      <th>71</th>\n",
              "      <td>Villavicencio</td>\n",
              "      <td>2020</td>\n",
              "      <td>3482700.0</td>\n",
              "      <td>185800.0</td>\n",
              "      <td>3.750000</td>\n",
              "      <td>3296900.0</td>\n",
              "    </tr>\n",
              "    <tr>\n",
              "      <th>72</th>\n",
              "      <td>Villavicencio</td>\n",
              "      <td>2021</td>\n",
              "      <td>2812400.0</td>\n",
              "      <td>148700.0</td>\n",
              "      <td>4.000000</td>\n",
              "      <td>2663700.0</td>\n",
              "    </tr>\n",
              "    <tr>\n",
              "      <th>73</th>\n",
              "      <td>Villavicencio</td>\n",
              "      <td>2022</td>\n",
              "      <td>6916100.0</td>\n",
              "      <td>386200.0</td>\n",
              "      <td>3.692308</td>\n",
              "      <td>6529900.0</td>\n",
              "    </tr>\n",
              "    <tr>\n",
              "      <th>74</th>\n",
              "      <td>Villavicencio</td>\n",
              "      <td>2023</td>\n",
              "      <td>122400.0</td>\n",
              "      <td>7200.0</td>\n",
              "      <td>5.000000</td>\n",
              "      <td>115200.0</td>\n",
              "    </tr>\n",
              "  </tbody>\n",
              "</table>\n",
              "<p>75 rows × 6 columns</p>\n",
              "</div>"
            ],
            "text/plain": [
              "   Lugar de Compra   año      Precio  Costo de envío  Calificación    Ganancia\n",
              "0          Armenia  2020   5382100.0        286000.0      3.111111   5096100.0\n",
              "1          Armenia  2021   5500300.0        286300.0      3.250000   5214000.0\n",
              "2          Armenia  2022   1135400.0         55400.0      4.000000   1080000.0\n",
              "3          Armenia  2023    225100.0         12600.0      5.000000    212500.0\n",
              "4     Barranquilla  2020  48804300.0       2584300.0      3.828283  46220000.0\n",
              "..             ...   ...         ...             ...           ...         ...\n",
              "70      Valledupar  2023    238600.0         12900.0      5.000000    225700.0\n",
              "71   Villavicencio  2020   3482700.0        185800.0      3.750000   3296900.0\n",
              "72   Villavicencio  2021   2812400.0        148700.0      4.000000   2663700.0\n",
              "73   Villavicencio  2022   6916100.0        386200.0      3.692308   6529900.0\n",
              "74   Villavicencio  2023    122400.0          7200.0      5.000000    115200.0\n",
              "\n",
              "[75 rows x 6 columns]"
            ]
          },
          "execution_count": 4,
          "metadata": {},
          "output_type": "execute_result"
        }
      ],
      "source": [
        "# Se crea una nueva columna para obtener la ganancia tras restar el precio por el costo de envío, para el año en cuestión\n",
        "\n",
        "comportamiento_al_anio[\"Ganancia\"]= comportamiento_al_anio[\"Precio\"] - comportamiento_al_anio[\"Costo de envío\"]\n",
        "comportamiento_al_anio = comportamiento_al_anio.reset_index()\n",
        "\n",
        "comportamiento_al_anio\n"
      ]
    },
    {
      "cell_type": "code",
      "execution_count": 5,
      "metadata": {},
      "outputs": [
        {
          "data": {
            "text/html": [
              "<div>\n",
              "<style scoped>\n",
              "    .dataframe tbody tr th:only-of-type {\n",
              "        vertical-align: middle;\n",
              "    }\n",
              "\n",
              "    .dataframe tbody tr th {\n",
              "        vertical-align: top;\n",
              "    }\n",
              "\n",
              "    .dataframe thead th {\n",
              "        text-align: right;\n",
              "    }\n",
              "</style>\n",
              "<table border=\"1\" class=\"dataframe\">\n",
              "  <thead>\n",
              "    <tr style=\"text-align: right;\">\n",
              "      <th>año</th>\n",
              "      <th>Lugar de Compra</th>\n",
              "      <th>Ganancias 2020</th>\n",
              "      <th>Ganancias 2021</th>\n",
              "      <th>Ganancias 2022</th>\n",
              "      <th>Ganancias 2023</th>\n",
              "      <th>ganancias_totales</th>\n",
              "    </tr>\n",
              "  </thead>\n",
              "  <tbody>\n",
              "    <tr>\n",
              "      <th>0</th>\n",
              "      <td>Bogotá</td>\n",
              "      <td>540584100.0</td>\n",
              "      <td>553351200.0</td>\n",
              "      <td>507248100.0</td>\n",
              "      <td>116944900.0</td>\n",
              "      <td>1,718,128,300</td>\n",
              "    </tr>\n",
              "    <tr>\n",
              "      <th>1</th>\n",
              "      <td>Medellín</td>\n",
              "      <td>291605900.0</td>\n",
              "      <td>368167000.0</td>\n",
              "      <td>310684700.0</td>\n",
              "      <td>67709000.0</td>\n",
              "      <td>1,038,166,600</td>\n",
              "    </tr>\n",
              "    <tr>\n",
              "      <th>2</th>\n",
              "      <td>Cali</td>\n",
              "      <td>148962600.0</td>\n",
              "      <td>133712700.0</td>\n",
              "      <td>150304300.0</td>\n",
              "      <td>46632600.0</td>\n",
              "      <td>479,612,200</td>\n",
              "    </tr>\n",
              "    <tr>\n",
              "      <th>3</th>\n",
              "      <td>Pereira</td>\n",
              "      <td>60152400.0</td>\n",
              "      <td>70802100.0</td>\n",
              "      <td>61533500.0</td>\n",
              "      <td>21439000.0</td>\n",
              "      <td>213,927,000</td>\n",
              "    </tr>\n",
              "    <tr>\n",
              "      <th>4</th>\n",
              "      <td>Barranquilla</td>\n",
              "      <td>46220000.0</td>\n",
              "      <td>39388900.0</td>\n",
              "      <td>31053000.0</td>\n",
              "      <td>8344000.0</td>\n",
              "      <td>125,005,900</td>\n",
              "    </tr>\n",
              "    <tr>\n",
              "      <th>5</th>\n",
              "      <td>Cartagena</td>\n",
              "      <td>23353100.0</td>\n",
              "      <td>34116800.0</td>\n",
              "      <td>37805400.0</td>\n",
              "      <td>1622900.0</td>\n",
              "      <td>96,898,200</td>\n",
              "    </tr>\n",
              "    <tr>\n",
              "      <th>6</th>\n",
              "      <td>Cúcuta</td>\n",
              "      <td>34522100.0</td>\n",
              "      <td>24833400.0</td>\n",
              "      <td>26932300.0</td>\n",
              "      <td>7762200.0</td>\n",
              "      <td>94,050,000</td>\n",
              "    </tr>\n",
              "    <tr>\n",
              "      <th>7</th>\n",
              "      <td>Bucaramanga</td>\n",
              "      <td>22345700.0</td>\n",
              "      <td>29694200.0</td>\n",
              "      <td>29017200.0</td>\n",
              "      <td>4667200.0</td>\n",
              "      <td>85,724,300</td>\n",
              "    </tr>\n",
              "    <tr>\n",
              "      <th>8</th>\n",
              "      <td>Riohacha</td>\n",
              "      <td>25614700.0</td>\n",
              "      <td>19418500.0</td>\n",
              "      <td>19668500.0</td>\n",
              "      <td>5245200.0</td>\n",
              "      <td>69,946,900</td>\n",
              "    </tr>\n",
              "    <tr>\n",
              "      <th>9</th>\n",
              "      <td>Leticia</td>\n",
              "      <td>23442200.0</td>\n",
              "      <td>20489900.0</td>\n",
              "      <td>14820400.0</td>\n",
              "      <td>4802300.0</td>\n",
              "      <td>63,554,800</td>\n",
              "    </tr>\n",
              "    <tr>\n",
              "      <th>10</th>\n",
              "      <td>Santa Marta</td>\n",
              "      <td>10679200.0</td>\n",
              "      <td>12348200.0</td>\n",
              "      <td>22386100.0</td>\n",
              "      <td>4855400.0</td>\n",
              "      <td>50,268,900</td>\n",
              "    </tr>\n",
              "    <tr>\n",
              "      <th>11</th>\n",
              "      <td>Pasto</td>\n",
              "      <td>17661600.0</td>\n",
              "      <td>12868000.0</td>\n",
              "      <td>14545900.0</td>\n",
              "      <td>1325500.0</td>\n",
              "      <td>46,401,000</td>\n",
              "    </tr>\n",
              "    <tr>\n",
              "      <th>12</th>\n",
              "      <td>Neiva</td>\n",
              "      <td>8873600.0</td>\n",
              "      <td>5144700.0</td>\n",
              "      <td>5543300.0</td>\n",
              "      <td>228000.0</td>\n",
              "      <td>19,789,600</td>\n",
              "    </tr>\n",
              "    <tr>\n",
              "      <th>13</th>\n",
              "      <td>Manizales</td>\n",
              "      <td>3454600.0</td>\n",
              "      <td>8630000.0</td>\n",
              "      <td>6260400.0</td>\n",
              "      <td>0.0</td>\n",
              "      <td>18,345,000</td>\n",
              "    </tr>\n",
              "    <tr>\n",
              "      <th>14</th>\n",
              "      <td>Villavicencio</td>\n",
              "      <td>3296900.0</td>\n",
              "      <td>2663700.0</td>\n",
              "      <td>6529900.0</td>\n",
              "      <td>115200.0</td>\n",
              "      <td>12,605,700</td>\n",
              "    </tr>\n",
              "    <tr>\n",
              "      <th>15</th>\n",
              "      <td>Soacha</td>\n",
              "      <td>1213600.0</td>\n",
              "      <td>3980400.0</td>\n",
              "      <td>5665300.0</td>\n",
              "      <td>797800.0</td>\n",
              "      <td>11,657,100</td>\n",
              "    </tr>\n",
              "    <tr>\n",
              "      <th>16</th>\n",
              "      <td>Armenia</td>\n",
              "      <td>5096100.0</td>\n",
              "      <td>5214000.0</td>\n",
              "      <td>1080000.0</td>\n",
              "      <td>212500.0</td>\n",
              "      <td>11,602,600</td>\n",
              "    </tr>\n",
              "    <tr>\n",
              "      <th>17</th>\n",
              "      <td>Inírida</td>\n",
              "      <td>1285300.0</td>\n",
              "      <td>1752300.0</td>\n",
              "      <td>3977800.0</td>\n",
              "      <td>644700.0</td>\n",
              "      <td>7,660,100</td>\n",
              "    </tr>\n",
              "    <tr>\n",
              "      <th>18</th>\n",
              "      <td>Valledupar</td>\n",
              "      <td>2081100.0</td>\n",
              "      <td>1717100.0</td>\n",
              "      <td>1554100.0</td>\n",
              "      <td>225700.0</td>\n",
              "      <td>5,578,000</td>\n",
              "    </tr>\n",
              "  </tbody>\n",
              "</table>\n",
              "</div>"
            ],
            "text/plain": [
              "año Lugar de Compra  Ganancias 2020  Ganancias 2021  Ganancias 2022  \\\n",
              "0            Bogotá     540584100.0     553351200.0     507248100.0   \n",
              "1          Medellín     291605900.0     368167000.0     310684700.0   \n",
              "2              Cali     148962600.0     133712700.0     150304300.0   \n",
              "3           Pereira      60152400.0      70802100.0      61533500.0   \n",
              "4      Barranquilla      46220000.0      39388900.0      31053000.0   \n",
              "5         Cartagena      23353100.0      34116800.0      37805400.0   \n",
              "6            Cúcuta      34522100.0      24833400.0      26932300.0   \n",
              "7       Bucaramanga      22345700.0      29694200.0      29017200.0   \n",
              "8          Riohacha      25614700.0      19418500.0      19668500.0   \n",
              "9           Leticia      23442200.0      20489900.0      14820400.0   \n",
              "10      Santa Marta      10679200.0      12348200.0      22386100.0   \n",
              "11            Pasto      17661600.0      12868000.0      14545900.0   \n",
              "12            Neiva       8873600.0       5144700.0       5543300.0   \n",
              "13        Manizales       3454600.0       8630000.0       6260400.0   \n",
              "14    Villavicencio       3296900.0       2663700.0       6529900.0   \n",
              "15           Soacha       1213600.0       3980400.0       5665300.0   \n",
              "16          Armenia       5096100.0       5214000.0       1080000.0   \n",
              "17          Inírida       1285300.0       1752300.0       3977800.0   \n",
              "18       Valledupar       2081100.0       1717100.0       1554100.0   \n",
              "\n",
              "año  Ganancias 2023 ganancias_totales  \n",
              "0       116944900.0     1,718,128,300  \n",
              "1        67709000.0     1,038,166,600  \n",
              "2        46632600.0       479,612,200  \n",
              "3        21439000.0       213,927,000  \n",
              "4         8344000.0       125,005,900  \n",
              "5         1622900.0        96,898,200  \n",
              "6         7762200.0        94,050,000  \n",
              "7         4667200.0        85,724,300  \n",
              "8         5245200.0        69,946,900  \n",
              "9         4802300.0        63,554,800  \n",
              "10        4855400.0        50,268,900  \n",
              "11        1325500.0        46,401,000  \n",
              "12         228000.0        19,789,600  \n",
              "13              0.0        18,345,000  \n",
              "14         115200.0        12,605,700  \n",
              "15         797800.0        11,657,100  \n",
              "16         212500.0        11,602,600  \n",
              "17         644700.0         7,660,100  \n",
              "18         225700.0         5,578,000  "
            ]
          },
          "execution_count": 5,
          "metadata": {},
          "output_type": "execute_result"
        }
      ],
      "source": [
        "# Se realiza un pivot (transporte de los datos) para que las columnas sean los años y las filas los lugares de compra, para facilitar la visibilidad de los datos. Se llenan los valores nulos con 0\n",
        "df_pivot_tendencia = comportamiento_al_anio.pivot(index='Lugar de Compra', columns='año', values='Ganancia').fillna(0)\n",
        "\n",
        "# Se crea una nueva columna para sumar las ganancias de cada año y se ordena de mayor a menor\n",
        "df_pivot_tendencia[\"ganancias_totales\"] = df_pivot_tendencia[2020] + df_pivot_tendencia[2021] + df_pivot_tendencia[2022] + df_pivot_tendencia[2023]\n",
        "\n",
        "# Se ordena el dataframe por la columna \"ventas_totales\" de mayor a menor\n",
        "df_pivot_tendencia = df_pivot_tendencia.sort_values(\"ganancias_totales\", ascending=False)\n",
        "\n",
        "df_pivot_tendencia = df_pivot_tendencia.rename(columns={2020: \"Ganancias 2020\", 2021: \"Ganancias 2021\", 2022: \"Ganancias 2022\", 2023: \"Ganancias 2023\"}) # Se renombran las columnas para que tengan un nombre más claro\n",
        "\n",
        "# Se resetean los índices\n",
        "df_pivot_tendencia = df_pivot_tendencia.reset_index()\n",
        "\n",
        "\n",
        "\n",
        "df_pivot_tendencia[\"ganancias_totales\"] = df_pivot_tendencia.apply(lambda fila: f\"{fila[\"ganancias_totales\"]:,.0f}\", axis = 1) # Se formatea la columna \"ventas_totales\" para que tenga separador de miles y no decimales\n",
        "\n",
        "df_pivot_tendencia\n",
        "\n",
        "# Aqui observamos que muchas de las tiendas han tenido una disminucion en las ganancias a lo largo de los años. Y observamos que la sucursal de Manizales no tuvo ninguna ganancia en 2023"
      ]
    },
    {
      "cell_type": "code",
      "execution_count": 6,
      "metadata": {},
      "outputs": [
        {
          "data": {
            "text/html": [
              "<div>\n",
              "<style scoped>\n",
              "    .dataframe tbody tr th:only-of-type {\n",
              "        vertical-align: middle;\n",
              "    }\n",
              "\n",
              "    .dataframe tbody tr th {\n",
              "        vertical-align: top;\n",
              "    }\n",
              "\n",
              "    .dataframe thead th {\n",
              "        text-align: right;\n",
              "    }\n",
              "</style>\n",
              "<table border=\"1\" class=\"dataframe\">\n",
              "  <thead>\n",
              "    <tr style=\"text-align: right;\">\n",
              "      <th></th>\n",
              "      <th>index</th>\n",
              "      <th>Producto</th>\n",
              "      <th>Categoría del Producto</th>\n",
              "      <th>Precio</th>\n",
              "      <th>Costo de envío</th>\n",
              "      <th>Fecha de Compra</th>\n",
              "      <th>Vendedor</th>\n",
              "      <th>Lugar de Compra</th>\n",
              "      <th>Calificación</th>\n",
              "      <th>Método de pago</th>\n",
              "      <th>Cantidad de cuotas</th>\n",
              "      <th>lat</th>\n",
              "      <th>lon</th>\n",
              "      <th>dia</th>\n",
              "      <th>mes</th>\n",
              "      <th>año</th>\n",
              "    </tr>\n",
              "  </thead>\n",
              "  <tbody>\n",
              "  </tbody>\n",
              "</table>\n",
              "</div>"
            ],
            "text/plain": [
              "Empty DataFrame\n",
              "Columns: [index, Producto, Categoría del Producto, Precio, Costo de envío, Fecha de Compra, Vendedor, Lugar de Compra, Calificación, Método de pago, Cantidad de cuotas, lat, lon, dia, mes, año]\n",
              "Index: []"
            ]
          },
          "execution_count": 6,
          "metadata": {},
          "output_type": "execute_result"
        }
      ],
      "source": [
        "# Si filtramos a Manizales en la base de datos completa podemos ver que no tuvo ventas en 2023.\n",
        "\n",
        "db_tiendas[(db_tiendas[\"Lugar de Compra\"]==\"Manizales\") & (db_tiendas[\"año\"]==2023)].reset_index()"
      ]
    },
    {
      "cell_type": "markdown",
      "metadata": {},
      "source": [
        "### Ingresos por tienda al año"
      ]
    },
    {
      "cell_type": "code",
      "execution_count": 7,
      "metadata": {},
      "outputs": [
        {
          "data": {
            "text/html": [
              "<div>\n",
              "<style scoped>\n",
              "    .dataframe tbody tr th:only-of-type {\n",
              "        vertical-align: middle;\n",
              "    }\n",
              "\n",
              "    .dataframe tbody tr th {\n",
              "        vertical-align: top;\n",
              "    }\n",
              "\n",
              "    .dataframe thead th {\n",
              "        text-align: right;\n",
              "    }\n",
              "</style>\n",
              "<table border=\"1\" class=\"dataframe\">\n",
              "  <thead>\n",
              "    <tr style=\"text-align: right;\">\n",
              "      <th>año</th>\n",
              "      <th>Lugar de Compra</th>\n",
              "      <th>Ingresos 2020</th>\n",
              "      <th>Ingresos 2021</th>\n",
              "      <th>Ingresos 2022</th>\n",
              "      <th>Ingresos 2023</th>\n",
              "      <th>ingresos_totales</th>\n",
              "    </tr>\n",
              "  </thead>\n",
              "  <tbody>\n",
              "    <tr>\n",
              "      <th>0</th>\n",
              "      <td>Bogotá</td>\n",
              "      <td>570984200.0</td>\n",
              "      <td>584437600.0</td>\n",
              "      <td>535839900.0</td>\n",
              "      <td>123596600.0</td>\n",
              "      <td>1.814858e+09</td>\n",
              "    </tr>\n",
              "    <tr>\n",
              "      <th>1</th>\n",
              "      <td>Medellín</td>\n",
              "      <td>308032200.0</td>\n",
              "      <td>388914500.0</td>\n",
              "      <td>328261800.0</td>\n",
              "      <td>71460700.0</td>\n",
              "      <td>1.096669e+09</td>\n",
              "    </tr>\n",
              "    <tr>\n",
              "      <th>2</th>\n",
              "      <td>Cali</td>\n",
              "      <td>157377000.0</td>\n",
              "      <td>141193300.0</td>\n",
              "      <td>158714600.0</td>\n",
              "      <td>49241200.0</td>\n",
              "      <td>5.065261e+08</td>\n",
              "    </tr>\n",
              "    <tr>\n",
              "      <th>3</th>\n",
              "      <td>Pereira</td>\n",
              "      <td>63523100.0</td>\n",
              "      <td>74769700.0</td>\n",
              "      <td>65015000.0</td>\n",
              "      <td>22619500.0</td>\n",
              "      <td>2.259273e+08</td>\n",
              "    </tr>\n",
              "    <tr>\n",
              "      <th>4</th>\n",
              "      <td>Barranquilla</td>\n",
              "      <td>48804300.0</td>\n",
              "      <td>41620300.0</td>\n",
              "      <td>32795400.0</td>\n",
              "      <td>8820500.0</td>\n",
              "      <td>1.320405e+08</td>\n",
              "    </tr>\n",
              "    <tr>\n",
              "      <th>5</th>\n",
              "      <td>Cartagena</td>\n",
              "      <td>24662000.0</td>\n",
              "      <td>36051700.0</td>\n",
              "      <td>39951200.0</td>\n",
              "      <td>1711800.0</td>\n",
              "      <td>1.023767e+08</td>\n",
              "    </tr>\n",
              "    <tr>\n",
              "      <th>6</th>\n",
              "      <td>Cúcuta</td>\n",
              "      <td>36472600.0</td>\n",
              "      <td>26230800.0</td>\n",
              "      <td>28431500.0</td>\n",
              "      <td>8234200.0</td>\n",
              "      <td>9.936910e+07</td>\n",
              "    </tr>\n",
              "    <tr>\n",
              "      <th>7</th>\n",
              "      <td>Bucaramanga</td>\n",
              "      <td>23624700.0</td>\n",
              "      <td>31366600.0</td>\n",
              "      <td>30656300.0</td>\n",
              "      <td>4925700.0</td>\n",
              "      <td>9.057330e+07</td>\n",
              "    </tr>\n",
              "    <tr>\n",
              "      <th>8</th>\n",
              "      <td>Riohacha</td>\n",
              "      <td>27053600.0</td>\n",
              "      <td>20490800.0</td>\n",
              "      <td>20793800.0</td>\n",
              "      <td>5541500.0</td>\n",
              "      <td>7.387970e+07</td>\n",
              "    </tr>\n",
              "    <tr>\n",
              "      <th>9</th>\n",
              "      <td>Leticia</td>\n",
              "      <td>24758400.0</td>\n",
              "      <td>21665800.0</td>\n",
              "      <td>15653200.0</td>\n",
              "      <td>5072500.0</td>\n",
              "      <td>6.714990e+07</td>\n",
              "    </tr>\n",
              "    <tr>\n",
              "      <th>10</th>\n",
              "      <td>Santa Marta</td>\n",
              "      <td>11285300.0</td>\n",
              "      <td>13053700.0</td>\n",
              "      <td>23637300.0</td>\n",
              "      <td>5124200.0</td>\n",
              "      <td>5.310050e+07</td>\n",
              "    </tr>\n",
              "    <tr>\n",
              "      <th>11</th>\n",
              "      <td>Pasto</td>\n",
              "      <td>18667200.0</td>\n",
              "      <td>13590700.0</td>\n",
              "      <td>15353900.0</td>\n",
              "      <td>1402500.0</td>\n",
              "      <td>4.901430e+07</td>\n",
              "    </tr>\n",
              "    <tr>\n",
              "      <th>12</th>\n",
              "      <td>Neiva</td>\n",
              "      <td>9365200.0</td>\n",
              "      <td>5426200.0</td>\n",
              "      <td>5867700.0</td>\n",
              "      <td>238900.0</td>\n",
              "      <td>2.089800e+07</td>\n",
              "    </tr>\n",
              "    <tr>\n",
              "      <th>13</th>\n",
              "      <td>Manizales</td>\n",
              "      <td>3647500.0</td>\n",
              "      <td>9114000.0</td>\n",
              "      <td>6606400.0</td>\n",
              "      <td>0.0</td>\n",
              "      <td>1.936790e+07</td>\n",
              "    </tr>\n",
              "    <tr>\n",
              "      <th>14</th>\n",
              "      <td>Villavicencio</td>\n",
              "      <td>3482700.0</td>\n",
              "      <td>2812400.0</td>\n",
              "      <td>6916100.0</td>\n",
              "      <td>122400.0</td>\n",
              "      <td>1.333360e+07</td>\n",
              "    </tr>\n",
              "    <tr>\n",
              "      <th>15</th>\n",
              "      <td>Soacha</td>\n",
              "      <td>1279100.0</td>\n",
              "      <td>4211800.0</td>\n",
              "      <td>5983700.0</td>\n",
              "      <td>843100.0</td>\n",
              "      <td>1.231770e+07</td>\n",
              "    </tr>\n",
              "    <tr>\n",
              "      <th>16</th>\n",
              "      <td>Armenia</td>\n",
              "      <td>5382100.0</td>\n",
              "      <td>5500300.0</td>\n",
              "      <td>1135400.0</td>\n",
              "      <td>225100.0</td>\n",
              "      <td>1.224290e+07</td>\n",
              "    </tr>\n",
              "    <tr>\n",
              "      <th>17</th>\n",
              "      <td>Inírida</td>\n",
              "      <td>1354700.0</td>\n",
              "      <td>1856300.0</td>\n",
              "      <td>4197900.0</td>\n",
              "      <td>679000.0</td>\n",
              "      <td>8.087900e+06</td>\n",
              "    </tr>\n",
              "    <tr>\n",
              "      <th>18</th>\n",
              "      <td>Valledupar</td>\n",
              "      <td>2199100.0</td>\n",
              "      <td>1807800.0</td>\n",
              "      <td>1640800.0</td>\n",
              "      <td>238600.0</td>\n",
              "      <td>5.886300e+06</td>\n",
              "    </tr>\n",
              "  </tbody>\n",
              "</table>\n",
              "</div>"
            ],
            "text/plain": [
              "año Lugar de Compra  Ingresos 2020  Ingresos 2021  Ingresos 2022  \\\n",
              "0            Bogotá    570984200.0    584437600.0    535839900.0   \n",
              "1          Medellín    308032200.0    388914500.0    328261800.0   \n",
              "2              Cali    157377000.0    141193300.0    158714600.0   \n",
              "3           Pereira     63523100.0     74769700.0     65015000.0   \n",
              "4      Barranquilla     48804300.0     41620300.0     32795400.0   \n",
              "5         Cartagena     24662000.0     36051700.0     39951200.0   \n",
              "6            Cúcuta     36472600.0     26230800.0     28431500.0   \n",
              "7       Bucaramanga     23624700.0     31366600.0     30656300.0   \n",
              "8          Riohacha     27053600.0     20490800.0     20793800.0   \n",
              "9           Leticia     24758400.0     21665800.0     15653200.0   \n",
              "10      Santa Marta     11285300.0     13053700.0     23637300.0   \n",
              "11            Pasto     18667200.0     13590700.0     15353900.0   \n",
              "12            Neiva      9365200.0      5426200.0      5867700.0   \n",
              "13        Manizales      3647500.0      9114000.0      6606400.0   \n",
              "14    Villavicencio      3482700.0      2812400.0      6916100.0   \n",
              "15           Soacha      1279100.0      4211800.0      5983700.0   \n",
              "16          Armenia      5382100.0      5500300.0      1135400.0   \n",
              "17          Inírida      1354700.0      1856300.0      4197900.0   \n",
              "18       Valledupar      2199100.0      1807800.0      1640800.0   \n",
              "\n",
              "año  Ingresos 2023  ingresos_totales  \n",
              "0      123596600.0      1.814858e+09  \n",
              "1       71460700.0      1.096669e+09  \n",
              "2       49241200.0      5.065261e+08  \n",
              "3       22619500.0      2.259273e+08  \n",
              "4        8820500.0      1.320405e+08  \n",
              "5        1711800.0      1.023767e+08  \n",
              "6        8234200.0      9.936910e+07  \n",
              "7        4925700.0      9.057330e+07  \n",
              "8        5541500.0      7.387970e+07  \n",
              "9        5072500.0      6.714990e+07  \n",
              "10       5124200.0      5.310050e+07  \n",
              "11       1402500.0      4.901430e+07  \n",
              "12        238900.0      2.089800e+07  \n",
              "13             0.0      1.936790e+07  \n",
              "14        122400.0      1.333360e+07  \n",
              "15        843100.0      1.231770e+07  \n",
              "16        225100.0      1.224290e+07  \n",
              "17        679000.0      8.087900e+06  \n",
              "18        238600.0      5.886300e+06  "
            ]
          },
          "execution_count": 7,
          "metadata": {},
          "output_type": "execute_result"
        }
      ],
      "source": [
        "# Se realiza un pivot para que las columnas sean los años y las filas los lugares de compra, y se llenan los valores con el Precio, a cada valor nulo de rellena con cero\n",
        "df_pivot_ingresos = comportamiento_al_anio.pivot(index='Lugar de Compra', columns='año', values='Precio').fillna(0)\n",
        "df_pivot_ingresos[\"ingresos_totales\"] = df_pivot_ingresos[2020] + df_pivot_ingresos[2021] + df_pivot_ingresos[2022] + df_pivot_ingresos[2023]\n",
        "df_pivot_ingresos = df_pivot_ingresos.sort_values(\"ingresos_totales\", ascending=False)  \n",
        "df_pivot_ingresos = df_pivot_ingresos.reset_index()\n",
        "# df_pivot_ingresos[\"ingresos_totales\"] = df_pivot_ingresos.apply(lambda fila: f\"{fila[\"ingresos_totales\"]:,.0f}\", axis = 1) # Se formatea la columna \"ventas_totales\" para que tenga separador de miles y no decimales\n",
        "\n",
        "df_pivot_ingresos = df_pivot_ingresos.rename(columns={2020:\"Ingresos 2020\", 2021:\"Ingresos 2021\", 2022:\"Ingresos 2022\", 2023:\"Ingresos 2023\"})\n",
        "df_pivot_ingresos"
      ]
    },
    {
      "cell_type": "markdown",
      "metadata": {},
      "source": [
        "### Costos (de envio) por tienda al año"
      ]
    },
    {
      "cell_type": "code",
      "execution_count": 8,
      "metadata": {},
      "outputs": [
        {
          "data": {
            "text/html": [
              "<div>\n",
              "<style scoped>\n",
              "    .dataframe tbody tr th:only-of-type {\n",
              "        vertical-align: middle;\n",
              "    }\n",
              "\n",
              "    .dataframe tbody tr th {\n",
              "        vertical-align: top;\n",
              "    }\n",
              "\n",
              "    .dataframe thead th {\n",
              "        text-align: right;\n",
              "    }\n",
              "</style>\n",
              "<table border=\"1\" class=\"dataframe\">\n",
              "  <thead>\n",
              "    <tr style=\"text-align: right;\">\n",
              "      <th>año</th>\n",
              "      <th>Lugar de Compra</th>\n",
              "      <th>Costo Envios 2020</th>\n",
              "      <th>Costo Envios 2021</th>\n",
              "      <th>Costo Envios 2022</th>\n",
              "      <th>Costo Envios 2023</th>\n",
              "      <th>costo_envios_totales</th>\n",
              "    </tr>\n",
              "  </thead>\n",
              "  <tbody>\n",
              "    <tr>\n",
              "      <th>0</th>\n",
              "      <td>Bogotá</td>\n",
              "      <td>30400100.0</td>\n",
              "      <td>31086400.0</td>\n",
              "      <td>28591800.0</td>\n",
              "      <td>6651700.0</td>\n",
              "      <td>96730000.0</td>\n",
              "    </tr>\n",
              "    <tr>\n",
              "      <th>1</th>\n",
              "      <td>Medellín</td>\n",
              "      <td>16426300.0</td>\n",
              "      <td>20747500.0</td>\n",
              "      <td>17577100.0</td>\n",
              "      <td>3751700.0</td>\n",
              "      <td>58502600.0</td>\n",
              "    </tr>\n",
              "    <tr>\n",
              "      <th>2</th>\n",
              "      <td>Cali</td>\n",
              "      <td>8414400.0</td>\n",
              "      <td>7480600.0</td>\n",
              "      <td>8410300.0</td>\n",
              "      <td>2608600.0</td>\n",
              "      <td>26913900.0</td>\n",
              "    </tr>\n",
              "    <tr>\n",
              "      <th>3</th>\n",
              "      <td>Pereira</td>\n",
              "      <td>3370700.0</td>\n",
              "      <td>3967600.0</td>\n",
              "      <td>3481500.0</td>\n",
              "      <td>1180500.0</td>\n",
              "      <td>12000300.0</td>\n",
              "    </tr>\n",
              "    <tr>\n",
              "      <th>4</th>\n",
              "      <td>Barranquilla</td>\n",
              "      <td>2584300.0</td>\n",
              "      <td>2231400.0</td>\n",
              "      <td>1742400.0</td>\n",
              "      <td>476500.0</td>\n",
              "      <td>7034600.0</td>\n",
              "    </tr>\n",
              "    <tr>\n",
              "      <th>5</th>\n",
              "      <td>Cartagena</td>\n",
              "      <td>1308900.0</td>\n",
              "      <td>1934900.0</td>\n",
              "      <td>2145800.0</td>\n",
              "      <td>88900.0</td>\n",
              "      <td>5478500.0</td>\n",
              "    </tr>\n",
              "    <tr>\n",
              "      <th>6</th>\n",
              "      <td>Cúcuta</td>\n",
              "      <td>1950500.0</td>\n",
              "      <td>1397400.0</td>\n",
              "      <td>1499200.0</td>\n",
              "      <td>472000.0</td>\n",
              "      <td>5319100.0</td>\n",
              "    </tr>\n",
              "    <tr>\n",
              "      <th>7</th>\n",
              "      <td>Bucaramanga</td>\n",
              "      <td>1279000.0</td>\n",
              "      <td>1672400.0</td>\n",
              "      <td>1639100.0</td>\n",
              "      <td>258500.0</td>\n",
              "      <td>4849000.0</td>\n",
              "    </tr>\n",
              "    <tr>\n",
              "      <th>8</th>\n",
              "      <td>Riohacha</td>\n",
              "      <td>1438900.0</td>\n",
              "      <td>1072300.0</td>\n",
              "      <td>1125300.0</td>\n",
              "      <td>296300.0</td>\n",
              "      <td>3932800.0</td>\n",
              "    </tr>\n",
              "    <tr>\n",
              "      <th>9</th>\n",
              "      <td>Leticia</td>\n",
              "      <td>1316200.0</td>\n",
              "      <td>1175900.0</td>\n",
              "      <td>832800.0</td>\n",
              "      <td>270200.0</td>\n",
              "      <td>3595100.0</td>\n",
              "    </tr>\n",
              "    <tr>\n",
              "      <th>10</th>\n",
              "      <td>Santa Marta</td>\n",
              "      <td>606100.0</td>\n",
              "      <td>705500.0</td>\n",
              "      <td>1251200.0</td>\n",
              "      <td>268800.0</td>\n",
              "      <td>2831600.0</td>\n",
              "    </tr>\n",
              "    <tr>\n",
              "      <th>11</th>\n",
              "      <td>Pasto</td>\n",
              "      <td>1005600.0</td>\n",
              "      <td>722700.0</td>\n",
              "      <td>808000.0</td>\n",
              "      <td>77000.0</td>\n",
              "      <td>2613300.0</td>\n",
              "    </tr>\n",
              "    <tr>\n",
              "      <th>12</th>\n",
              "      <td>Neiva</td>\n",
              "      <td>491600.0</td>\n",
              "      <td>281500.0</td>\n",
              "      <td>324400.0</td>\n",
              "      <td>10900.0</td>\n",
              "      <td>1108400.0</td>\n",
              "    </tr>\n",
              "    <tr>\n",
              "      <th>13</th>\n",
              "      <td>Manizales</td>\n",
              "      <td>192900.0</td>\n",
              "      <td>484000.0</td>\n",
              "      <td>346000.0</td>\n",
              "      <td>0.0</td>\n",
              "      <td>1022900.0</td>\n",
              "    </tr>\n",
              "    <tr>\n",
              "      <th>14</th>\n",
              "      <td>Villavicencio</td>\n",
              "      <td>185800.0</td>\n",
              "      <td>148700.0</td>\n",
              "      <td>386200.0</td>\n",
              "      <td>7200.0</td>\n",
              "      <td>727900.0</td>\n",
              "    </tr>\n",
              "    <tr>\n",
              "      <th>15</th>\n",
              "      <td>Soacha</td>\n",
              "      <td>65500.0</td>\n",
              "      <td>231400.0</td>\n",
              "      <td>318400.0</td>\n",
              "      <td>45300.0</td>\n",
              "      <td>660600.0</td>\n",
              "    </tr>\n",
              "    <tr>\n",
              "      <th>16</th>\n",
              "      <td>Armenia</td>\n",
              "      <td>286000.0</td>\n",
              "      <td>286300.0</td>\n",
              "      <td>55400.0</td>\n",
              "      <td>12600.0</td>\n",
              "      <td>640300.0</td>\n",
              "    </tr>\n",
              "    <tr>\n",
              "      <th>17</th>\n",
              "      <td>Inírida</td>\n",
              "      <td>69400.0</td>\n",
              "      <td>104000.0</td>\n",
              "      <td>220100.0</td>\n",
              "      <td>34300.0</td>\n",
              "      <td>427800.0</td>\n",
              "    </tr>\n",
              "    <tr>\n",
              "      <th>18</th>\n",
              "      <td>Valledupar</td>\n",
              "      <td>118000.0</td>\n",
              "      <td>90700.0</td>\n",
              "      <td>86700.0</td>\n",
              "      <td>12900.0</td>\n",
              "      <td>308300.0</td>\n",
              "    </tr>\n",
              "  </tbody>\n",
              "</table>\n",
              "</div>"
            ],
            "text/plain": [
              "año Lugar de Compra  Costo Envios 2020  Costo Envios 2021  Costo Envios 2022  \\\n",
              "0            Bogotá         30400100.0         31086400.0         28591800.0   \n",
              "1          Medellín         16426300.0         20747500.0         17577100.0   \n",
              "2              Cali          8414400.0          7480600.0          8410300.0   \n",
              "3           Pereira          3370700.0          3967600.0          3481500.0   \n",
              "4      Barranquilla          2584300.0          2231400.0          1742400.0   \n",
              "5         Cartagena          1308900.0          1934900.0          2145800.0   \n",
              "6            Cúcuta          1950500.0          1397400.0          1499200.0   \n",
              "7       Bucaramanga          1279000.0          1672400.0          1639100.0   \n",
              "8          Riohacha          1438900.0          1072300.0          1125300.0   \n",
              "9           Leticia          1316200.0          1175900.0           832800.0   \n",
              "10      Santa Marta           606100.0           705500.0          1251200.0   \n",
              "11            Pasto          1005600.0           722700.0           808000.0   \n",
              "12            Neiva           491600.0           281500.0           324400.0   \n",
              "13        Manizales           192900.0           484000.0           346000.0   \n",
              "14    Villavicencio           185800.0           148700.0           386200.0   \n",
              "15           Soacha            65500.0           231400.0           318400.0   \n",
              "16          Armenia           286000.0           286300.0            55400.0   \n",
              "17          Inírida            69400.0           104000.0           220100.0   \n",
              "18       Valledupar           118000.0            90700.0            86700.0   \n",
              "\n",
              "año  Costo Envios 2023  costo_envios_totales  \n",
              "0            6651700.0            96730000.0  \n",
              "1            3751700.0            58502600.0  \n",
              "2            2608600.0            26913900.0  \n",
              "3            1180500.0            12000300.0  \n",
              "4             476500.0             7034600.0  \n",
              "5              88900.0             5478500.0  \n",
              "6             472000.0             5319100.0  \n",
              "7             258500.0             4849000.0  \n",
              "8             296300.0             3932800.0  \n",
              "9             270200.0             3595100.0  \n",
              "10            268800.0             2831600.0  \n",
              "11             77000.0             2613300.0  \n",
              "12             10900.0             1108400.0  \n",
              "13                 0.0             1022900.0  \n",
              "14              7200.0              727900.0  \n",
              "15             45300.0              660600.0  \n",
              "16             12600.0              640300.0  \n",
              "17             34300.0              427800.0  \n",
              "18             12900.0              308300.0  "
            ]
          },
          "execution_count": 8,
          "metadata": {},
          "output_type": "execute_result"
        }
      ],
      "source": [
        "# Se crea un nuevo dataframe agrupandos por Lugar de compra (filas) y por año (columnas), sumando los costos de envío de cada mes\n",
        "df_pivot_envios = comportamiento_al_anio.pivot(index='Lugar de Compra', columns='año', values='Costo de envío').fillna(0)\n",
        "df_pivot_envios[\"costo_envios_totales\"] = df_pivot_envios[2020] + df_pivot_envios[2021] + df_pivot_envios[2022] + df_pivot_envios[2023]\n",
        "df_pivot_envios = df_pivot_envios.sort_values(\"costo_envios_totales\", ascending=False)\n",
        "df_pivot_envios = df_pivot_envios.rename(columns={2020:\"Costo Envios 2020\", 2021:\"Costo Envios 2021\", 2022:\"Costo Envios 2022\", 2023:\"Costo Envios 2023\"}) # Se renombran las columnas para que tengan un nombre más claro\n",
        "df_pivot_envios = df_pivot_envios.reset_index()\n",
        "# df_pivot_envios[\"envios_totales\"] = df_pivot_envios.apply(lambda fila: f\"{fila[\"envios_totales\"]:,.0f}\", axis = 1) # Se formatea la columna \"ventas_totales\" para que tenga separador de miles y no decimales\n",
        "df_pivot_envios"
      ]
    },
    {
      "cell_type": "code",
      "execution_count": 9,
      "metadata": {},
      "outputs": [],
      "source": [
        "#df_pivot_tendencia = df_pivot_tendencia.drop(columns=[\"desviaciones 2021\", \"desviaciones 2022\", \"desviaciones 2023\"]) # Se eliminan las columnas de los años para dejar solo la columna de ventas totales y la de lugar de compra"
      ]
    },
    {
      "cell_type": "markdown",
      "metadata": {},
      "source": [
        "### Variaciones de ganancias en comparacion con año base (2020)"
      ]
    },
    {
      "cell_type": "code",
      "execution_count": 10,
      "metadata": {},
      "outputs": [
        {
          "data": {
            "text/html": [
              "<div>\n",
              "<style scoped>\n",
              "    .dataframe tbody tr th:only-of-type {\n",
              "        vertical-align: middle;\n",
              "    }\n",
              "\n",
              "    .dataframe tbody tr th {\n",
              "        vertical-align: top;\n",
              "    }\n",
              "\n",
              "    .dataframe thead th {\n",
              "        text-align: right;\n",
              "    }\n",
              "</style>\n",
              "<table border=\"1\" class=\"dataframe\">\n",
              "  <thead>\n",
              "    <tr style=\"text-align: right;\">\n",
              "      <th>año</th>\n",
              "      <th>Lugar de Compra</th>\n",
              "      <th>var_ganancias 2021</th>\n",
              "      <th>var_ganancias 2022</th>\n",
              "      <th>var_ganancias 2023</th>\n",
              "    </tr>\n",
              "  </thead>\n",
              "  <tbody>\n",
              "    <tr>\n",
              "      <th>15</th>\n",
              "      <td>Soacha</td>\n",
              "      <td>227.98</td>\n",
              "      <td>366.82</td>\n",
              "      <td>-34.26</td>\n",
              "    </tr>\n",
              "    <tr>\n",
              "      <th>17</th>\n",
              "      <td>Inírida</td>\n",
              "      <td>36.33</td>\n",
              "      <td>209.48</td>\n",
              "      <td>-49.84</td>\n",
              "    </tr>\n",
              "    <tr>\n",
              "      <th>13</th>\n",
              "      <td>Manizales</td>\n",
              "      <td>149.81</td>\n",
              "      <td>81.22</td>\n",
              "      <td>-100.00</td>\n",
              "    </tr>\n",
              "    <tr>\n",
              "      <th>10</th>\n",
              "      <td>Santa Marta</td>\n",
              "      <td>15.63</td>\n",
              "      <td>109.62</td>\n",
              "      <td>-54.53</td>\n",
              "    </tr>\n",
              "    <tr>\n",
              "      <th>5</th>\n",
              "      <td>Cartagena</td>\n",
              "      <td>46.09</td>\n",
              "      <td>61.89</td>\n",
              "      <td>-93.05</td>\n",
              "    </tr>\n",
              "    <tr>\n",
              "      <th>7</th>\n",
              "      <td>Bucaramanga</td>\n",
              "      <td>32.89</td>\n",
              "      <td>29.86</td>\n",
              "      <td>-79.11</td>\n",
              "    </tr>\n",
              "    <tr>\n",
              "      <th>14</th>\n",
              "      <td>Villavicencio</td>\n",
              "      <td>-19.21</td>\n",
              "      <td>98.06</td>\n",
              "      <td>-96.51</td>\n",
              "    </tr>\n",
              "    <tr>\n",
              "      <th>1</th>\n",
              "      <td>Medellín</td>\n",
              "      <td>26.25</td>\n",
              "      <td>6.54</td>\n",
              "      <td>-76.78</td>\n",
              "    </tr>\n",
              "    <tr>\n",
              "      <th>3</th>\n",
              "      <td>Pereira</td>\n",
              "      <td>17.70</td>\n",
              "      <td>2.30</td>\n",
              "      <td>-64.36</td>\n",
              "    </tr>\n",
              "    <tr>\n",
              "      <th>2</th>\n",
              "      <td>Cali</td>\n",
              "      <td>-10.24</td>\n",
              "      <td>0.90</td>\n",
              "      <td>-68.70</td>\n",
              "    </tr>\n",
              "    <tr>\n",
              "      <th>0</th>\n",
              "      <td>Bogotá</td>\n",
              "      <td>2.36</td>\n",
              "      <td>-6.17</td>\n",
              "      <td>-78.37</td>\n",
              "    </tr>\n",
              "    <tr>\n",
              "      <th>8</th>\n",
              "      <td>Riohacha</td>\n",
              "      <td>-24.19</td>\n",
              "      <td>-23.21</td>\n",
              "      <td>-79.52</td>\n",
              "    </tr>\n",
              "    <tr>\n",
              "      <th>6</th>\n",
              "      <td>Cúcuta</td>\n",
              "      <td>-28.07</td>\n",
              "      <td>-21.99</td>\n",
              "      <td>-77.52</td>\n",
              "    </tr>\n",
              "    <tr>\n",
              "      <th>9</th>\n",
              "      <td>Leticia</td>\n",
              "      <td>-12.59</td>\n",
              "      <td>-36.78</td>\n",
              "      <td>-79.51</td>\n",
              "    </tr>\n",
              "    <tr>\n",
              "      <th>4</th>\n",
              "      <td>Barranquilla</td>\n",
              "      <td>-14.78</td>\n",
              "      <td>-32.81</td>\n",
              "      <td>-81.95</td>\n",
              "    </tr>\n",
              "    <tr>\n",
              "      <th>18</th>\n",
              "      <td>Valledupar</td>\n",
              "      <td>-17.49</td>\n",
              "      <td>-25.32</td>\n",
              "      <td>-89.15</td>\n",
              "    </tr>\n",
              "    <tr>\n",
              "      <th>11</th>\n",
              "      <td>Pasto</td>\n",
              "      <td>-27.14</td>\n",
              "      <td>-17.64</td>\n",
              "      <td>-92.50</td>\n",
              "    </tr>\n",
              "    <tr>\n",
              "      <th>16</th>\n",
              "      <td>Armenia</td>\n",
              "      <td>2.31</td>\n",
              "      <td>-78.81</td>\n",
              "      <td>-95.83</td>\n",
              "    </tr>\n",
              "    <tr>\n",
              "      <th>12</th>\n",
              "      <td>Neiva</td>\n",
              "      <td>-42.02</td>\n",
              "      <td>-37.53</td>\n",
              "      <td>-97.43</td>\n",
              "    </tr>\n",
              "  </tbody>\n",
              "</table>\n",
              "</div>"
            ],
            "text/plain": [
              "año Lugar de Compra  var_ganancias 2021  var_ganancias 2022  \\\n",
              "15           Soacha              227.98              366.82   \n",
              "17          Inírida               36.33              209.48   \n",
              "13        Manizales              149.81               81.22   \n",
              "10      Santa Marta               15.63              109.62   \n",
              "5         Cartagena               46.09               61.89   \n",
              "7       Bucaramanga               32.89               29.86   \n",
              "14    Villavicencio              -19.21               98.06   \n",
              "1          Medellín               26.25                6.54   \n",
              "3           Pereira               17.70                2.30   \n",
              "2              Cali              -10.24                0.90   \n",
              "0            Bogotá                2.36               -6.17   \n",
              "8          Riohacha              -24.19              -23.21   \n",
              "6            Cúcuta              -28.07              -21.99   \n",
              "9           Leticia              -12.59              -36.78   \n",
              "4      Barranquilla              -14.78              -32.81   \n",
              "18       Valledupar              -17.49              -25.32   \n",
              "11            Pasto              -27.14              -17.64   \n",
              "16          Armenia                2.31              -78.81   \n",
              "12            Neiva              -42.02              -37.53   \n",
              "\n",
              "año  var_ganancias 2023  \n",
              "15               -34.26  \n",
              "17               -49.84  \n",
              "13              -100.00  \n",
              "10               -54.53  \n",
              "5                -93.05  \n",
              "7                -79.11  \n",
              "14               -96.51  \n",
              "1                -76.78  \n",
              "3                -64.36  \n",
              "2                -68.70  \n",
              "0                -78.37  \n",
              "8                -79.52  \n",
              "6                -77.52  \n",
              "9                -79.51  \n",
              "4                -81.95  \n",
              "18               -89.15  \n",
              "11               -92.50  \n",
              "16               -95.83  \n",
              "12               -97.43  "
            ]
          },
          "execution_count": 10,
          "metadata": {},
          "output_type": "execute_result"
        }
      ],
      "source": [
        "# Se comparan las ganancias de cada año, con el año 2020 como base\n",
        "\n",
        "df_pivot_tendencia[\"var_ganancias 2021\"] = (((df_pivot_tendencia[\"Ganancias 2021\"] - df_pivot_tendencia[\"Ganancias 2020\"]) / df_pivot_tendencia[\"Ganancias 2020\"]) * 100).round(2) # Se redondea a 2 decimales\n",
        "df_pivot_tendencia[\"var_ganancias 2022\"] = (((df_pivot_tendencia[\"Ganancias 2022\"] - df_pivot_tendencia[\"Ganancias 2020\"]) / df_pivot_tendencia[\"Ganancias 2020\"]) * 100).round(2) # Se redondea a 2 decimales\n",
        "df_pivot_tendencia[\"var_ganancias 2023\"] = (((df_pivot_tendencia[\"Ganancias 2023\"] - df_pivot_tendencia[\"Ganancias 2020\"]) / df_pivot_tendencia[\"Ganancias 2020\"]) * 100).round(2) # Se redondea a 2 decimales\n",
        "\n",
        "\n",
        "# Se calcula el promedio de las variaciones en las ganancias de cada año respecto al año 2020\n",
        "df_pivot_tendencia[\"promedio_variaciones\"] = (df_pivot_tendencia[\"var_ganancias 2021\"] + df_pivot_tendencia[\"var_ganancias 2022\"] + df_pivot_tendencia[\"var_ganancias 2023\"]) / 3 \n",
        "# df_pivot_tendencia[2020] = df_pivot_tendencia.apply(lambda fila: f\"{fila[2020]:,.0f}\", axis = 1) # Se formatea la columna \"2020\" para que tenga separador de miles y no decimales\n",
        "# df_pivot_tendencia[2021] = df_pivot_tendencia.apply(lambda fila: f\"{fila[2021]:,.0f}\", axis = 1) # Se formatea la columna \"2021\" para que tenga separador de miles y no decimales\n",
        "# df_pivot_tendencia[2022] = df_pivot_tendencia.apply(lambda fila: f\"{fila[2022]:,.0f}\", axis = 1) # Se formatea la columna \"2022\" para que tenga separador de miles y no decimales\n",
        "# df_pivot_tendencia[2023] = df_pivot_tendencia.apply(lambda fila: f\"{fila[2023]:,.0f}\", axis = 1) # Se formatea la columna \"2023\" para que tenga separador de miles y no decimales\n",
        "df_pivot_tendencia.sort_values(\"promedio_variaciones\", ascending=False, inplace=True) # Se ordena el dataframe por la columna \"desviaciones 2023\" de mayor a menor\n",
        "\n",
        "\n",
        "df_pivot_tendencia[[\"Lugar de Compra\",\"var_ganancias 2021\", \"var_ganancias 2022\", \"var_ganancias 2023\"]]\n",
        "\n",
        "# Se observa las tiendas que ha tenido una mayor variacion positiva en sus ganancias en comparacion con el año 2020 es Soacha.\n",
        "# Tambien se observa que la tienda con mayor variacion negativa es Neiva"
      ]
    },
    {
      "cell_type": "markdown",
      "metadata": {},
      "source": [
        "### Porcentaje de utilidades (ganancias), en comparacion con los ingresos totales del año"
      ]
    },
    {
      "cell_type": "code",
      "execution_count": 11,
      "metadata": {},
      "outputs": [
        {
          "data": {
            "text/html": [
              "<div>\n",
              "<style scoped>\n",
              "    .dataframe tbody tr th:only-of-type {\n",
              "        vertical-align: middle;\n",
              "    }\n",
              "\n",
              "    .dataframe tbody tr th {\n",
              "        vertical-align: top;\n",
              "    }\n",
              "\n",
              "    .dataframe thead th {\n",
              "        text-align: right;\n",
              "    }\n",
              "</style>\n",
              "<table border=\"1\" class=\"dataframe\">\n",
              "  <thead>\n",
              "    <tr style=\"text-align: right;\">\n",
              "      <th>año</th>\n",
              "      <th>Lugar de Compra</th>\n",
              "      <th>margen 2020</th>\n",
              "      <th>margen 2021</th>\n",
              "      <th>margen 2022</th>\n",
              "      <th>margen 2023</th>\n",
              "    </tr>\n",
              "  </thead>\n",
              "  <tbody>\n",
              "    <tr>\n",
              "      <th>0</th>\n",
              "      <td>Soacha</td>\n",
              "      <td>94.879212</td>\n",
              "      <td>94.505912</td>\n",
              "      <td>94.678878</td>\n",
              "      <td>94.626972</td>\n",
              "    </tr>\n",
              "    <tr>\n",
              "      <th>1</th>\n",
              "      <td>Inírida</td>\n",
              "      <td>94.877095</td>\n",
              "      <td>94.397457</td>\n",
              "      <td>94.756902</td>\n",
              "      <td>94.948454</td>\n",
              "    </tr>\n",
              "    <tr>\n",
              "      <th>2</th>\n",
              "      <td>Manizales</td>\n",
              "      <td>94.711446</td>\n",
              "      <td>94.689489</td>\n",
              "      <td>94.762654</td>\n",
              "      <td>NaN</td>\n",
              "    </tr>\n",
              "    <tr>\n",
              "      <th>3</th>\n",
              "      <td>Santa Marta</td>\n",
              "      <td>94.629297</td>\n",
              "      <td>94.595402</td>\n",
              "      <td>94.706671</td>\n",
              "      <td>94.754303</td>\n",
              "    </tr>\n",
              "    <tr>\n",
              "      <th>4</th>\n",
              "      <td>Cartagena</td>\n",
              "      <td>94.692645</td>\n",
              "      <td>94.632985</td>\n",
              "      <td>94.628947</td>\n",
              "      <td>94.806636</td>\n",
              "    </tr>\n",
              "    <tr>\n",
              "      <th>5</th>\n",
              "      <td>Bucaramanga</td>\n",
              "      <td>94.586175</td>\n",
              "      <td>94.668214</td>\n",
              "      <td>94.653301</td>\n",
              "      <td>94.752015</td>\n",
              "    </tr>\n",
              "    <tr>\n",
              "      <th>6</th>\n",
              "      <td>Villavicencio</td>\n",
              "      <td>94.665059</td>\n",
              "      <td>94.712701</td>\n",
              "      <td>94.415928</td>\n",
              "      <td>94.117647</td>\n",
              "    </tr>\n",
              "    <tr>\n",
              "      <th>7</th>\n",
              "      <td>Medellín</td>\n",
              "      <td>94.667343</td>\n",
              "      <td>94.665280</td>\n",
              "      <td>94.645402</td>\n",
              "      <td>94.749981</td>\n",
              "    </tr>\n",
              "    <tr>\n",
              "      <th>8</th>\n",
              "      <td>Pereira</td>\n",
              "      <td>94.693741</td>\n",
              "      <td>94.693572</td>\n",
              "      <td>94.645082</td>\n",
              "      <td>94.781052</td>\n",
              "    </tr>\n",
              "    <tr>\n",
              "      <th>9</th>\n",
              "      <td>Cali</td>\n",
              "      <td>94.653348</td>\n",
              "      <td>94.701873</td>\n",
              "      <td>94.700992</td>\n",
              "      <td>94.702404</td>\n",
              "    </tr>\n",
              "    <tr>\n",
              "      <th>10</th>\n",
              "      <td>Bogotá</td>\n",
              "      <td>94.675842</td>\n",
              "      <td>94.680972</td>\n",
              "      <td>94.664115</td>\n",
              "      <td>94.618218</td>\n",
              "    </tr>\n",
              "    <tr>\n",
              "      <th>11</th>\n",
              "      <td>Riohacha</td>\n",
              "      <td>94.681299</td>\n",
              "      <td>94.766920</td>\n",
              "      <td>94.588291</td>\n",
              "      <td>94.653072</td>\n",
              "    </tr>\n",
              "    <tr>\n",
              "      <th>12</th>\n",
              "      <td>Cúcuta</td>\n",
              "      <td>94.652150</td>\n",
              "      <td>94.672675</td>\n",
              "      <td>94.726975</td>\n",
              "      <td>94.267810</td>\n",
              "    </tr>\n",
              "    <tr>\n",
              "      <th>13</th>\n",
              "      <td>Leticia</td>\n",
              "      <td>94.683824</td>\n",
              "      <td>94.572552</td>\n",
              "      <td>94.679682</td>\n",
              "      <td>94.673238</td>\n",
              "    </tr>\n",
              "    <tr>\n",
              "      <th>14</th>\n",
              "      <td>Barranquilla</td>\n",
              "      <td>94.704770</td>\n",
              "      <td>94.638674</td>\n",
              "      <td>94.687060</td>\n",
              "      <td>94.597812</td>\n",
              "    </tr>\n",
              "    <tr>\n",
              "      <th>15</th>\n",
              "      <td>Valledupar</td>\n",
              "      <td>94.634169</td>\n",
              "      <td>94.982852</td>\n",
              "      <td>94.715992</td>\n",
              "      <td>94.593462</td>\n",
              "    </tr>\n",
              "    <tr>\n",
              "      <th>16</th>\n",
              "      <td>Pasto</td>\n",
              "      <td>94.613011</td>\n",
              "      <td>94.682393</td>\n",
              "      <td>94.737493</td>\n",
              "      <td>94.509804</td>\n",
              "    </tr>\n",
              "    <tr>\n",
              "      <th>17</th>\n",
              "      <td>Armenia</td>\n",
              "      <td>94.686089</td>\n",
              "      <td>94.794829</td>\n",
              "      <td>95.120662</td>\n",
              "      <td>94.402488</td>\n",
              "    </tr>\n",
              "    <tr>\n",
              "      <th>18</th>\n",
              "      <td>Neiva</td>\n",
              "      <td>94.750779</td>\n",
              "      <td>94.812207</td>\n",
              "      <td>94.471428</td>\n",
              "      <td>95.437422</td>\n",
              "    </tr>\n",
              "  </tbody>\n",
              "</table>\n",
              "</div>"
            ],
            "text/plain": [
              "año Lugar de Compra  margen 2020  margen 2021  margen 2022  margen 2023\n",
              "0            Soacha    94.879212    94.505912    94.678878    94.626972\n",
              "1           Inírida    94.877095    94.397457    94.756902    94.948454\n",
              "2         Manizales    94.711446    94.689489    94.762654          NaN\n",
              "3       Santa Marta    94.629297    94.595402    94.706671    94.754303\n",
              "4         Cartagena    94.692645    94.632985    94.628947    94.806636\n",
              "5       Bucaramanga    94.586175    94.668214    94.653301    94.752015\n",
              "6     Villavicencio    94.665059    94.712701    94.415928    94.117647\n",
              "7          Medellín    94.667343    94.665280    94.645402    94.749981\n",
              "8           Pereira    94.693741    94.693572    94.645082    94.781052\n",
              "9              Cali    94.653348    94.701873    94.700992    94.702404\n",
              "10           Bogotá    94.675842    94.680972    94.664115    94.618218\n",
              "11         Riohacha    94.681299    94.766920    94.588291    94.653072\n",
              "12           Cúcuta    94.652150    94.672675    94.726975    94.267810\n",
              "13          Leticia    94.683824    94.572552    94.679682    94.673238\n",
              "14     Barranquilla    94.704770    94.638674    94.687060    94.597812\n",
              "15       Valledupar    94.634169    94.982852    94.715992    94.593462\n",
              "16            Pasto    94.613011    94.682393    94.737493    94.509804\n",
              "17          Armenia    94.686089    94.794829    95.120662    94.402488\n",
              "18            Neiva    94.750779    94.812207    94.471428    95.437422"
            ]
          },
          "execution_count": 11,
          "metadata": {},
          "output_type": "execute_result"
        }
      ],
      "source": [
        "margen = df_pivot_tendencia.merge(df_pivot_ingresos, on=\"Lugar de Compra\", how=\"inner\") # Se unen los dataframes de ingresos y ganancias por la columna \"Lugar de Compra\"\n",
        "margen[\"margen 2020\"] = (margen[\"Ganancias 2020\"] / margen[\"Ingresos 2020\"])*100 # Se calcula el margen de ganancias sobre ingresos\n",
        "margen[\"margen 2021\"] = (margen[\"Ganancias 2021\"] / margen[\"Ingresos 2021\"])*100 # Se calcula el margen de ganancias sobre ingresos\n",
        "margen[\"margen 2022\"] = (margen[\"Ganancias 2022\"] / margen[\"Ingresos 2022\"])*100 # Se calcula el margen de ganancias sobre ingresos\n",
        "margen[\"margen 2023\"] = (margen[\"Ganancias 2023\"] / margen[\"Ingresos 2023\"])*100 # Se calcula el margen de ganancias sobre ingresos\n",
        "\n",
        "margen[[\"Lugar de Compra\",\"margen 2020\", \"margen 2021\", \"margen 2022\", \"margen 2023\"]]\n",
        "\n",
        "# Se observa que el marge por año es relativamente similar al obtenido con datos generales."
      ]
    },
    {
      "cell_type": "markdown",
      "metadata": {
        "id": "Rq6tU_xSY3jk"
      },
      "source": [
        "#3. Calificación promedio de la tienda\n"
      ]
    },
    {
      "cell_type": "markdown",
      "metadata": {},
      "source": [
        "### Calificaciones promedio por tienda al año"
      ]
    },
    {
      "cell_type": "code",
      "execution_count": 12,
      "metadata": {
        "id": "bh3jjjJwY5MU"
      },
      "outputs": [
        {
          "data": {
            "text/html": [
              "<div>\n",
              "<style scoped>\n",
              "    .dataframe tbody tr th:only-of-type {\n",
              "        vertical-align: middle;\n",
              "    }\n",
              "\n",
              "    .dataframe tbody tr th {\n",
              "        vertical-align: top;\n",
              "    }\n",
              "\n",
              "    .dataframe thead th {\n",
              "        text-align: right;\n",
              "    }\n",
              "</style>\n",
              "<table border=\"1\" class=\"dataframe\">\n",
              "  <thead>\n",
              "    <tr style=\"text-align: right;\">\n",
              "      <th>año</th>\n",
              "      <th>Calificacion 2020</th>\n",
              "      <th>Calificacion 2021</th>\n",
              "      <th>Calificacion 2022</th>\n",
              "      <th>Calificacion 2023</th>\n",
              "      <th>calificacion_total</th>\n",
              "    </tr>\n",
              "    <tr>\n",
              "      <th>Lugar de Compra</th>\n",
              "      <th></th>\n",
              "      <th></th>\n",
              "      <th></th>\n",
              "      <th></th>\n",
              "      <th></th>\n",
              "    </tr>\n",
              "  </thead>\n",
              "  <tbody>\n",
              "    <tr>\n",
              "      <th>Valledupar</th>\n",
              "      <td>4.400000</td>\n",
              "      <td>3.250000</td>\n",
              "      <td>4.250000</td>\n",
              "      <td>5.000000</td>\n",
              "      <td>4.225000</td>\n",
              "    </tr>\n",
              "    <tr>\n",
              "      <th>Bogotá</th>\n",
              "      <td>4.123762</td>\n",
              "      <td>4.077607</td>\n",
              "      <td>4.136439</td>\n",
              "      <td>4.130137</td>\n",
              "      <td>4.116986</td>\n",
              "    </tr>\n",
              "    <tr>\n",
              "      <th>Villavicencio</th>\n",
              "      <td>3.750000</td>\n",
              "      <td>4.000000</td>\n",
              "      <td>3.692308</td>\n",
              "      <td>5.000000</td>\n",
              "      <td>4.110577</td>\n",
              "    </tr>\n",
              "    <tr>\n",
              "      <th>Cali</th>\n",
              "      <td>4.126667</td>\n",
              "      <td>3.923588</td>\n",
              "      <td>4.057325</td>\n",
              "      <td>4.152174</td>\n",
              "      <td>4.064938</td>\n",
              "    </tr>\n",
              "    <tr>\n",
              "      <th>Pasto</th>\n",
              "      <td>3.766667</td>\n",
              "      <td>4.533333</td>\n",
              "      <td>4.333333</td>\n",
              "      <td>3.428571</td>\n",
              "      <td>4.015476</td>\n",
              "    </tr>\n",
              "    <tr>\n",
              "      <th>Soacha</th>\n",
              "      <td>4.250000</td>\n",
              "      <td>4.666667</td>\n",
              "      <td>3.125000</td>\n",
              "      <td>4.000000</td>\n",
              "      <td>4.010417</td>\n",
              "    </tr>\n",
              "    <tr>\n",
              "      <th>Neiva</th>\n",
              "      <td>4.000000</td>\n",
              "      <td>4.000000</td>\n",
              "      <td>3.000000</td>\n",
              "      <td>5.000000</td>\n",
              "      <td>4.000000</td>\n",
              "    </tr>\n",
              "    <tr>\n",
              "      <th>Pereira</th>\n",
              "      <td>4.068493</td>\n",
              "      <td>3.943038</td>\n",
              "      <td>4.061350</td>\n",
              "      <td>3.920000</td>\n",
              "      <td>3.998220</td>\n",
              "    </tr>\n",
              "    <tr>\n",
              "      <th>Bucaramanga</th>\n",
              "      <td>4.060000</td>\n",
              "      <td>3.962264</td>\n",
              "      <td>3.903226</td>\n",
              "      <td>4.062500</td>\n",
              "      <td>3.996997</td>\n",
              "    </tr>\n",
              "    <tr>\n",
              "      <th>Cartagena</th>\n",
              "      <td>3.726027</td>\n",
              "      <td>3.958904</td>\n",
              "      <td>4.329545</td>\n",
              "      <td>3.875000</td>\n",
              "      <td>3.972369</td>\n",
              "    </tr>\n",
              "    <tr>\n",
              "      <th>Medellín</th>\n",
              "      <td>3.930636</td>\n",
              "      <td>3.885827</td>\n",
              "      <td>3.954942</td>\n",
              "      <td>3.976744</td>\n",
              "      <td>3.937037</td>\n",
              "    </tr>\n",
              "    <tr>\n",
              "      <th>Riohacha</th>\n",
              "      <td>3.964286</td>\n",
              "      <td>3.666667</td>\n",
              "      <td>4.000000</td>\n",
              "      <td>4.083333</td>\n",
              "      <td>3.928571</td>\n",
              "    </tr>\n",
              "    <tr>\n",
              "      <th>Leticia</th>\n",
              "      <td>3.977273</td>\n",
              "      <td>3.625000</td>\n",
              "      <td>4.282051</td>\n",
              "      <td>3.727273</td>\n",
              "      <td>3.902899</td>\n",
              "    </tr>\n",
              "    <tr>\n",
              "      <th>Inírida</th>\n",
              "      <td>4.750000</td>\n",
              "      <td>2.666667</td>\n",
              "      <td>4.000000</td>\n",
              "      <td>4.000000</td>\n",
              "      <td>3.854167</td>\n",
              "    </tr>\n",
              "    <tr>\n",
              "      <th>Armenia</th>\n",
              "      <td>3.111111</td>\n",
              "      <td>3.250000</td>\n",
              "      <td>4.000000</td>\n",
              "      <td>5.000000</td>\n",
              "      <td>3.840278</td>\n",
              "    </tr>\n",
              "    <tr>\n",
              "      <th>Barranquilla</th>\n",
              "      <td>3.828283</td>\n",
              "      <td>3.841584</td>\n",
              "      <td>3.741176</td>\n",
              "      <td>3.760000</td>\n",
              "      <td>3.792761</td>\n",
              "    </tr>\n",
              "    <tr>\n",
              "      <th>Cúcuta</th>\n",
              "      <td>3.983871</td>\n",
              "      <td>3.903226</td>\n",
              "      <td>4.140000</td>\n",
              "      <td>3.083333</td>\n",
              "      <td>3.777608</td>\n",
              "    </tr>\n",
              "    <tr>\n",
              "      <th>Santa Marta</th>\n",
              "      <td>3.500000</td>\n",
              "      <td>3.363636</td>\n",
              "      <td>3.788462</td>\n",
              "      <td>3.866667</td>\n",
              "      <td>3.629691</td>\n",
              "    </tr>\n",
              "    <tr>\n",
              "      <th>Manizales</th>\n",
              "      <td>4.166667</td>\n",
              "      <td>3.733333</td>\n",
              "      <td>3.071429</td>\n",
              "      <td>0.000000</td>\n",
              "      <td>2.742857</td>\n",
              "    </tr>\n",
              "  </tbody>\n",
              "</table>\n",
              "</div>"
            ],
            "text/plain": [
              "año              Calificacion 2020  Calificacion 2021  Calificacion 2022  \\\n",
              "Lugar de Compra                                                            \n",
              "Valledupar                4.400000           3.250000           4.250000   \n",
              "Bogotá                    4.123762           4.077607           4.136439   \n",
              "Villavicencio             3.750000           4.000000           3.692308   \n",
              "Cali                      4.126667           3.923588           4.057325   \n",
              "Pasto                     3.766667           4.533333           4.333333   \n",
              "Soacha                    4.250000           4.666667           3.125000   \n",
              "Neiva                     4.000000           4.000000           3.000000   \n",
              "Pereira                   4.068493           3.943038           4.061350   \n",
              "Bucaramanga               4.060000           3.962264           3.903226   \n",
              "Cartagena                 3.726027           3.958904           4.329545   \n",
              "Medellín                  3.930636           3.885827           3.954942   \n",
              "Riohacha                  3.964286           3.666667           4.000000   \n",
              "Leticia                   3.977273           3.625000           4.282051   \n",
              "Inírida                   4.750000           2.666667           4.000000   \n",
              "Armenia                   3.111111           3.250000           4.000000   \n",
              "Barranquilla              3.828283           3.841584           3.741176   \n",
              "Cúcuta                    3.983871           3.903226           4.140000   \n",
              "Santa Marta               3.500000           3.363636           3.788462   \n",
              "Manizales                 4.166667           3.733333           3.071429   \n",
              "\n",
              "año              Calificacion 2023  calificacion_total  \n",
              "Lugar de Compra                                         \n",
              "Valledupar                5.000000            4.225000  \n",
              "Bogotá                    4.130137            4.116986  \n",
              "Villavicencio             5.000000            4.110577  \n",
              "Cali                      4.152174            4.064938  \n",
              "Pasto                     3.428571            4.015476  \n",
              "Soacha                    4.000000            4.010417  \n",
              "Neiva                     5.000000            4.000000  \n",
              "Pereira                   3.920000            3.998220  \n",
              "Bucaramanga               4.062500            3.996997  \n",
              "Cartagena                 3.875000            3.972369  \n",
              "Medellín                  3.976744            3.937037  \n",
              "Riohacha                  4.083333            3.928571  \n",
              "Leticia                   3.727273            3.902899  \n",
              "Inírida                   4.000000            3.854167  \n",
              "Armenia                   5.000000            3.840278  \n",
              "Barranquilla              3.760000            3.792761  \n",
              "Cúcuta                    3.083333            3.777608  \n",
              "Santa Marta               3.866667            3.629691  \n",
              "Manizales                 0.000000            2.742857  "
            ]
          },
          "execution_count": 12,
          "metadata": {},
          "output_type": "execute_result"
        }
      ],
      "source": [
        "# Se crea un nuevo dataframe agrupando por Lugar de compra y por año, promediand las calificaciones de cada año\n",
        "calificaciones = db_tiendas.groupby([\"Lugar de Compra\", \"año\"]).agg({\n",
        "    \"Calificación\": \"mean\",\n",
        "})\n",
        "calificaciones = calificaciones.reset_index()\n",
        "\n",
        "\n",
        "df_pivot_calificaciones = calificaciones.pivot(index='Lugar de Compra', columns='año', values='Calificación').fillna(0)\n",
        "df_pivot_calificaciones[\"calificacion_total\"] = (df_pivot_calificaciones[2020] + df_pivot_calificaciones[2021] + df_pivot_calificaciones[2022] + df_pivot_calificaciones[2023])/4\n",
        "\n",
        "df_pivot_calificaciones = df_pivot_calificaciones.rename(columns={2020:\"Calificacion 2020\", 2021:\"Calificacion 2021\", 2022:\"Calificacion 2022\", 2023:\"Calificacion 2023\"}) # Se renombran las columnas para que tengan un nombre más claro\n",
        "\n",
        "df_pivot_calificaciones = df_pivot_calificaciones.sort_values(\"calificacion_total\", ascending=False)\n",
        "\n",
        "df_pivot_calificaciones"
      ]
    },
    {
      "cell_type": "code",
      "execution_count": 13,
      "metadata": {},
      "outputs": [],
      "source": [
        "# Se unen los dataframes de tendencia (ganancias) y calificaciones por la fila \"Lugar de Compra\" para tener una tabla con las ganancias y las calificaciones de cada tienda\n",
        "df_full = df_pivot_tendencia.merge(df_pivot_calificaciones, on=\"Lugar de Compra\", how=\"inner\") \n",
        "\n",
        "# Se calcula el porcentaje de ganancias que aporta cada tienda sobre el total de ganancias\n",
        "df_full[\"P_ganancias 2020\"] = (df_full[\"Ganancias 2020\"] / df_full[\"Ganancias 2020\"].sum()) * 100 \n",
        "df_full[\"P_ganancias 2021\"] = (df_full[\"Ganancias 2021\"] / df_full[\"Ganancias 2021\"].sum()) * 100 # Se calcula el porcentaje de ganancias de cada tienda sobre el total de ganancias\n",
        "df_full[\"P_ganancias 2022\"] = (df_full[\"Ganancias 2022\"] / df_full[\"Ganancias 2022\"].sum()) * 100 # Se calcula el porcentaje de ganancias de cada tienda sobre el total de ganancias\n",
        "df_full[\"P_ganancias 2023\"] = (df_full[\"Ganancias 2023\"] / df_full[\"Ganancias 2023\"].sum()) * 100 # Se calcula el porcentaje de ganancias de cada tienda sobre el total de ganancias\n",
        "#df_full[\"P_ganancias totales\"] = df_full[\"ganancias_totales\"] / df_full[\"ganancias_totales\"].sum() * 100 # Se calcula el porcentaje de ganancias de cada tienda sobre el total de ganancias\n",
        "df_full = df_full.reset_index() # Se reinicia el índice para que quede más ordenado\n",
        "df_full = df_full.sort_values(\"P_ganancias 2023\", ascending=False) # Se ordena el dataframe por la columna \"P_ganancias 2023\" de mayor a menor\n",
        "df_full = df_full.reset_index() # Se reinicia el índice para que quede más ordenado\n",
        "\n",
        "df_full = df_full.drop(columns=[\"level_0\"]) "
      ]
    },
    {
      "cell_type": "code",
      "execution_count": 14,
      "metadata": {},
      "outputs": [
        {
          "data": {
            "text/html": [
              "<div>\n",
              "<style scoped>\n",
              "    .dataframe tbody tr th:only-of-type {\n",
              "        vertical-align: middle;\n",
              "    }\n",
              "\n",
              "    .dataframe tbody tr th {\n",
              "        vertical-align: top;\n",
              "    }\n",
              "\n",
              "    .dataframe thead th {\n",
              "        text-align: right;\n",
              "    }\n",
              "</style>\n",
              "<table border=\"1\" class=\"dataframe\">\n",
              "  <thead>\n",
              "    <tr style=\"text-align: right;\">\n",
              "      <th>año</th>\n",
              "      <th>Lugar de Compra</th>\n",
              "      <th>P_ganancias 2020</th>\n",
              "      <th>P_ganancias 2021</th>\n",
              "      <th>P_ganancias 2022</th>\n",
              "      <th>P_ganancias 2023</th>\n",
              "    </tr>\n",
              "  </thead>\n",
              "  <tbody>\n",
              "    <tr>\n",
              "      <th>0</th>\n",
              "      <td>Bogotá</td>\n",
              "      <td>42.550774</td>\n",
              "      <td>41.040869</td>\n",
              "      <td>40.366384</td>\n",
              "      <td>39.834883</td>\n",
              "    </tr>\n",
              "    <tr>\n",
              "      <th>1</th>\n",
              "      <td>Medellín</td>\n",
              "      <td>22.953055</td>\n",
              "      <td>27.306155</td>\n",
              "      <td>24.724031</td>\n",
              "      <td>23.063683</td>\n",
              "    </tr>\n",
              "    <tr>\n",
              "      <th>2</th>\n",
              "      <td>Cali</td>\n",
              "      <td>11.725232</td>\n",
              "      <td>9.917183</td>\n",
              "      <td>11.961092</td>\n",
              "      <td>15.884439</td>\n",
              "    </tr>\n",
              "    <tr>\n",
              "      <th>3</th>\n",
              "      <td>Pereira</td>\n",
              "      <td>4.734751</td>\n",
              "      <td>5.251240</td>\n",
              "      <td>4.896785</td>\n",
              "      <td>7.302756</td>\n",
              "    </tr>\n",
              "    <tr>\n",
              "      <th>4</th>\n",
              "      <td>Barranquilla</td>\n",
              "      <td>3.638096</td>\n",
              "      <td>2.921390</td>\n",
              "      <td>2.471172</td>\n",
              "      <td>2.842213</td>\n",
              "    </tr>\n",
              "    <tr>\n",
              "      <th>5</th>\n",
              "      <td>Cúcuta</td>\n",
              "      <td>2.717324</td>\n",
              "      <td>1.841840</td>\n",
              "      <td>2.143250</td>\n",
              "      <td>2.644034</td>\n",
              "    </tr>\n",
              "    <tr>\n",
              "      <th>6</th>\n",
              "      <td>Riohacha</td>\n",
              "      <td>2.016199</td>\n",
              "      <td>1.440228</td>\n",
              "      <td>1.565203</td>\n",
              "      <td>1.786670</td>\n",
              "    </tr>\n",
              "    <tr>\n",
              "      <th>7</th>\n",
              "      <td>Santa Marta</td>\n",
              "      <td>0.840587</td>\n",
              "      <td>0.915839</td>\n",
              "      <td>1.781467</td>\n",
              "      <td>1.653892</td>\n",
              "    </tr>\n",
              "    <tr>\n",
              "      <th>8</th>\n",
              "      <td>Leticia</td>\n",
              "      <td>1.845196</td>\n",
              "      <td>1.519692</td>\n",
              "      <td>1.179395</td>\n",
              "      <td>1.635805</td>\n",
              "    </tr>\n",
              "    <tr>\n",
              "      <th>9</th>\n",
              "      <td>Bucaramanga</td>\n",
              "      <td>1.758888</td>\n",
              "      <td>2.202355</td>\n",
              "      <td>2.309165</td>\n",
              "      <td>1.589786</td>\n",
              "    </tr>\n",
              "    <tr>\n",
              "      <th>10</th>\n",
              "      <td>Cartagena</td>\n",
              "      <td>1.838183</td>\n",
              "      <td>2.530370</td>\n",
              "      <td>3.008522</td>\n",
              "      <td>0.552808</td>\n",
              "    </tr>\n",
              "    <tr>\n",
              "      <th>11</th>\n",
              "      <td>Pasto</td>\n",
              "      <td>1.390190</td>\n",
              "      <td>0.954392</td>\n",
              "      <td>1.157551</td>\n",
              "      <td>0.451504</td>\n",
              "    </tr>\n",
              "    <tr>\n",
              "      <th>12</th>\n",
              "      <td>Soacha</td>\n",
              "      <td>0.095526</td>\n",
              "      <td>0.295218</td>\n",
              "      <td>0.450840</td>\n",
              "      <td>0.271754</td>\n",
              "    </tr>\n",
              "    <tr>\n",
              "      <th>13</th>\n",
              "      <td>Inírida</td>\n",
              "      <td>0.101169</td>\n",
              "      <td>0.129964</td>\n",
              "      <td>0.316550</td>\n",
              "      <td>0.219604</td>\n",
              "    </tr>\n",
              "    <tr>\n",
              "      <th>14</th>\n",
              "      <td>Neiva</td>\n",
              "      <td>0.698464</td>\n",
              "      <td>0.381571</td>\n",
              "      <td>0.441131</td>\n",
              "      <td>0.077664</td>\n",
              "    </tr>\n",
              "    <tr>\n",
              "      <th>15</th>\n",
              "      <td>Valledupar</td>\n",
              "      <td>0.163809</td>\n",
              "      <td>0.127354</td>\n",
              "      <td>0.123674</td>\n",
              "      <td>0.076880</td>\n",
              "    </tr>\n",
              "    <tr>\n",
              "      <th>16</th>\n",
              "      <td>Armenia</td>\n",
              "      <td>0.401127</td>\n",
              "      <td>0.386711</td>\n",
              "      <td>0.085946</td>\n",
              "      <td>0.072384</td>\n",
              "    </tr>\n",
              "    <tr>\n",
              "      <th>17</th>\n",
              "      <td>Villavicencio</td>\n",
              "      <td>0.259508</td>\n",
              "      <td>0.197561</td>\n",
              "      <td>0.519644</td>\n",
              "      <td>0.039241</td>\n",
              "    </tr>\n",
              "    <tr>\n",
              "      <th>18</th>\n",
              "      <td>Manizales</td>\n",
              "      <td>0.271921</td>\n",
              "      <td>0.640069</td>\n",
              "      <td>0.498197</td>\n",
              "      <td>0.000000</td>\n",
              "    </tr>\n",
              "  </tbody>\n",
              "</table>\n",
              "</div>"
            ],
            "text/plain": [
              "año Lugar de Compra  P_ganancias 2020  P_ganancias 2021  P_ganancias 2022  \\\n",
              "0            Bogotá         42.550774         41.040869         40.366384   \n",
              "1          Medellín         22.953055         27.306155         24.724031   \n",
              "2              Cali         11.725232          9.917183         11.961092   \n",
              "3           Pereira          4.734751          5.251240          4.896785   \n",
              "4      Barranquilla          3.638096          2.921390          2.471172   \n",
              "5            Cúcuta          2.717324          1.841840          2.143250   \n",
              "6          Riohacha          2.016199          1.440228          1.565203   \n",
              "7       Santa Marta          0.840587          0.915839          1.781467   \n",
              "8           Leticia          1.845196          1.519692          1.179395   \n",
              "9       Bucaramanga          1.758888          2.202355          2.309165   \n",
              "10        Cartagena          1.838183          2.530370          3.008522   \n",
              "11            Pasto          1.390190          0.954392          1.157551   \n",
              "12           Soacha          0.095526          0.295218          0.450840   \n",
              "13          Inírida          0.101169          0.129964          0.316550   \n",
              "14            Neiva          0.698464          0.381571          0.441131   \n",
              "15       Valledupar          0.163809          0.127354          0.123674   \n",
              "16          Armenia          0.401127          0.386711          0.085946   \n",
              "17    Villavicencio          0.259508          0.197561          0.519644   \n",
              "18        Manizales          0.271921          0.640069          0.498197   \n",
              "\n",
              "año  P_ganancias 2023  \n",
              "0           39.834883  \n",
              "1           23.063683  \n",
              "2           15.884439  \n",
              "3            7.302756  \n",
              "4            2.842213  \n",
              "5            2.644034  \n",
              "6            1.786670  \n",
              "7            1.653892  \n",
              "8            1.635805  \n",
              "9            1.589786  \n",
              "10           0.552808  \n",
              "11           0.451504  \n",
              "12           0.271754  \n",
              "13           0.219604  \n",
              "14           0.077664  \n",
              "15           0.076880  \n",
              "16           0.072384  \n",
              "17           0.039241  \n",
              "18           0.000000  "
            ]
          },
          "execution_count": 14,
          "metadata": {},
          "output_type": "execute_result"
        }
      ],
      "source": [
        "df_full[[\"Lugar de Compra\",\"P_ganancias 2020\", \"P_ganancias 2021\", \"P_ganancias 2022\", \"P_ganancias 2023\"]]"
      ]
    },
    {
      "cell_type": "code",
      "execution_count": 15,
      "metadata": {},
      "outputs": [
        {
          "name": "stdout",
          "output_type": "stream",
          "text": [
            "<class 'pandas.core.frame.DataFrame'>\n",
            "RangeIndex: 19 entries, 0 to 18\n",
            "Data columns (total 21 columns):\n",
            " #   Column                Non-Null Count  Dtype  \n",
            "---  ------                --------------  -----  \n",
            " 0   index                 19 non-null     int64  \n",
            " 1   Lugar de Compra       19 non-null     object \n",
            " 2   Ganancias 2020        19 non-null     float64\n",
            " 3   Ganancias 2021        19 non-null     float64\n",
            " 4   Ganancias 2022        19 non-null     float64\n",
            " 5   Ganancias 2023        19 non-null     float64\n",
            " 6   ganancias_totales     19 non-null     object \n",
            " 7   var_ganancias 2021    19 non-null     float64\n",
            " 8   var_ganancias 2022    19 non-null     float64\n",
            " 9   var_ganancias 2023    19 non-null     float64\n",
            " 10  promedio_variaciones  19 non-null     float64\n",
            " 11  Calificacion 2020     19 non-null     float64\n",
            " 12  Calificacion 2021     19 non-null     float64\n",
            " 13  Calificacion 2022     19 non-null     float64\n",
            " 14  Calificacion 2023     19 non-null     float64\n",
            " 15  calificacion_total    19 non-null     float64\n",
            " 16  P_ganancias 2020      19 non-null     float64\n",
            " 17  P_ganancias 2021      19 non-null     float64\n",
            " 18  P_ganancias 2022      19 non-null     float64\n",
            " 19  P_ganancias 2023      19 non-null     float64\n",
            " 20  ganancia acum 2023    19 non-null     float64\n",
            "dtypes: float64(18), int64(1), object(2)\n",
            "memory usage: 3.2+ KB\n"
          ]
        }
      ],
      "source": [
        "# Ordenar el DataFrame por \"Ganancias 2023\" de mayor a menor\n",
        "df_full = df_full.sort_values(\"P_ganancias 2023\", ascending=False)\n",
        "\n",
        "# Calcular la ganancia acumulada para el año 2023\n",
        "df_full[\"ganancia acum 2023\"] = df_full[\"P_ganancias 2023\"].cumsum()\n",
        "\n",
        "df_full.info()"
      ]
    },
    {
      "cell_type": "code",
      "execution_count": 16,
      "metadata": {},
      "outputs": [
        {
          "data": {
            "text/html": [
              "<div>\n",
              "<style scoped>\n",
              "    .dataframe tbody tr th:only-of-type {\n",
              "        vertical-align: middle;\n",
              "    }\n",
              "\n",
              "    .dataframe tbody tr th {\n",
              "        vertical-align: top;\n",
              "    }\n",
              "\n",
              "    .dataframe thead th {\n",
              "        text-align: right;\n",
              "    }\n",
              "</style>\n",
              "<table border=\"1\" class=\"dataframe\">\n",
              "  <thead>\n",
              "    <tr style=\"text-align: right;\">\n",
              "      <th>año</th>\n",
              "      <th>Lugar de Compra</th>\n",
              "      <th>ganancia acum 2023</th>\n",
              "      <th>Ganancias 2023</th>\n",
              "      <th>P_ganancias 2023</th>\n",
              "      <th>Calificacion 2020</th>\n",
              "      <th>Calificacion 2021</th>\n",
              "      <th>Calificacion 2022</th>\n",
              "      <th>Calificacion 2023</th>\n",
              "      <th>var_ganancias 2021</th>\n",
              "      <th>var_ganancias 2022</th>\n",
              "      <th>var_ganancias 2023</th>\n",
              "    </tr>\n",
              "  </thead>\n",
              "  <tbody>\n",
              "    <tr>\n",
              "      <th>0</th>\n",
              "      <td>Bogotá</td>\n",
              "      <td>39.834883</td>\n",
              "      <td>116944900.0</td>\n",
              "      <td>39.834883</td>\n",
              "      <td>4.123762</td>\n",
              "      <td>4.077607</td>\n",
              "      <td>4.136439</td>\n",
              "      <td>4.130137</td>\n",
              "      <td>2.36</td>\n",
              "      <td>-6.17</td>\n",
              "      <td>-78.37</td>\n",
              "    </tr>\n",
              "    <tr>\n",
              "      <th>1</th>\n",
              "      <td>Medellín</td>\n",
              "      <td>62.898566</td>\n",
              "      <td>67709000.0</td>\n",
              "      <td>23.063683</td>\n",
              "      <td>3.930636</td>\n",
              "      <td>3.885827</td>\n",
              "      <td>3.954942</td>\n",
              "      <td>3.976744</td>\n",
              "      <td>26.25</td>\n",
              "      <td>6.54</td>\n",
              "      <td>-76.78</td>\n",
              "    </tr>\n",
              "    <tr>\n",
              "      <th>2</th>\n",
              "      <td>Cali</td>\n",
              "      <td>78.783006</td>\n",
              "      <td>46632600.0</td>\n",
              "      <td>15.884439</td>\n",
              "      <td>4.126667</td>\n",
              "      <td>3.923588</td>\n",
              "      <td>4.057325</td>\n",
              "      <td>4.152174</td>\n",
              "      <td>-10.24</td>\n",
              "      <td>0.90</td>\n",
              "      <td>-68.70</td>\n",
              "    </tr>\n",
              "    <tr>\n",
              "      <th>3</th>\n",
              "      <td>Pereira</td>\n",
              "      <td>86.085762</td>\n",
              "      <td>21439000.0</td>\n",
              "      <td>7.302756</td>\n",
              "      <td>4.068493</td>\n",
              "      <td>3.943038</td>\n",
              "      <td>4.061350</td>\n",
              "      <td>3.920000</td>\n",
              "      <td>17.70</td>\n",
              "      <td>2.30</td>\n",
              "      <td>-64.36</td>\n",
              "    </tr>\n",
              "    <tr>\n",
              "      <th>4</th>\n",
              "      <td>Barranquilla</td>\n",
              "      <td>88.927974</td>\n",
              "      <td>8344000.0</td>\n",
              "      <td>2.842213</td>\n",
              "      <td>3.828283</td>\n",
              "      <td>3.841584</td>\n",
              "      <td>3.741176</td>\n",
              "      <td>3.760000</td>\n",
              "      <td>-14.78</td>\n",
              "      <td>-32.81</td>\n",
              "      <td>-81.95</td>\n",
              "    </tr>\n",
              "    <tr>\n",
              "      <th>5</th>\n",
              "      <td>Cúcuta</td>\n",
              "      <td>91.572009</td>\n",
              "      <td>7762200.0</td>\n",
              "      <td>2.644034</td>\n",
              "      <td>3.983871</td>\n",
              "      <td>3.903226</td>\n",
              "      <td>4.140000</td>\n",
              "      <td>3.083333</td>\n",
              "      <td>-28.07</td>\n",
              "      <td>-21.99</td>\n",
              "      <td>-77.52</td>\n",
              "    </tr>\n",
              "    <tr>\n",
              "      <th>6</th>\n",
              "      <td>Riohacha</td>\n",
              "      <td>93.358678</td>\n",
              "      <td>5245200.0</td>\n",
              "      <td>1.786670</td>\n",
              "      <td>3.964286</td>\n",
              "      <td>3.666667</td>\n",
              "      <td>4.000000</td>\n",
              "      <td>4.083333</td>\n",
              "      <td>-24.19</td>\n",
              "      <td>-23.21</td>\n",
              "      <td>-79.52</td>\n",
              "    </tr>\n",
              "    <tr>\n",
              "      <th>7</th>\n",
              "      <td>Santa Marta</td>\n",
              "      <td>95.012571</td>\n",
              "      <td>4855400.0</td>\n",
              "      <td>1.653892</td>\n",
              "      <td>3.500000</td>\n",
              "      <td>3.363636</td>\n",
              "      <td>3.788462</td>\n",
              "      <td>3.866667</td>\n",
              "      <td>15.63</td>\n",
              "      <td>109.62</td>\n",
              "      <td>-54.53</td>\n",
              "    </tr>\n",
              "    <tr>\n",
              "      <th>8</th>\n",
              "      <td>Leticia</td>\n",
              "      <td>96.648376</td>\n",
              "      <td>4802300.0</td>\n",
              "      <td>1.635805</td>\n",
              "      <td>3.977273</td>\n",
              "      <td>3.625000</td>\n",
              "      <td>4.282051</td>\n",
              "      <td>3.727273</td>\n",
              "      <td>-12.59</td>\n",
              "      <td>-36.78</td>\n",
              "      <td>-79.51</td>\n",
              "    </tr>\n",
              "    <tr>\n",
              "      <th>9</th>\n",
              "      <td>Bucaramanga</td>\n",
              "      <td>98.238162</td>\n",
              "      <td>4667200.0</td>\n",
              "      <td>1.589786</td>\n",
              "      <td>4.060000</td>\n",
              "      <td>3.962264</td>\n",
              "      <td>3.903226</td>\n",
              "      <td>4.062500</td>\n",
              "      <td>32.89</td>\n",
              "      <td>29.86</td>\n",
              "      <td>-79.11</td>\n",
              "    </tr>\n",
              "    <tr>\n",
              "      <th>10</th>\n",
              "      <td>Cartagena</td>\n",
              "      <td>98.790970</td>\n",
              "      <td>1622900.0</td>\n",
              "      <td>0.552808</td>\n",
              "      <td>3.726027</td>\n",
              "      <td>3.958904</td>\n",
              "      <td>4.329545</td>\n",
              "      <td>3.875000</td>\n",
              "      <td>46.09</td>\n",
              "      <td>61.89</td>\n",
              "      <td>-93.05</td>\n",
              "    </tr>\n",
              "    <tr>\n",
              "      <th>11</th>\n",
              "      <td>Pasto</td>\n",
              "      <td>99.242474</td>\n",
              "      <td>1325500.0</td>\n",
              "      <td>0.451504</td>\n",
              "      <td>3.766667</td>\n",
              "      <td>4.533333</td>\n",
              "      <td>4.333333</td>\n",
              "      <td>3.428571</td>\n",
              "      <td>-27.14</td>\n",
              "      <td>-17.64</td>\n",
              "      <td>-92.50</td>\n",
              "    </tr>\n",
              "    <tr>\n",
              "      <th>12</th>\n",
              "      <td>Soacha</td>\n",
              "      <td>99.514228</td>\n",
              "      <td>797800.0</td>\n",
              "      <td>0.271754</td>\n",
              "      <td>4.250000</td>\n",
              "      <td>4.666667</td>\n",
              "      <td>3.125000</td>\n",
              "      <td>4.000000</td>\n",
              "      <td>227.98</td>\n",
              "      <td>366.82</td>\n",
              "      <td>-34.26</td>\n",
              "    </tr>\n",
              "    <tr>\n",
              "      <th>13</th>\n",
              "      <td>Inírida</td>\n",
              "      <td>99.733832</td>\n",
              "      <td>644700.0</td>\n",
              "      <td>0.219604</td>\n",
              "      <td>4.750000</td>\n",
              "      <td>2.666667</td>\n",
              "      <td>4.000000</td>\n",
              "      <td>4.000000</td>\n",
              "      <td>36.33</td>\n",
              "      <td>209.48</td>\n",
              "      <td>-49.84</td>\n",
              "    </tr>\n",
              "    <tr>\n",
              "      <th>14</th>\n",
              "      <td>Neiva</td>\n",
              "      <td>99.811496</td>\n",
              "      <td>228000.0</td>\n",
              "      <td>0.077664</td>\n",
              "      <td>4.000000</td>\n",
              "      <td>4.000000</td>\n",
              "      <td>3.000000</td>\n",
              "      <td>5.000000</td>\n",
              "      <td>-42.02</td>\n",
              "      <td>-37.53</td>\n",
              "      <td>-97.43</td>\n",
              "    </tr>\n",
              "    <tr>\n",
              "      <th>15</th>\n",
              "      <td>Valledupar</td>\n",
              "      <td>99.888376</td>\n",
              "      <td>225700.0</td>\n",
              "      <td>0.076880</td>\n",
              "      <td>4.400000</td>\n",
              "      <td>3.250000</td>\n",
              "      <td>4.250000</td>\n",
              "      <td>5.000000</td>\n",
              "      <td>-17.49</td>\n",
              "      <td>-25.32</td>\n",
              "      <td>-89.15</td>\n",
              "    </tr>\n",
              "    <tr>\n",
              "      <th>16</th>\n",
              "      <td>Armenia</td>\n",
              "      <td>99.960759</td>\n",
              "      <td>212500.0</td>\n",
              "      <td>0.072384</td>\n",
              "      <td>3.111111</td>\n",
              "      <td>3.250000</td>\n",
              "      <td>4.000000</td>\n",
              "      <td>5.000000</td>\n",
              "      <td>2.31</td>\n",
              "      <td>-78.81</td>\n",
              "      <td>-95.83</td>\n",
              "    </tr>\n",
              "    <tr>\n",
              "      <th>17</th>\n",
              "      <td>Villavicencio</td>\n",
              "      <td>100.000000</td>\n",
              "      <td>115200.0</td>\n",
              "      <td>0.039241</td>\n",
              "      <td>3.750000</td>\n",
              "      <td>4.000000</td>\n",
              "      <td>3.692308</td>\n",
              "      <td>5.000000</td>\n",
              "      <td>-19.21</td>\n",
              "      <td>98.06</td>\n",
              "      <td>-96.51</td>\n",
              "    </tr>\n",
              "    <tr>\n",
              "      <th>18</th>\n",
              "      <td>Manizales</td>\n",
              "      <td>100.000000</td>\n",
              "      <td>0.0</td>\n",
              "      <td>0.000000</td>\n",
              "      <td>4.166667</td>\n",
              "      <td>3.733333</td>\n",
              "      <td>3.071429</td>\n",
              "      <td>0.000000</td>\n",
              "      <td>149.81</td>\n",
              "      <td>81.22</td>\n",
              "      <td>-100.00</td>\n",
              "    </tr>\n",
              "  </tbody>\n",
              "</table>\n",
              "</div>"
            ],
            "text/plain": [
              "año Lugar de Compra  ganancia acum 2023  Ganancias 2023  P_ganancias 2023  \\\n",
              "0            Bogotá           39.834883     116944900.0         39.834883   \n",
              "1          Medellín           62.898566      67709000.0         23.063683   \n",
              "2              Cali           78.783006      46632600.0         15.884439   \n",
              "3           Pereira           86.085762      21439000.0          7.302756   \n",
              "4      Barranquilla           88.927974       8344000.0          2.842213   \n",
              "5            Cúcuta           91.572009       7762200.0          2.644034   \n",
              "6          Riohacha           93.358678       5245200.0          1.786670   \n",
              "7       Santa Marta           95.012571       4855400.0          1.653892   \n",
              "8           Leticia           96.648376       4802300.0          1.635805   \n",
              "9       Bucaramanga           98.238162       4667200.0          1.589786   \n",
              "10        Cartagena           98.790970       1622900.0          0.552808   \n",
              "11            Pasto           99.242474       1325500.0          0.451504   \n",
              "12           Soacha           99.514228        797800.0          0.271754   \n",
              "13          Inírida           99.733832        644700.0          0.219604   \n",
              "14            Neiva           99.811496        228000.0          0.077664   \n",
              "15       Valledupar           99.888376        225700.0          0.076880   \n",
              "16          Armenia           99.960759        212500.0          0.072384   \n",
              "17    Villavicencio          100.000000        115200.0          0.039241   \n",
              "18        Manizales          100.000000             0.0          0.000000   \n",
              "\n",
              "año  Calificacion 2020  Calificacion 2021  Calificacion 2022  \\\n",
              "0             4.123762           4.077607           4.136439   \n",
              "1             3.930636           3.885827           3.954942   \n",
              "2             4.126667           3.923588           4.057325   \n",
              "3             4.068493           3.943038           4.061350   \n",
              "4             3.828283           3.841584           3.741176   \n",
              "5             3.983871           3.903226           4.140000   \n",
              "6             3.964286           3.666667           4.000000   \n",
              "7             3.500000           3.363636           3.788462   \n",
              "8             3.977273           3.625000           4.282051   \n",
              "9             4.060000           3.962264           3.903226   \n",
              "10            3.726027           3.958904           4.329545   \n",
              "11            3.766667           4.533333           4.333333   \n",
              "12            4.250000           4.666667           3.125000   \n",
              "13            4.750000           2.666667           4.000000   \n",
              "14            4.000000           4.000000           3.000000   \n",
              "15            4.400000           3.250000           4.250000   \n",
              "16            3.111111           3.250000           4.000000   \n",
              "17            3.750000           4.000000           3.692308   \n",
              "18            4.166667           3.733333           3.071429   \n",
              "\n",
              "año  Calificacion 2023  var_ganancias 2021  var_ganancias 2022  \\\n",
              "0             4.130137                2.36               -6.17   \n",
              "1             3.976744               26.25                6.54   \n",
              "2             4.152174              -10.24                0.90   \n",
              "3             3.920000               17.70                2.30   \n",
              "4             3.760000              -14.78              -32.81   \n",
              "5             3.083333              -28.07              -21.99   \n",
              "6             4.083333              -24.19              -23.21   \n",
              "7             3.866667               15.63              109.62   \n",
              "8             3.727273              -12.59              -36.78   \n",
              "9             4.062500               32.89               29.86   \n",
              "10            3.875000               46.09               61.89   \n",
              "11            3.428571              -27.14              -17.64   \n",
              "12            4.000000              227.98              366.82   \n",
              "13            4.000000               36.33              209.48   \n",
              "14            5.000000              -42.02              -37.53   \n",
              "15            5.000000              -17.49              -25.32   \n",
              "16            5.000000                2.31              -78.81   \n",
              "17            5.000000              -19.21               98.06   \n",
              "18            0.000000              149.81               81.22   \n",
              "\n",
              "año  var_ganancias 2023  \n",
              "0                -78.37  \n",
              "1                -76.78  \n",
              "2                -68.70  \n",
              "3                -64.36  \n",
              "4                -81.95  \n",
              "5                -77.52  \n",
              "6                -79.52  \n",
              "7                -54.53  \n",
              "8                -79.51  \n",
              "9                -79.11  \n",
              "10               -93.05  \n",
              "11               -92.50  \n",
              "12               -34.26  \n",
              "13               -49.84  \n",
              "14               -97.43  \n",
              "15               -89.15  \n",
              "16               -95.83  \n",
              "17               -96.51  \n",
              "18              -100.00  "
            ]
          },
          "execution_count": 16,
          "metadata": {},
          "output_type": "execute_result"
        }
      ],
      "source": [
        "df_full[[\"Lugar de Compra\", \"ganancia acum 2023\",\"Ganancias 2023\", \"P_ganancias 2023\", \"Calificacion 2020\", \"Calificacion 2021\", \"Calificacion 2022\", \"Calificacion 2023\", \"var_ganancias 2021\", \"var_ganancias 2022\", \"var_ganancias 2023\",]] # Se muestran las primeras 10 filas del dataframe con las columnas seleccionadas"
      ]
    },
    {
      "cell_type": "markdown",
      "metadata": {},
      "source": [
        "Las sucursales que generan el 90% de las ganancias son Bogotá, Medellín, Cali, Pereira, Barranquilla y Cúcuta (alrrededor del 91% de las ganancias totales). Los productos mas vendidos corresponden a electronicos y muebles."
      ]
    },
    {
      "cell_type": "code",
      "execution_count": 17,
      "metadata": {},
      "outputs": [
        {
          "name": "stdout",
          "output_type": "stream",
          "text": [
            "Ganancias totales 2020: 1,270,444,800\n",
            "Ganancias totales 2023: 293,574,100\n",
            "Porcentaje de variacion total:-76.89202238460105 \n"
          ]
        }
      ],
      "source": [
        "print(f\"Ganancias totales 2020: {df_full[\"Ganancias 2020\"].sum():,.0f}\\nGanancias totales 2023: {df_full[\"Ganancias 2023\"].sum():,.0f}\\nPorcentaje de variacion total:{((df_full[\"Ganancias 2023\"].sum()-df_full[\"Ganancias 2020\"].sum())/df_full[\"Ganancias 2020\"].sum())*100} \")"
      ]
    },
    {
      "cell_type": "code",
      "execution_count": 18,
      "metadata": {},
      "outputs": [
        {
          "data": {
            "text/html": [
              "<div>\n",
              "<style scoped>\n",
              "    .dataframe tbody tr th:only-of-type {\n",
              "        vertical-align: middle;\n",
              "    }\n",
              "\n",
              "    .dataframe tbody tr th {\n",
              "        vertical-align: top;\n",
              "    }\n",
              "\n",
              "    .dataframe thead th {\n",
              "        text-align: right;\n",
              "    }\n",
              "</style>\n",
              "<table border=\"1\" class=\"dataframe\">\n",
              "  <thead>\n",
              "    <tr style=\"text-align: right;\">\n",
              "      <th>año</th>\n",
              "      <th>2020</th>\n",
              "      <th>2021</th>\n",
              "      <th>2022</th>\n",
              "      <th>2023</th>\n",
              "    </tr>\n",
              "    <tr>\n",
              "      <th>Lugar de Compra</th>\n",
              "      <th></th>\n",
              "      <th></th>\n",
              "      <th></th>\n",
              "      <th></th>\n",
              "    </tr>\n",
              "  </thead>\n",
              "  <tbody>\n",
              "    <tr>\n",
              "      <th>Armenia</th>\n",
              "      <td>5382100.0</td>\n",
              "      <td>5500300.0</td>\n",
              "      <td>1135400.0</td>\n",
              "      <td>225100.0</td>\n",
              "    </tr>\n",
              "    <tr>\n",
              "      <th>Barranquilla</th>\n",
              "      <td>48804300.0</td>\n",
              "      <td>41620300.0</td>\n",
              "      <td>32795400.0</td>\n",
              "      <td>8820500.0</td>\n",
              "    </tr>\n",
              "    <tr>\n",
              "      <th>Bogotá</th>\n",
              "      <td>570984200.0</td>\n",
              "      <td>584437600.0</td>\n",
              "      <td>535839900.0</td>\n",
              "      <td>123596600.0</td>\n",
              "    </tr>\n",
              "    <tr>\n",
              "      <th>Bucaramanga</th>\n",
              "      <td>23624700.0</td>\n",
              "      <td>31366600.0</td>\n",
              "      <td>30656300.0</td>\n",
              "      <td>4925700.0</td>\n",
              "    </tr>\n",
              "    <tr>\n",
              "      <th>Cali</th>\n",
              "      <td>157377000.0</td>\n",
              "      <td>141193300.0</td>\n",
              "      <td>158714600.0</td>\n",
              "      <td>49241200.0</td>\n",
              "    </tr>\n",
              "    <tr>\n",
              "      <th>Cartagena</th>\n",
              "      <td>24662000.0</td>\n",
              "      <td>36051700.0</td>\n",
              "      <td>39951200.0</td>\n",
              "      <td>1711800.0</td>\n",
              "    </tr>\n",
              "    <tr>\n",
              "      <th>Cúcuta</th>\n",
              "      <td>36472600.0</td>\n",
              "      <td>26230800.0</td>\n",
              "      <td>28431500.0</td>\n",
              "      <td>8234200.0</td>\n",
              "    </tr>\n",
              "    <tr>\n",
              "      <th>Inírida</th>\n",
              "      <td>1354700.0</td>\n",
              "      <td>1856300.0</td>\n",
              "      <td>4197900.0</td>\n",
              "      <td>679000.0</td>\n",
              "    </tr>\n",
              "    <tr>\n",
              "      <th>Leticia</th>\n",
              "      <td>24758400.0</td>\n",
              "      <td>21665800.0</td>\n",
              "      <td>15653200.0</td>\n",
              "      <td>5072500.0</td>\n",
              "    </tr>\n",
              "    <tr>\n",
              "      <th>Manizales</th>\n",
              "      <td>3647500.0</td>\n",
              "      <td>9114000.0</td>\n",
              "      <td>6606400.0</td>\n",
              "      <td>0.0</td>\n",
              "    </tr>\n",
              "    <tr>\n",
              "      <th>Medellín</th>\n",
              "      <td>308032200.0</td>\n",
              "      <td>388914500.0</td>\n",
              "      <td>328261800.0</td>\n",
              "      <td>71460700.0</td>\n",
              "    </tr>\n",
              "    <tr>\n",
              "      <th>Neiva</th>\n",
              "      <td>9365200.0</td>\n",
              "      <td>5426200.0</td>\n",
              "      <td>5867700.0</td>\n",
              "      <td>238900.0</td>\n",
              "    </tr>\n",
              "    <tr>\n",
              "      <th>Pasto</th>\n",
              "      <td>18667200.0</td>\n",
              "      <td>13590700.0</td>\n",
              "      <td>15353900.0</td>\n",
              "      <td>1402500.0</td>\n",
              "    </tr>\n",
              "    <tr>\n",
              "      <th>Pereira</th>\n",
              "      <td>63523100.0</td>\n",
              "      <td>74769700.0</td>\n",
              "      <td>65015000.0</td>\n",
              "      <td>22619500.0</td>\n",
              "    </tr>\n",
              "    <tr>\n",
              "      <th>Riohacha</th>\n",
              "      <td>27053600.0</td>\n",
              "      <td>20490800.0</td>\n",
              "      <td>20793800.0</td>\n",
              "      <td>5541500.0</td>\n",
              "    </tr>\n",
              "    <tr>\n",
              "      <th>Santa Marta</th>\n",
              "      <td>11285300.0</td>\n",
              "      <td>13053700.0</td>\n",
              "      <td>23637300.0</td>\n",
              "      <td>5124200.0</td>\n",
              "    </tr>\n",
              "    <tr>\n",
              "      <th>Soacha</th>\n",
              "      <td>1279100.0</td>\n",
              "      <td>4211800.0</td>\n",
              "      <td>5983700.0</td>\n",
              "      <td>843100.0</td>\n",
              "    </tr>\n",
              "    <tr>\n",
              "      <th>Valledupar</th>\n",
              "      <td>2199100.0</td>\n",
              "      <td>1807800.0</td>\n",
              "      <td>1640800.0</td>\n",
              "      <td>238600.0</td>\n",
              "    </tr>\n",
              "    <tr>\n",
              "      <th>Villavicencio</th>\n",
              "      <td>3482700.0</td>\n",
              "      <td>2812400.0</td>\n",
              "      <td>6916100.0</td>\n",
              "      <td>122400.0</td>\n",
              "    </tr>\n",
              "  </tbody>\n",
              "</table>\n",
              "</div>"
            ],
            "text/plain": [
              "año                     2020         2021         2022         2023\n",
              "Lugar de Compra                                                    \n",
              "Armenia            5382100.0    5500300.0    1135400.0     225100.0\n",
              "Barranquilla      48804300.0   41620300.0   32795400.0    8820500.0\n",
              "Bogotá           570984200.0  584437600.0  535839900.0  123596600.0\n",
              "Bucaramanga       23624700.0   31366600.0   30656300.0    4925700.0\n",
              "Cali             157377000.0  141193300.0  158714600.0   49241200.0\n",
              "Cartagena         24662000.0   36051700.0   39951200.0    1711800.0\n",
              "Cúcuta            36472600.0   26230800.0   28431500.0    8234200.0\n",
              "Inírida            1354700.0    1856300.0    4197900.0     679000.0\n",
              "Leticia           24758400.0   21665800.0   15653200.0    5072500.0\n",
              "Manizales          3647500.0    9114000.0    6606400.0          0.0\n",
              "Medellín         308032200.0  388914500.0  328261800.0   71460700.0\n",
              "Neiva              9365200.0    5426200.0    5867700.0     238900.0\n",
              "Pasto             18667200.0   13590700.0   15353900.0    1402500.0\n",
              "Pereira           63523100.0   74769700.0   65015000.0   22619500.0\n",
              "Riohacha          27053600.0   20490800.0   20793800.0    5541500.0\n",
              "Santa Marta       11285300.0   13053700.0   23637300.0    5124200.0\n",
              "Soacha             1279100.0    4211800.0    5983700.0     843100.0\n",
              "Valledupar         2199100.0    1807800.0    1640800.0     238600.0\n",
              "Villavicencio      3482700.0    2812400.0    6916100.0     122400.0"
            ]
          },
          "execution_count": 18,
          "metadata": {},
          "output_type": "execute_result"
        }
      ],
      "source": [
        "numero_de_ventas_al_anio = db_tiendas.groupby([\"Lugar de Compra\",\"año\"]).agg({\n",
        "    \"año\": \"count\",\n",
        "})\n",
        "\n",
        "numero_de_ventas_al_anio = numero_de_ventas_al_anio.rename(columns={\"año\":\"Numero de ventas\"})\n",
        "numero_de_ventas_al_anio = numero_de_ventas_al_anio.reset_index() # Se reinicia el índice para que quede más ordenado\n",
        "pivot_numero_de_ventas_al_anio = numero_de_ventas_al_anio.pivot(index=\"Lugar de Compra\", columns=\"año\", values=\"Numero de ventas\").fillna(0) \n",
        "\n",
        "\n",
        "precio_promedio_al_anio = db_tiendas.groupby([\"Lugar de Compra\",\"año\"]).agg({\n",
        "    \"Precio\": \"sum\",\n",
        "})\n",
        "precio_promedio_al_anio = precio_promedio_al_anio.rename(columns={\"Precio\":\"Precio promedio\"})\n",
        "precio_promedio_al_anio = precio_promedio_al_anio.reset_index() # Se reinicia el índice para que quede más ordenado\n",
        "pivot_precio_promedio_al_anio = precio_promedio_al_anio.pivot(index=\"Lugar de Compra\", columns=\"año\", values=\"Precio promedio\").fillna(0)\n",
        "pivot_precio_promedio_al_anio\n",
        "\n"
      ]
    },
    {
      "cell_type": "code",
      "execution_count": 19,
      "metadata": {},
      "outputs": [],
      "source": [
        "# pivote = pivot_precio_promedio_al_anio.merge(pivot_numero_de_ventas_al_anio, on=\"Lugar de Compra\", how=\"inner\")\n",
        "\n",
        "# pivote[\"precio medio 2020\"] = pivote[\"2020_x\"] / pivote[\"2020_y\"]\n",
        "# pivote[\"precio medio 2021\"] = pivote[\"2021_x\"] / pivote[\"2021_y\"]\n",
        "# pivote[\"precio medio 2022\"] = pivote[\"2022_x\"] / pivote[\"2022_y\"]\n",
        "# pivote[\"precio medio 2023\"] = pivote[\"2023_x\"] / pivote[\"2023_y\"]\n",
        "\n",
        "# pivote_2 = pivote[[\"precio medio 2020\", \"precio medio 2021\", \"precio medio 2022\", \"precio medio 2023\"]].copy()\n",
        "# pivote_2"
      ]
    },
    {
      "cell_type": "markdown",
      "metadata": {
        "id": "DmNp1KPBZCm-"
      },
      "source": [
        "# 4. Productos más y menos vendidos"
      ]
    },
    {
      "cell_type": "markdown",
      "metadata": {},
      "source": [
        "### Cantidad de ventas por producto"
      ]
    },
    {
      "cell_type": "code",
      "execution_count": 20,
      "metadata": {
        "id": "qoyjqijQZHfF"
      },
      "outputs": [
        {
          "data": {
            "text/html": [
              "<div>\n",
              "<style scoped>\n",
              "    .dataframe tbody tr th:only-of-type {\n",
              "        vertical-align: middle;\n",
              "    }\n",
              "\n",
              "    .dataframe tbody tr th {\n",
              "        vertical-align: top;\n",
              "    }\n",
              "\n",
              "    .dataframe thead th {\n",
              "        text-align: right;\n",
              "    }\n",
              "</style>\n",
              "<table border=\"1\" class=\"dataframe\">\n",
              "  <thead>\n",
              "    <tr style=\"text-align: right;\">\n",
              "      <th></th>\n",
              "      <th>Lugar de Compra</th>\n",
              "      <th>Producto</th>\n",
              "      <th>año</th>\n",
              "      <th>Cantidad de Ventas</th>\n",
              "    </tr>\n",
              "  </thead>\n",
              "  <tbody>\n",
              "    <tr>\n",
              "      <th>0</th>\n",
              "      <td>Armenia</td>\n",
              "      <td>Asistente virtual</td>\n",
              "      <td>2023</td>\n",
              "      <td>1</td>\n",
              "    </tr>\n",
              "    <tr>\n",
              "      <th>1</th>\n",
              "      <td>Armenia</td>\n",
              "      <td>Batería</td>\n",
              "      <td>2021</td>\n",
              "      <td>1</td>\n",
              "    </tr>\n",
              "    <tr>\n",
              "      <th>2</th>\n",
              "      <td>Armenia</td>\n",
              "      <td>Bloques de construcción</td>\n",
              "      <td>2020</td>\n",
              "      <td>1</td>\n",
              "    </tr>\n",
              "    <tr>\n",
              "      <th>3</th>\n",
              "      <td>Armenia</td>\n",
              "      <td>Bloques de construcción</td>\n",
              "      <td>2021</td>\n",
              "      <td>2</td>\n",
              "    </tr>\n",
              "    <tr>\n",
              "      <th>4</th>\n",
              "      <td>Armenia</td>\n",
              "      <td>Bloques de construcción</td>\n",
              "      <td>2023</td>\n",
              "      <td>1</td>\n",
              "    </tr>\n",
              "    <tr>\n",
              "      <th>...</th>\n",
              "      <td>...</td>\n",
              "      <td>...</td>\n",
              "      <td>...</td>\n",
              "      <td>...</td>\n",
              "    </tr>\n",
              "    <tr>\n",
              "      <th>1833</th>\n",
              "      <td>Villavicencio</td>\n",
              "      <td>Smart TV</td>\n",
              "      <td>2020</td>\n",
              "      <td>1</td>\n",
              "    </tr>\n",
              "    <tr>\n",
              "      <th>1834</th>\n",
              "      <td>Villavicencio</td>\n",
              "      <td>Smartwatch</td>\n",
              "      <td>2021</td>\n",
              "      <td>1</td>\n",
              "    </tr>\n",
              "    <tr>\n",
              "      <th>1835</th>\n",
              "      <td>Villavicencio</td>\n",
              "      <td>Smartwatch</td>\n",
              "      <td>2023</td>\n",
              "      <td>1</td>\n",
              "    </tr>\n",
              "    <tr>\n",
              "      <th>1836</th>\n",
              "      <td>Villavicencio</td>\n",
              "      <td>Vaso térmico</td>\n",
              "      <td>2020</td>\n",
              "      <td>1</td>\n",
              "    </tr>\n",
              "    <tr>\n",
              "      <th>1837</th>\n",
              "      <td>Villavicencio</td>\n",
              "      <td>Vaso térmico</td>\n",
              "      <td>2022</td>\n",
              "      <td>1</td>\n",
              "    </tr>\n",
              "  </tbody>\n",
              "</table>\n",
              "<p>1838 rows × 4 columns</p>\n",
              "</div>"
            ],
            "text/plain": [
              "     Lugar de Compra                 Producto   año  Cantidad de Ventas\n",
              "0            Armenia        Asistente virtual  2023                   1\n",
              "1            Armenia                  Batería  2021                   1\n",
              "2            Armenia  Bloques de construcción  2020                   1\n",
              "3            Armenia  Bloques de construcción  2021                   2\n",
              "4            Armenia  Bloques de construcción  2023                   1\n",
              "...              ...                      ...   ...                 ...\n",
              "1833   Villavicencio                 Smart TV  2020                   1\n",
              "1834   Villavicencio               Smartwatch  2021                   1\n",
              "1835   Villavicencio               Smartwatch  2023                   1\n",
              "1836   Villavicencio             Vaso térmico  2020                   1\n",
              "1837   Villavicencio             Vaso térmico  2022                   1\n",
              "\n",
              "[1838 rows x 4 columns]"
            ]
          },
          "execution_count": 20,
          "metadata": {},
          "output_type": "execute_result"
        }
      ],
      "source": [
        "cant_ventas = db_tiendas.groupby([\"Lugar de Compra\",\"Producto\", \"año\"]).agg({\n",
        "    \"Producto\": \"count\"\n",
        "})\n",
        "cant_ventas = cant_ventas.rename(columns={\"Producto\": \"Cantidad de Ventas\"})\n",
        "\n",
        "cant_ventas = cant_ventas.reset_index()\n",
        "cant_ventas\n"
      ]
    },
    {
      "cell_type": "code",
      "execution_count": 21,
      "metadata": {
        "vscode": {
          "languageId": "ruby"
        }
      },
      "outputs": [
        {
          "data": {
            "text/html": [
              "<div>\n",
              "<style scoped>\n",
              "    .dataframe tbody tr th:only-of-type {\n",
              "        vertical-align: middle;\n",
              "    }\n",
              "\n",
              "    .dataframe tbody tr th {\n",
              "        vertical-align: top;\n",
              "    }\n",
              "\n",
              "    .dataframe thead th {\n",
              "        text-align: right;\n",
              "    }\n",
              "</style>\n",
              "<table border=\"1\" class=\"dataframe\">\n",
              "  <thead>\n",
              "    <tr style=\"text-align: right;\">\n",
              "      <th></th>\n",
              "      <th>Lugar de Compra</th>\n",
              "      <th>Producto</th>\n",
              "      <th>año</th>\n",
              "      <th>Cantidad de Ventas</th>\n",
              "    </tr>\n",
              "  </thead>\n",
              "  <tbody>\n",
              "    <tr>\n",
              "      <th>0</th>\n",
              "      <td>Armenia</td>\n",
              "      <td>Bloques de construcción</td>\n",
              "      <td>2021</td>\n",
              "      <td>2</td>\n",
              "    </tr>\n",
              "    <tr>\n",
              "      <th>1</th>\n",
              "      <td>Barranquilla</td>\n",
              "      <td>Ajedrez de madera</td>\n",
              "      <td>2021</td>\n",
              "      <td>6</td>\n",
              "    </tr>\n",
              "    <tr>\n",
              "      <th>2</th>\n",
              "      <td>Bogotá</td>\n",
              "      <td>Carrito de control remoto</td>\n",
              "      <td>2020</td>\n",
              "      <td>36</td>\n",
              "    </tr>\n",
              "    <tr>\n",
              "      <th>3</th>\n",
              "      <td>Bucaramanga</td>\n",
              "      <td>Juego de mesa</td>\n",
              "      <td>2022</td>\n",
              "      <td>6</td>\n",
              "    </tr>\n",
              "    <tr>\n",
              "      <th>4</th>\n",
              "      <td>Cali</td>\n",
              "      <td>Tablet ABXY</td>\n",
              "      <td>2021</td>\n",
              "      <td>14</td>\n",
              "    </tr>\n",
              "    <tr>\n",
              "      <th>5</th>\n",
              "      <td>Cartagena</td>\n",
              "      <td>Ajedrez de madera</td>\n",
              "      <td>2022</td>\n",
              "      <td>5</td>\n",
              "    </tr>\n",
              "    <tr>\n",
              "      <th>6</th>\n",
              "      <td>Cúcuta</td>\n",
              "      <td>Iphone 15</td>\n",
              "      <td>2020</td>\n",
              "      <td>5</td>\n",
              "    </tr>\n",
              "    <tr>\n",
              "      <th>7</th>\n",
              "      <td>Inírida</td>\n",
              "      <td>Bicicleta</td>\n",
              "      <td>2020</td>\n",
              "      <td>2</td>\n",
              "    </tr>\n",
              "    <tr>\n",
              "      <th>8</th>\n",
              "      <td>Leticia</td>\n",
              "      <td>Auriculares</td>\n",
              "      <td>2022</td>\n",
              "      <td>4</td>\n",
              "    </tr>\n",
              "    <tr>\n",
              "      <th>9</th>\n",
              "      <td>Manizales</td>\n",
              "      <td>Bicicleta</td>\n",
              "      <td>2021</td>\n",
              "      <td>2</td>\n",
              "    </tr>\n",
              "    <tr>\n",
              "      <th>10</th>\n",
              "      <td>Medellín</td>\n",
              "      <td>Iphone 15</td>\n",
              "      <td>2021</td>\n",
              "      <td>23</td>\n",
              "    </tr>\n",
              "    <tr>\n",
              "      <th>11</th>\n",
              "      <td>Neiva</td>\n",
              "      <td>Asistente virtual</td>\n",
              "      <td>2022</td>\n",
              "      <td>2</td>\n",
              "    </tr>\n",
              "    <tr>\n",
              "      <th>12</th>\n",
              "      <td>Pasto</td>\n",
              "      <td>Mesa de noche</td>\n",
              "      <td>2021</td>\n",
              "      <td>3</td>\n",
              "    </tr>\n",
              "    <tr>\n",
              "      <th>13</th>\n",
              "      <td>Pereira</td>\n",
              "      <td>Iniciando en programación</td>\n",
              "      <td>2022</td>\n",
              "      <td>11</td>\n",
              "    </tr>\n",
              "    <tr>\n",
              "      <th>14</th>\n",
              "      <td>Riohacha</td>\n",
              "      <td>Cama king</td>\n",
              "      <td>2020</td>\n",
              "      <td>4</td>\n",
              "    </tr>\n",
              "    <tr>\n",
              "      <th>15</th>\n",
              "      <td>Santa Marta</td>\n",
              "      <td>Auriculares</td>\n",
              "      <td>2021</td>\n",
              "      <td>4</td>\n",
              "    </tr>\n",
              "    <tr>\n",
              "      <th>16</th>\n",
              "      <td>Soacha</td>\n",
              "      <td>Asistente virtual</td>\n",
              "      <td>2020</td>\n",
              "      <td>2</td>\n",
              "    </tr>\n",
              "    <tr>\n",
              "      <th>17</th>\n",
              "      <td>Valledupar</td>\n",
              "      <td>Auriculares</td>\n",
              "      <td>2022</td>\n",
              "      <td>1</td>\n",
              "    </tr>\n",
              "    <tr>\n",
              "      <th>18</th>\n",
              "      <td>Villavicencio</td>\n",
              "      <td>Cama box</td>\n",
              "      <td>2021</td>\n",
              "      <td>3</td>\n",
              "    </tr>\n",
              "  </tbody>\n",
              "</table>\n",
              "</div>"
            ],
            "text/plain": [
              "   Lugar de Compra                   Producto   año  Cantidad de Ventas\n",
              "0          Armenia    Bloques de construcción  2021                   2\n",
              "1     Barranquilla          Ajedrez de madera  2021                   6\n",
              "2           Bogotá  Carrito de control remoto  2020                  36\n",
              "3      Bucaramanga              Juego de mesa  2022                   6\n",
              "4             Cali                Tablet ABXY  2021                  14\n",
              "5        Cartagena          Ajedrez de madera  2022                   5\n",
              "6           Cúcuta                  Iphone 15  2020                   5\n",
              "7          Inírida                  Bicicleta  2020                   2\n",
              "8          Leticia                Auriculares  2022                   4\n",
              "9        Manizales                  Bicicleta  2021                   2\n",
              "10        Medellín                  Iphone 15  2021                  23\n",
              "11           Neiva          Asistente virtual  2022                   2\n",
              "12           Pasto              Mesa de noche  2021                   3\n",
              "13         Pereira  Iniciando en programación  2022                  11\n",
              "14        Riohacha                  Cama king  2020                   4\n",
              "15     Santa Marta                Auriculares  2021                   4\n",
              "16          Soacha          Asistente virtual  2020                   2\n",
              "17      Valledupar                Auriculares  2022                   1\n",
              "18   Villavicencio                   Cama box  2021                   3"
            ]
          },
          "execution_count": 21,
          "metadata": {},
          "output_type": "execute_result"
        }
      ],
      "source": [
        "# DataFrame con el producto más vendido por lugar de compra\n",
        "producto_mas_vendido = cant_ventas.loc[cant_ventas.groupby(\"Lugar de Compra\")[\"Cantidad de Ventas\"].idxmax()].reset_index(drop=True)\n",
        "\n",
        "\n",
        "\n",
        "producto_mas_vendido"
      ]
    },
    {
      "cell_type": "code",
      "execution_count": 22,
      "metadata": {
        "id": "0Sw3sd4IZIGW"
      },
      "outputs": [
        {
          "data": {
            "text/html": [
              "<div>\n",
              "<style scoped>\n",
              "    .dataframe tbody tr th:only-of-type {\n",
              "        vertical-align: middle;\n",
              "    }\n",
              "\n",
              "    .dataframe tbody tr th {\n",
              "        vertical-align: top;\n",
              "    }\n",
              "\n",
              "    .dataframe thead th {\n",
              "        text-align: right;\n",
              "    }\n",
              "</style>\n",
              "<table border=\"1\" class=\"dataframe\">\n",
              "  <thead>\n",
              "    <tr style=\"text-align: right;\">\n",
              "      <th></th>\n",
              "      <th>Lugar de Compra</th>\n",
              "      <th>Producto</th>\n",
              "      <th>año</th>\n",
              "      <th>Cantidad de Ventas</th>\n",
              "    </tr>\n",
              "  </thead>\n",
              "  <tbody>\n",
              "    <tr>\n",
              "      <th>0</th>\n",
              "      <td>Armenia</td>\n",
              "      <td>Asistente virtual</td>\n",
              "      <td>2023</td>\n",
              "      <td>1</td>\n",
              "    </tr>\n",
              "    <tr>\n",
              "      <th>1</th>\n",
              "      <td>Barranquilla</td>\n",
              "      <td>Asistente virtual</td>\n",
              "      <td>2020</td>\n",
              "      <td>1</td>\n",
              "    </tr>\n",
              "    <tr>\n",
              "      <th>2</th>\n",
              "      <td>Bogotá</td>\n",
              "      <td>Dashboards con Power BI</td>\n",
              "      <td>2023</td>\n",
              "      <td>1</td>\n",
              "    </tr>\n",
              "    <tr>\n",
              "      <th>3</th>\n",
              "      <td>Bucaramanga</td>\n",
              "      <td>Ajedrez de madera</td>\n",
              "      <td>2021</td>\n",
              "      <td>1</td>\n",
              "    </tr>\n",
              "    <tr>\n",
              "      <th>4</th>\n",
              "      <td>Cali</td>\n",
              "      <td>Asistente virtual</td>\n",
              "      <td>2023</td>\n",
              "      <td>1</td>\n",
              "    </tr>\n",
              "    <tr>\n",
              "      <th>5</th>\n",
              "      <td>Cartagena</td>\n",
              "      <td>Ajedrez de madera</td>\n",
              "      <td>2020</td>\n",
              "      <td>1</td>\n",
              "    </tr>\n",
              "    <tr>\n",
              "      <th>6</th>\n",
              "      <td>Cúcuta</td>\n",
              "      <td>Ajedrez de madera</td>\n",
              "      <td>2022</td>\n",
              "      <td>1</td>\n",
              "    </tr>\n",
              "    <tr>\n",
              "      <th>7</th>\n",
              "      <td>Inírida</td>\n",
              "      <td>Auriculares con micrófono</td>\n",
              "      <td>2020</td>\n",
              "      <td>1</td>\n",
              "    </tr>\n",
              "    <tr>\n",
              "      <th>8</th>\n",
              "      <td>Leticia</td>\n",
              "      <td>Armario</td>\n",
              "      <td>2021</td>\n",
              "      <td>1</td>\n",
              "    </tr>\n",
              "    <tr>\n",
              "      <th>9</th>\n",
              "      <td>Manizales</td>\n",
              "      <td>Armario</td>\n",
              "      <td>2020</td>\n",
              "      <td>1</td>\n",
              "    </tr>\n",
              "    <tr>\n",
              "      <th>10</th>\n",
              "      <td>Medellín</td>\n",
              "      <td>Cama box</td>\n",
              "      <td>2023</td>\n",
              "      <td>1</td>\n",
              "    </tr>\n",
              "    <tr>\n",
              "      <th>11</th>\n",
              "      <td>Neiva</td>\n",
              "      <td>Ajedrez de madera</td>\n",
              "      <td>2021</td>\n",
              "      <td>1</td>\n",
              "    </tr>\n",
              "    <tr>\n",
              "      <th>12</th>\n",
              "      <td>Pasto</td>\n",
              "      <td>Ajedrez de madera</td>\n",
              "      <td>2022</td>\n",
              "      <td>1</td>\n",
              "    </tr>\n",
              "    <tr>\n",
              "      <th>13</th>\n",
              "      <td>Pereira</td>\n",
              "      <td>Ajedrez de madera</td>\n",
              "      <td>2023</td>\n",
              "      <td>1</td>\n",
              "    </tr>\n",
              "    <tr>\n",
              "      <th>14</th>\n",
              "      <td>Riohacha</td>\n",
              "      <td>Ajedrez de madera</td>\n",
              "      <td>2021</td>\n",
              "      <td>1</td>\n",
              "    </tr>\n",
              "    <tr>\n",
              "      <th>15</th>\n",
              "      <td>Santa Marta</td>\n",
              "      <td>Ajedrez de madera</td>\n",
              "      <td>2020</td>\n",
              "      <td>1</td>\n",
              "    </tr>\n",
              "    <tr>\n",
              "      <th>16</th>\n",
              "      <td>Soacha</td>\n",
              "      <td>Bicicleta</td>\n",
              "      <td>2022</td>\n",
              "      <td>1</td>\n",
              "    </tr>\n",
              "    <tr>\n",
              "      <th>17</th>\n",
              "      <td>Valledupar</td>\n",
              "      <td>Auriculares</td>\n",
              "      <td>2022</td>\n",
              "      <td>1</td>\n",
              "    </tr>\n",
              "    <tr>\n",
              "      <th>18</th>\n",
              "      <td>Villavicencio</td>\n",
              "      <td>Batería</td>\n",
              "      <td>2022</td>\n",
              "      <td>1</td>\n",
              "    </tr>\n",
              "  </tbody>\n",
              "</table>\n",
              "</div>"
            ],
            "text/plain": [
              "   Lugar de Compra                   Producto   año  Cantidad de Ventas\n",
              "0          Armenia          Asistente virtual  2023                   1\n",
              "1     Barranquilla          Asistente virtual  2020                   1\n",
              "2           Bogotá    Dashboards con Power BI  2023                   1\n",
              "3      Bucaramanga          Ajedrez de madera  2021                   1\n",
              "4             Cali          Asistente virtual  2023                   1\n",
              "5        Cartagena          Ajedrez de madera  2020                   1\n",
              "6           Cúcuta          Ajedrez de madera  2022                   1\n",
              "7          Inírida  Auriculares con micrófono  2020                   1\n",
              "8          Leticia                    Armario  2021                   1\n",
              "9        Manizales                    Armario  2020                   1\n",
              "10        Medellín                   Cama box  2023                   1\n",
              "11           Neiva          Ajedrez de madera  2021                   1\n",
              "12           Pasto          Ajedrez de madera  2022                   1\n",
              "13         Pereira          Ajedrez de madera  2023                   1\n",
              "14        Riohacha          Ajedrez de madera  2021                   1\n",
              "15     Santa Marta          Ajedrez de madera  2020                   1\n",
              "16          Soacha                  Bicicleta  2022                   1\n",
              "17      Valledupar                Auriculares  2022                   1\n",
              "18   Villavicencio                    Batería  2022                   1"
            ]
          },
          "execution_count": 22,
          "metadata": {},
          "output_type": "execute_result"
        }
      ],
      "source": [
        "# DataFrame con el producto menos vendido por lugar de compra\n",
        "producto_menos_vendido = cant_ventas.loc[cant_ventas.groupby(\"Lugar de Compra\")[\"Cantidad de Ventas\"].idxmin()].reset_index(drop=True)\n",
        "\n",
        "producto_menos_vendido"
      ]
    },
    {
      "cell_type": "code",
      "execution_count": 23,
      "metadata": {},
      "outputs": [
        {
          "data": {
            "text/plain": [
              "(   Lugar de Compra   año                 Producto  Cantidad de Ventas\n",
              " 0          Armenia  2020              Tablet ABXY                   2\n",
              " 1          Armenia  2021  Bloques de construcción                   2\n",
              " 2          Armenia  2022               Cubertería                   1\n",
              " 3          Armenia  2023        Asistente virtual                   1\n",
              " 4     Barranquilla  2020      Modelado predictivo                   5\n",
              " ..             ...   ...                      ...                 ...\n",
              " 70      Valledupar  2023         Silla de oficina                   1\n",
              " 71   Villavicencio  2020               Microondas                   2\n",
              " 72   Villavicencio  2021                 Cama box                   3\n",
              " 73   Villavicencio  2022                Bicicleta                   2\n",
              " 74   Villavicencio  2023               Smartwatch                   1\n",
              " \n",
              " [75 rows x 4 columns],\n",
              "    Lugar de Compra   año                 Producto  Cantidad de Ventas\n",
              " 0          Armenia  2020  Bloques de construcción                   1\n",
              " 1          Armenia  2021                  Batería                   1\n",
              " 2          Armenia  2022               Cubertería                   1\n",
              " 3          Armenia  2023        Asistente virtual                   1\n",
              " 4     Barranquilla  2020        Asistente virtual                   1\n",
              " ..             ...   ...                      ...                 ...\n",
              " 70      Valledupar  2023         Silla de oficina                   1\n",
              " 71   Villavicencio  2020  Bloques de construcción                   1\n",
              " 72   Villavicencio  2021                   Estufa                   1\n",
              " 73   Villavicencio  2022                  Batería                   1\n",
              " 74   Villavicencio  2023               Smartwatch                   1\n",
              " \n",
              " [75 rows x 4 columns])"
            ]
          },
          "execution_count": 23,
          "metadata": {},
          "output_type": "execute_result"
        }
      ],
      "source": [
        "# DataFrame con el producto más vendido por tienda al año\n",
        "producto_mas_vendido_anio = db_tiendas.groupby([\"Lugar de Compra\", \"año\", \"Producto\"]).agg({\n",
        "    \"Producto\": \"count\"\n",
        "}).rename(columns={\"Producto\": \"Cantidad de Ventas\"}).reset_index()\n",
        "\n",
        "producto_mas_vendido_anio = producto_mas_vendido_anio.loc[\n",
        "    producto_mas_vendido_anio.groupby([\"Lugar de Compra\", \"año\"])[\"Cantidad de Ventas\"].idxmax()\n",
        "].reset_index(drop=True)\n",
        "\n",
        "# DataFrame con el producto menos vendido por tienda al año\n",
        "producto_menos_vendido_anio = db_tiendas.groupby([\"Lugar de Compra\", \"año\", \"Producto\"]).agg({\n",
        "    \"Producto\": \"count\"\n",
        "}).rename(columns={\"Producto\": \"Cantidad de Ventas\"}).reset_index()\n",
        "\n",
        "producto_menos_vendido_anio = producto_menos_vendido_anio.loc[\n",
        "    producto_menos_vendido_anio.groupby([\"Lugar de Compra\", \"año\"])[\"Cantidad de Ventas\"].idxmin()\n",
        "].reset_index(drop=True)\n",
        "\n",
        "producto_mas_vendido_anio, producto_menos_vendido_anio"
      ]
    },
    {
      "cell_type": "code",
      "execution_count": 24,
      "metadata": {},
      "outputs": [
        {
          "data": {
            "text/html": [
              "<div>\n",
              "<style scoped>\n",
              "    .dataframe tbody tr th:only-of-type {\n",
              "        vertical-align: middle;\n",
              "    }\n",
              "\n",
              "    .dataframe tbody tr th {\n",
              "        vertical-align: top;\n",
              "    }\n",
              "\n",
              "    .dataframe thead th {\n",
              "        text-align: right;\n",
              "    }\n",
              "</style>\n",
              "<table border=\"1\" class=\"dataframe\">\n",
              "  <thead>\n",
              "    <tr style=\"text-align: right;\">\n",
              "      <th></th>\n",
              "      <th>Lugar de Compra</th>\n",
              "      <th>año</th>\n",
              "      <th>Categoría del Producto</th>\n",
              "      <th>Cantidad de Ventas</th>\n",
              "    </tr>\n",
              "  </thead>\n",
              "  <tbody>\n",
              "    <tr>\n",
              "      <th>0</th>\n",
              "      <td>Armenia</td>\n",
              "      <td>2020</td>\n",
              "      <td>Electrónicos</td>\n",
              "      <td>3</td>\n",
              "    </tr>\n",
              "    <tr>\n",
              "      <th>1</th>\n",
              "      <td>Armenia</td>\n",
              "      <td>2021</td>\n",
              "      <td>Juguetes</td>\n",
              "      <td>4</td>\n",
              "    </tr>\n",
              "    <tr>\n",
              "      <th>2</th>\n",
              "      <td>Armenia</td>\n",
              "      <td>2022</td>\n",
              "      <td>Muebles</td>\n",
              "      <td>2</td>\n",
              "    </tr>\n",
              "    <tr>\n",
              "      <th>3</th>\n",
              "      <td>Armenia</td>\n",
              "      <td>2023</td>\n",
              "      <td>Electrónicos</td>\n",
              "      <td>1</td>\n",
              "    </tr>\n",
              "    <tr>\n",
              "      <th>4</th>\n",
              "      <td>Barranquilla</td>\n",
              "      <td>2020</td>\n",
              "      <td>Muebles</td>\n",
              "      <td>24</td>\n",
              "    </tr>\n",
              "    <tr>\n",
              "      <th>...</th>\n",
              "      <td>...</td>\n",
              "      <td>...</td>\n",
              "      <td>...</td>\n",
              "      <td>...</td>\n",
              "    </tr>\n",
              "    <tr>\n",
              "      <th>70</th>\n",
              "      <td>Valledupar</td>\n",
              "      <td>2023</td>\n",
              "      <td>Muebles</td>\n",
              "      <td>1</td>\n",
              "    </tr>\n",
              "    <tr>\n",
              "      <th>71</th>\n",
              "      <td>Villavicencio</td>\n",
              "      <td>2020</td>\n",
              "      <td>Electrodomésticos</td>\n",
              "      <td>2</td>\n",
              "    </tr>\n",
              "    <tr>\n",
              "      <th>72</th>\n",
              "      <td>Villavicencio</td>\n",
              "      <td>2021</td>\n",
              "      <td>Muebles</td>\n",
              "      <td>3</td>\n",
              "    </tr>\n",
              "    <tr>\n",
              "      <th>73</th>\n",
              "      <td>Villavicencio</td>\n",
              "      <td>2022</td>\n",
              "      <td>Deportes y diversión</td>\n",
              "      <td>3</td>\n",
              "    </tr>\n",
              "    <tr>\n",
              "      <th>74</th>\n",
              "      <td>Villavicencio</td>\n",
              "      <td>2023</td>\n",
              "      <td>Electrónicos</td>\n",
              "      <td>1</td>\n",
              "    </tr>\n",
              "  </tbody>\n",
              "</table>\n",
              "<p>75 rows × 4 columns</p>\n",
              "</div>"
            ],
            "text/plain": [
              "   Lugar de Compra   año Categoría del Producto  Cantidad de Ventas\n",
              "0          Armenia  2020           Electrónicos                   3\n",
              "1          Armenia  2021               Juguetes                   4\n",
              "2          Armenia  2022                Muebles                   2\n",
              "3          Armenia  2023           Electrónicos                   1\n",
              "4     Barranquilla  2020                Muebles                  24\n",
              "..             ...   ...                    ...                 ...\n",
              "70      Valledupar  2023                Muebles                   1\n",
              "71   Villavicencio  2020      Electrodomésticos                   2\n",
              "72   Villavicencio  2021                Muebles                   3\n",
              "73   Villavicencio  2022   Deportes y diversión                   3\n",
              "74   Villavicencio  2023           Electrónicos                   1\n",
              "\n",
              "[75 rows x 4 columns]"
            ]
          },
          "execution_count": 24,
          "metadata": {},
          "output_type": "execute_result"
        }
      ],
      "source": [
        "# Agrupamos por Lugar de Compra, año y Categoría del Producto, y contamos las ventas\n",
        "categorias_ventas = db_tiendas.groupby([\"Lugar de Compra\", \"año\", \"Categoría del Producto\"]).agg({\n",
        "    \"Producto\": \"count\"\n",
        "}).rename(columns={\"Producto\": \"Cantidad de Ventas\"}).reset_index()\n",
        "\n",
        "# DataFrame con la categoría más vendida por tienda al año\n",
        "categoria_mas_vendida_anio = categorias_ventas.loc[\n",
        "    categorias_ventas.groupby([\"Lugar de Compra\", \"año\"])[\"Cantidad de Ventas\"].idxmax()\n",
        "].reset_index(drop=True)\n",
        "\n",
        "# DataFrame con la categoría menos vendida por tienda al año\n",
        "categoria_menos_vendida_anio = categorias_ventas.loc[\n",
        "    categorias_ventas.groupby([\"Lugar de Compra\", \"año\"])[\"Cantidad de Ventas\"].idxmin()\n",
        "].reset_index(drop=True)\n",
        "\n",
        "categoria_mas_vendida_anio"
      ]
    },
    {
      "cell_type": "code",
      "execution_count": 25,
      "metadata": {},
      "outputs": [],
      "source": [
        "categoria_mas_vendida_anio_pivot = categoria_mas_vendida_anio.pivot(index='Lugar de Compra', columns='año', values='Categoría del Producto').fillna(0)"
      ]
    },
    {
      "cell_type": "code",
      "execution_count": 26,
      "metadata": {},
      "outputs": [
        {
          "data": {
            "text/html": [
              "<div>\n",
              "<style scoped>\n",
              "    .dataframe tbody tr th:only-of-type {\n",
              "        vertical-align: middle;\n",
              "    }\n",
              "\n",
              "    .dataframe tbody tr th {\n",
              "        vertical-align: top;\n",
              "    }\n",
              "\n",
              "    .dataframe thead th {\n",
              "        text-align: right;\n",
              "    }\n",
              "</style>\n",
              "<table border=\"1\" class=\"dataframe\">\n",
              "  <thead>\n",
              "    <tr style=\"text-align: right;\">\n",
              "      <th>año</th>\n",
              "      <th>2020</th>\n",
              "      <th>2021</th>\n",
              "      <th>2022</th>\n",
              "      <th>2023</th>\n",
              "    </tr>\n",
              "    <tr>\n",
              "      <th>Lugar de Compra</th>\n",
              "      <th></th>\n",
              "      <th></th>\n",
              "      <th></th>\n",
              "      <th></th>\n",
              "    </tr>\n",
              "  </thead>\n",
              "  <tbody>\n",
              "    <tr>\n",
              "      <th>Armenia</th>\n",
              "      <td>Electrónicos</td>\n",
              "      <td>Juguetes</td>\n",
              "      <td>Muebles</td>\n",
              "      <td>Electrónicos</td>\n",
              "    </tr>\n",
              "    <tr>\n",
              "      <th>Barranquilla</th>\n",
              "      <td>Muebles</td>\n",
              "      <td>Muebles</td>\n",
              "      <td>Muebles</td>\n",
              "      <td>Juguetes</td>\n",
              "    </tr>\n",
              "    <tr>\n",
              "      <th>Bogotá</th>\n",
              "      <td>Muebles</td>\n",
              "      <td>Muebles</td>\n",
              "      <td>Muebles</td>\n",
              "      <td>Muebles</td>\n",
              "    </tr>\n",
              "    <tr>\n",
              "      <th>Bucaramanga</th>\n",
              "      <td>Juguetes</td>\n",
              "      <td>Muebles</td>\n",
              "      <td>Juguetes</td>\n",
              "      <td>Muebles</td>\n",
              "    </tr>\n",
              "    <tr>\n",
              "      <th>Cali</th>\n",
              "      <td>Electrónicos</td>\n",
              "      <td>Electrónicos</td>\n",
              "      <td>Muebles</td>\n",
              "      <td>Electrónicos</td>\n",
              "    </tr>\n",
              "    <tr>\n",
              "      <th>Cartagena</th>\n",
              "      <td>Muebles</td>\n",
              "      <td>Electrónicos</td>\n",
              "      <td>Juguetes</td>\n",
              "      <td>Muebles</td>\n",
              "    </tr>\n",
              "    <tr>\n",
              "      <th>Cúcuta</th>\n",
              "      <td>Electrónicos</td>\n",
              "      <td>Muebles</td>\n",
              "      <td>Muebles</td>\n",
              "      <td>Electrónicos</td>\n",
              "    </tr>\n",
              "    <tr>\n",
              "      <th>Inírida</th>\n",
              "      <td>Deportes y diversión</td>\n",
              "      <td>Muebles</td>\n",
              "      <td>Electrodomésticos</td>\n",
              "      <td>Instrumentos musicales</td>\n",
              "    </tr>\n",
              "    <tr>\n",
              "      <th>Leticia</th>\n",
              "      <td>Muebles</td>\n",
              "      <td>Deportes y diversión</td>\n",
              "      <td>Electrónicos</td>\n",
              "      <td>Electrodomésticos</td>\n",
              "    </tr>\n",
              "    <tr>\n",
              "      <th>Manizales</th>\n",
              "      <td>Electrodomésticos</td>\n",
              "      <td>Electrónicos</td>\n",
              "      <td>Muebles</td>\n",
              "      <td>0</td>\n",
              "    </tr>\n",
              "    <tr>\n",
              "      <th>Medellín</th>\n",
              "      <td>Muebles</td>\n",
              "      <td>Electrónicos</td>\n",
              "      <td>Muebles</td>\n",
              "      <td>Electrónicos</td>\n",
              "    </tr>\n",
              "    <tr>\n",
              "      <th>Neiva</th>\n",
              "      <td>Muebles</td>\n",
              "      <td>Electrónicos</td>\n",
              "      <td>Electrónicos</td>\n",
              "      <td>Instrumentos musicales</td>\n",
              "    </tr>\n",
              "    <tr>\n",
              "      <th>Pasto</th>\n",
              "      <td>Electrónicos</td>\n",
              "      <td>Muebles</td>\n",
              "      <td>Muebles</td>\n",
              "      <td>Deportes y diversión</td>\n",
              "    </tr>\n",
              "    <tr>\n",
              "      <th>Pereira</th>\n",
              "      <td>Electrónicos</td>\n",
              "      <td>Muebles</td>\n",
              "      <td>Muebles</td>\n",
              "      <td>Muebles</td>\n",
              "    </tr>\n",
              "    <tr>\n",
              "      <th>Riohacha</th>\n",
              "      <td>Muebles</td>\n",
              "      <td>Instrumentos musicales</td>\n",
              "      <td>Juguetes</td>\n",
              "      <td>Artículos para el hogar</td>\n",
              "    </tr>\n",
              "    <tr>\n",
              "      <th>Santa Marta</th>\n",
              "      <td>Juguetes</td>\n",
              "      <td>Muebles</td>\n",
              "      <td>Electrónicos</td>\n",
              "      <td>Artículos para el hogar</td>\n",
              "    </tr>\n",
              "    <tr>\n",
              "      <th>Soacha</th>\n",
              "      <td>Electrónicos</td>\n",
              "      <td>Deportes y diversión</td>\n",
              "      <td>Muebles</td>\n",
              "      <td>Electrónicos</td>\n",
              "    </tr>\n",
              "    <tr>\n",
              "      <th>Valledupar</th>\n",
              "      <td>Juguetes</td>\n",
              "      <td>Muebles</td>\n",
              "      <td>Artículos para el hogar</td>\n",
              "      <td>Muebles</td>\n",
              "    </tr>\n",
              "    <tr>\n",
              "      <th>Villavicencio</th>\n",
              "      <td>Electrodomésticos</td>\n",
              "      <td>Muebles</td>\n",
              "      <td>Deportes y diversión</td>\n",
              "      <td>Electrónicos</td>\n",
              "    </tr>\n",
              "  </tbody>\n",
              "</table>\n",
              "</div>"
            ],
            "text/plain": [
              "año                              2020                    2021  \\\n",
              "Lugar de Compra                                                 \n",
              "Armenia                  Electrónicos                Juguetes   \n",
              "Barranquilla                  Muebles                 Muebles   \n",
              "Bogotá                        Muebles                 Muebles   \n",
              "Bucaramanga                  Juguetes                 Muebles   \n",
              "Cali                     Electrónicos            Electrónicos   \n",
              "Cartagena                     Muebles            Electrónicos   \n",
              "Cúcuta                   Electrónicos                 Muebles   \n",
              "Inírida          Deportes y diversión                 Muebles   \n",
              "Leticia                       Muebles    Deportes y diversión   \n",
              "Manizales           Electrodomésticos            Electrónicos   \n",
              "Medellín                      Muebles            Electrónicos   \n",
              "Neiva                         Muebles            Electrónicos   \n",
              "Pasto                    Electrónicos                 Muebles   \n",
              "Pereira                  Electrónicos                 Muebles   \n",
              "Riohacha                      Muebles  Instrumentos musicales   \n",
              "Santa Marta                  Juguetes                 Muebles   \n",
              "Soacha                   Electrónicos    Deportes y diversión   \n",
              "Valledupar                   Juguetes                 Muebles   \n",
              "Villavicencio       Electrodomésticos                 Muebles   \n",
              "\n",
              "año                                 2022                     2023  \n",
              "Lugar de Compra                                                    \n",
              "Armenia                          Muebles             Electrónicos  \n",
              "Barranquilla                     Muebles                 Juguetes  \n",
              "Bogotá                           Muebles                  Muebles  \n",
              "Bucaramanga                     Juguetes                  Muebles  \n",
              "Cali                             Muebles             Electrónicos  \n",
              "Cartagena                       Juguetes                  Muebles  \n",
              "Cúcuta                           Muebles             Electrónicos  \n",
              "Inírida                Electrodomésticos   Instrumentos musicales  \n",
              "Leticia                     Electrónicos        Electrodomésticos  \n",
              "Manizales                        Muebles                        0  \n",
              "Medellín                         Muebles             Electrónicos  \n",
              "Neiva                       Electrónicos   Instrumentos musicales  \n",
              "Pasto                            Muebles     Deportes y diversión  \n",
              "Pereira                          Muebles                  Muebles  \n",
              "Riohacha                        Juguetes  Artículos para el hogar  \n",
              "Santa Marta                 Electrónicos  Artículos para el hogar  \n",
              "Soacha                           Muebles             Electrónicos  \n",
              "Valledupar       Artículos para el hogar                  Muebles  \n",
              "Villavicencio       Deportes y diversión             Electrónicos  "
            ]
          },
          "execution_count": 26,
          "metadata": {},
          "output_type": "execute_result"
        }
      ],
      "source": [
        "categoria_mas_vendida_anio_pivot "
      ]
    },
    {
      "cell_type": "code",
      "execution_count": 27,
      "metadata": {},
      "outputs": [
        {
          "data": {
            "text/html": [
              "<div>\n",
              "<style scoped>\n",
              "    .dataframe tbody tr th:only-of-type {\n",
              "        vertical-align: middle;\n",
              "    }\n",
              "\n",
              "    .dataframe tbody tr th {\n",
              "        vertical-align: top;\n",
              "    }\n",
              "\n",
              "    .dataframe thead th {\n",
              "        text-align: right;\n",
              "    }\n",
              "</style>\n",
              "<table border=\"1\" class=\"dataframe\">\n",
              "  <thead>\n",
              "    <tr style=\"text-align: right;\">\n",
              "      <th>año</th>\n",
              "      <th>2020</th>\n",
              "      <th>2021</th>\n",
              "      <th>2022</th>\n",
              "      <th>2023</th>\n",
              "    </tr>\n",
              "    <tr>\n",
              "      <th>Lugar de Compra</th>\n",
              "      <th></th>\n",
              "      <th></th>\n",
              "      <th></th>\n",
              "      <th></th>\n",
              "    </tr>\n",
              "  </thead>\n",
              "  <tbody>\n",
              "    <tr>\n",
              "      <th>Armenia</th>\n",
              "      <td>Libros</td>\n",
              "      <td>Deportes y diversión</td>\n",
              "      <td>Artículos para el hogar</td>\n",
              "      <td>Electrónicos</td>\n",
              "    </tr>\n",
              "    <tr>\n",
              "      <th>Barranquilla</th>\n",
              "      <td>Artículos para el hogar</td>\n",
              "      <td>Libros</td>\n",
              "      <td>Instrumentos musicales</td>\n",
              "      <td>Instrumentos musicales</td>\n",
              "    </tr>\n",
              "    <tr>\n",
              "      <th>Bogotá</th>\n",
              "      <td>Instrumentos musicales</td>\n",
              "      <td>Artículos para el hogar</td>\n",
              "      <td>Artículos para el hogar</td>\n",
              "      <td>Artículos para el hogar</td>\n",
              "    </tr>\n",
              "    <tr>\n",
              "      <th>Bucaramanga</th>\n",
              "      <td>Artículos para el hogar</td>\n",
              "      <td>Artículos para el hogar</td>\n",
              "      <td>Artículos para el hogar</td>\n",
              "      <td>Artículos para el hogar</td>\n",
              "    </tr>\n",
              "    <tr>\n",
              "      <th>Cali</th>\n",
              "      <td>Instrumentos musicales</td>\n",
              "      <td>Artículos para el hogar</td>\n",
              "      <td>Libros</td>\n",
              "      <td>Libros</td>\n",
              "    </tr>\n",
              "    <tr>\n",
              "      <th>Cartagena</th>\n",
              "      <td>Instrumentos musicales</td>\n",
              "      <td>Instrumentos musicales</td>\n",
              "      <td>Instrumentos musicales</td>\n",
              "      <td>Artículos para el hogar</td>\n",
              "    </tr>\n",
              "    <tr>\n",
              "      <th>Cúcuta</th>\n",
              "      <td>Libros</td>\n",
              "      <td>Artículos para el hogar</td>\n",
              "      <td>Instrumentos musicales</td>\n",
              "      <td>Artículos para el hogar</td>\n",
              "    </tr>\n",
              "    <tr>\n",
              "      <th>Inírida</th>\n",
              "      <td>Electrónicos</td>\n",
              "      <td>Deportes y diversión</td>\n",
              "      <td>Electrodomésticos</td>\n",
              "      <td>Instrumentos musicales</td>\n",
              "    </tr>\n",
              "    <tr>\n",
              "      <th>Leticia</th>\n",
              "      <td>Libros</td>\n",
              "      <td>Artículos para el hogar</td>\n",
              "      <td>Artículos para el hogar</td>\n",
              "      <td>Artículos para el hogar</td>\n",
              "    </tr>\n",
              "    <tr>\n",
              "      <th>Manizales</th>\n",
              "      <td>Artículos para el hogar</td>\n",
              "      <td>Artículos para el hogar</td>\n",
              "      <td>Deportes y diversión</td>\n",
              "      <td>0</td>\n",
              "    </tr>\n",
              "    <tr>\n",
              "      <th>Medellín</th>\n",
              "      <td>Libros</td>\n",
              "      <td>Artículos para el hogar</td>\n",
              "      <td>Libros</td>\n",
              "      <td>Electrodomésticos</td>\n",
              "    </tr>\n",
              "    <tr>\n",
              "      <th>Neiva</th>\n",
              "      <td>Artículos para el hogar</td>\n",
              "      <td>Deportes y diversión</td>\n",
              "      <td>Juguetes</td>\n",
              "      <td>Instrumentos musicales</td>\n",
              "    </tr>\n",
              "    <tr>\n",
              "      <th>Pasto</th>\n",
              "      <td>Artículos para el hogar</td>\n",
              "      <td>Artículos para el hogar</td>\n",
              "      <td>Artículos para el hogar</td>\n",
              "      <td>Electrónicos</td>\n",
              "    </tr>\n",
              "    <tr>\n",
              "      <th>Pereira</th>\n",
              "      <td>Instrumentos musicales</td>\n",
              "      <td>Libros</td>\n",
              "      <td>Instrumentos musicales</td>\n",
              "      <td>Artículos para el hogar</td>\n",
              "    </tr>\n",
              "    <tr>\n",
              "      <th>Riohacha</th>\n",
              "      <td>Deportes y diversión</td>\n",
              "      <td>Libros</td>\n",
              "      <td>Artículos para el hogar</td>\n",
              "      <td>Deportes y diversión</td>\n",
              "    </tr>\n",
              "    <tr>\n",
              "      <th>Santa Marta</th>\n",
              "      <td>Electrodomésticos</td>\n",
              "      <td>Instrumentos musicales</td>\n",
              "      <td>Artículos para el hogar</td>\n",
              "      <td>Deportes y diversión</td>\n",
              "    </tr>\n",
              "    <tr>\n",
              "      <th>Soacha</th>\n",
              "      <td>Instrumentos musicales</td>\n",
              "      <td>Deportes y diversión</td>\n",
              "      <td>Libros</td>\n",
              "      <td>Electrónicos</td>\n",
              "    </tr>\n",
              "    <tr>\n",
              "      <th>Valledupar</th>\n",
              "      <td>Electrodomésticos</td>\n",
              "      <td>Artículos para el hogar</td>\n",
              "      <td>Artículos para el hogar</td>\n",
              "      <td>Muebles</td>\n",
              "    </tr>\n",
              "    <tr>\n",
              "      <th>Villavicencio</th>\n",
              "      <td>Deportes y diversión</td>\n",
              "      <td>Deportes y diversión</td>\n",
              "      <td>Artículos para el hogar</td>\n",
              "      <td>Electrónicos</td>\n",
              "    </tr>\n",
              "  </tbody>\n",
              "</table>\n",
              "</div>"
            ],
            "text/plain": [
              "año                                 2020                     2021  \\\n",
              "Lugar de Compra                                                     \n",
              "Armenia                           Libros     Deportes y diversión   \n",
              "Barranquilla     Artículos para el hogar                   Libros   \n",
              "Bogotá            Instrumentos musicales  Artículos para el hogar   \n",
              "Bucaramanga      Artículos para el hogar  Artículos para el hogar   \n",
              "Cali              Instrumentos musicales  Artículos para el hogar   \n",
              "Cartagena         Instrumentos musicales   Instrumentos musicales   \n",
              "Cúcuta                            Libros  Artículos para el hogar   \n",
              "Inírida                     Electrónicos     Deportes y diversión   \n",
              "Leticia                           Libros  Artículos para el hogar   \n",
              "Manizales        Artículos para el hogar  Artículos para el hogar   \n",
              "Medellín                          Libros  Artículos para el hogar   \n",
              "Neiva            Artículos para el hogar     Deportes y diversión   \n",
              "Pasto            Artículos para el hogar  Artículos para el hogar   \n",
              "Pereira           Instrumentos musicales                   Libros   \n",
              "Riohacha            Deportes y diversión                   Libros   \n",
              "Santa Marta            Electrodomésticos   Instrumentos musicales   \n",
              "Soacha            Instrumentos musicales     Deportes y diversión   \n",
              "Valledupar             Electrodomésticos  Artículos para el hogar   \n",
              "Villavicencio       Deportes y diversión     Deportes y diversión   \n",
              "\n",
              "año                                 2022                     2023  \n",
              "Lugar de Compra                                                    \n",
              "Armenia          Artículos para el hogar             Electrónicos  \n",
              "Barranquilla      Instrumentos musicales   Instrumentos musicales  \n",
              "Bogotá           Artículos para el hogar  Artículos para el hogar  \n",
              "Bucaramanga      Artículos para el hogar  Artículos para el hogar  \n",
              "Cali                              Libros                   Libros  \n",
              "Cartagena         Instrumentos musicales  Artículos para el hogar  \n",
              "Cúcuta            Instrumentos musicales  Artículos para el hogar  \n",
              "Inírida                Electrodomésticos   Instrumentos musicales  \n",
              "Leticia          Artículos para el hogar  Artículos para el hogar  \n",
              "Manizales           Deportes y diversión                        0  \n",
              "Medellín                          Libros        Electrodomésticos  \n",
              "Neiva                           Juguetes   Instrumentos musicales  \n",
              "Pasto            Artículos para el hogar             Electrónicos  \n",
              "Pereira           Instrumentos musicales  Artículos para el hogar  \n",
              "Riohacha         Artículos para el hogar     Deportes y diversión  \n",
              "Santa Marta      Artículos para el hogar     Deportes y diversión  \n",
              "Soacha                            Libros             Electrónicos  \n",
              "Valledupar       Artículos para el hogar                  Muebles  \n",
              "Villavicencio    Artículos para el hogar             Electrónicos  "
            ]
          },
          "execution_count": 27,
          "metadata": {},
          "output_type": "execute_result"
        }
      ],
      "source": [
        "categoria_menos_vendida_anio_pivot = categoria_menos_vendida_anio.pivot(index='Lugar de Compra', columns='año', values='Categoría del Producto').fillna(0)\n",
        "categoria_menos_vendida_anio_pivot"
      ]
    },
    {
      "cell_type": "code",
      "execution_count": 28,
      "metadata": {},
      "outputs": [
        {
          "data": {
            "text/html": [
              "<div>\n",
              "<style scoped>\n",
              "    .dataframe tbody tr th:only-of-type {\n",
              "        vertical-align: middle;\n",
              "    }\n",
              "\n",
              "    .dataframe tbody tr th {\n",
              "        vertical-align: top;\n",
              "    }\n",
              "\n",
              "    .dataframe thead th {\n",
              "        text-align: right;\n",
              "    }\n",
              "</style>\n",
              "<table border=\"1\" class=\"dataframe\">\n",
              "  <thead>\n",
              "    <tr style=\"text-align: right;\">\n",
              "      <th></th>\n",
              "      <th>Producto</th>\n",
              "      <th>Categoría del Producto</th>\n",
              "      <th>Precio</th>\n",
              "      <th>Costo de envío</th>\n",
              "      <th>Fecha de Compra</th>\n",
              "      <th>Vendedor</th>\n",
              "      <th>Lugar de Compra</th>\n",
              "      <th>Calificación</th>\n",
              "      <th>Método de pago</th>\n",
              "      <th>Cantidad de cuotas</th>\n",
              "      <th>lat</th>\n",
              "      <th>lon</th>\n",
              "      <th>dia</th>\n",
              "      <th>mes</th>\n",
              "      <th>año</th>\n",
              "    </tr>\n",
              "  </thead>\n",
              "  <tbody>\n",
              "  </tbody>\n",
              "</table>\n",
              "</div>"
            ],
            "text/plain": [
              "Empty DataFrame\n",
              "Columns: [Producto, Categoría del Producto, Precio, Costo de envío, Fecha de Compra, Vendedor, Lugar de Compra, Calificación, Método de pago, Cantidad de cuotas, lat, lon, dia, mes, año]\n",
              "Index: []"
            ]
          },
          "execution_count": 28,
          "metadata": {},
          "output_type": "execute_result"
        }
      ],
      "source": [
        "df_armenia = db_tiendas.loc[(db_tiendas[\"Lugar de Compra\"] == \"Manizales\") & (db_tiendas[\"año\"]==2023)]\n",
        "df_armenia"
      ]
    },
    {
      "cell_type": "code",
      "execution_count": 29,
      "metadata": {},
      "outputs": [
        {
          "name": "stdout",
          "output_type": "stream",
          "text": [
            "Requirement already satisfied: dash in c:\\users\\herna\\appdata\\local\\programs\\python\\python312\\lib\\site-packages (3.0.3)\n",
            "Requirement already satisfied: Flask<3.1,>=1.0.4 in c:\\users\\herna\\appdata\\local\\programs\\python\\python312\\lib\\site-packages (from dash) (3.0.3)\n",
            "Requirement already satisfied: Werkzeug<3.1 in c:\\users\\herna\\appdata\\local\\programs\\python\\python312\\lib\\site-packages (from dash) (3.0.6)\n",
            "Requirement already satisfied: plotly>=5.0.0 in c:\\users\\herna\\appdata\\local\\programs\\python\\python312\\lib\\site-packages (from dash) (6.0.1)\n",
            "Requirement already satisfied: importlib-metadata in c:\\users\\herna\\appdata\\local\\programs\\python\\python312\\lib\\site-packages (from dash) (8.6.1)\n",
            "Requirement already satisfied: typing-extensions>=4.1.1 in c:\\users\\herna\\appdata\\local\\programs\\python\\python312\\lib\\site-packages (from dash) (4.13.2)\n",
            "Requirement already satisfied: requests in c:\\users\\herna\\appdata\\local\\programs\\python\\python312\\lib\\site-packages (from dash) (2.32.3)\n",
            "Requirement already satisfied: retrying in c:\\users\\herna\\appdata\\local\\programs\\python\\python312\\lib\\site-packages (from dash) (1.3.4)\n",
            "Requirement already satisfied: nest-asyncio in c:\\users\\herna\\appdata\\roaming\\python\\python312\\site-packages (from dash) (1.6.0)\n",
            "Requirement already satisfied: setuptools in c:\\users\\herna\\appdata\\local\\programs\\python\\python312\\lib\\site-packages (from dash) (79.0.0)\n",
            "Requirement already satisfied: Jinja2>=3.1.2 in c:\\users\\herna\\appdata\\local\\programs\\python\\python312\\lib\\site-packages (from Flask<3.1,>=1.0.4->dash) (3.1.6)\n",
            "Requirement already satisfied: itsdangerous>=2.1.2 in c:\\users\\herna\\appdata\\local\\programs\\python\\python312\\lib\\site-packages (from Flask<3.1,>=1.0.4->dash) (2.2.0)\n",
            "Requirement already satisfied: click>=8.1.3 in c:\\users\\herna\\appdata\\local\\programs\\python\\python312\\lib\\site-packages (from Flask<3.1,>=1.0.4->dash) (8.1.8)\n",
            "Requirement already satisfied: blinker>=1.6.2 in c:\\users\\herna\\appdata\\local\\programs\\python\\python312\\lib\\site-packages (from Flask<3.1,>=1.0.4->dash) (1.9.0)\n",
            "Requirement already satisfied: narwhals>=1.15.1 in c:\\users\\herna\\appdata\\local\\programs\\python\\python312\\lib\\site-packages (from plotly>=5.0.0->dash) (1.35.0)\n",
            "Requirement already satisfied: packaging in c:\\users\\herna\\appdata\\roaming\\python\\python312\\site-packages (from plotly>=5.0.0->dash) (24.2)\n",
            "Requirement already satisfied: MarkupSafe>=2.1.1 in c:\\users\\herna\\appdata\\local\\programs\\python\\python312\\lib\\site-packages (from Werkzeug<3.1->dash) (3.0.2)\n",
            "Requirement already satisfied: zipp>=3.20 in c:\\users\\herna\\appdata\\local\\programs\\python\\python312\\lib\\site-packages (from importlib-metadata->dash) (3.21.0)\n",
            "Requirement already satisfied: charset-normalizer<4,>=2 in c:\\users\\herna\\appdata\\local\\programs\\python\\python312\\lib\\site-packages (from requests->dash) (3.4.1)\n",
            "Requirement already satisfied: idna<4,>=2.5 in c:\\users\\herna\\appdata\\local\\programs\\python\\python312\\lib\\site-packages (from requests->dash) (3.10)\n",
            "Requirement already satisfied: urllib3<3,>=1.21.1 in c:\\users\\herna\\appdata\\local\\programs\\python\\python312\\lib\\site-packages (from requests->dash) (2.4.0)\n",
            "Requirement already satisfied: certifi>=2017.4.17 in c:\\users\\herna\\appdata\\local\\programs\\python\\python312\\lib\\site-packages (from requests->dash) (2025.1.31)\n",
            "Requirement already satisfied: six>=1.7.0 in c:\\users\\herna\\appdata\\local\\programs\\python\\python312\\lib\\site-packages (from retrying->dash) (1.17.0)\n",
            "Requirement already satisfied: colorama in c:\\users\\herna\\appdata\\roaming\\python\\python312\\site-packages (from click>=8.1.3->Flask<3.1,>=1.0.4->dash) (0.4.6)\n",
            "Note: you may need to restart the kernel to use updated packages.\n"
          ]
        },
        {
          "name": "stderr",
          "output_type": "stream",
          "text": [
            "\n",
            "[notice] A new release of pip is available: 25.0.1 -> 25.1.1\n",
            "[notice] To update, run: python.exe -m pip install --upgrade pip\n"
          ]
        }
      ],
      "source": [
        "%pip install dash"
      ]
    },
    {
      "cell_type": "code",
      "execution_count": 30,
      "metadata": {},
      "outputs": [
        {
          "data": {
            "application/vnd.plotly.v1+json": {
              "config": {
                "plotlyServerURL": "https://plot.ly"
              },
              "data": [
                {
                  "name": "Armenia",
                  "type": "bar",
                  "x": [
                    2020,
                    2021,
                    2022,
                    2023
                  ],
                  "y": {
                    "bdata": "AAAAAPWHVEEAAAAAY/tUQQAAAAAoUzFBAAAAAGB6C0E=",
                    "dtype": "f8"
                  }
                },
                {
                  "name": "Barranquilla",
                  "type": "bar",
                  "x": [
                    2020,
                    2021,
                    2022,
                    2023
                  ],
                  "y": {
                    "bdata": "AAAAYI5Fh0EAAABgmtiDQQAAAICwRn9BAAAAgOLSYEE=",
                    "dtype": "f8"
                  }
                },
                {
                  "name": "Bogotá",
                  "type": "bar",
                  "x": [
                    2020,
                    2021,
                    2022,
                    2023
                  ],
                  "y": {
                    "bdata": "AAAAhEMEwUEAAACw52rBQQAAAJxE8L9BAAAA4Lx3nUE=",
                    "dtype": "f8"
                  }
                },
                {
                  "name": "Bucaramanga",
                  "type": "bar",
                  "x": [
                    2020,
                    2021,
                    2022,
                    2023
                  ],
                  "y": {
                    "bdata": "AAAAwL+HdkEAAACA3Ol9QQAAAMByPH1BAAAAAEHKUkE=",
                    "dtype": "f8"
                  }
                },
                {
                  "name": "Cali",
                  "type": "bar",
                  "x": [
                    2020,
                    2021,
                    2022,
                    2023
                  ],
                  "y": {
                    "bdata": "AAAA0MPCokEAAACo4NSgQQAAANCV66JBAAAAgON6h0E=",
                    "dtype": "f8"
                  }
                },
                {
                  "name": "Cartagena",
                  "type": "bar",
                  "x": [
                    2020,
                    2021,
                    2022,
                    2023
                  ],
                  "y": {
                    "bdata": "AAAAAP+Ed0EAAACg1zCBQQAAAADbDINBAAAAALgeOkE=",
                    "dtype": "f8"
                  }
                },
                {
                  "name": "Cúcuta",
                  "type": "bar",
                  "x": [
                    2020,
                    2021,
                    2022,
                    2023
                  ],
                  "y": {
                    "bdata": "AAAAwDhkgUEAAAAAAQR5QQAAAMBIHXtBAAAAADZpX0E=",
                    "dtype": "f8"
                  }
                },
                {
                  "name": "Inírida",
                  "type": "bar",
                  "x": [
                    2020,
                    2021,
                    2022,
                    2023
                  ],
                  "y": {
                    "bdata": "AAAAAMyrNEEAAAAALFM8QQAAAACDA1BBAAAAALC4JEE=",
                    "dtype": "f8"
                  }
                },
                {
                  "name": "Leticia",
                  "type": "bar",
                  "x": [
                    2020,
                    2021,
                    2022,
                    2023
                  ],
                  "y": {
                    "bdata": "AAAAAIicd0EAAACAgKl0QQAAAAAq221BAAAAAJ1ZU0E=",
                    "dtype": "f8"
                  }
                },
                {
                  "name": "Manizales",
                  "type": "bar",
                  "x": [
                    2020,
                    2021,
                    2022,
                    2023
                  ],
                  "y": {
                    "bdata": "AAAAAAbUS0EAAAAAMmJhQQAAAACQM1lBAAAAAAAAAAA=",
                    "dtype": "f8"
                  }
                },
                {
                  "name": "Medellín",
                  "type": "bar",
                  "x": [
                    2020,
                    2021,
                    2022,
                    2023
                  ],
                  "y": {
                    "bdata": "AAAAyDJcskEAAABEXS63QQAAAKjgkLNBAAAAcJ0JkUE=",
                    "dtype": "f8"
                  }
                },
                {
                  "name": "Neiva",
                  "type": "bar",
                  "x": [
                    2020,
                    2021,
                    2022,
                    2023
                  ],
                  "y": {
                    "bdata": "AAAAANrcYUEAAAAABrNUQQAAAAAtYlZBAAAAAKApDUE=",
                    "dtype": "f8"
                  }
                },
                {
                  "name": "Pasto",
                  "type": "bar",
                  "x": [
                    2020,
                    2021,
                    2022,
                    2023
                  ],
                  "y": {
                    "bdata": "AAAAAGzNcUEAAACAFexpQQAAAIAFSW1BAAAAAIRmNUE=",
                    "dtype": "f8"
                  }
                },
                {
                  "name": "Pereira",
                  "type": "bar",
                  "x": [
                    2020,
                    2021,
                    2022,
                    2023
                  ],
                  "y": {
                    "bdata": "AAAA4EhKjkEAAACQlNORQQAAAMBmAI9BAAAAwFaSdUE=",
                    "dtype": "f8"
                  }
                },
                {
                  "name": "Riohacha",
                  "type": "bar",
                  "x": [
                    2020,
                    2021,
                    2022,
                    2023
                  ],
                  "y": {
                    "bdata": "AAAAAOLMeUEAAAAAo4pzQQAAAICc1HNBAAAAAJ8jVUE=",
                    "dtype": "f8"
                  }
                },
                {
                  "name": "Santa Marta",
                  "type": "bar",
                  "x": [
                    2020,
                    2021,
                    2022,
                    2023
                  ],
                  "y": {
                    "bdata": "AAAAgGaGZUEAAACA4OVoQQAAAEDTinZBAAAAABqMU0E=",
                    "dtype": "f8"
                  }
                },
                {
                  "name": "Soacha",
                  "type": "bar",
                  "x": [
                    2020,
                    2021,
                    2022,
                    2023
                  ],
                  "y": {
                    "bdata": "AAAAAHyEM0EAAAAAFhFQQQAAAAB101ZBAAAAALi6KUE=",
                    "dtype": "f8"
                  }
                },
                {
                  "name": "Valledupar",
                  "type": "bar",
                  "x": [
                    2020,
                    2021,
                    2022,
                    2023
                  ],
                  "y": {
                    "bdata": "AAAAAB7HQEEAAAAAuJU7QQAAAABgCTlBAAAAAEAgDUE=",
                    "dtype": "f8"
                  }
                },
                {
                  "name": "Villavicencio",
                  "type": "bar",
                  "x": [
                    2020,
                    2021,
                    2022,
                    2023
                  ],
                  "y": {
                    "bdata": "AAAAACaSSkEAAAAA+HRFQQAAAAABYlpBAAAAAADi/UA=",
                    "dtype": "f8"
                  }
                }
              ],
              "layout": {
                "barmode": "group",
                "legend": {
                  "title": {
                    "text": "Tienda"
                  }
                },
                "template": {
                  "data": {
                    "bar": [
                      {
                        "error_x": {
                          "color": "#2a3f5f"
                        },
                        "error_y": {
                          "color": "#2a3f5f"
                        },
                        "marker": {
                          "line": {
                            "color": "#E5ECF6",
                            "width": 0.5
                          },
                          "pattern": {
                            "fillmode": "overlay",
                            "size": 10,
                            "solidity": 0.2
                          }
                        },
                        "type": "bar"
                      }
                    ],
                    "barpolar": [
                      {
                        "marker": {
                          "line": {
                            "color": "#E5ECF6",
                            "width": 0.5
                          },
                          "pattern": {
                            "fillmode": "overlay",
                            "size": 10,
                            "solidity": 0.2
                          }
                        },
                        "type": "barpolar"
                      }
                    ],
                    "carpet": [
                      {
                        "aaxis": {
                          "endlinecolor": "#2a3f5f",
                          "gridcolor": "white",
                          "linecolor": "white",
                          "minorgridcolor": "white",
                          "startlinecolor": "#2a3f5f"
                        },
                        "baxis": {
                          "endlinecolor": "#2a3f5f",
                          "gridcolor": "white",
                          "linecolor": "white",
                          "minorgridcolor": "white",
                          "startlinecolor": "#2a3f5f"
                        },
                        "type": "carpet"
                      }
                    ],
                    "choropleth": [
                      {
                        "colorbar": {
                          "outlinewidth": 0,
                          "ticks": ""
                        },
                        "type": "choropleth"
                      }
                    ],
                    "contour": [
                      {
                        "colorbar": {
                          "outlinewidth": 0,
                          "ticks": ""
                        },
                        "colorscale": [
                          [
                            0,
                            "#0d0887"
                          ],
                          [
                            0.1111111111111111,
                            "#46039f"
                          ],
                          [
                            0.2222222222222222,
                            "#7201a8"
                          ],
                          [
                            0.3333333333333333,
                            "#9c179e"
                          ],
                          [
                            0.4444444444444444,
                            "#bd3786"
                          ],
                          [
                            0.5555555555555556,
                            "#d8576b"
                          ],
                          [
                            0.6666666666666666,
                            "#ed7953"
                          ],
                          [
                            0.7777777777777778,
                            "#fb9f3a"
                          ],
                          [
                            0.8888888888888888,
                            "#fdca26"
                          ],
                          [
                            1,
                            "#f0f921"
                          ]
                        ],
                        "type": "contour"
                      }
                    ],
                    "contourcarpet": [
                      {
                        "colorbar": {
                          "outlinewidth": 0,
                          "ticks": ""
                        },
                        "type": "contourcarpet"
                      }
                    ],
                    "heatmap": [
                      {
                        "colorbar": {
                          "outlinewidth": 0,
                          "ticks": ""
                        },
                        "colorscale": [
                          [
                            0,
                            "#0d0887"
                          ],
                          [
                            0.1111111111111111,
                            "#46039f"
                          ],
                          [
                            0.2222222222222222,
                            "#7201a8"
                          ],
                          [
                            0.3333333333333333,
                            "#9c179e"
                          ],
                          [
                            0.4444444444444444,
                            "#bd3786"
                          ],
                          [
                            0.5555555555555556,
                            "#d8576b"
                          ],
                          [
                            0.6666666666666666,
                            "#ed7953"
                          ],
                          [
                            0.7777777777777778,
                            "#fb9f3a"
                          ],
                          [
                            0.8888888888888888,
                            "#fdca26"
                          ],
                          [
                            1,
                            "#f0f921"
                          ]
                        ],
                        "type": "heatmap"
                      }
                    ],
                    "histogram": [
                      {
                        "marker": {
                          "pattern": {
                            "fillmode": "overlay",
                            "size": 10,
                            "solidity": 0.2
                          }
                        },
                        "type": "histogram"
                      }
                    ],
                    "histogram2d": [
                      {
                        "colorbar": {
                          "outlinewidth": 0,
                          "ticks": ""
                        },
                        "colorscale": [
                          [
                            0,
                            "#0d0887"
                          ],
                          [
                            0.1111111111111111,
                            "#46039f"
                          ],
                          [
                            0.2222222222222222,
                            "#7201a8"
                          ],
                          [
                            0.3333333333333333,
                            "#9c179e"
                          ],
                          [
                            0.4444444444444444,
                            "#bd3786"
                          ],
                          [
                            0.5555555555555556,
                            "#d8576b"
                          ],
                          [
                            0.6666666666666666,
                            "#ed7953"
                          ],
                          [
                            0.7777777777777778,
                            "#fb9f3a"
                          ],
                          [
                            0.8888888888888888,
                            "#fdca26"
                          ],
                          [
                            1,
                            "#f0f921"
                          ]
                        ],
                        "type": "histogram2d"
                      }
                    ],
                    "histogram2dcontour": [
                      {
                        "colorbar": {
                          "outlinewidth": 0,
                          "ticks": ""
                        },
                        "colorscale": [
                          [
                            0,
                            "#0d0887"
                          ],
                          [
                            0.1111111111111111,
                            "#46039f"
                          ],
                          [
                            0.2222222222222222,
                            "#7201a8"
                          ],
                          [
                            0.3333333333333333,
                            "#9c179e"
                          ],
                          [
                            0.4444444444444444,
                            "#bd3786"
                          ],
                          [
                            0.5555555555555556,
                            "#d8576b"
                          ],
                          [
                            0.6666666666666666,
                            "#ed7953"
                          ],
                          [
                            0.7777777777777778,
                            "#fb9f3a"
                          ],
                          [
                            0.8888888888888888,
                            "#fdca26"
                          ],
                          [
                            1,
                            "#f0f921"
                          ]
                        ],
                        "type": "histogram2dcontour"
                      }
                    ],
                    "mesh3d": [
                      {
                        "colorbar": {
                          "outlinewidth": 0,
                          "ticks": ""
                        },
                        "type": "mesh3d"
                      }
                    ],
                    "parcoords": [
                      {
                        "line": {
                          "colorbar": {
                            "outlinewidth": 0,
                            "ticks": ""
                          }
                        },
                        "type": "parcoords"
                      }
                    ],
                    "pie": [
                      {
                        "automargin": true,
                        "type": "pie"
                      }
                    ],
                    "scatter": [
                      {
                        "fillpattern": {
                          "fillmode": "overlay",
                          "size": 10,
                          "solidity": 0.2
                        },
                        "type": "scatter"
                      }
                    ],
                    "scatter3d": [
                      {
                        "line": {
                          "colorbar": {
                            "outlinewidth": 0,
                            "ticks": ""
                          }
                        },
                        "marker": {
                          "colorbar": {
                            "outlinewidth": 0,
                            "ticks": ""
                          }
                        },
                        "type": "scatter3d"
                      }
                    ],
                    "scattercarpet": [
                      {
                        "marker": {
                          "colorbar": {
                            "outlinewidth": 0,
                            "ticks": ""
                          }
                        },
                        "type": "scattercarpet"
                      }
                    ],
                    "scattergeo": [
                      {
                        "marker": {
                          "colorbar": {
                            "outlinewidth": 0,
                            "ticks": ""
                          }
                        },
                        "type": "scattergeo"
                      }
                    ],
                    "scattergl": [
                      {
                        "marker": {
                          "colorbar": {
                            "outlinewidth": 0,
                            "ticks": ""
                          }
                        },
                        "type": "scattergl"
                      }
                    ],
                    "scattermap": [
                      {
                        "marker": {
                          "colorbar": {
                            "outlinewidth": 0,
                            "ticks": ""
                          }
                        },
                        "type": "scattermap"
                      }
                    ],
                    "scattermapbox": [
                      {
                        "marker": {
                          "colorbar": {
                            "outlinewidth": 0,
                            "ticks": ""
                          }
                        },
                        "type": "scattermapbox"
                      }
                    ],
                    "scatterpolar": [
                      {
                        "marker": {
                          "colorbar": {
                            "outlinewidth": 0,
                            "ticks": ""
                          }
                        },
                        "type": "scatterpolar"
                      }
                    ],
                    "scatterpolargl": [
                      {
                        "marker": {
                          "colorbar": {
                            "outlinewidth": 0,
                            "ticks": ""
                          }
                        },
                        "type": "scatterpolargl"
                      }
                    ],
                    "scatterternary": [
                      {
                        "marker": {
                          "colorbar": {
                            "outlinewidth": 0,
                            "ticks": ""
                          }
                        },
                        "type": "scatterternary"
                      }
                    ],
                    "surface": [
                      {
                        "colorbar": {
                          "outlinewidth": 0,
                          "ticks": ""
                        },
                        "colorscale": [
                          [
                            0,
                            "#0d0887"
                          ],
                          [
                            0.1111111111111111,
                            "#46039f"
                          ],
                          [
                            0.2222222222222222,
                            "#7201a8"
                          ],
                          [
                            0.3333333333333333,
                            "#9c179e"
                          ],
                          [
                            0.4444444444444444,
                            "#bd3786"
                          ],
                          [
                            0.5555555555555556,
                            "#d8576b"
                          ],
                          [
                            0.6666666666666666,
                            "#ed7953"
                          ],
                          [
                            0.7777777777777778,
                            "#fb9f3a"
                          ],
                          [
                            0.8888888888888888,
                            "#fdca26"
                          ],
                          [
                            1,
                            "#f0f921"
                          ]
                        ],
                        "type": "surface"
                      }
                    ],
                    "table": [
                      {
                        "cells": {
                          "fill": {
                            "color": "#EBF0F8"
                          },
                          "line": {
                            "color": "white"
                          }
                        },
                        "header": {
                          "fill": {
                            "color": "#C8D4E3"
                          },
                          "line": {
                            "color": "white"
                          }
                        },
                        "type": "table"
                      }
                    ]
                  },
                  "layout": {
                    "annotationdefaults": {
                      "arrowcolor": "#2a3f5f",
                      "arrowhead": 0,
                      "arrowwidth": 1
                    },
                    "autotypenumbers": "strict",
                    "coloraxis": {
                      "colorbar": {
                        "outlinewidth": 0,
                        "ticks": ""
                      }
                    },
                    "colorscale": {
                      "diverging": [
                        [
                          0,
                          "#8e0152"
                        ],
                        [
                          0.1,
                          "#c51b7d"
                        ],
                        [
                          0.2,
                          "#de77ae"
                        ],
                        [
                          0.3,
                          "#f1b6da"
                        ],
                        [
                          0.4,
                          "#fde0ef"
                        ],
                        [
                          0.5,
                          "#f7f7f7"
                        ],
                        [
                          0.6,
                          "#e6f5d0"
                        ],
                        [
                          0.7,
                          "#b8e186"
                        ],
                        [
                          0.8,
                          "#7fbc41"
                        ],
                        [
                          0.9,
                          "#4d9221"
                        ],
                        [
                          1,
                          "#276419"
                        ]
                      ],
                      "sequential": [
                        [
                          0,
                          "#0d0887"
                        ],
                        [
                          0.1111111111111111,
                          "#46039f"
                        ],
                        [
                          0.2222222222222222,
                          "#7201a8"
                        ],
                        [
                          0.3333333333333333,
                          "#9c179e"
                        ],
                        [
                          0.4444444444444444,
                          "#bd3786"
                        ],
                        [
                          0.5555555555555556,
                          "#d8576b"
                        ],
                        [
                          0.6666666666666666,
                          "#ed7953"
                        ],
                        [
                          0.7777777777777778,
                          "#fb9f3a"
                        ],
                        [
                          0.8888888888888888,
                          "#fdca26"
                        ],
                        [
                          1,
                          "#f0f921"
                        ]
                      ],
                      "sequentialminus": [
                        [
                          0,
                          "#0d0887"
                        ],
                        [
                          0.1111111111111111,
                          "#46039f"
                        ],
                        [
                          0.2222222222222222,
                          "#7201a8"
                        ],
                        [
                          0.3333333333333333,
                          "#9c179e"
                        ],
                        [
                          0.4444444444444444,
                          "#bd3786"
                        ],
                        [
                          0.5555555555555556,
                          "#d8576b"
                        ],
                        [
                          0.6666666666666666,
                          "#ed7953"
                        ],
                        [
                          0.7777777777777778,
                          "#fb9f3a"
                        ],
                        [
                          0.8888888888888888,
                          "#fdca26"
                        ],
                        [
                          1,
                          "#f0f921"
                        ]
                      ]
                    },
                    "colorway": [
                      "#636efa",
                      "#EF553B",
                      "#00cc96",
                      "#ab63fa",
                      "#FFA15A",
                      "#19d3f3",
                      "#FF6692",
                      "#B6E880",
                      "#FF97FF",
                      "#FECB52"
                    ],
                    "font": {
                      "color": "#2a3f5f"
                    },
                    "geo": {
                      "bgcolor": "white",
                      "lakecolor": "white",
                      "landcolor": "#E5ECF6",
                      "showlakes": true,
                      "showland": true,
                      "subunitcolor": "white"
                    },
                    "hoverlabel": {
                      "align": "left"
                    },
                    "hovermode": "closest",
                    "mapbox": {
                      "style": "light"
                    },
                    "paper_bgcolor": "white",
                    "plot_bgcolor": "#E5ECF6",
                    "polar": {
                      "angularaxis": {
                        "gridcolor": "white",
                        "linecolor": "white",
                        "ticks": ""
                      },
                      "bgcolor": "#E5ECF6",
                      "radialaxis": {
                        "gridcolor": "white",
                        "linecolor": "white",
                        "ticks": ""
                      }
                    },
                    "scene": {
                      "xaxis": {
                        "backgroundcolor": "#E5ECF6",
                        "gridcolor": "white",
                        "gridwidth": 2,
                        "linecolor": "white",
                        "showbackground": true,
                        "ticks": "",
                        "zerolinecolor": "white"
                      },
                      "yaxis": {
                        "backgroundcolor": "#E5ECF6",
                        "gridcolor": "white",
                        "gridwidth": 2,
                        "linecolor": "white",
                        "showbackground": true,
                        "ticks": "",
                        "zerolinecolor": "white"
                      },
                      "zaxis": {
                        "backgroundcolor": "#E5ECF6",
                        "gridcolor": "white",
                        "gridwidth": 2,
                        "linecolor": "white",
                        "showbackground": true,
                        "ticks": "",
                        "zerolinecolor": "white"
                      }
                    },
                    "shapedefaults": {
                      "line": {
                        "color": "#2a3f5f"
                      }
                    },
                    "ternary": {
                      "aaxis": {
                        "gridcolor": "white",
                        "linecolor": "white",
                        "ticks": ""
                      },
                      "baxis": {
                        "gridcolor": "white",
                        "linecolor": "white",
                        "ticks": ""
                      },
                      "bgcolor": "#E5ECF6",
                      "caxis": {
                        "gridcolor": "white",
                        "linecolor": "white",
                        "ticks": ""
                      }
                    },
                    "title": {
                      "x": 0.05
                    },
                    "xaxis": {
                      "automargin": true,
                      "gridcolor": "white",
                      "linecolor": "white",
                      "ticks": "",
                      "title": {
                        "standoff": 15
                      },
                      "zerolinecolor": "white",
                      "zerolinewidth": 2
                    },
                    "yaxis": {
                      "automargin": true,
                      "gridcolor": "white",
                      "linecolor": "white",
                      "ticks": "",
                      "title": {
                        "standoff": 15
                      },
                      "zerolinecolor": "white",
                      "zerolinewidth": 2
                    }
                  }
                },
                "title": {
                  "text": "Ingreso total por año y tienda"
                },
                "xaxis": {
                  "title": {
                    "text": "Año"
                  }
                },
                "yaxis": {
                  "title": {
                    "text": "Ingreso total"
                  }
                }
              }
            }
          },
          "metadata": {},
          "output_type": "display_data"
        }
      ],
      "source": [
        "import plotly.graph_objects as go\n",
        "\n",
        "\n",
        "# Crear una lista de tiendas\n",
        "tiendas_plot = pivot_precio_promedio_al_anio.index.tolist()\n",
        "anos_plot = pivot_precio_promedio_al_anio.columns.tolist()\n",
        "\n",
        "# Crear una figura inicial con la primera tienda\n",
        "fig = go.Figure()\n",
        "\n",
        "# Agregar trazas para cada tienda\n",
        "for local in pivot_precio_promedio_al_anio.index:\n",
        "    fig.add_trace(go.Bar(\n",
        "        x=anos_plot,\n",
        "        y=pivot_precio_promedio_al_anio.loc[local],  \n",
        "        name=local,  # Nombre de la tienda\n",
        "    ))\n",
        "\n",
        "# Configurar el diseño del gráfico\n",
        "fig.update_layout(\n",
        "    title=\"Ingreso total por año y tienda\",\n",
        "    xaxis_title=\"Año\",\n",
        "    yaxis_title=\"Ingreso total\",\n",
        "    barmode= \"group\",\n",
        "    legend_title=\"Tienda\",\n",
        "      \n",
        ")\n",
        "\n",
        "# Se puede visualizar que el costo por producto de forma general a traves de los años a aumentado significativamente en el ultimo año.\n",
        "# Si bien como media cada producto vendido a sido mas costoso, la cantidad de articulos vendidos es significativamente menor, lo que puede indicar que el aumento de precios ha afectado la cantidad de ventas."
      ]
    },
    {
      "cell_type": "code",
      "execution_count": 31,
      "metadata": {},
      "outputs": [
        {
          "data": {
            "application/vnd.plotly.v1+json": {
              "config": {
                "plotlyServerURL": "https://plot.ly"
              },
              "data": [
                {
                  "name": "Armenia",
                  "type": "bar",
                  "x": [
                    2020,
                    2021,
                    2022,
                    2023
                  ],
                  "y": {
                    "bdata": "AAAAAAAAIkAAAAAAAAAoQAAAAAAAABRAAAAAAAAAAEA=",
                    "dtype": "f8"
                  }
                },
                {
                  "name": "Barranquilla",
                  "type": "bar",
                  "x": [
                    2020,
                    2021,
                    2022,
                    2023
                  ],
                  "y": {
                    "bdata": "AAAAAADAWEAAAAAAAEBZQAAAAAAAQFVAAAAAAAAAOUA=",
                    "dtype": "f8"
                  }
                },
                {
                  "name": "Bogotá",
                  "type": "bar",
                  "x": [
                    2020,
                    2021,
                    2022,
                    2023
                  ],
                  "y": {
                    "bdata": "AAAAAADwkkAAAAAAAFSTQAAAAAAAyJJAAAAAAABAckA=",
                    "dtype": "f8"
                  }
                },
                {
                  "name": "Bucaramanga",
                  "type": "bar",
                  "x": [
                    2020,
                    2021,
                    2022,
                    2023
                  ],
                  "y": {
                    "bdata": "AAAAAAAASUAAAAAAAIBKQAAAAAAAAE9AAAAAAAAAMEA=",
                    "dtype": "f8"
                  }
                },
                {
                  "name": "Cali",
                  "type": "bar",
                  "x": [
                    2020,
                    2021,
                    2022,
                    2023
                  ],
                  "y": {
                    "bdata": "AAAAAADAckAAAAAAANByQAAAAAAAoHNAAAAAAAAAV0A=",
                    "dtype": "f8"
                  }
                },
                {
                  "name": "Cartagena",
                  "type": "bar",
                  "x": [
                    2020,
                    2021,
                    2022,
                    2023
                  ],
                  "y": {
                    "bdata": "AAAAAABAUkAAAAAAAEBSQAAAAAAAAFZAAAAAAAAAIEA=",
                    "dtype": "f8"
                  }
                },
                {
                  "name": "Cúcuta",
                  "type": "bar",
                  "x": [
                    2020,
                    2021,
                    2022,
                    2023
                  ],
                  "y": {
                    "bdata": "AAAAAAAAT0AAAAAAAABPQAAAAAAAAElAAAAAAAAAKEA=",
                    "dtype": "f8"
                  }
                },
                {
                  "name": "Inírida",
                  "type": "bar",
                  "x": [
                    2020,
                    2021,
                    2022,
                    2023
                  ],
                  "y": {
                    "bdata": "AAAAAAAAEEAAAAAAAAAYQAAAAAAAAAhAAAAAAAAA8D8=",
                    "dtype": "f8"
                  }
                },
                {
                  "name": "Leticia",
                  "type": "bar",
                  "x": [
                    2020,
                    2021,
                    2022,
                    2023
                  ],
                  "y": {
                    "bdata": "AAAAAAAARkAAAAAAAABIQAAAAAAAgENAAAAAAAAAJkA=",
                    "dtype": "f8"
                  }
                },
                {
                  "name": "Manizales",
                  "type": "bar",
                  "x": [
                    2020,
                    2021,
                    2022,
                    2023
                  ],
                  "y": {
                    "bdata": "AAAAAAAAKEAAAAAAAAAuQAAAAAAAACxAAAAAAAAAAAA=",
                    "dtype": "f8"
                  }
                },
                {
                  "name": "Medellín",
                  "type": "bar",
                  "x": [
                    2020,
                    2021,
                    2022,
                    2023
                  ],
                  "y": {
                    "bdata": "AAAAAACghUAAAAAAANCHQAAAAAAAgIVAAAAAAACAZUA=",
                    "dtype": "f8"
                  }
                },
                {
                  "name": "Neiva",
                  "type": "bar",
                  "x": [
                    2020,
                    2021,
                    2022,
                    2023
                  ],
                  "y": {
                    "bdata": "AAAAAAAALkAAAAAAAAAuQAAAAAAAACJAAAAAAAAA8D8=",
                    "dtype": "f8"
                  }
                },
                {
                  "name": "Pasto",
                  "type": "bar",
                  "x": [
                    2020,
                    2021,
                    2022,
                    2023
                  ],
                  "y": {
                    "bdata": "AAAAAAAAPkAAAAAAAAA+QAAAAAAAADtAAAAAAAAAHEA=",
                    "dtype": "f8"
                  }
                },
                {
                  "name": "Pereira",
                  "type": "bar",
                  "x": [
                    2020,
                    2021,
                    2022,
                    2023
                  ],
                  "y": {
                    "bdata": "AAAAAABAYkAAAAAAAMBjQAAAAAAAYGRAAAAAAAAASUA=",
                    "dtype": "f8"
                  }
                },
                {
                  "name": "Riohacha",
                  "type": "bar",
                  "x": [
                    2020,
                    2021,
                    2022,
                    2023
                  ],
                  "y": {
                    "bdata": "AAAAAAAATEAAAAAAAABIQAAAAAAAgEdAAAAAAAAAKEA=",
                    "dtype": "f8"
                  }
                },
                {
                  "name": "Santa Marta",
                  "type": "bar",
                  "x": [
                    2020,
                    2021,
                    2022,
                    2023
                  ],
                  "y": {
                    "bdata": "AAAAAAAAREAAAAAAAABGQAAAAAAAAEpAAAAAAAAALkA=",
                    "dtype": "f8"
                  }
                },
                {
                  "name": "Soacha",
                  "type": "bar",
                  "x": [
                    2020,
                    2021,
                    2022,
                    2023
                  ],
                  "y": {
                    "bdata": "AAAAAAAAEEAAAAAAAAAYQAAAAAAAACBAAAAAAAAA8D8=",
                    "dtype": "f8"
                  }
                },
                {
                  "name": "Valledupar",
                  "type": "bar",
                  "x": [
                    2020,
                    2021,
                    2022,
                    2023
                  ],
                  "y": {
                    "bdata": "AAAAAAAAFEAAAAAAAAAQQAAAAAAAABBAAAAAAAAA8D8=",
                    "dtype": "f8"
                  }
                },
                {
                  "name": "Villavicencio",
                  "type": "bar",
                  "x": [
                    2020,
                    2021,
                    2022,
                    2023
                  ],
                  "y": {
                    "bdata": "AAAAAAAAIEAAAAAAAAAcQAAAAAAAACpAAAAAAAAA8D8=",
                    "dtype": "f8"
                  }
                }
              ],
              "layout": {
                "barmode": "group",
                "legend": {
                  "title": {
                    "text": "Tienda"
                  }
                },
                "template": {
                  "data": {
                    "bar": [
                      {
                        "error_x": {
                          "color": "#2a3f5f"
                        },
                        "error_y": {
                          "color": "#2a3f5f"
                        },
                        "marker": {
                          "line": {
                            "color": "#E5ECF6",
                            "width": 0.5
                          },
                          "pattern": {
                            "fillmode": "overlay",
                            "size": 10,
                            "solidity": 0.2
                          }
                        },
                        "type": "bar"
                      }
                    ],
                    "barpolar": [
                      {
                        "marker": {
                          "line": {
                            "color": "#E5ECF6",
                            "width": 0.5
                          },
                          "pattern": {
                            "fillmode": "overlay",
                            "size": 10,
                            "solidity": 0.2
                          }
                        },
                        "type": "barpolar"
                      }
                    ],
                    "carpet": [
                      {
                        "aaxis": {
                          "endlinecolor": "#2a3f5f",
                          "gridcolor": "white",
                          "linecolor": "white",
                          "minorgridcolor": "white",
                          "startlinecolor": "#2a3f5f"
                        },
                        "baxis": {
                          "endlinecolor": "#2a3f5f",
                          "gridcolor": "white",
                          "linecolor": "white",
                          "minorgridcolor": "white",
                          "startlinecolor": "#2a3f5f"
                        },
                        "type": "carpet"
                      }
                    ],
                    "choropleth": [
                      {
                        "colorbar": {
                          "outlinewidth": 0,
                          "ticks": ""
                        },
                        "type": "choropleth"
                      }
                    ],
                    "contour": [
                      {
                        "colorbar": {
                          "outlinewidth": 0,
                          "ticks": ""
                        },
                        "colorscale": [
                          [
                            0,
                            "#0d0887"
                          ],
                          [
                            0.1111111111111111,
                            "#46039f"
                          ],
                          [
                            0.2222222222222222,
                            "#7201a8"
                          ],
                          [
                            0.3333333333333333,
                            "#9c179e"
                          ],
                          [
                            0.4444444444444444,
                            "#bd3786"
                          ],
                          [
                            0.5555555555555556,
                            "#d8576b"
                          ],
                          [
                            0.6666666666666666,
                            "#ed7953"
                          ],
                          [
                            0.7777777777777778,
                            "#fb9f3a"
                          ],
                          [
                            0.8888888888888888,
                            "#fdca26"
                          ],
                          [
                            1,
                            "#f0f921"
                          ]
                        ],
                        "type": "contour"
                      }
                    ],
                    "contourcarpet": [
                      {
                        "colorbar": {
                          "outlinewidth": 0,
                          "ticks": ""
                        },
                        "type": "contourcarpet"
                      }
                    ],
                    "heatmap": [
                      {
                        "colorbar": {
                          "outlinewidth": 0,
                          "ticks": ""
                        },
                        "colorscale": [
                          [
                            0,
                            "#0d0887"
                          ],
                          [
                            0.1111111111111111,
                            "#46039f"
                          ],
                          [
                            0.2222222222222222,
                            "#7201a8"
                          ],
                          [
                            0.3333333333333333,
                            "#9c179e"
                          ],
                          [
                            0.4444444444444444,
                            "#bd3786"
                          ],
                          [
                            0.5555555555555556,
                            "#d8576b"
                          ],
                          [
                            0.6666666666666666,
                            "#ed7953"
                          ],
                          [
                            0.7777777777777778,
                            "#fb9f3a"
                          ],
                          [
                            0.8888888888888888,
                            "#fdca26"
                          ],
                          [
                            1,
                            "#f0f921"
                          ]
                        ],
                        "type": "heatmap"
                      }
                    ],
                    "histogram": [
                      {
                        "marker": {
                          "pattern": {
                            "fillmode": "overlay",
                            "size": 10,
                            "solidity": 0.2
                          }
                        },
                        "type": "histogram"
                      }
                    ],
                    "histogram2d": [
                      {
                        "colorbar": {
                          "outlinewidth": 0,
                          "ticks": ""
                        },
                        "colorscale": [
                          [
                            0,
                            "#0d0887"
                          ],
                          [
                            0.1111111111111111,
                            "#46039f"
                          ],
                          [
                            0.2222222222222222,
                            "#7201a8"
                          ],
                          [
                            0.3333333333333333,
                            "#9c179e"
                          ],
                          [
                            0.4444444444444444,
                            "#bd3786"
                          ],
                          [
                            0.5555555555555556,
                            "#d8576b"
                          ],
                          [
                            0.6666666666666666,
                            "#ed7953"
                          ],
                          [
                            0.7777777777777778,
                            "#fb9f3a"
                          ],
                          [
                            0.8888888888888888,
                            "#fdca26"
                          ],
                          [
                            1,
                            "#f0f921"
                          ]
                        ],
                        "type": "histogram2d"
                      }
                    ],
                    "histogram2dcontour": [
                      {
                        "colorbar": {
                          "outlinewidth": 0,
                          "ticks": ""
                        },
                        "colorscale": [
                          [
                            0,
                            "#0d0887"
                          ],
                          [
                            0.1111111111111111,
                            "#46039f"
                          ],
                          [
                            0.2222222222222222,
                            "#7201a8"
                          ],
                          [
                            0.3333333333333333,
                            "#9c179e"
                          ],
                          [
                            0.4444444444444444,
                            "#bd3786"
                          ],
                          [
                            0.5555555555555556,
                            "#d8576b"
                          ],
                          [
                            0.6666666666666666,
                            "#ed7953"
                          ],
                          [
                            0.7777777777777778,
                            "#fb9f3a"
                          ],
                          [
                            0.8888888888888888,
                            "#fdca26"
                          ],
                          [
                            1,
                            "#f0f921"
                          ]
                        ],
                        "type": "histogram2dcontour"
                      }
                    ],
                    "mesh3d": [
                      {
                        "colorbar": {
                          "outlinewidth": 0,
                          "ticks": ""
                        },
                        "type": "mesh3d"
                      }
                    ],
                    "parcoords": [
                      {
                        "line": {
                          "colorbar": {
                            "outlinewidth": 0,
                            "ticks": ""
                          }
                        },
                        "type": "parcoords"
                      }
                    ],
                    "pie": [
                      {
                        "automargin": true,
                        "type": "pie"
                      }
                    ],
                    "scatter": [
                      {
                        "fillpattern": {
                          "fillmode": "overlay",
                          "size": 10,
                          "solidity": 0.2
                        },
                        "type": "scatter"
                      }
                    ],
                    "scatter3d": [
                      {
                        "line": {
                          "colorbar": {
                            "outlinewidth": 0,
                            "ticks": ""
                          }
                        },
                        "marker": {
                          "colorbar": {
                            "outlinewidth": 0,
                            "ticks": ""
                          }
                        },
                        "type": "scatter3d"
                      }
                    ],
                    "scattercarpet": [
                      {
                        "marker": {
                          "colorbar": {
                            "outlinewidth": 0,
                            "ticks": ""
                          }
                        },
                        "type": "scattercarpet"
                      }
                    ],
                    "scattergeo": [
                      {
                        "marker": {
                          "colorbar": {
                            "outlinewidth": 0,
                            "ticks": ""
                          }
                        },
                        "type": "scattergeo"
                      }
                    ],
                    "scattergl": [
                      {
                        "marker": {
                          "colorbar": {
                            "outlinewidth": 0,
                            "ticks": ""
                          }
                        },
                        "type": "scattergl"
                      }
                    ],
                    "scattermap": [
                      {
                        "marker": {
                          "colorbar": {
                            "outlinewidth": 0,
                            "ticks": ""
                          }
                        },
                        "type": "scattermap"
                      }
                    ],
                    "scattermapbox": [
                      {
                        "marker": {
                          "colorbar": {
                            "outlinewidth": 0,
                            "ticks": ""
                          }
                        },
                        "type": "scattermapbox"
                      }
                    ],
                    "scatterpolar": [
                      {
                        "marker": {
                          "colorbar": {
                            "outlinewidth": 0,
                            "ticks": ""
                          }
                        },
                        "type": "scatterpolar"
                      }
                    ],
                    "scatterpolargl": [
                      {
                        "marker": {
                          "colorbar": {
                            "outlinewidth": 0,
                            "ticks": ""
                          }
                        },
                        "type": "scatterpolargl"
                      }
                    ],
                    "scatterternary": [
                      {
                        "marker": {
                          "colorbar": {
                            "outlinewidth": 0,
                            "ticks": ""
                          }
                        },
                        "type": "scatterternary"
                      }
                    ],
                    "surface": [
                      {
                        "colorbar": {
                          "outlinewidth": 0,
                          "ticks": ""
                        },
                        "colorscale": [
                          [
                            0,
                            "#0d0887"
                          ],
                          [
                            0.1111111111111111,
                            "#46039f"
                          ],
                          [
                            0.2222222222222222,
                            "#7201a8"
                          ],
                          [
                            0.3333333333333333,
                            "#9c179e"
                          ],
                          [
                            0.4444444444444444,
                            "#bd3786"
                          ],
                          [
                            0.5555555555555556,
                            "#d8576b"
                          ],
                          [
                            0.6666666666666666,
                            "#ed7953"
                          ],
                          [
                            0.7777777777777778,
                            "#fb9f3a"
                          ],
                          [
                            0.8888888888888888,
                            "#fdca26"
                          ],
                          [
                            1,
                            "#f0f921"
                          ]
                        ],
                        "type": "surface"
                      }
                    ],
                    "table": [
                      {
                        "cells": {
                          "fill": {
                            "color": "#EBF0F8"
                          },
                          "line": {
                            "color": "white"
                          }
                        },
                        "header": {
                          "fill": {
                            "color": "#C8D4E3"
                          },
                          "line": {
                            "color": "white"
                          }
                        },
                        "type": "table"
                      }
                    ]
                  },
                  "layout": {
                    "annotationdefaults": {
                      "arrowcolor": "#2a3f5f",
                      "arrowhead": 0,
                      "arrowwidth": 1
                    },
                    "autotypenumbers": "strict",
                    "coloraxis": {
                      "colorbar": {
                        "outlinewidth": 0,
                        "ticks": ""
                      }
                    },
                    "colorscale": {
                      "diverging": [
                        [
                          0,
                          "#8e0152"
                        ],
                        [
                          0.1,
                          "#c51b7d"
                        ],
                        [
                          0.2,
                          "#de77ae"
                        ],
                        [
                          0.3,
                          "#f1b6da"
                        ],
                        [
                          0.4,
                          "#fde0ef"
                        ],
                        [
                          0.5,
                          "#f7f7f7"
                        ],
                        [
                          0.6,
                          "#e6f5d0"
                        ],
                        [
                          0.7,
                          "#b8e186"
                        ],
                        [
                          0.8,
                          "#7fbc41"
                        ],
                        [
                          0.9,
                          "#4d9221"
                        ],
                        [
                          1,
                          "#276419"
                        ]
                      ],
                      "sequential": [
                        [
                          0,
                          "#0d0887"
                        ],
                        [
                          0.1111111111111111,
                          "#46039f"
                        ],
                        [
                          0.2222222222222222,
                          "#7201a8"
                        ],
                        [
                          0.3333333333333333,
                          "#9c179e"
                        ],
                        [
                          0.4444444444444444,
                          "#bd3786"
                        ],
                        [
                          0.5555555555555556,
                          "#d8576b"
                        ],
                        [
                          0.6666666666666666,
                          "#ed7953"
                        ],
                        [
                          0.7777777777777778,
                          "#fb9f3a"
                        ],
                        [
                          0.8888888888888888,
                          "#fdca26"
                        ],
                        [
                          1,
                          "#f0f921"
                        ]
                      ],
                      "sequentialminus": [
                        [
                          0,
                          "#0d0887"
                        ],
                        [
                          0.1111111111111111,
                          "#46039f"
                        ],
                        [
                          0.2222222222222222,
                          "#7201a8"
                        ],
                        [
                          0.3333333333333333,
                          "#9c179e"
                        ],
                        [
                          0.4444444444444444,
                          "#bd3786"
                        ],
                        [
                          0.5555555555555556,
                          "#d8576b"
                        ],
                        [
                          0.6666666666666666,
                          "#ed7953"
                        ],
                        [
                          0.7777777777777778,
                          "#fb9f3a"
                        ],
                        [
                          0.8888888888888888,
                          "#fdca26"
                        ],
                        [
                          1,
                          "#f0f921"
                        ]
                      ]
                    },
                    "colorway": [
                      "#636efa",
                      "#EF553B",
                      "#00cc96",
                      "#ab63fa",
                      "#FFA15A",
                      "#19d3f3",
                      "#FF6692",
                      "#B6E880",
                      "#FF97FF",
                      "#FECB52"
                    ],
                    "font": {
                      "color": "#2a3f5f"
                    },
                    "geo": {
                      "bgcolor": "white",
                      "lakecolor": "white",
                      "landcolor": "#E5ECF6",
                      "showlakes": true,
                      "showland": true,
                      "subunitcolor": "white"
                    },
                    "hoverlabel": {
                      "align": "left"
                    },
                    "hovermode": "closest",
                    "mapbox": {
                      "style": "light"
                    },
                    "paper_bgcolor": "white",
                    "plot_bgcolor": "#E5ECF6",
                    "polar": {
                      "angularaxis": {
                        "gridcolor": "white",
                        "linecolor": "white",
                        "ticks": ""
                      },
                      "bgcolor": "#E5ECF6",
                      "radialaxis": {
                        "gridcolor": "white",
                        "linecolor": "white",
                        "ticks": ""
                      }
                    },
                    "scene": {
                      "xaxis": {
                        "backgroundcolor": "#E5ECF6",
                        "gridcolor": "white",
                        "gridwidth": 2,
                        "linecolor": "white",
                        "showbackground": true,
                        "ticks": "",
                        "zerolinecolor": "white"
                      },
                      "yaxis": {
                        "backgroundcolor": "#E5ECF6",
                        "gridcolor": "white",
                        "gridwidth": 2,
                        "linecolor": "white",
                        "showbackground": true,
                        "ticks": "",
                        "zerolinecolor": "white"
                      },
                      "zaxis": {
                        "backgroundcolor": "#E5ECF6",
                        "gridcolor": "white",
                        "gridwidth": 2,
                        "linecolor": "white",
                        "showbackground": true,
                        "ticks": "",
                        "zerolinecolor": "white"
                      }
                    },
                    "shapedefaults": {
                      "line": {
                        "color": "#2a3f5f"
                      }
                    },
                    "ternary": {
                      "aaxis": {
                        "gridcolor": "white",
                        "linecolor": "white",
                        "ticks": ""
                      },
                      "baxis": {
                        "gridcolor": "white",
                        "linecolor": "white",
                        "ticks": ""
                      },
                      "bgcolor": "#E5ECF6",
                      "caxis": {
                        "gridcolor": "white",
                        "linecolor": "white",
                        "ticks": ""
                      }
                    },
                    "title": {
                      "x": 0.05
                    },
                    "xaxis": {
                      "automargin": true,
                      "gridcolor": "white",
                      "linecolor": "white",
                      "ticks": "",
                      "title": {
                        "standoff": 15
                      },
                      "zerolinecolor": "white",
                      "zerolinewidth": 2
                    },
                    "yaxis": {
                      "automargin": true,
                      "gridcolor": "white",
                      "linecolor": "white",
                      "ticks": "",
                      "title": {
                        "standoff": 15
                      },
                      "zerolinecolor": "white",
                      "zerolinewidth": 2
                    }
                  }
                },
                "title": {
                  "text": "Numero de ventas al año por tienda"
                },
                "xaxis": {
                  "title": {
                    "text": "Año"
                  }
                },
                "yaxis": {
                  "title": {
                    "text": "Numero de ventas"
                  }
                }
              }
            }
          },
          "metadata": {},
          "output_type": "display_data"
        }
      ],
      "source": [
        "import plotly.graph_objects as go\n",
        "\n",
        "tiendas_plot = pivot_numero_de_ventas_al_anio.index.tolist()\n",
        "anos_plot_n = pivot_numero_de_ventas_al_anio.columns.tolist()\n",
        "\n",
        "# Crear una figura inicial con la primera tienda\n",
        "fig = go.Figure()\n",
        "\n",
        "# Agregar trazas para cada tienda\n",
        "for local in pivot_numero_de_ventas_al_anio.index:\n",
        "    fig.add_trace(go.Bar(\n",
        "        x=anos_plot_n,\n",
        "        y=pivot_numero_de_ventas_al_anio.loc[local],  \n",
        "        name=local,  # Nombre de la tienda\n",
        "    ))\n",
        "\n",
        "# Configurar el diseño del gráfico\n",
        "fig.update_layout(\n",
        "    title=\"Numero de ventas al año por tienda\",\n",
        "    xaxis_title=\"Año\",\n",
        "    yaxis_title=\"Numero de ventas\",\n",
        "    barmode= \"group\",\n",
        "    legend_title=\"Tienda\",\n",
        "      \n",
        ")"
      ]
    },
    {
      "cell_type": "code",
      "execution_count": 32,
      "metadata": {},
      "outputs": [
        {
          "data": {
            "text/html": [
              "<div>\n",
              "<style scoped>\n",
              "    .dataframe tbody tr th:only-of-type {\n",
              "        vertical-align: middle;\n",
              "    }\n",
              "\n",
              "    .dataframe tbody tr th {\n",
              "        vertical-align: top;\n",
              "    }\n",
              "\n",
              "    .dataframe thead th {\n",
              "        text-align: right;\n",
              "    }\n",
              "</style>\n",
              "<table border=\"1\" class=\"dataframe\">\n",
              "  <thead>\n",
              "    <tr style=\"text-align: right;\">\n",
              "      <th>año</th>\n",
              "      <th>2020</th>\n",
              "      <th>2021</th>\n",
              "      <th>2022</th>\n",
              "      <th>2023</th>\n",
              "    </tr>\n",
              "    <tr>\n",
              "      <th>Lugar de Compra</th>\n",
              "      <th></th>\n",
              "      <th></th>\n",
              "      <th></th>\n",
              "      <th></th>\n",
              "    </tr>\n",
              "  </thead>\n",
              "  <tbody>\n",
              "    <tr>\n",
              "      <th>Armenia</th>\n",
              "      <td>9.0</td>\n",
              "      <td>12.0</td>\n",
              "      <td>5.0</td>\n",
              "      <td>2.0</td>\n",
              "    </tr>\n",
              "    <tr>\n",
              "      <th>Barranquilla</th>\n",
              "      <td>99.0</td>\n",
              "      <td>101.0</td>\n",
              "      <td>85.0</td>\n",
              "      <td>25.0</td>\n",
              "    </tr>\n",
              "    <tr>\n",
              "      <th>Bogotá</th>\n",
              "      <td>1212.0</td>\n",
              "      <td>1237.0</td>\n",
              "      <td>1202.0</td>\n",
              "      <td>292.0</td>\n",
              "    </tr>\n",
              "    <tr>\n",
              "      <th>Bucaramanga</th>\n",
              "      <td>50.0</td>\n",
              "      <td>53.0</td>\n",
              "      <td>62.0</td>\n",
              "      <td>16.0</td>\n",
              "    </tr>\n",
              "    <tr>\n",
              "      <th>Cali</th>\n",
              "      <td>300.0</td>\n",
              "      <td>301.0</td>\n",
              "      <td>314.0</td>\n",
              "      <td>92.0</td>\n",
              "    </tr>\n",
              "    <tr>\n",
              "      <th>Cartagena</th>\n",
              "      <td>73.0</td>\n",
              "      <td>73.0</td>\n",
              "      <td>88.0</td>\n",
              "      <td>8.0</td>\n",
              "    </tr>\n",
              "    <tr>\n",
              "      <th>Cúcuta</th>\n",
              "      <td>62.0</td>\n",
              "      <td>62.0</td>\n",
              "      <td>50.0</td>\n",
              "      <td>12.0</td>\n",
              "    </tr>\n",
              "    <tr>\n",
              "      <th>Inírida</th>\n",
              "      <td>4.0</td>\n",
              "      <td>6.0</td>\n",
              "      <td>3.0</td>\n",
              "      <td>1.0</td>\n",
              "    </tr>\n",
              "    <tr>\n",
              "      <th>Leticia</th>\n",
              "      <td>44.0</td>\n",
              "      <td>48.0</td>\n",
              "      <td>39.0</td>\n",
              "      <td>11.0</td>\n",
              "    </tr>\n",
              "    <tr>\n",
              "      <th>Manizales</th>\n",
              "      <td>12.0</td>\n",
              "      <td>15.0</td>\n",
              "      <td>14.0</td>\n",
              "      <td>0.0</td>\n",
              "    </tr>\n",
              "    <tr>\n",
              "      <th>Medellín</th>\n",
              "      <td>692.0</td>\n",
              "      <td>762.0</td>\n",
              "      <td>688.0</td>\n",
              "      <td>172.0</td>\n",
              "    </tr>\n",
              "    <tr>\n",
              "      <th>Neiva</th>\n",
              "      <td>15.0</td>\n",
              "      <td>15.0</td>\n",
              "      <td>9.0</td>\n",
              "      <td>1.0</td>\n",
              "    </tr>\n",
              "    <tr>\n",
              "      <th>Pasto</th>\n",
              "      <td>30.0</td>\n",
              "      <td>30.0</td>\n",
              "      <td>27.0</td>\n",
              "      <td>7.0</td>\n",
              "    </tr>\n",
              "    <tr>\n",
              "      <th>Pereira</th>\n",
              "      <td>146.0</td>\n",
              "      <td>158.0</td>\n",
              "      <td>163.0</td>\n",
              "      <td>50.0</td>\n",
              "    </tr>\n",
              "    <tr>\n",
              "      <th>Riohacha</th>\n",
              "      <td>56.0</td>\n",
              "      <td>48.0</td>\n",
              "      <td>47.0</td>\n",
              "      <td>12.0</td>\n",
              "    </tr>\n",
              "    <tr>\n",
              "      <th>Santa Marta</th>\n",
              "      <td>40.0</td>\n",
              "      <td>44.0</td>\n",
              "      <td>52.0</td>\n",
              "      <td>15.0</td>\n",
              "    </tr>\n",
              "    <tr>\n",
              "      <th>Soacha</th>\n",
              "      <td>4.0</td>\n",
              "      <td>6.0</td>\n",
              "      <td>8.0</td>\n",
              "      <td>1.0</td>\n",
              "    </tr>\n",
              "    <tr>\n",
              "      <th>Valledupar</th>\n",
              "      <td>5.0</td>\n",
              "      <td>4.0</td>\n",
              "      <td>4.0</td>\n",
              "      <td>1.0</td>\n",
              "    </tr>\n",
              "    <tr>\n",
              "      <th>Villavicencio</th>\n",
              "      <td>8.0</td>\n",
              "      <td>7.0</td>\n",
              "      <td>13.0</td>\n",
              "      <td>1.0</td>\n",
              "    </tr>\n",
              "  </tbody>\n",
              "</table>\n",
              "</div>"
            ],
            "text/plain": [
              "año                2020    2021    2022   2023\n",
              "Lugar de Compra                               \n",
              "Armenia             9.0    12.0     5.0    2.0\n",
              "Barranquilla       99.0   101.0    85.0   25.0\n",
              "Bogotá           1212.0  1237.0  1202.0  292.0\n",
              "Bucaramanga        50.0    53.0    62.0   16.0\n",
              "Cali              300.0   301.0   314.0   92.0\n",
              "Cartagena          73.0    73.0    88.0    8.0\n",
              "Cúcuta             62.0    62.0    50.0   12.0\n",
              "Inírida             4.0     6.0     3.0    1.0\n",
              "Leticia            44.0    48.0    39.0   11.0\n",
              "Manizales          12.0    15.0    14.0    0.0\n",
              "Medellín          692.0   762.0   688.0  172.0\n",
              "Neiva              15.0    15.0     9.0    1.0\n",
              "Pasto              30.0    30.0    27.0    7.0\n",
              "Pereira           146.0   158.0   163.0   50.0\n",
              "Riohacha           56.0    48.0    47.0   12.0\n",
              "Santa Marta        40.0    44.0    52.0   15.0\n",
              "Soacha              4.0     6.0     8.0    1.0\n",
              "Valledupar          5.0     4.0     4.0    1.0\n",
              "Villavicencio       8.0     7.0    13.0    1.0"
            ]
          },
          "execution_count": 32,
          "metadata": {},
          "output_type": "execute_result"
        }
      ],
      "source": [
        "pivot_numero_de_ventas_al_anio"
      ]
    },
    {
      "cell_type": "code",
      "execution_count": 33,
      "metadata": {},
      "outputs": [],
      "source": [
        "# Ganancia por categoria de articulos\n",
        "ganancia_por_categoria = db_tiendas.groupby([\"Lugar de Compra\",\"año\" ,\"Categoría del Producto\"]).agg({\n",
        "    \"Precio\": \"sum\",\n",
        "    \"Costo de envío\": \"sum\",\n",
        "    \"Calificación\": \"mean\"\n",
        "})\n",
        "\n",
        "ganancia_por_categoria[\"ganancia_neta\"] = ganancia_por_categoria[\"Precio\"] - ganancia_por_categoria[\"Costo de envío\"]\n",
        "ganancia_por_categoria = ganancia_por_categoria.reset_index()\n"
      ]
    },
    {
      "cell_type": "code",
      "execution_count": 34,
      "metadata": {},
      "outputs": [
        {
          "data": {
            "text/html": [
              "<div>\n",
              "<style scoped>\n",
              "    .dataframe tbody tr th:only-of-type {\n",
              "        vertical-align: middle;\n",
              "    }\n",
              "\n",
              "    .dataframe tbody tr th {\n",
              "        vertical-align: top;\n",
              "    }\n",
              "\n",
              "    .dataframe thead tr th {\n",
              "        text-align: left;\n",
              "    }\n",
              "\n",
              "    .dataframe thead tr:last-of-type th {\n",
              "        text-align: right;\n",
              "    }\n",
              "</style>\n",
              "<table border=\"1\" class=\"dataframe\">\n",
              "  <thead>\n",
              "    <tr>\n",
              "      <th>Categoría del Producto</th>\n",
              "      <th>Artículos para el hogar</th>\n",
              "      <th>Electrónicos</th>\n",
              "      <th>Juguetes</th>\n",
              "      <th>Libros</th>\n",
              "      <th>Muebles</th>\n",
              "      <th>Deportes y diversión</th>\n",
              "      <th>Electrodomésticos</th>\n",
              "      <th>Electrónicos</th>\n",
              "      <th>Instrumentos musicales</th>\n",
              "      <th>Juguetes</th>\n",
              "      <th>...</th>\n",
              "      <th>Deportes y diversión</th>\n",
              "      <th>Electrónicos</th>\n",
              "      <th>Instrumentos musicales</th>\n",
              "      <th>Juguetes</th>\n",
              "      <th>Artículos para el hogar</th>\n",
              "      <th>Deportes y diversión</th>\n",
              "      <th>Electrodomésticos</th>\n",
              "      <th>Instrumentos musicales</th>\n",
              "      <th>Libros</th>\n",
              "      <th>Muebles</th>\n",
              "    </tr>\n",
              "    <tr>\n",
              "      <th>año</th>\n",
              "      <th>2020</th>\n",
              "      <th>2020</th>\n",
              "      <th>2020</th>\n",
              "      <th>2020</th>\n",
              "      <th>2020</th>\n",
              "      <th>2021</th>\n",
              "      <th>2021</th>\n",
              "      <th>2021</th>\n",
              "      <th>2021</th>\n",
              "      <th>2021</th>\n",
              "      <th>...</th>\n",
              "      <th>2022</th>\n",
              "      <th>2022</th>\n",
              "      <th>2022</th>\n",
              "      <th>2022</th>\n",
              "      <th>2023</th>\n",
              "      <th>2023</th>\n",
              "      <th>2023</th>\n",
              "      <th>2023</th>\n",
              "      <th>2023</th>\n",
              "      <th>2023</th>\n",
              "    </tr>\n",
              "    <tr>\n",
              "      <th>Lugar de Compra</th>\n",
              "      <th></th>\n",
              "      <th></th>\n",
              "      <th></th>\n",
              "      <th></th>\n",
              "      <th></th>\n",
              "      <th></th>\n",
              "      <th></th>\n",
              "      <th></th>\n",
              "      <th></th>\n",
              "      <th></th>\n",
              "      <th></th>\n",
              "      <th></th>\n",
              "      <th></th>\n",
              "      <th></th>\n",
              "      <th></th>\n",
              "      <th></th>\n",
              "      <th></th>\n",
              "      <th></th>\n",
              "      <th></th>\n",
              "      <th></th>\n",
              "      <th></th>\n",
              "    </tr>\n",
              "  </thead>\n",
              "  <tbody>\n",
              "    <tr>\n",
              "      <th>Armenia</th>\n",
              "      <td>99800.0</td>\n",
              "      <td>4407300.0</td>\n",
              "      <td>99400.0</td>\n",
              "      <td>49700.0</td>\n",
              "      <td>439900.0</td>\n",
              "      <td>48900.0</td>\n",
              "      <td>458200.0</td>\n",
              "      <td>3123800.0</td>\n",
              "      <td>573800.0</td>\n",
              "      <td>104200.0</td>\n",
              "      <td>...</td>\n",
              "      <td>0.0</td>\n",
              "      <td>0.0</td>\n",
              "      <td>0.0</td>\n",
              "      <td>0.0</td>\n",
              "      <td>0.0</td>\n",
              "      <td>0.0</td>\n",
              "      <td>0.0</td>\n",
              "      <td>0.0</td>\n",
              "      <td>0.0</td>\n",
              "      <td>0.0</td>\n",
              "    </tr>\n",
              "    <tr>\n",
              "      <th>Barranquilla</th>\n",
              "      <td>447300.0</td>\n",
              "      <td>17581800.0</td>\n",
              "      <td>313500.0</td>\n",
              "      <td>507800.0</td>\n",
              "      <td>8857900.0</td>\n",
              "      <td>1475300.0</td>\n",
              "      <td>10278800.0</td>\n",
              "      <td>12165900.0</td>\n",
              "      <td>5325900.0</td>\n",
              "      <td>635700.0</td>\n",
              "      <td>...</td>\n",
              "      <td>2773700.0</td>\n",
              "      <td>3955500.0</td>\n",
              "      <td>2686400.0</td>\n",
              "      <td>660400.0</td>\n",
              "      <td>137100.0</td>\n",
              "      <td>675100.0</td>\n",
              "      <td>4820600.0</td>\n",
              "      <td>732000.0</td>\n",
              "      <td>113300.0</td>\n",
              "      <td>900400.0</td>\n",
              "    </tr>\n",
              "    <tr>\n",
              "      <th>Bogotá</th>\n",
              "      <td>7360600.0</td>\n",
              "      <td>205061300.0</td>\n",
              "      <td>8333900.0</td>\n",
              "      <td>4328800.0</td>\n",
              "      <td>87080000.0</td>\n",
              "      <td>15688400.0</td>\n",
              "      <td>172259500.0</td>\n",
              "      <td>212123100.0</td>\n",
              "      <td>42127100.0</td>\n",
              "      <td>9298600.0</td>\n",
              "      <td>...</td>\n",
              "      <td>18610600.0</td>\n",
              "      <td>183124200.0</td>\n",
              "      <td>51834900.0</td>\n",
              "      <td>8654100.0</td>\n",
              "      <td>1453100.0</td>\n",
              "      <td>5330400.0</td>\n",
              "      <td>40474200.0</td>\n",
              "      <td>10208300.0</td>\n",
              "      <td>1398500.0</td>\n",
              "      <td>24609200.0</td>\n",
              "    </tr>\n",
              "    <tr>\n",
              "      <th>Bucaramanga</th>\n",
              "      <td>60100.0</td>\n",
              "      <td>9228700.0</td>\n",
              "      <td>843600.0</td>\n",
              "      <td>319200.0</td>\n",
              "      <td>3905300.0</td>\n",
              "      <td>753900.0</td>\n",
              "      <td>6344700.0</td>\n",
              "      <td>16121700.0</td>\n",
              "      <td>2258400.0</td>\n",
              "      <td>392300.0</td>\n",
              "      <td>...</td>\n",
              "      <td>394200.0</td>\n",
              "      <td>8540600.0</td>\n",
              "      <td>4362200.0</td>\n",
              "      <td>1329000.0</td>\n",
              "      <td>141000.0</td>\n",
              "      <td>952800.0</td>\n",
              "      <td>0.0</td>\n",
              "      <td>0.0</td>\n",
              "      <td>113100.0</td>\n",
              "      <td>1693700.0</td>\n",
              "    </tr>\n",
              "    <tr>\n",
              "      <th>Cali</th>\n",
              "      <td>1490100.0</td>\n",
              "      <td>56060200.0</td>\n",
              "      <td>2094000.0</td>\n",
              "      <td>1194400.0</td>\n",
              "      <td>19398600.0</td>\n",
              "      <td>3970100.0</td>\n",
              "      <td>39670600.0</td>\n",
              "      <td>53425200.0</td>\n",
              "      <td>5775900.0</td>\n",
              "      <td>2068500.0</td>\n",
              "      <td>...</td>\n",
              "      <td>4636200.0</td>\n",
              "      <td>56314600.0</td>\n",
              "      <td>10623400.0</td>\n",
              "      <td>2615200.0</td>\n",
              "      <td>450400.0</td>\n",
              "      <td>1042700.0</td>\n",
              "      <td>10336100.0</td>\n",
              "      <td>2554200.0</td>\n",
              "      <td>105400.0</td>\n",
              "      <td>6922600.0</td>\n",
              "    </tr>\n",
              "    <tr>\n",
              "      <th>Cartagena</th>\n",
              "      <td>546500.0</td>\n",
              "      <td>4893500.0</td>\n",
              "      <td>665200.0</td>\n",
              "      <td>434800.0</td>\n",
              "      <td>5658600.0</td>\n",
              "      <td>909000.0</td>\n",
              "      <td>9652400.0</td>\n",
              "      <td>18264100.0</td>\n",
              "      <td>1234500.0</td>\n",
              "      <td>897200.0</td>\n",
              "      <td>...</td>\n",
              "      <td>1072000.0</td>\n",
              "      <td>14729800.0</td>\n",
              "      <td>1695000.0</td>\n",
              "      <td>1181600.0</td>\n",
              "      <td>51100.0</td>\n",
              "      <td>446400.0</td>\n",
              "      <td>0.0</td>\n",
              "      <td>0.0</td>\n",
              "      <td>0.0</td>\n",
              "      <td>1029900.0</td>\n",
              "    </tr>\n",
              "    <tr>\n",
              "      <th>Cúcuta</th>\n",
              "      <td>277600.0</td>\n",
              "      <td>19258200.0</td>\n",
              "      <td>888100.0</td>\n",
              "      <td>88900.0</td>\n",
              "      <td>5933200.0</td>\n",
              "      <td>272800.0</td>\n",
              "      <td>12128300.0</td>\n",
              "      <td>5810100.0</td>\n",
              "      <td>568900.0</td>\n",
              "      <td>358600.0</td>\n",
              "      <td>...</td>\n",
              "      <td>249300.0</td>\n",
              "      <td>14783300.0</td>\n",
              "      <td>692500.0</td>\n",
              "      <td>263700.0</td>\n",
              "      <td>37500.0</td>\n",
              "      <td>56700.0</td>\n",
              "      <td>0.0</td>\n",
              "      <td>820600.0</td>\n",
              "      <td>44200.0</td>\n",
              "      <td>2090600.0</td>\n",
              "    </tr>\n",
              "    <tr>\n",
              "      <th>Inírida</th>\n",
              "      <td>0.0</td>\n",
              "      <td>89100.0</td>\n",
              "      <td>0.0</td>\n",
              "      <td>0.0</td>\n",
              "      <td>0.0</td>\n",
              "      <td>49200.0</td>\n",
              "      <td>670200.0</td>\n",
              "      <td>79900.0</td>\n",
              "      <td>682900.0</td>\n",
              "      <td>0.0</td>\n",
              "      <td>...</td>\n",
              "      <td>0.0</td>\n",
              "      <td>2294900.0</td>\n",
              "      <td>35500.0</td>\n",
              "      <td>0.0</td>\n",
              "      <td>0.0</td>\n",
              "      <td>0.0</td>\n",
              "      <td>0.0</td>\n",
              "      <td>644700.0</td>\n",
              "      <td>0.0</td>\n",
              "      <td>0.0</td>\n",
              "    </tr>\n",
              "    <tr>\n",
              "      <th>Leticia</th>\n",
              "      <td>117300.0</td>\n",
              "      <td>6207000.0</td>\n",
              "      <td>67300.0</td>\n",
              "      <td>55500.0</td>\n",
              "      <td>5691600.0</td>\n",
              "      <td>1323100.0</td>\n",
              "      <td>4084900.0</td>\n",
              "      <td>9440400.0</td>\n",
              "      <td>1204900.0</td>\n",
              "      <td>462100.0</td>\n",
              "      <td>...</td>\n",
              "      <td>741300.0</td>\n",
              "      <td>8502400.0</td>\n",
              "      <td>779600.0</td>\n",
              "      <td>129500.0</td>\n",
              "      <td>58500.0</td>\n",
              "      <td>45800.0</td>\n",
              "      <td>2327800.0</td>\n",
              "      <td>0.0</td>\n",
              "      <td>0.0</td>\n",
              "      <td>633800.0</td>\n",
              "    </tr>\n",
              "    <tr>\n",
              "      <th>Manizales</th>\n",
              "      <td>127600.0</td>\n",
              "      <td>0.0</td>\n",
              "      <td>0.0</td>\n",
              "      <td>106000.0</td>\n",
              "      <td>827200.0</td>\n",
              "      <td>1150200.0</td>\n",
              "      <td>1264800.0</td>\n",
              "      <td>5127600.0</td>\n",
              "      <td>973300.0</td>\n",
              "      <td>0.0</td>\n",
              "      <td>...</td>\n",
              "      <td>62000.0</td>\n",
              "      <td>1243200.0</td>\n",
              "      <td>89500.0</td>\n",
              "      <td>18700.0</td>\n",
              "      <td>0.0</td>\n",
              "      <td>0.0</td>\n",
              "      <td>0.0</td>\n",
              "      <td>0.0</td>\n",
              "      <td>0.0</td>\n",
              "      <td>0.0</td>\n",
              "    </tr>\n",
              "    <tr>\n",
              "      <th>Medellín</th>\n",
              "      <td>4217200.0</td>\n",
              "      <td>91591600.0</td>\n",
              "      <td>4987700.0</td>\n",
              "      <td>2572300.0</td>\n",
              "      <td>58814100.0</td>\n",
              "      <td>6480200.0</td>\n",
              "      <td>110963100.0</td>\n",
              "      <td>155520600.0</td>\n",
              "      <td>32562500.0</td>\n",
              "      <td>4595600.0</td>\n",
              "      <td>...</td>\n",
              "      <td>9914200.0</td>\n",
              "      <td>118128000.0</td>\n",
              "      <td>26739100.0</td>\n",
              "      <td>5747200.0</td>\n",
              "      <td>1274400.0</td>\n",
              "      <td>1031700.0</td>\n",
              "      <td>9659800.0</td>\n",
              "      <td>4734000.0</td>\n",
              "      <td>885000.0</td>\n",
              "      <td>14318800.0</td>\n",
              "    </tr>\n",
              "    <tr>\n",
              "      <th>Neiva</th>\n",
              "      <td>89500.0</td>\n",
              "      <td>3186500.0</td>\n",
              "      <td>0.0</td>\n",
              "      <td>0.0</td>\n",
              "      <td>2452900.0</td>\n",
              "      <td>57300.0</td>\n",
              "      <td>548000.0</td>\n",
              "      <td>3103100.0</td>\n",
              "      <td>0.0</td>\n",
              "      <td>96800.0</td>\n",
              "      <td>...</td>\n",
              "      <td>0.0</td>\n",
              "      <td>1782900.0</td>\n",
              "      <td>0.0</td>\n",
              "      <td>66100.0</td>\n",
              "      <td>0.0</td>\n",
              "      <td>0.0</td>\n",
              "      <td>0.0</td>\n",
              "      <td>228000.0</td>\n",
              "      <td>0.0</td>\n",
              "      <td>0.0</td>\n",
              "    </tr>\n",
              "    <tr>\n",
              "      <th>Pasto</th>\n",
              "      <td>200100.0</td>\n",
              "      <td>8445800.0</td>\n",
              "      <td>137400.0</td>\n",
              "      <td>136000.0</td>\n",
              "      <td>2015200.0</td>\n",
              "      <td>1009800.0</td>\n",
              "      <td>3660300.0</td>\n",
              "      <td>2945900.0</td>\n",
              "      <td>1702200.0</td>\n",
              "      <td>148800.0</td>\n",
              "      <td>...</td>\n",
              "      <td>513200.0</td>\n",
              "      <td>5502900.0</td>\n",
              "      <td>1318600.0</td>\n",
              "      <td>28300.0</td>\n",
              "      <td>0.0</td>\n",
              "      <td>638800.0</td>\n",
              "      <td>0.0</td>\n",
              "      <td>311800.0</td>\n",
              "      <td>0.0</td>\n",
              "      <td>189400.0</td>\n",
              "    </tr>\n",
              "    <tr>\n",
              "      <th>Pereira</th>\n",
              "      <td>809700.0</td>\n",
              "      <td>27236500.0</td>\n",
              "      <td>977900.0</td>\n",
              "      <td>629900.0</td>\n",
              "      <td>8858600.0</td>\n",
              "      <td>2245700.0</td>\n",
              "      <td>28172000.0</td>\n",
              "      <td>20286600.0</td>\n",
              "      <td>5125700.0</td>\n",
              "      <td>1216700.0</td>\n",
              "      <td>...</td>\n",
              "      <td>1608100.0</td>\n",
              "      <td>18211200.0</td>\n",
              "      <td>6635700.0</td>\n",
              "      <td>1390100.0</td>\n",
              "      <td>59900.0</td>\n",
              "      <td>906000.0</td>\n",
              "      <td>5361600.0</td>\n",
              "      <td>1731200.0</td>\n",
              "      <td>341100.0</td>\n",
              "      <td>4705400.0</td>\n",
              "    </tr>\n",
              "    <tr>\n",
              "      <th>Riohacha</th>\n",
              "      <td>455100.0</td>\n",
              "      <td>10567000.0</td>\n",
              "      <td>637100.0</td>\n",
              "      <td>298200.0</td>\n",
              "      <td>5260800.0</td>\n",
              "      <td>782700.0</td>\n",
              "      <td>6024200.0</td>\n",
              "      <td>5686200.0</td>\n",
              "      <td>4383100.0</td>\n",
              "      <td>289900.0</td>\n",
              "      <td>...</td>\n",
              "      <td>1167200.0</td>\n",
              "      <td>8677700.0</td>\n",
              "      <td>1716100.0</td>\n",
              "      <td>366700.0</td>\n",
              "      <td>76300.0</td>\n",
              "      <td>287900.0</td>\n",
              "      <td>1871100.0</td>\n",
              "      <td>899200.0</td>\n",
              "      <td>42200.0</td>\n",
              "      <td>444800.0</td>\n",
              "    </tr>\n",
              "    <tr>\n",
              "      <th>Santa Marta</th>\n",
              "      <td>565200.0</td>\n",
              "      <td>4046100.0</td>\n",
              "      <td>435700.0</td>\n",
              "      <td>180500.0</td>\n",
              "      <td>2443700.0</td>\n",
              "      <td>719800.0</td>\n",
              "      <td>4127000.0</td>\n",
              "      <td>3568200.0</td>\n",
              "      <td>223400.0</td>\n",
              "      <td>209400.0</td>\n",
              "      <td>...</td>\n",
              "      <td>293500.0</td>\n",
              "      <td>10352600.0</td>\n",
              "      <td>2747200.0</td>\n",
              "      <td>398500.0</td>\n",
              "      <td>239400.0</td>\n",
              "      <td>12000.0</td>\n",
              "      <td>0.0</td>\n",
              "      <td>82300.0</td>\n",
              "      <td>157100.0</td>\n",
              "      <td>1792800.0</td>\n",
              "    </tr>\n",
              "    <tr>\n",
              "      <th>Soacha</th>\n",
              "      <td>0.0</td>\n",
              "      <td>392900.0</td>\n",
              "      <td>0.0</td>\n",
              "      <td>0.0</td>\n",
              "      <td>227100.0</td>\n",
              "      <td>38000.0</td>\n",
              "      <td>1259800.0</td>\n",
              "      <td>2682600.0</td>\n",
              "      <td>0.0</td>\n",
              "      <td>0.0</td>\n",
              "      <td>...</td>\n",
              "      <td>616900.0</td>\n",
              "      <td>3887400.0</td>\n",
              "      <td>0.0</td>\n",
              "      <td>0.0</td>\n",
              "      <td>0.0</td>\n",
              "      <td>0.0</td>\n",
              "      <td>0.0</td>\n",
              "      <td>0.0</td>\n",
              "      <td>0.0</td>\n",
              "      <td>0.0</td>\n",
              "    </tr>\n",
              "    <tr>\n",
              "      <th>Valledupar</th>\n",
              "      <td>0.0</td>\n",
              "      <td>0.0</td>\n",
              "      <td>235500.0</td>\n",
              "      <td>30700.0</td>\n",
              "      <td>658000.0</td>\n",
              "      <td>0.0</td>\n",
              "      <td>0.0</td>\n",
              "      <td>0.0</td>\n",
              "      <td>742100.0</td>\n",
              "      <td>0.0</td>\n",
              "      <td>...</td>\n",
              "      <td>92600.0</td>\n",
              "      <td>131500.0</td>\n",
              "      <td>0.0</td>\n",
              "      <td>0.0</td>\n",
              "      <td>0.0</td>\n",
              "      <td>0.0</td>\n",
              "      <td>0.0</td>\n",
              "      <td>0.0</td>\n",
              "      <td>0.0</td>\n",
              "      <td>225700.0</td>\n",
              "    </tr>\n",
              "    <tr>\n",
              "      <th>Villavicencio</th>\n",
              "      <td>0.0</td>\n",
              "      <td>1404200.0</td>\n",
              "      <td>30900.0</td>\n",
              "      <td>50400.0</td>\n",
              "      <td>570000.0</td>\n",
              "      <td>91400.0</td>\n",
              "      <td>653700.0</td>\n",
              "      <td>140100.0</td>\n",
              "      <td>309100.0</td>\n",
              "      <td>0.0</td>\n",
              "      <td>...</td>\n",
              "      <td>667700.0</td>\n",
              "      <td>251800.0</td>\n",
              "      <td>1066000.0</td>\n",
              "      <td>24900.0</td>\n",
              "      <td>0.0</td>\n",
              "      <td>0.0</td>\n",
              "      <td>0.0</td>\n",
              "      <td>0.0</td>\n",
              "      <td>0.0</td>\n",
              "      <td>0.0</td>\n",
              "    </tr>\n",
              "  </tbody>\n",
              "</table>\n",
              "<p>19 rows × 32 columns</p>\n",
              "</div>"
            ],
            "text/plain": [
              "Categoría del Producto Artículos para el hogar Electrónicos   Juguetes  \\\n",
              "año                                       2020         2020       2020   \n",
              "Lugar de Compra                                                          \n",
              "Armenia                                99800.0    4407300.0    99400.0   \n",
              "Barranquilla                          447300.0   17581800.0   313500.0   \n",
              "Bogotá                               7360600.0  205061300.0  8333900.0   \n",
              "Bucaramanga                            60100.0    9228700.0   843600.0   \n",
              "Cali                                 1490100.0   56060200.0  2094000.0   \n",
              "Cartagena                             546500.0    4893500.0   665200.0   \n",
              "Cúcuta                                277600.0   19258200.0   888100.0   \n",
              "Inírida                                    0.0      89100.0        0.0   \n",
              "Leticia                               117300.0    6207000.0    67300.0   \n",
              "Manizales                             127600.0          0.0        0.0   \n",
              "Medellín                             4217200.0   91591600.0  4987700.0   \n",
              "Neiva                                  89500.0    3186500.0        0.0   \n",
              "Pasto                                 200100.0    8445800.0   137400.0   \n",
              "Pereira                               809700.0   27236500.0   977900.0   \n",
              "Riohacha                              455100.0   10567000.0   637100.0   \n",
              "Santa Marta                           565200.0    4046100.0   435700.0   \n",
              "Soacha                                     0.0     392900.0        0.0   \n",
              "Valledupar                                 0.0          0.0   235500.0   \n",
              "Villavicencio                              0.0    1404200.0    30900.0   \n",
              "\n",
              "Categoría del Producto     Libros     Muebles Deportes y diversión  \\\n",
              "año                          2020        2020                 2021   \n",
              "Lugar de Compra                                                      \n",
              "Armenia                   49700.0    439900.0              48900.0   \n",
              "Barranquilla             507800.0   8857900.0            1475300.0   \n",
              "Bogotá                  4328800.0  87080000.0           15688400.0   \n",
              "Bucaramanga              319200.0   3905300.0             753900.0   \n",
              "Cali                    1194400.0  19398600.0            3970100.0   \n",
              "Cartagena                434800.0   5658600.0             909000.0   \n",
              "Cúcuta                    88900.0   5933200.0             272800.0   \n",
              "Inírida                       0.0         0.0              49200.0   \n",
              "Leticia                   55500.0   5691600.0            1323100.0   \n",
              "Manizales                106000.0    827200.0            1150200.0   \n",
              "Medellín                2572300.0  58814100.0            6480200.0   \n",
              "Neiva                         0.0   2452900.0              57300.0   \n",
              "Pasto                    136000.0   2015200.0            1009800.0   \n",
              "Pereira                  629900.0   8858600.0            2245700.0   \n",
              "Riohacha                 298200.0   5260800.0             782700.0   \n",
              "Santa Marta              180500.0   2443700.0             719800.0   \n",
              "Soacha                        0.0    227100.0              38000.0   \n",
              "Valledupar                30700.0    658000.0                  0.0   \n",
              "Villavicencio             50400.0    570000.0              91400.0   \n",
              "\n",
              "Categoría del Producto Electrodomésticos Electrónicos Instrumentos musicales  \\\n",
              "año                                 2021         2021                   2021   \n",
              "Lugar de Compra                                                                \n",
              "Armenia                         458200.0    3123800.0               573800.0   \n",
              "Barranquilla                  10278800.0   12165900.0              5325900.0   \n",
              "Bogotá                       172259500.0  212123100.0             42127100.0   \n",
              "Bucaramanga                    6344700.0   16121700.0              2258400.0   \n",
              "Cali                          39670600.0   53425200.0              5775900.0   \n",
              "Cartagena                      9652400.0   18264100.0              1234500.0   \n",
              "Cúcuta                        12128300.0    5810100.0               568900.0   \n",
              "Inírida                         670200.0      79900.0               682900.0   \n",
              "Leticia                        4084900.0    9440400.0              1204900.0   \n",
              "Manizales                      1264800.0    5127600.0               973300.0   \n",
              "Medellín                     110963100.0  155520600.0             32562500.0   \n",
              "Neiva                           548000.0    3103100.0                    0.0   \n",
              "Pasto                          3660300.0    2945900.0              1702200.0   \n",
              "Pereira                       28172000.0   20286600.0              5125700.0   \n",
              "Riohacha                       6024200.0    5686200.0              4383100.0   \n",
              "Santa Marta                    4127000.0    3568200.0               223400.0   \n",
              "Soacha                         1259800.0    2682600.0                    0.0   \n",
              "Valledupar                           0.0          0.0               742100.0   \n",
              "Villavicencio                   653700.0     140100.0               309100.0   \n",
              "\n",
              "Categoría del Producto   Juguetes  ... Deportes y diversión Electrónicos  \\\n",
              "año                          2021  ...                 2022         2022   \n",
              "Lugar de Compra                    ...                                     \n",
              "Armenia                  104200.0  ...                  0.0          0.0   \n",
              "Barranquilla             635700.0  ...            2773700.0    3955500.0   \n",
              "Bogotá                  9298600.0  ...           18610600.0  183124200.0   \n",
              "Bucaramanga              392300.0  ...             394200.0    8540600.0   \n",
              "Cali                    2068500.0  ...            4636200.0   56314600.0   \n",
              "Cartagena                897200.0  ...            1072000.0   14729800.0   \n",
              "Cúcuta                   358600.0  ...             249300.0   14783300.0   \n",
              "Inírida                       0.0  ...                  0.0    2294900.0   \n",
              "Leticia                  462100.0  ...             741300.0    8502400.0   \n",
              "Manizales                     0.0  ...              62000.0    1243200.0   \n",
              "Medellín                4595600.0  ...            9914200.0  118128000.0   \n",
              "Neiva                     96800.0  ...                  0.0    1782900.0   \n",
              "Pasto                    148800.0  ...             513200.0    5502900.0   \n",
              "Pereira                 1216700.0  ...            1608100.0   18211200.0   \n",
              "Riohacha                 289900.0  ...            1167200.0    8677700.0   \n",
              "Santa Marta              209400.0  ...             293500.0   10352600.0   \n",
              "Soacha                        0.0  ...             616900.0    3887400.0   \n",
              "Valledupar                    0.0  ...              92600.0     131500.0   \n",
              "Villavicencio                 0.0  ...             667700.0     251800.0   \n",
              "\n",
              "Categoría del Producto Instrumentos musicales   Juguetes  \\\n",
              "año                                      2022       2022   \n",
              "Lugar de Compra                                            \n",
              "Armenia                                   0.0        0.0   \n",
              "Barranquilla                        2686400.0   660400.0   \n",
              "Bogotá                             51834900.0  8654100.0   \n",
              "Bucaramanga                         4362200.0  1329000.0   \n",
              "Cali                               10623400.0  2615200.0   \n",
              "Cartagena                           1695000.0  1181600.0   \n",
              "Cúcuta                               692500.0   263700.0   \n",
              "Inírida                               35500.0        0.0   \n",
              "Leticia                              779600.0   129500.0   \n",
              "Manizales                             89500.0    18700.0   \n",
              "Medellín                           26739100.0  5747200.0   \n",
              "Neiva                                     0.0    66100.0   \n",
              "Pasto                               1318600.0    28300.0   \n",
              "Pereira                             6635700.0  1390100.0   \n",
              "Riohacha                            1716100.0   366700.0   \n",
              "Santa Marta                         2747200.0   398500.0   \n",
              "Soacha                                    0.0        0.0   \n",
              "Valledupar                                0.0        0.0   \n",
              "Villavicencio                       1066000.0    24900.0   \n",
              "\n",
              "Categoría del Producto Artículos para el hogar Deportes y diversión  \\\n",
              "año                                       2023                 2023   \n",
              "Lugar de Compra                                                       \n",
              "Armenia                                    0.0                  0.0   \n",
              "Barranquilla                          137100.0             675100.0   \n",
              "Bogotá                               1453100.0            5330400.0   \n",
              "Bucaramanga                           141000.0             952800.0   \n",
              "Cali                                  450400.0            1042700.0   \n",
              "Cartagena                              51100.0             446400.0   \n",
              "Cúcuta                                 37500.0              56700.0   \n",
              "Inírida                                    0.0                  0.0   \n",
              "Leticia                                58500.0              45800.0   \n",
              "Manizales                                  0.0                  0.0   \n",
              "Medellín                             1274400.0            1031700.0   \n",
              "Neiva                                      0.0                  0.0   \n",
              "Pasto                                      0.0             638800.0   \n",
              "Pereira                                59900.0             906000.0   \n",
              "Riohacha                               76300.0             287900.0   \n",
              "Santa Marta                           239400.0              12000.0   \n",
              "Soacha                                     0.0                  0.0   \n",
              "Valledupar                                 0.0                  0.0   \n",
              "Villavicencio                              0.0                  0.0   \n",
              "\n",
              "Categoría del Producto Electrodomésticos Instrumentos musicales     Libros  \\\n",
              "año                                 2023                   2023       2023   \n",
              "Lugar de Compra                                                              \n",
              "Armenia                              0.0                    0.0        0.0   \n",
              "Barranquilla                   4820600.0               732000.0   113300.0   \n",
              "Bogotá                        40474200.0             10208300.0  1398500.0   \n",
              "Bucaramanga                          0.0                    0.0   113100.0   \n",
              "Cali                          10336100.0              2554200.0   105400.0   \n",
              "Cartagena                            0.0                    0.0        0.0   \n",
              "Cúcuta                               0.0               820600.0    44200.0   \n",
              "Inírida                              0.0               644700.0        0.0   \n",
              "Leticia                        2327800.0                    0.0        0.0   \n",
              "Manizales                            0.0                    0.0        0.0   \n",
              "Medellín                       9659800.0              4734000.0   885000.0   \n",
              "Neiva                                0.0               228000.0        0.0   \n",
              "Pasto                                0.0               311800.0        0.0   \n",
              "Pereira                        5361600.0              1731200.0   341100.0   \n",
              "Riohacha                       1871100.0               899200.0    42200.0   \n",
              "Santa Marta                          0.0                82300.0   157100.0   \n",
              "Soacha                               0.0                    0.0        0.0   \n",
              "Valledupar                           0.0                    0.0        0.0   \n",
              "Villavicencio                        0.0                    0.0        0.0   \n",
              "\n",
              "Categoría del Producto     Muebles  \n",
              "año                           2023  \n",
              "Lugar de Compra                     \n",
              "Armenia                        0.0  \n",
              "Barranquilla              900400.0  \n",
              "Bogotá                  24609200.0  \n",
              "Bucaramanga              1693700.0  \n",
              "Cali                     6922600.0  \n",
              "Cartagena                1029900.0  \n",
              "Cúcuta                   2090600.0  \n",
              "Inírida                        0.0  \n",
              "Leticia                   633800.0  \n",
              "Manizales                      0.0  \n",
              "Medellín                14318800.0  \n",
              "Neiva                          0.0  \n",
              "Pasto                     189400.0  \n",
              "Pereira                  4705400.0  \n",
              "Riohacha                  444800.0  \n",
              "Santa Marta              1792800.0  \n",
              "Soacha                         0.0  \n",
              "Valledupar                225700.0  \n",
              "Villavicencio                  0.0  \n",
              "\n",
              "[19 rows x 32 columns]"
            ]
          },
          "execution_count": 34,
          "metadata": {},
          "output_type": "execute_result"
        }
      ],
      "source": [
        "pivot_ganancia_por_categoria = ganancia_por_categoria.pivot(index='Lugar de Compra', columns=['Categoría del Producto', \"año\"], values='ganancia_neta').fillna(0)\n",
        "pivot_ganancia_por_categoria"
      ]
    },
    {
      "cell_type": "code",
      "execution_count": 35,
      "metadata": {},
      "outputs": [],
      "source": [
        "# Se calculo el porcentage de beneficios por categoria de articulos, para cada año en cada tienda\n",
        "porcentaje_de_ganancia = pd.DataFrame()\n",
        "porcentaje_de_ganancia[\"p_2020_art_hogar\"] = (pivot_ganancia_por_categoria[(\"Artículos para el hogar\", 2020)]/(pivot_ganancia_por_categoria[(\"Artículos para el hogar\", 2020)] + \n",
        "                                                                                          pivot_ganancia_por_categoria[(\"Electrónicos\", 2020)]+ pivot_ganancia_por_categoria[(\"Juguetes\", 2020)]+ \n",
        "                                                                                          pivot_ganancia_por_categoria[(\"Libros\", 2020)]+ pivot_ganancia_por_categoria[(\"Muebles\", 2020)]+ \n",
        "                                                                                          pivot_ganancia_por_categoria[(\"Deportes y diversión\", 2020)]))*100\n",
        "\n",
        "porcentaje_de_ganancia[\"p_2020_electronicos\"] = (pivot_ganancia_por_categoria[(\"Electrónicos\", 2020)]/(pivot_ganancia_por_categoria[(\"Artículos para el hogar\", 2020)] + \n",
        "                                                                                          pivot_ganancia_por_categoria[(\"Electrónicos\", 2020)]+ pivot_ganancia_por_categoria[(\"Juguetes\", 2020)]+ \n",
        "                                                                                          pivot_ganancia_por_categoria[(\"Libros\", 2020)]+ pivot_ganancia_por_categoria[(\"Muebles\", 2020)]+ \n",
        "                                                                                          pivot_ganancia_por_categoria[(\"Deportes y diversión\", 2020)]))*100\n",
        "\n",
        "porcentaje_de_ganancia[\"p_2020_juguetes\"] = (pivot_ganancia_por_categoria[(\"Juguetes\", 2020)]/(pivot_ganancia_por_categoria[(\"Artículos para el hogar\", 2020)] + \n",
        "                                                                                          pivot_ganancia_por_categoria[(\"Electrónicos\", 2020)]+ pivot_ganancia_por_categoria[(\"Juguetes\", 2020)]+ \n",
        "                                                                                          pivot_ganancia_por_categoria[(\"Libros\", 2020)]+ pivot_ganancia_por_categoria[(\"Muebles\", 2020)]+ \n",
        "                                                                                          pivot_ganancia_por_categoria[(\"Deportes y diversión\", 2020)]))*100\n",
        "\n",
        "porcentaje_de_ganancia[\"p_2020_libros\"] = (pivot_ganancia_por_categoria[(\"Libros\", 2020)]/(pivot_ganancia_por_categoria[(\"Artículos para el hogar\", 2020)] + \n",
        "                                                                                          pivot_ganancia_por_categoria[(\"Electrónicos\", 2020)]+ pivot_ganancia_por_categoria[(\"Juguetes\", 2020)]+ \n",
        "                                                                                          pivot_ganancia_por_categoria[(\"Libros\", 2020)]+ pivot_ganancia_por_categoria[(\"Muebles\", 2020)]+ \n",
        "                                                                                          pivot_ganancia_por_categoria[(\"Deportes y diversión\", 2020)]))*100\n",
        "\n",
        "porcentaje_de_ganancia[\"p_2020_muebles\"] = (pivot_ganancia_por_categoria[(\"Muebles\", 2020)]/(pivot_ganancia_por_categoria[(\"Artículos para el hogar\", 2020)] + \n",
        "                                                                                          pivot_ganancia_por_categoria[(\"Electrónicos\", 2020)]+ pivot_ganancia_por_categoria[(\"Juguetes\", 2020)]+ \n",
        "                                                                                          pivot_ganancia_por_categoria[(\"Libros\", 2020)]+ pivot_ganancia_por_categoria[(\"Muebles\", 2020)]+ \n",
        "                                                                                          pivot_ganancia_por_categoria[(\"Deportes y diversión\", 2020)]))*100\n",
        "\n",
        "porcentaje_de_ganancia[\"p_2020_deportes\"] = (pivot_ganancia_por_categoria[(\"Deportes y diversión\", 2020)]/(pivot_ganancia_por_categoria[(\"Artículos para el hogar\", 2020)] + \n",
        "                                                                                          pivot_ganancia_por_categoria[(\"Electrónicos\", 2020)]+ pivot_ganancia_por_categoria[(\"Juguetes\", 2020)]+ \n",
        "                                                                                          pivot_ganancia_por_categoria[(\"Libros\", 2020)]+ pivot_ganancia_por_categoria[(\"Muebles\", 2020)]+ \n",
        "                                                                                          pivot_ganancia_por_categoria[(\"Deportes y diversión\", 2020)]))*100\n",
        "\n",
        "\n",
        "\n",
        "porcentaje_de_ganancia[\"p_2021_art_hogar\"] = (pivot_ganancia_por_categoria[(\"Artículos para el hogar\", 2021)]/(pivot_ganancia_por_categoria[(\"Artículos para el hogar\", 2021)] + \n",
        "                                                                                          pivot_ganancia_por_categoria[(\"Electrónicos\", 2021)]+ pivot_ganancia_por_categoria[(\"Juguetes\", 2021)]+ \n",
        "                                                                                          pivot_ganancia_por_categoria[(\"Libros\", 2021)]+ pivot_ganancia_por_categoria[(\"Muebles\", 2021)]+ \n",
        "                                                                                          pivot_ganancia_por_categoria[(\"Deportes y diversión\", 2021)]))*100\n",
        "\n",
        "porcentaje_de_ganancia[\"p_2021_electronicos\"] = (pivot_ganancia_por_categoria[(\"Electrónicos\", 2021)]/(pivot_ganancia_por_categoria[(\"Artículos para el hogar\", 2021)] + \n",
        "                                                                                          pivot_ganancia_por_categoria[(\"Electrónicos\", 2021)]+ pivot_ganancia_por_categoria[(\"Juguetes\", 2021)]+ \n",
        "                                                                                          pivot_ganancia_por_categoria[(\"Libros\", 2021)]+ pivot_ganancia_por_categoria[(\"Muebles\", 2021)]+ \n",
        "                                                                                          pivot_ganancia_por_categoria[(\"Deportes y diversión\", 2021)]))*100\n",
        "\n",
        "porcentaje_de_ganancia[\"p_2021_juguetes\"] = (pivot_ganancia_por_categoria[(\"Juguetes\", 2021)]/(pivot_ganancia_por_categoria[(\"Artículos para el hogar\", 2021)] + \n",
        "                                                                                          pivot_ganancia_por_categoria[(\"Electrónicos\", 2021)]+ pivot_ganancia_por_categoria[(\"Juguetes\", 2021)]+ \n",
        "                                                                                          pivot_ganancia_por_categoria[(\"Libros\", 2021)]+ pivot_ganancia_por_categoria[(\"Muebles\", 2021)]+ \n",
        "                                                                                          pivot_ganancia_por_categoria[(\"Deportes y diversión\", 2021)]))*100\n",
        "\n",
        "porcentaje_de_ganancia[\"p_2021_libros\"] = (pivot_ganancia_por_categoria[(\"Libros\", 2021)]/(pivot_ganancia_por_categoria[(\"Artículos para el hogar\", 2021)] + \n",
        "                                                                                          pivot_ganancia_por_categoria[(\"Electrónicos\", 2021)]+ pivot_ganancia_por_categoria[(\"Juguetes\", 2021)]+ \n",
        "                                                                                          pivot_ganancia_por_categoria[(\"Libros\", 2021)]+ pivot_ganancia_por_categoria[(\"Muebles\", 2021)]+ \n",
        "                                                                                          pivot_ganancia_por_categoria[(\"Deportes y diversión\", 2021)]))*100\n",
        "\n",
        "porcentaje_de_ganancia[\"p_2021_muebles\"] = (pivot_ganancia_por_categoria[(\"Muebles\", 2021)]/(pivot_ganancia_por_categoria[(\"Artículos para el hogar\", 2021)] + \n",
        "                                                                                          pivot_ganancia_por_categoria[(\"Electrónicos\",2021)]+ pivot_ganancia_por_categoria[(\"Juguetes\", 2021)]+ \n",
        "                                                                                          pivot_ganancia_por_categoria[(\"Libros\", 2021)]+ pivot_ganancia_por_categoria[(\"Muebles\", 2021)]+ \n",
        "                                                                                          pivot_ganancia_por_categoria[(\"Deportes y diversión\", 2021)]))*100\n",
        "\n",
        "porcentaje_de_ganancia[\"p_2021_deportes\"] = (pivot_ganancia_por_categoria[(\"Deportes y diversión\", 2021)]/(pivot_ganancia_por_categoria[(\"Artículos para el hogar\", 2021)] + \n",
        "                                                                                          pivot_ganancia_por_categoria[(\"Electrónicos\", 2021)]+ pivot_ganancia_por_categoria[(\"Juguetes\", 2021)]+ \n",
        "                                                                                          pivot_ganancia_por_categoria[(\"Libros\", 2021)]+ pivot_ganancia_por_categoria[(\"Muebles\", 2021)]+ \n",
        "                                                                                          pivot_ganancia_por_categoria[(\"Deportes y diversión\", 2021)]))*100\n",
        "                                                          \n",
        "\n",
        "porcentaje_de_ganancia[\"p_2022_art_hogar\"] = (pivot_ganancia_por_categoria[(\"Artículos para el hogar\", 2022)]/(pivot_ganancia_por_categoria[(\"Artículos para el hogar\", 2022)] + \n",
        "                                                                                          pivot_ganancia_por_categoria[(\"Electrónicos\", 2022)]+ pivot_ganancia_por_categoria[(\"Juguetes\", 2022)]+ \n",
        "                                                                                          pivot_ganancia_por_categoria[(\"Libros\", 2022)]+ pivot_ganancia_por_categoria[(\"Muebles\", 2022)]+ \n",
        "                                                                                          pivot_ganancia_por_categoria[(\"Deportes y diversión\", 2022)]))*100\n",
        "\n",
        "porcentaje_de_ganancia[\"p_2022_electronicos\"] = (pivot_ganancia_por_categoria[(\"Electrónicos\", 2022)]/(pivot_ganancia_por_categoria[(\"Artículos para el hogar\", 2022)] + \n",
        "                                                                                          pivot_ganancia_por_categoria[(\"Electrónicos\", 2022)]+ pivot_ganancia_por_categoria[(\"Juguetes\", 2022)]+ \n",
        "                                                                                          pivot_ganancia_por_categoria[(\"Libros\", 2022)]+ pivot_ganancia_por_categoria[(\"Muebles\", 2022)]+ \n",
        "                                                                                          pivot_ganancia_por_categoria[(\"Deportes y diversión\", 2022)]))*100\n",
        "\n",
        "porcentaje_de_ganancia[\"p_2022_juguetes\"] = (pivot_ganancia_por_categoria[(\"Juguetes\", 2022)]/(pivot_ganancia_por_categoria[(\"Artículos para el hogar\", 2022)] + \n",
        "                                                                                          pivot_ganancia_por_categoria[(\"Electrónicos\", 2022)]+ pivot_ganancia_por_categoria[(\"Juguetes\", 2022)]+ \n",
        "                                                                                          pivot_ganancia_por_categoria[(\"Libros\", 2022)]+ pivot_ganancia_por_categoria[(\"Muebles\", 2022)]+ \n",
        "                                                                                          pivot_ganancia_por_categoria[(\"Deportes y diversión\", 2022)]))*100\n",
        "\n",
        "porcentaje_de_ganancia[\"p_2022_libros\"] = (pivot_ganancia_por_categoria[(\"Libros\", 2022)]/(pivot_ganancia_por_categoria[(\"Artículos para el hogar\", 2022)] + \n",
        "                                                                                          pivot_ganancia_por_categoria[(\"Electrónicos\", 2022)]+ pivot_ganancia_por_categoria[(\"Juguetes\", 2022)]+ \n",
        "                                                                                          pivot_ganancia_por_categoria[(\"Libros\", 2022)]+ pivot_ganancia_por_categoria[(\"Muebles\", 2022)]+ \n",
        "                                                                                          pivot_ganancia_por_categoria[(\"Deportes y diversión\", 2022)]))*100\n",
        "\n",
        "porcentaje_de_ganancia[\"p_2022_muebles\"] = (pivot_ganancia_por_categoria[(\"Muebles\", 2022)]/(pivot_ganancia_por_categoria[(\"Artículos para el hogar\", 2022)] + \n",
        "                                                                                          pivot_ganancia_por_categoria[(\"Electrónicos\", 2022)]+ pivot_ganancia_por_categoria[(\"Juguetes\", 2022)]+ \n",
        "                                                                                          pivot_ganancia_por_categoria[(\"Libros\", 2022)]+ pivot_ganancia_por_categoria[(\"Muebles\", 2022)]+ \n",
        "                                                                                          pivot_ganancia_por_categoria[(\"Deportes y diversión\", 2022)]))*100\n",
        "                                                                                          \n",
        "porcentaje_de_ganancia[\"p_2022_deportes\"] = (pivot_ganancia_por_categoria[(\"Deportes y diversión\", 2022)]/(pivot_ganancia_por_categoria[(\"Artículos para el hogar\", 2022)] + \n",
        "                                                                                          pivot_ganancia_por_categoria[(\"Electrónicos\", 2022)]+ pivot_ganancia_por_categoria[(\"Juguetes\", 2022)]+ \n",
        "                                                                                          pivot_ganancia_por_categoria[(\"Libros\", 2022)]+ pivot_ganancia_por_categoria[(\"Muebles\", 2022)]+ \n",
        "                                                                                          pivot_ganancia_por_categoria[(\"Deportes y diversión\", 2022)]))*100\n",
        "\n",
        "\n",
        "porcentaje_de_ganancia[\"p_2023_art_hogar\"] = (pivot_ganancia_por_categoria[(\"Artículos para el hogar\", 2023)]/(pivot_ganancia_por_categoria[(\"Artículos para el hogar\", 2023)] + \n",
        "                                                                                          pivot_ganancia_por_categoria[(\"Electrónicos\", 2023)]+ pivot_ganancia_por_categoria[(\"Juguetes\", 2023)]+ \n",
        "                                                                                          pivot_ganancia_por_categoria[(\"Libros\", 2023)]+ pivot_ganancia_por_categoria[(\"Muebles\", 2023)]+ \n",
        "                                                                                          pivot_ganancia_por_categoria[(\"Deportes y diversión\", 2023)]))*100\n",
        "\n",
        "porcentaje_de_ganancia[\"p_2023_electronicos\"] = (pivot_ganancia_por_categoria[(\"Electrónicos\", 2023)]/(pivot_ganancia_por_categoria[(\"Artículos para el hogar\", 2023)] + \n",
        "                                                                                          pivot_ganancia_por_categoria[(\"Electrónicos\", 2023)]+ pivot_ganancia_por_categoria[(\"Juguetes\", 2023)]+ \n",
        "                                                                                          pivot_ganancia_por_categoria[(\"Libros\", 2023)]+ pivot_ganancia_por_categoria[(\"Muebles\", 2023)]+ \n",
        "                                                                                          pivot_ganancia_por_categoria[(\"Deportes y diversión\", 2023)]))*100\n",
        "\n",
        "porcentaje_de_ganancia[\"p_2023_juguetes\"] = (pivot_ganancia_por_categoria[(\"Juguetes\", 2023)]/(pivot_ganancia_por_categoria[(\"Artículos para el hogar\", 2023)] + \n",
        "                                                                                          pivot_ganancia_por_categoria[(\"Electrónicos\", 2023)]+ pivot_ganancia_por_categoria[(\"Juguetes\", 2023)]+ \n",
        "                                                                                          pivot_ganancia_por_categoria[(\"Libros\", 2023)]+ pivot_ganancia_por_categoria[(\"Muebles\", 2023)]+ \n",
        "                                                                                          pivot_ganancia_por_categoria[(\"Deportes y diversión\", 2023)]))*100\n",
        "\n",
        "porcentaje_de_ganancia[\"p_2023_libros\"] = (pivot_ganancia_por_categoria[(\"Libros\", 2023)]/(pivot_ganancia_por_categoria[(\"Artículos para el hogar\", 2023)] + \n",
        "                                                                                          pivot_ganancia_por_categoria[(\"Electrónicos\", 2023)]+ pivot_ganancia_por_categoria[(\"Juguetes\", 2023)]+ \n",
        "                                                                                          pivot_ganancia_por_categoria[(\"Libros\", 2023)]+ pivot_ganancia_por_categoria[(\"Muebles\", 2023)]+ \n",
        "                                                                                          pivot_ganancia_por_categoria[(\"Deportes y diversión\", 2023)]))*100\n",
        "\n",
        "porcentaje_de_ganancia[\"p_2023_muebles\"] = (pivot_ganancia_por_categoria[(\"Muebles\", 2023)]/(pivot_ganancia_por_categoria[(\"Artículos para el hogar\", 2023)] + \n",
        "                                                                                          pivot_ganancia_por_categoria[(\"Electrónicos\", 2023)]+ pivot_ganancia_por_categoria[(\"Juguetes\", 2023)]+ \n",
        "                                                                                          pivot_ganancia_por_categoria[(\"Libros\", 2023)]+ pivot_ganancia_por_categoria[(\"Muebles\", 2023)]+ \n",
        "                                                                                          pivot_ganancia_por_categoria[(\"Deportes y diversión\", 2023)]))*100\n",
        "                                                                                          \n",
        "porcentaje_de_ganancia[\"p_2023_deportes\"] = (pivot_ganancia_por_categoria[(\"Deportes y diversión\", 2023)]/(pivot_ganancia_por_categoria[(\"Artículos para el hogar\", 2023)] + \n",
        "                                                                                          pivot_ganancia_por_categoria[(\"Electrónicos\", 2023)]+ pivot_ganancia_por_categoria[(\"Juguetes\", 2023)]+ \n",
        "                                                                                          pivot_ganancia_por_categoria[(\"Libros\", 2023)]+ pivot_ganancia_por_categoria[(\"Muebles\", 2023)]+ \n",
        "                                                                                          pivot_ganancia_por_categoria[(\"Deportes y diversión\", 2023)]))*100"
      ]
    },
    {
      "cell_type": "code",
      "execution_count": 36,
      "metadata": {},
      "outputs": [
        {
          "data": {
            "text/html": [
              "<div>\n",
              "<style scoped>\n",
              "    .dataframe tbody tr th:only-of-type {\n",
              "        vertical-align: middle;\n",
              "    }\n",
              "\n",
              "    .dataframe tbody tr th {\n",
              "        vertical-align: top;\n",
              "    }\n",
              "\n",
              "    .dataframe thead th {\n",
              "        text-align: right;\n",
              "    }\n",
              "</style>\n",
              "<table border=\"1\" class=\"dataframe\">\n",
              "  <thead>\n",
              "    <tr style=\"text-align: right;\">\n",
              "      <th></th>\n",
              "      <th>p_2020_art_hogar</th>\n",
              "      <th>p_2020_electronicos</th>\n",
              "      <th>p_2020_juguetes</th>\n",
              "      <th>p_2020_libros</th>\n",
              "      <th>p_2020_muebles</th>\n",
              "      <th>p_2020_deportes</th>\n",
              "      <th>p_2021_art_hogar</th>\n",
              "      <th>p_2021_electronicos</th>\n",
              "      <th>p_2021_juguetes</th>\n",
              "      <th>p_2021_libros</th>\n",
              "      <th>...</th>\n",
              "      <th>p_2022_juguetes</th>\n",
              "      <th>p_2022_libros</th>\n",
              "      <th>p_2022_muebles</th>\n",
              "      <th>p_2022_deportes</th>\n",
              "      <th>p_2023_art_hogar</th>\n",
              "      <th>p_2023_electronicos</th>\n",
              "      <th>p_2023_juguetes</th>\n",
              "      <th>p_2023_libros</th>\n",
              "      <th>p_2023_muebles</th>\n",
              "      <th>p_2023_deportes</th>\n",
              "    </tr>\n",
              "    <tr>\n",
              "      <th>Lugar de Compra</th>\n",
              "      <th></th>\n",
              "      <th></th>\n",
              "      <th></th>\n",
              "      <th></th>\n",
              "      <th></th>\n",
              "      <th></th>\n",
              "      <th></th>\n",
              "      <th></th>\n",
              "      <th></th>\n",
              "      <th></th>\n",
              "      <th></th>\n",
              "      <th></th>\n",
              "      <th></th>\n",
              "      <th></th>\n",
              "      <th></th>\n",
              "      <th></th>\n",
              "      <th></th>\n",
              "      <th></th>\n",
              "      <th></th>\n",
              "      <th></th>\n",
              "      <th></th>\n",
              "    </tr>\n",
              "  </thead>\n",
              "  <tbody>\n",
              "    <tr>\n",
              "      <th>Armenia</th>\n",
              "      <td>1.958360</td>\n",
              "      <td>86.483782</td>\n",
              "      <td>1.950511</td>\n",
              "      <td>0.975256</td>\n",
              "      <td>8.632091</td>\n",
              "      <td>0.000000</td>\n",
              "      <td>0.000000</td>\n",
              "      <td>74.696318</td>\n",
              "      <td>2.491631</td>\n",
              "      <td>0.000000</td>\n",
              "      <td>...</td>\n",
              "      <td>0.000000</td>\n",
              "      <td>8.309281</td>\n",
              "      <td>86.920857</td>\n",
              "      <td>0.000000</td>\n",
              "      <td>0.000000</td>\n",
              "      <td>86.070588</td>\n",
              "      <td>13.929412</td>\n",
              "      <td>0.000000</td>\n",
              "      <td>0.000000</td>\n",
              "      <td>0.000000</td>\n",
              "    </tr>\n",
              "    <tr>\n",
              "      <th>Barranquilla</th>\n",
              "      <td>1.567181</td>\n",
              "      <td>61.600395</td>\n",
              "      <td>1.098393</td>\n",
              "      <td>1.779151</td>\n",
              "      <td>31.034942</td>\n",
              "      <td>2.919938</td>\n",
              "      <td>2.528149</td>\n",
              "      <td>51.151184</td>\n",
              "      <td>2.672783</td>\n",
              "      <td>1.506883</td>\n",
              "      <td>...</td>\n",
              "      <td>3.803600</td>\n",
              "      <td>1.267675</td>\n",
              "      <td>52.671562</td>\n",
              "      <td>15.975234</td>\n",
              "      <td>4.911514</td>\n",
              "      <td>25.904564</td>\n",
              "      <td>8.683815</td>\n",
              "      <td>4.058895</td>\n",
              "      <td>32.256216</td>\n",
              "      <td>24.184997</td>\n",
              "    </tr>\n",
              "    <tr>\n",
              "      <th>Bogotá</th>\n",
              "      <td>2.241185</td>\n",
              "      <td>62.437900</td>\n",
              "      <td>2.537540</td>\n",
              "      <td>1.318051</td>\n",
              "      <td>26.514473</td>\n",
              "      <td>4.950850</td>\n",
              "      <td>1.932031</td>\n",
              "      <td>62.579721</td>\n",
              "      <td>2.743236</td>\n",
              "      <td>1.314031</td>\n",
              "      <td>...</td>\n",
              "      <td>2.785958</td>\n",
              "      <td>1.525563</td>\n",
              "      <td>28.433926</td>\n",
              "      <td>5.991190</td>\n",
              "      <td>2.192948</td>\n",
              "      <td>46.676396</td>\n",
              "      <td>3.836716</td>\n",
              "      <td>2.110548</td>\n",
              "      <td>37.139011</td>\n",
              "      <td>8.044381</td>\n",
              "    </tr>\n",
              "    <tr>\n",
              "      <th>Bucaramanga</th>\n",
              "      <td>0.387627</td>\n",
              "      <td>59.522335</td>\n",
              "      <td>5.440966</td>\n",
              "      <td>2.058744</td>\n",
              "      <td>25.188009</td>\n",
              "      <td>7.402319</td>\n",
              "      <td>0.552840</td>\n",
              "      <td>76.438403</td>\n",
              "      <td>1.860026</td>\n",
              "      <td>0.879518</td>\n",
              "      <td>...</td>\n",
              "      <td>9.011636</td>\n",
              "      <td>1.666712</td>\n",
              "      <td>27.593642</td>\n",
              "      <td>2.672977</td>\n",
              "      <td>3.021083</td>\n",
              "      <td>35.800908</td>\n",
              "      <td>2.050480</td>\n",
              "      <td>2.423294</td>\n",
              "      <td>36.289424</td>\n",
              "      <td>20.414810</td>\n",
              "    </tr>\n",
              "    <tr>\n",
              "      <th>Cali</th>\n",
              "      <td>1.727328</td>\n",
              "      <td>64.985127</td>\n",
              "      <td>2.427370</td>\n",
              "      <td>1.384552</td>\n",
              "      <td>22.486907</td>\n",
              "      <td>6.988716</td>\n",
              "      <td>1.621232</td>\n",
              "      <td>60.527359</td>\n",
              "      <td>2.343479</td>\n",
              "      <td>1.031539</td>\n",
              "      <td>...</td>\n",
              "      <td>2.901880</td>\n",
              "      <td>0.864727</td>\n",
              "      <td>26.756723</td>\n",
              "      <td>5.144423</td>\n",
              "      <td>1.334823</td>\n",
              "      <td>73.431272</td>\n",
              "      <td>1.315263</td>\n",
              "      <td>0.312368</td>\n",
              "      <td>20.516088</td>\n",
              "      <td>3.090187</td>\n",
              "    </tr>\n",
              "    <tr>\n",
              "      <th>Cartagena</th>\n",
              "      <td>4.135139</td>\n",
              "      <td>37.027088</td>\n",
              "      <td>5.033293</td>\n",
              "      <td>3.289952</td>\n",
              "      <td>42.816283</td>\n",
              "      <td>7.698245</td>\n",
              "      <td>0.913478</td>\n",
              "      <td>78.623240</td>\n",
              "      <td>3.862264</td>\n",
              "      <td>1.988816</td>\n",
              "      <td>...</td>\n",
              "      <td>5.515851</td>\n",
              "      <td>1.313609</td>\n",
              "      <td>16.433650</td>\n",
              "      <td>5.004225</td>\n",
              "      <td>3.148684</td>\n",
              "      <td>0.000000</td>\n",
              "      <td>5.884528</td>\n",
              "      <td>0.000000</td>\n",
              "      <td>63.460472</td>\n",
              "      <td>27.506316</td>\n",
              "    </tr>\n",
              "    <tr>\n",
              "      <th>Cúcuta</th>\n",
              "      <td>1.039922</td>\n",
              "      <td>72.143491</td>\n",
              "      <td>3.326927</td>\n",
              "      <td>0.333030</td>\n",
              "      <td>22.226468</td>\n",
              "      <td>0.930161</td>\n",
              "      <td>3.890015</td>\n",
              "      <td>47.874129</td>\n",
              "      <td>2.954796</td>\n",
              "      <td>2.536214</td>\n",
              "      <td>...</td>\n",
              "      <td>1.234187</td>\n",
              "      <td>0.721697</td>\n",
              "      <td>25.094190</td>\n",
              "      <td>1.166791</td>\n",
              "      <td>0.540221</td>\n",
              "      <td>67.889247</td>\n",
              "      <td>0.000000</td>\n",
              "      <td>0.636741</td>\n",
              "      <td>30.116976</td>\n",
              "      <td>0.816815</td>\n",
              "    </tr>\n",
              "    <tr>\n",
              "      <th>Inírida</th>\n",
              "      <td>0.000000</td>\n",
              "      <td>8.701172</td>\n",
              "      <td>0.000000</td>\n",
              "      <td>0.000000</td>\n",
              "      <td>0.000000</td>\n",
              "      <td>91.298828</td>\n",
              "      <td>0.000000</td>\n",
              "      <td>20.015030</td>\n",
              "      <td>0.000000</td>\n",
              "      <td>0.000000</td>\n",
              "      <td>...</td>\n",
              "      <td>0.000000</td>\n",
              "      <td>0.000000</td>\n",
              "      <td>0.000000</td>\n",
              "      <td>0.000000</td>\n",
              "      <td>NaN</td>\n",
              "      <td>NaN</td>\n",
              "      <td>NaN</td>\n",
              "      <td>NaN</td>\n",
              "      <td>NaN</td>\n",
              "      <td>NaN</td>\n",
              "    </tr>\n",
              "    <tr>\n",
              "      <th>Leticia</th>\n",
              "      <td>0.865830</td>\n",
              "      <td>45.815895</td>\n",
              "      <td>0.496763</td>\n",
              "      <td>0.409664</td>\n",
              "      <td>42.011559</td>\n",
              "      <td>10.400289</td>\n",
              "      <td>1.524332</td>\n",
              "      <td>62.107486</td>\n",
              "      <td>3.040112</td>\n",
              "      <td>1.092756</td>\n",
              "      <td>...</td>\n",
              "      <td>1.007069</td>\n",
              "      <td>1.532767</td>\n",
              "      <td>24.865659</td>\n",
              "      <td>5.764789</td>\n",
              "      <td>2.364114</td>\n",
              "      <td>70.171752</td>\n",
              "      <td>0.000000</td>\n",
              "      <td>0.000000</td>\n",
              "      <td>25.613255</td>\n",
              "      <td>1.850879</td>\n",
              "    </tr>\n",
              "    <tr>\n",
              "      <th>Manizales</th>\n",
              "      <td>11.640212</td>\n",
              "      <td>0.000000</td>\n",
              "      <td>0.000000</td>\n",
              "      <td>9.669768</td>\n",
              "      <td>75.460682</td>\n",
              "      <td>3.229338</td>\n",
              "      <td>1.785072</td>\n",
              "      <td>80.220279</td>\n",
              "      <td>0.000000</td>\n",
              "      <td>0.000000</td>\n",
              "      <td>...</td>\n",
              "      <td>0.775419</td>\n",
              "      <td>0.000000</td>\n",
              "      <td>39.658318</td>\n",
              "      <td>2.570907</td>\n",
              "      <td>NaN</td>\n",
              "      <td>NaN</td>\n",
              "      <td>NaN</td>\n",
              "      <td>NaN</td>\n",
              "      <td>NaN</td>\n",
              "      <td>NaN</td>\n",
              "    </tr>\n",
              "    <tr>\n",
              "      <th>Medellín</th>\n",
              "      <td>2.438627</td>\n",
              "      <td>52.963511</td>\n",
              "      <td>2.884174</td>\n",
              "      <td>1.487451</td>\n",
              "      <td>34.009682</td>\n",
              "      <td>6.216555</td>\n",
              "      <td>2.000433</td>\n",
              "      <td>69.230605</td>\n",
              "      <td>2.045749</td>\n",
              "      <td>1.497453</td>\n",
              "      <td>...</td>\n",
              "      <td>2.918471</td>\n",
              "      <td>0.970725</td>\n",
              "      <td>28.600736</td>\n",
              "      <td>5.034506</td>\n",
              "      <td>2.390313</td>\n",
              "      <td>64.395332</td>\n",
              "      <td>2.762439</td>\n",
              "      <td>1.659939</td>\n",
              "      <td>26.856881</td>\n",
              "      <td>1.935095</td>\n",
              "    </tr>\n",
              "    <tr>\n",
              "      <th>Neiva</th>\n",
              "      <td>1.449088</td>\n",
              "      <td>51.592377</td>\n",
              "      <td>0.000000</td>\n",
              "      <td>0.000000</td>\n",
              "      <td>39.714716</td>\n",
              "      <td>7.243819</td>\n",
              "      <td>0.000000</td>\n",
              "      <td>67.507125</td>\n",
              "      <td>2.105859</td>\n",
              "      <td>1.866556</td>\n",
              "      <td>...</td>\n",
              "      <td>3.574905</td>\n",
              "      <td>0.000000</td>\n",
              "      <td>0.000000</td>\n",
              "      <td>0.000000</td>\n",
              "      <td>NaN</td>\n",
              "      <td>NaN</td>\n",
              "      <td>NaN</td>\n",
              "      <td>NaN</td>\n",
              "      <td>NaN</td>\n",
              "      <td>NaN</td>\n",
              "    </tr>\n",
              "    <tr>\n",
              "      <th>Pasto</th>\n",
              "      <td>1.793573</td>\n",
              "      <td>75.702953</td>\n",
              "      <td>1.231569</td>\n",
              "      <td>1.219020</td>\n",
              "      <td>18.063013</td>\n",
              "      <td>1.989871</td>\n",
              "      <td>2.383585</td>\n",
              "      <td>39.249883</td>\n",
              "      <td>1.982546</td>\n",
              "      <td>2.075811</td>\n",
              "      <td>...</td>\n",
              "      <td>0.306204</td>\n",
              "      <td>0.908875</td>\n",
              "      <td>33.503928</td>\n",
              "      <td>5.552790</td>\n",
              "      <td>0.000000</td>\n",
              "      <td>18.299300</td>\n",
              "      <td>0.000000</td>\n",
              "      <td>0.000000</td>\n",
              "      <td>18.684029</td>\n",
              "      <td>63.016672</td>\n",
              "    </tr>\n",
              "    <tr>\n",
              "      <th>Pereira</th>\n",
              "      <td>1.965215</td>\n",
              "      <td>66.105443</td>\n",
              "      <td>2.373452</td>\n",
              "      <td>1.528824</td>\n",
              "      <td>21.500621</td>\n",
              "      <td>6.526446</td>\n",
              "      <td>3.213223</td>\n",
              "      <td>54.091253</td>\n",
              "      <td>3.244153</td>\n",
              "      <td>0.896162</td>\n",
              "      <td>...</td>\n",
              "      <td>3.552472</td>\n",
              "      <td>2.709140</td>\n",
              "      <td>40.866076</td>\n",
              "      <td>4.109582</td>\n",
              "      <td>0.417532</td>\n",
              "      <td>56.383572</td>\n",
              "      <td>1.707072</td>\n",
              "      <td>2.377633</td>\n",
              "      <td>32.798929</td>\n",
              "      <td>6.315261</td>\n",
              "    </tr>\n",
              "    <tr>\n",
              "      <th>Riohacha</th>\n",
              "      <td>2.620216</td>\n",
              "      <td>60.838976</td>\n",
              "      <td>3.668071</td>\n",
              "      <td>1.716872</td>\n",
              "      <td>30.288794</td>\n",
              "      <td>0.867072</td>\n",
              "      <td>2.209473</td>\n",
              "      <td>63.101474</td>\n",
              "      <td>3.217108</td>\n",
              "      <td>1.374956</td>\n",
              "      <td>...</td>\n",
              "      <td>2.747660</td>\n",
              "      <td>1.697900</td>\n",
              "      <td>20.561371</td>\n",
              "      <td>8.745757</td>\n",
              "      <td>3.082953</td>\n",
              "      <td>65.606691</td>\n",
              "      <td>0.000000</td>\n",
              "      <td>1.705119</td>\n",
              "      <td>17.972443</td>\n",
              "      <td>11.632793</td>\n",
              "    </tr>\n",
              "    <tr>\n",
              "      <th>Santa Marta</th>\n",
              "      <td>6.384277</td>\n",
              "      <td>45.703151</td>\n",
              "      <td>4.921496</td>\n",
              "      <td>2.038857</td>\n",
              "      <td>27.603072</td>\n",
              "      <td>13.349147</td>\n",
              "      <td>5.325214</td>\n",
              "      <td>44.614769</td>\n",
              "      <td>2.618220</td>\n",
              "      <td>3.175873</td>\n",
              "      <td>...</td>\n",
              "      <td>2.584859</td>\n",
              "      <td>1.818807</td>\n",
              "      <td>25.973782</td>\n",
              "      <td>1.903780</td>\n",
              "      <td>5.015608</td>\n",
              "      <td>53.451635</td>\n",
              "      <td>0.429490</td>\n",
              "      <td>3.291362</td>\n",
              "      <td>37.560495</td>\n",
              "      <td>0.251409</td>\n",
              "    </tr>\n",
              "    <tr>\n",
              "      <th>Soacha</th>\n",
              "      <td>0.000000</td>\n",
              "      <td>63.370968</td>\n",
              "      <td>0.000000</td>\n",
              "      <td>0.000000</td>\n",
              "      <td>36.629032</td>\n",
              "      <td>0.000000</td>\n",
              "      <td>0.000000</td>\n",
              "      <td>98.603249</td>\n",
              "      <td>0.000000</td>\n",
              "      <td>0.000000</td>\n",
              "      <td>...</td>\n",
              "      <td>0.000000</td>\n",
              "      <td>0.972588</td>\n",
              "      <td>19.520590</td>\n",
              "      <td>10.889097</td>\n",
              "      <td>0.000000</td>\n",
              "      <td>100.000000</td>\n",
              "      <td>0.000000</td>\n",
              "      <td>0.000000</td>\n",
              "      <td>0.000000</td>\n",
              "      <td>0.000000</td>\n",
              "    </tr>\n",
              "    <tr>\n",
              "      <th>Valledupar</th>\n",
              "      <td>0.000000</td>\n",
              "      <td>0.000000</td>\n",
              "      <td>25.481498</td>\n",
              "      <td>3.321792</td>\n",
              "      <td>71.196711</td>\n",
              "      <td>0.000000</td>\n",
              "      <td>4.256410</td>\n",
              "      <td>0.000000</td>\n",
              "      <td>0.000000</td>\n",
              "      <td>0.000000</td>\n",
              "      <td>...</td>\n",
              "      <td>0.000000</td>\n",
              "      <td>0.000000</td>\n",
              "      <td>0.000000</td>\n",
              "      <td>32.825239</td>\n",
              "      <td>0.000000</td>\n",
              "      <td>0.000000</td>\n",
              "      <td>0.000000</td>\n",
              "      <td>0.000000</td>\n",
              "      <td>100.000000</td>\n",
              "      <td>0.000000</td>\n",
              "    </tr>\n",
              "    <tr>\n",
              "      <th>Villavicencio</th>\n",
              "      <td>0.000000</td>\n",
              "      <td>67.486903</td>\n",
              "      <td>1.485077</td>\n",
              "      <td>2.422262</td>\n",
              "      <td>27.394627</td>\n",
              "      <td>1.211131</td>\n",
              "      <td>0.000000</td>\n",
              "      <td>8.236816</td>\n",
              "      <td>0.000000</td>\n",
              "      <td>0.000000</td>\n",
              "      <td>...</td>\n",
              "      <td>1.410525</td>\n",
              "      <td>0.000000</td>\n",
              "      <td>35.586019</td>\n",
              "      <td>37.823599</td>\n",
              "      <td>0.000000</td>\n",
              "      <td>100.000000</td>\n",
              "      <td>0.000000</td>\n",
              "      <td>0.000000</td>\n",
              "      <td>0.000000</td>\n",
              "      <td>0.000000</td>\n",
              "    </tr>\n",
              "  </tbody>\n",
              "</table>\n",
              "<p>19 rows × 24 columns</p>\n",
              "</div>"
            ],
            "text/plain": [
              "                 p_2020_art_hogar  p_2020_electronicos  p_2020_juguetes  \\\n",
              "Lugar de Compra                                                           \n",
              "Armenia                  1.958360            86.483782         1.950511   \n",
              "Barranquilla             1.567181            61.600395         1.098393   \n",
              "Bogotá                   2.241185            62.437900         2.537540   \n",
              "Bucaramanga              0.387627            59.522335         5.440966   \n",
              "Cali                     1.727328            64.985127         2.427370   \n",
              "Cartagena                4.135139            37.027088         5.033293   \n",
              "Cúcuta                   1.039922            72.143491         3.326927   \n",
              "Inírida                  0.000000             8.701172         0.000000   \n",
              "Leticia                  0.865830            45.815895         0.496763   \n",
              "Manizales               11.640212             0.000000         0.000000   \n",
              "Medellín                 2.438627            52.963511         2.884174   \n",
              "Neiva                    1.449088            51.592377         0.000000   \n",
              "Pasto                    1.793573            75.702953         1.231569   \n",
              "Pereira                  1.965215            66.105443         2.373452   \n",
              "Riohacha                 2.620216            60.838976         3.668071   \n",
              "Santa Marta              6.384277            45.703151         4.921496   \n",
              "Soacha                   0.000000            63.370968         0.000000   \n",
              "Valledupar               0.000000             0.000000        25.481498   \n",
              "Villavicencio            0.000000            67.486903         1.485077   \n",
              "\n",
              "                 p_2020_libros  p_2020_muebles  p_2020_deportes  \\\n",
              "Lugar de Compra                                                   \n",
              "Armenia               0.975256        8.632091         0.000000   \n",
              "Barranquilla          1.779151       31.034942         2.919938   \n",
              "Bogotá                1.318051       26.514473         4.950850   \n",
              "Bucaramanga           2.058744       25.188009         7.402319   \n",
              "Cali                  1.384552       22.486907         6.988716   \n",
              "Cartagena             3.289952       42.816283         7.698245   \n",
              "Cúcuta                0.333030       22.226468         0.930161   \n",
              "Inírida               0.000000        0.000000        91.298828   \n",
              "Leticia               0.409664       42.011559        10.400289   \n",
              "Manizales             9.669768       75.460682         3.229338   \n",
              "Medellín              1.487451       34.009682         6.216555   \n",
              "Neiva                 0.000000       39.714716         7.243819   \n",
              "Pasto                 1.219020       18.063013         1.989871   \n",
              "Pereira               1.528824       21.500621         6.526446   \n",
              "Riohacha              1.716872       30.288794         0.867072   \n",
              "Santa Marta           2.038857       27.603072        13.349147   \n",
              "Soacha                0.000000       36.629032         0.000000   \n",
              "Valledupar            3.321792       71.196711         0.000000   \n",
              "Villavicencio         2.422262       27.394627         1.211131   \n",
              "\n",
              "                 p_2021_art_hogar  p_2021_electronicos  p_2021_juguetes  \\\n",
              "Lugar de Compra                                                           \n",
              "Armenia                  0.000000            74.696318         2.491631   \n",
              "Barranquilla             2.528149            51.151184         2.672783   \n",
              "Bogotá                   1.932031            62.579721         2.743236   \n",
              "Bucaramanga              0.552840            76.438403         1.860026   \n",
              "Cali                     1.621232            60.527359         2.343479   \n",
              "Cartagena                0.913478            78.623240         3.862264   \n",
              "Cúcuta                   3.890015            47.874129         2.954796   \n",
              "Inírida                  0.000000            20.015030         0.000000   \n",
              "Leticia                  1.524332            62.107486         3.040112   \n",
              "Manizales                1.785072            80.220279         0.000000   \n",
              "Medellín                 2.000433            69.230605         2.045749   \n",
              "Neiva                    0.000000            67.507125         2.105859   \n",
              "Pasto                    2.383585            39.249883         1.982546   \n",
              "Pereira                  3.213223            54.091253         3.244153   \n",
              "Riohacha                 2.209473            63.101474         3.217108   \n",
              "Santa Marta              5.325214            44.614769         2.618220   \n",
              "Soacha                   0.000000            98.603249         0.000000   \n",
              "Valledupar               4.256410             0.000000         0.000000   \n",
              "Villavicencio            0.000000             8.236816         0.000000   \n",
              "\n",
              "                 p_2021_libros  ...  p_2022_juguetes  p_2022_libros  \\\n",
              "Lugar de Compra                 ...                                   \n",
              "Armenia               0.000000  ...         0.000000       8.309281   \n",
              "Barranquilla          1.506883  ...         3.803600       1.267675   \n",
              "Bogotá                1.314031  ...         2.785958       1.525563   \n",
              "Bucaramanga           0.879518  ...         9.011636       1.666712   \n",
              "Cali                  1.031539  ...         2.901880       0.864727   \n",
              "Cartagena             1.988816  ...         5.515851       1.313609   \n",
              "Cúcuta                2.536214  ...         1.234187       0.721697   \n",
              "Inírida               0.000000  ...         0.000000       0.000000   \n",
              "Leticia               1.092756  ...         1.007069       1.532767   \n",
              "Manizales             0.000000  ...         0.775419       0.000000   \n",
              "Medellín              1.497453  ...         2.918471       0.970725   \n",
              "Neiva                 1.866556  ...         3.574905       0.000000   \n",
              "Pasto                 2.075811  ...         0.306204       0.908875   \n",
              "Pereira               0.896162  ...         3.552472       2.709140   \n",
              "Riohacha              1.374956  ...         2.747660       1.697900   \n",
              "Santa Marta           3.175873  ...         2.584859       1.818807   \n",
              "Soacha                0.000000  ...         0.000000       0.972588   \n",
              "Valledupar            0.000000  ...         0.000000       0.000000   \n",
              "Villavicencio         0.000000  ...         1.410525       0.000000   \n",
              "\n",
              "                 p_2022_muebles  p_2022_deportes  p_2023_art_hogar  \\\n",
              "Lugar de Compra                                                      \n",
              "Armenia               86.920857         0.000000          0.000000   \n",
              "Barranquilla          52.671562        15.975234          4.911514   \n",
              "Bogotá                28.433926         5.991190          2.192948   \n",
              "Bucaramanga           27.593642         2.672977          3.021083   \n",
              "Cali                  26.756723         5.144423          1.334823   \n",
              "Cartagena             16.433650         5.004225          3.148684   \n",
              "Cúcuta                25.094190         1.166791          0.540221   \n",
              "Inírida                0.000000         0.000000               NaN   \n",
              "Leticia               24.865659         5.764789          2.364114   \n",
              "Manizales             39.658318         2.570907               NaN   \n",
              "Medellín              28.600736         5.034506          2.390313   \n",
              "Neiva                  0.000000         0.000000               NaN   \n",
              "Pasto                 33.503928         5.552790          0.000000   \n",
              "Pereira               40.866076         4.109582          0.417532   \n",
              "Riohacha              20.561371         8.745757          3.082953   \n",
              "Santa Marta           25.973782         1.903780          5.015608   \n",
              "Soacha                19.520590        10.889097          0.000000   \n",
              "Valledupar             0.000000        32.825239          0.000000   \n",
              "Villavicencio         35.586019        37.823599          0.000000   \n",
              "\n",
              "                 p_2023_electronicos  p_2023_juguetes  p_2023_libros  \\\n",
              "Lugar de Compra                                                        \n",
              "Armenia                    86.070588        13.929412       0.000000   \n",
              "Barranquilla               25.904564         8.683815       4.058895   \n",
              "Bogotá                     46.676396         3.836716       2.110548   \n",
              "Bucaramanga                35.800908         2.050480       2.423294   \n",
              "Cali                       73.431272         1.315263       0.312368   \n",
              "Cartagena                   0.000000         5.884528       0.000000   \n",
              "Cúcuta                     67.889247         0.000000       0.636741   \n",
              "Inírida                          NaN              NaN            NaN   \n",
              "Leticia                    70.171752         0.000000       0.000000   \n",
              "Manizales                        NaN              NaN            NaN   \n",
              "Medellín                   64.395332         2.762439       1.659939   \n",
              "Neiva                            NaN              NaN            NaN   \n",
              "Pasto                      18.299300         0.000000       0.000000   \n",
              "Pereira                    56.383572         1.707072       2.377633   \n",
              "Riohacha                   65.606691         0.000000       1.705119   \n",
              "Santa Marta                53.451635         0.429490       3.291362   \n",
              "Soacha                    100.000000         0.000000       0.000000   \n",
              "Valledupar                  0.000000         0.000000       0.000000   \n",
              "Villavicencio             100.000000         0.000000       0.000000   \n",
              "\n",
              "                 p_2023_muebles  p_2023_deportes  \n",
              "Lugar de Compra                                   \n",
              "Armenia                0.000000         0.000000  \n",
              "Barranquilla          32.256216        24.184997  \n",
              "Bogotá                37.139011         8.044381  \n",
              "Bucaramanga           36.289424        20.414810  \n",
              "Cali                  20.516088         3.090187  \n",
              "Cartagena             63.460472        27.506316  \n",
              "Cúcuta                30.116976         0.816815  \n",
              "Inírida                     NaN              NaN  \n",
              "Leticia               25.613255         1.850879  \n",
              "Manizales                   NaN              NaN  \n",
              "Medellín              26.856881         1.935095  \n",
              "Neiva                       NaN              NaN  \n",
              "Pasto                 18.684029        63.016672  \n",
              "Pereira               32.798929         6.315261  \n",
              "Riohacha              17.972443        11.632793  \n",
              "Santa Marta           37.560495         0.251409  \n",
              "Soacha                 0.000000         0.000000  \n",
              "Valledupar           100.000000         0.000000  \n",
              "Villavicencio          0.000000         0.000000  \n",
              "\n",
              "[19 rows x 24 columns]"
            ]
          },
          "execution_count": 36,
          "metadata": {},
          "output_type": "execute_result"
        }
      ],
      "source": [
        "porcentaje_de_ganancia"
      ]
    },
    {
      "cell_type": "code",
      "execution_count": 37,
      "metadata": {},
      "outputs": [
        {
          "data": {
            "application/vnd.plotly.v1+json": {
              "config": {
                "plotlyServerURL": "https://plot.ly"
              },
              "data": [
                {
                  "name": "Armenia",
                  "type": "bar",
                  "x": [
                    "p_2020_art_hogar",
                    "p_2020_electronicos",
                    "p_2020_juguetes",
                    "p_2020_libros",
                    "p_2020_muebles",
                    "p_2020_deportes",
                    "p_2021_art_hogar",
                    "p_2021_electronicos",
                    "p_2021_juguetes",
                    "p_2021_libros",
                    "p_2021_muebles",
                    "p_2021_deportes",
                    "p_2022_art_hogar",
                    "p_2022_electronicos",
                    "p_2022_juguetes",
                    "p_2022_libros",
                    "p_2022_muebles",
                    "p_2022_deportes",
                    "p_2023_art_hogar",
                    "p_2023_electronicos",
                    "p_2023_juguetes",
                    "p_2023_libros",
                    "p_2023_muebles",
                    "p_2023_deportes"
                  ],
                  "y": {
                    "bdata": "yjMaoHFV/z8Gi5VH9p5VQFdRwDRLNf8/V1HANEs17z8VUmx1oUMhQAAAAAAAAAAAAAAAAAAAAAAsvH13kKxSQO+jzyDc7gNAAAAAAAAAAAClQNCRi6Q1QLWi7cFwtfI/DBZ/pFYUE0AAAAAAAAAAAAAAAAAAAAAAxBt6JFqeIEAmyyhR77pVQAAAAAAAAAAAAAAAAAAAAACFhISEhIRVQNzb29vb2ytAAAAAAAAAAAAAAAAAAAAAAAAAAAAAAAAA",
                    "dtype": "f8"
                  }
                },
                {
                  "name": "Barranquilla",
                  "type": "bar",
                  "x": [
                    "p_2020_art_hogar",
                    "p_2020_electronicos",
                    "p_2020_juguetes",
                    "p_2020_libros",
                    "p_2020_muebles",
                    "p_2020_deportes",
                    "p_2021_art_hogar",
                    "p_2021_electronicos",
                    "p_2021_juguetes",
                    "p_2021_libros",
                    "p_2021_muebles",
                    "p_2021_deportes",
                    "p_2022_art_hogar",
                    "p_2022_electronicos",
                    "p_2022_juguetes",
                    "p_2022_libros",
                    "p_2022_muebles",
                    "p_2022_deportes",
                    "p_2023_art_hogar",
                    "p_2023_electronicos",
                    "p_2023_juguetes",
                    "p_2023_libros",
                    "p_2023_muebles",
                    "p_2023_deportes"
                  ],
                  "y": {
                    "bdata": "hqfPBCwT+T82bRLA2cxOQI07BGkEk/E/DqF/QWd3/D8FFhXz8Qg/QHW6ho4IXAdA/qaqJqY5BEBjP6oCWpNJQA8JEO/bYQVAHaI0DjEc+D9u7KoYFfhBQOcg7Na5zxhAJ0TnviUADEDj6VfPJ8g2QDW2ka/FbQ5Ao7iPJWVI9D8AN6zA9VVKQJQaT95R8y9ADQa+6GOlE0DAr+qBkec5QEX7mfEcXiFA1ml+BE88EEB1no2ryyBAQLr53fJbLzhA",
                    "dtype": "f8"
                  }
                },
                {
                  "name": "Bogotá",
                  "type": "bar",
                  "x": [
                    "p_2020_art_hogar",
                    "p_2020_electronicos",
                    "p_2020_juguetes",
                    "p_2020_libros",
                    "p_2020_muebles",
                    "p_2020_deportes",
                    "p_2021_art_hogar",
                    "p_2021_electronicos",
                    "p_2021_juguetes",
                    "p_2021_libros",
                    "p_2021_muebles",
                    "p_2021_deportes",
                    "p_2022_art_hogar",
                    "p_2022_electronicos",
                    "p_2022_juguetes",
                    "p_2022_libros",
                    "p_2022_muebles",
                    "p_2022_deportes",
                    "p_2023_art_hogar",
                    "p_2023_electronicos",
                    "p_2023_juguetes",
                    "p_2023_libros",
                    "p_2023_muebles",
                    "p_2023_deportes"
                  ],
                  "y": {
                    "bdata": "qhePqPLtAUC7iGgfDThPQPCbRLDhTARALMZATLwW9T8IDHSGtIM6QLd+caurzRNAMpRW+5jp/j/qJdJJNEpPQGnAeuEl8gVAUmfHZEUG9T+J/2CPes06QHbzJetogxJAxuZ7DbR9AkBcS4Cg2nlNQIgIfHWkSQZAMPCPELVo+D+gDp7DFW88QOt25Wf69hdAUFsiVyiLAUANhRIilFZHQIGNrhOYsQ5AXkZsLmfiAECaz3gcy5FCQJthgx+5FiBA",
                    "dtype": "f8"
                  }
                },
                {
                  "name": "Bucaramanga",
                  "type": "bar",
                  "x": [
                    "p_2020_art_hogar",
                    "p_2020_electronicos",
                    "p_2020_juguetes",
                    "p_2020_libros",
                    "p_2020_muebles",
                    "p_2020_deportes",
                    "p_2021_art_hogar",
                    "p_2021_electronicos",
                    "p_2021_juguetes",
                    "p_2021_libros",
                    "p_2021_muebles",
                    "p_2021_deportes",
                    "p_2022_art_hogar",
                    "p_2022_electronicos",
                    "p_2022_juguetes",
                    "p_2022_libros",
                    "p_2022_muebles",
                    "p_2022_deportes",
                    "p_2023_art_hogar",
                    "p_2023_electronicos",
                    "p_2023_juguetes",
                    "p_2023_libros",
                    "p_2023_muebles",
                    "p_2023_deportes"
                  ],
                  "y": {
                    "bdata": "hgVNDOHO2D/hbSLi28JNQNICE5GMwxVARqH5sk54AEBXu+dWITA5QM7/+Jf5mx1A7zkyJN2w4T9O0yfLDhxTQDu0J+eqwv0/QrmVuQIl7D+xwVgk2bEwQNmxOQ2QmAxA5WxZvbJK8j/eqbC5tfRMQFCnYCD1BSJALi1REdqq+j+U0QXy+Jc7QEPr7utBYgVA/6lDuS0rCEBEuS0rhOZBQKsnjAdiZwBAmxd3N+hiA0A5sAjZCyVCQN1PivgwajRA",
                    "dtype": "f8"
                  }
                },
                {
                  "name": "Cali",
                  "type": "bar",
                  "x": [
                    "p_2020_art_hogar",
                    "p_2020_electronicos",
                    "p_2020_juguetes",
                    "p_2020_libros",
                    "p_2020_muebles",
                    "p_2020_deportes",
                    "p_2021_art_hogar",
                    "p_2021_electronicos",
                    "p_2021_juguetes",
                    "p_2021_libros",
                    "p_2021_muebles",
                    "p_2021_deportes",
                    "p_2022_art_hogar",
                    "p_2022_electronicos",
                    "p_2022_juguetes",
                    "p_2022_libros",
                    "p_2022_muebles",
                    "p_2022_deportes",
                    "p_2023_art_hogar",
                    "p_2023_electronicos",
                    "p_2023_juguetes",
                    "p_2023_libros",
                    "p_2023_muebles",
                    "p_2023_deportes"
                  ],
                  "y": {
                    "bdata": "ptWpaCKj+z83yOxTDD9QQMa8XAxBawNAixHPgx8n9j/2j6zspXw2QIikNA1y9BtAb5/SG5Hw+T/IMk6CgENOQAr/HQByvwJAaCqptS6B8D8hoGlBgPo9QET3efPR/RFAoRmGWbWC/T9JSCtncT5PQG9I/aQMNwdAmGsbh9ir6z8oyBOhuME6QAIFk4jjkxRAw3Cya29b9T8n+7r0mVtSQDcWT0FRC/U/SHEvhNT90z9qbcdZHoQ0QCZ+XrOzuAhA",
                    "dtype": "f8"
                  }
                },
                {
                  "name": "Cartagena",
                  "type": "bar",
                  "x": [
                    "p_2020_art_hogar",
                    "p_2020_electronicos",
                    "p_2020_juguetes",
                    "p_2020_libros",
                    "p_2020_muebles",
                    "p_2020_deportes",
                    "p_2021_art_hogar",
                    "p_2021_electronicos",
                    "p_2021_juguetes",
                    "p_2021_libros",
                    "p_2021_muebles",
                    "p_2021_deportes",
                    "p_2022_art_hogar",
                    "p_2022_electronicos",
                    "p_2022_juguetes",
                    "p_2022_libros",
                    "p_2022_muebles",
                    "p_2022_deportes",
                    "p_2023_art_hogar",
                    "p_2023_electronicos",
                    "p_2023_juguetes",
                    "p_2023_libros",
                    "p_2023_muebles",
                    "p_2023_deportes"
                  ],
                  "y": {
                    "bdata": "OT/i72GKEECMNsihd4NCQPpc8o0XIhRAJd94IdJRCkBpzo/4e2hFQI7Mrp4Ayx5AKgcL+zU77T9BdIEp46dTQPlZf4Xq5Q5AIETb3jDS/z8UTILy9WUlQKqJGJLyTQ9A8I2kmgzHB0CHFYmbqzBRQPUJ3CM7EBZAOfHv1ooE9T+he0mqA28wQNRrXndTBBRApG6SeYEwCUAAAAAAAAAAAJTJ8aDBiRdAAAAAAAAAAACktw6/8LpPQH3Qc+qdgTtA",
                    "dtype": "f8"
                  }
                },
                {
                  "name": "Cúcuta",
                  "type": "bar",
                  "x": [
                    "p_2020_art_hogar",
                    "p_2020_electronicos",
                    "p_2020_juguetes",
                    "p_2020_libros",
                    "p_2020_muebles",
                    "p_2020_deportes",
                    "p_2021_art_hogar",
                    "p_2021_electronicos",
                    "p_2021_juguetes",
                    "p_2021_libros",
                    "p_2021_muebles",
                    "p_2021_deportes",
                    "p_2022_art_hogar",
                    "p_2022_electronicos",
                    "p_2022_juguetes",
                    "p_2022_libros",
                    "p_2022_muebles",
                    "p_2022_deportes",
                    "p_2023_art_hogar",
                    "p_2023_electronicos",
                    "p_2023_juguetes",
                    "p_2023_libros",
                    "p_2023_muebles",
                    "p_2023_deportes"
                  ],
                  "y": {
                    "bdata": "JW5lpoWj8D9f2Sn2LglSQNjhbiaMnQpAxVzgoVxQ1T9VLJTL+Tk2QIQzF0Hhw+0/2dq1LsAeD0A5g4By4+9HQItuvUpsowdABmj3jCpKBEAsZXuHnj9EQFHI1lmJ+wFAOUNqESe/BEBdKj2qJUxRQL/OSmQ6v/M/9gn81SQY5z9Ni2rcHBg5QLxZ77csq/I/7QRlIH5J4T8xphNu6fhQQAAAAAAAAAAAw7zaQi5g5D+RMCoi8h0+QL0Tp01YI+o/",
                    "dtype": "f8"
                  }
                },
                {
                  "name": "Inírida",
                  "type": "bar",
                  "x": [
                    "p_2020_art_hogar",
                    "p_2020_electronicos",
                    "p_2020_juguetes",
                    "p_2020_libros",
                    "p_2020_muebles",
                    "p_2020_deportes",
                    "p_2021_art_hogar",
                    "p_2021_electronicos",
                    "p_2021_juguetes",
                    "p_2021_libros",
                    "p_2021_muebles",
                    "p_2021_deportes",
                    "p_2022_art_hogar",
                    "p_2022_electronicos",
                    "p_2022_juguetes",
                    "p_2022_libros",
                    "p_2022_muebles",
                    "p_2022_deportes",
                    "p_2023_art_hogar",
                    "p_2023_electronicos",
                    "p_2023_juguetes",
                    "p_2023_libros",
                    "p_2023_muebles",
                    "p_2023_deportes"
                  ],
                  "y": {
                    "bdata": "AAAAAAAAAAAAAAAAAGchQAAAAAAAAAAAAAAAAAAAAAAAAAAAAAAAAAAAAAAg01ZAAAAAAAAAAABgrJAC2QM0QAAAAAAAAAAAAAAAAAAAAACsy4GxQupQQOBJ0G44pihAAAAAAAAAAAAAAAAAAABZQAAAAAAAAAAAAAAAAAAAAAAAAAAAAAAAAAAAAAAAAAAAAAAAAAAA+P8AAAAAAAD4/wAAAAAAAPj/AAAAAAAA+P8AAAAAAAD4/wAAAAAAAPj/",
                    "dtype": "f8"
                  }
                },
                {
                  "name": "Leticia",
                  "type": "bar",
                  "x": [
                    "p_2020_art_hogar",
                    "p_2020_electronicos",
                    "p_2020_juguetes",
                    "p_2020_libros",
                    "p_2020_muebles",
                    "p_2020_deportes",
                    "p_2021_art_hogar",
                    "p_2021_electronicos",
                    "p_2021_juguetes",
                    "p_2021_libros",
                    "p_2021_muebles",
                    "p_2021_deportes",
                    "p_2022_art_hogar",
                    "p_2022_electronicos",
                    "p_2022_juguetes",
                    "p_2022_libros",
                    "p_2022_muebles",
                    "p_2022_deportes",
                    "p_2023_art_hogar",
                    "p_2023_electronicos",
                    "p_2023_juguetes",
                    "p_2023_libros",
                    "p_2023_muebles",
                    "p_2023_deportes"
                  ],
                  "y": {
                    "bdata": "cGT9U+C06z+VX+U+b+hGQDE5ND/4yt8/wgB20O032j/jBT7FegFFQAtCtbnyzCRAmgcfCKpj+D9pNg0bwg1PQMXv5AQmUghAO/HBru178T9V6+9L4Ic3QKX01YO6aCFAztPHR1i45j+w4D5gqYdQQIAd0030HPA/yPJgWjaG+D/TbrTZm904QCw7OuIkDxdAmcXElLTpAkAoKo37/YpRQAAAAAAAAAAAAAAAAAAAAAAPSwFL/pw5QMg5F0Mznf0/",
                    "dtype": "f8"
                  }
                },
                {
                  "name": "Manizales",
                  "type": "bar",
                  "x": [
                    "p_2020_art_hogar",
                    "p_2020_electronicos",
                    "p_2020_juguetes",
                    "p_2020_libros",
                    "p_2020_muebles",
                    "p_2020_deportes",
                    "p_2021_art_hogar",
                    "p_2021_electronicos",
                    "p_2021_juguetes",
                    "p_2021_libros",
                    "p_2021_muebles",
                    "p_2021_deportes",
                    "p_2022_art_hogar",
                    "p_2022_electronicos",
                    "p_2022_juguetes",
                    "p_2022_libros",
                    "p_2022_muebles",
                    "p_2022_deportes",
                    "p_2023_art_hogar",
                    "p_2023_electronicos",
                    "p_2023_juguetes",
                    "p_2023_libros",
                    "p_2023_muebles",
                    "p_2023_deportes"
                  ],
                  "y": {
                    "bdata": "fHTy0clHJ0AAAAAAAAAAAAAAAAAAAAAAVNSO3utWI0CIitrRe91SQLOLqQKv1QlAqrk2YKeP/D/sITYMGQ5UQAAAAAAAAAAAAAAAAAAAAAAAAAAAAAAAALQMJFmh/jFAQMjkxC/HFUAEvtnYgcZJQHrANxs70Og/AAAAAAAAAAA9TbnEQ9RDQFnLN9Y3kQRAAAAAAAAA+P8AAAAAAAD4/wAAAAAAAPj/AAAAAAAA+P8AAAAAAAD4/wAAAAAAAPj/",
                    "dtype": "f8"
                  }
                },
                {
                  "name": "Medellín",
                  "type": "bar",
                  "x": [
                    "p_2020_art_hogar",
                    "p_2020_electronicos",
                    "p_2020_juguetes",
                    "p_2020_libros",
                    "p_2020_muebles",
                    "p_2020_deportes",
                    "p_2021_art_hogar",
                    "p_2021_electronicos",
                    "p_2021_juguetes",
                    "p_2021_libros",
                    "p_2021_muebles",
                    "p_2021_deportes",
                    "p_2022_art_hogar",
                    "p_2022_electronicos",
                    "p_2022_juguetes",
                    "p_2022_libros",
                    "p_2022_muebles",
                    "p_2022_deportes",
                    "p_2023_art_hogar",
                    "p_2023_electronicos",
                    "p_2023_juguetes",
                    "p_2023_libros",
                    "p_2023_muebles",
                    "p_2023_deportes"
                  ],
                  "y": {
                    "bdata": "a3kFsk6CA0DGS3lSVHtKQOx6AsXJEgdAjtl4q5nM9z/XHltFPQFBQIh6+prA3RhA3dSd2uIAAEBrtOk6wk5RQC5a/daxXQBAn6mOkJH19z99UKaVUFc2QOZqtHvWEwdAeAIkvAfqA0DXdHG5Pv5NQCx53pUHWQdAfmXSpy0Q7z+27gPbyZk8QPYTaWpVIxRAyN2mRFwfA0B6MDkeTRlQQGiNGb15GQZAlhc9mByP+j96X1KTXNs6QNL7z6Am9v4/",
                    "dtype": "f8"
                  }
                },
                {
                  "name": "Neiva",
                  "type": "bar",
                  "x": [
                    "p_2020_art_hogar",
                    "p_2020_electronicos",
                    "p_2020_juguetes",
                    "p_2020_libros",
                    "p_2020_muebles",
                    "p_2020_deportes",
                    "p_2021_art_hogar",
                    "p_2021_electronicos",
                    "p_2021_juguetes",
                    "p_2021_libros",
                    "p_2021_muebles",
                    "p_2021_deportes",
                    "p_2022_art_hogar",
                    "p_2022_electronicos",
                    "p_2022_juguetes",
                    "p_2022_libros",
                    "p_2022_muebles",
                    "p_2022_deportes",
                    "p_2023_art_hogar",
                    "p_2023_electronicos",
                    "p_2023_juguetes",
                    "p_2023_libros",
                    "p_2023_muebles",
                    "p_2023_deportes"
                  ],
                  "y": {
                    "bdata": "cUzShXYv9z8JthEF08tJQAAAAAAAAAAAAAAAAAAAAAAILcXPe9tDQF9U1Ler+RxAAAAAAAAAAAAECA+7dOBQQC0MKl7M2ABA2izWSWrd/T+u35M4H0Y7QBO/1aza8fM/AAAAAAAAAAAWTizANBtYQDI9dvpnmQxAAAAAAAAAAAAAAAAAAAAAAAAAAAAAAAAAAAAAAAAA+P8AAAAAAAD4/wAAAAAAAPj/AAAAAAAA+P8AAAAAAAD4/wAAAAAAAPj/",
                    "dtype": "f8"
                  }
                },
                {
                  "name": "Pasto",
                  "type": "bar",
                  "x": [
                    "p_2020_art_hogar",
                    "p_2020_electronicos",
                    "p_2020_juguetes",
                    "p_2020_libros",
                    "p_2020_muebles",
                    "p_2020_deportes",
                    "p_2021_art_hogar",
                    "p_2021_electronicos",
                    "p_2021_juguetes",
                    "p_2021_libros",
                    "p_2021_muebles",
                    "p_2021_deportes",
                    "p_2022_art_hogar",
                    "p_2022_electronicos",
                    "p_2022_juguetes",
                    "p_2022_libros",
                    "p_2022_muebles",
                    "p_2022_deportes",
                    "p_2023_art_hogar",
                    "p_2023_electronicos",
                    "p_2023_juguetes",
                    "p_2023_libros",
                    "p_2023_muebles",
                    "p_2023_deportes"
                  ],
                  "y": {
                    "bdata": "9r0b3nmy/D+Vt2cw/exSQIhV+byBtPM/UoqobhuB8z9ojuSXIRAyQH6WC16D1v8/zAL0NJURA0Dp1Qsu/J9DQP12NUuCuP8/PTfT1UKbAEC9J+IxUW1EQAmMLzSE6CpABmEyfqz1xz8hrAsXQMVNQIRoGkvZmNM/vHhK/38V7T8prmazgMBAQAul4LMONhZAAAAAAAAAAAAVjvblnkwyQAAAAAAAAAAAAAAAAAAAAAArkgSDHK8yQOBvgksigk9A",
                    "dtype": "f8"
                  }
                },
                {
                  "name": "Pereira",
                  "type": "bar",
                  "x": [
                    "p_2020_art_hogar",
                    "p_2020_electronicos",
                    "p_2020_juguetes",
                    "p_2020_libros",
                    "p_2020_muebles",
                    "p_2020_deportes",
                    "p_2021_art_hogar",
                    "p_2021_electronicos",
                    "p_2021_juguetes",
                    "p_2021_libros",
                    "p_2021_muebles",
                    "p_2021_deportes",
                    "p_2022_art_hogar",
                    "p_2022_electronicos",
                    "p_2022_juguetes",
                    "p_2022_libros",
                    "p_2022_muebles",
                    "p_2022_deportes",
                    "p_2023_art_hogar",
                    "p_2023_electronicos",
                    "p_2023_juguetes",
                    "p_2023_libros",
                    "p_2023_muebles",
                    "p_2023_deportes"
                  ],
                  "y": {
                    "bdata": "BzhkOYVx/z8I4+2Rv4ZQQFU3DibU/AJAzPSwSBB2+D9c6EW4KIA1QDLHfYwUGxpACvUtQK60CUAEbhowrgtLQCO4z1IG9AlAbwz16lqt7D/6PAPen0hAQOkvNeiJ8xdANxY1D9vIAUCYsq9wE0VHQOjnbV12awxA+P8hjlGsBUCz3d2W225EQJ/+MEY2cBBAScuA2Ni42j+WEMjiGDFMQNeFe/8qUPs/od3kgGQFA0Ai9v5QQ2ZAQEJt7tPTQhlA",
                    "dtype": "f8"
                  }
                },
                {
                  "name": "Riohacha",
                  "type": "bar",
                  "x": [
                    "p_2020_art_hogar",
                    "p_2020_electronicos",
                    "p_2020_juguetes",
                    "p_2020_libros",
                    "p_2020_muebles",
                    "p_2020_deportes",
                    "p_2021_art_hogar",
                    "p_2021_electronicos",
                    "p_2021_juguetes",
                    "p_2021_libros",
                    "p_2021_muebles",
                    "p_2021_deportes",
                    "p_2022_art_hogar",
                    "p_2022_electronicos",
                    "p_2022_juguetes",
                    "p_2022_libros",
                    "p_2022_muebles",
                    "p_2022_deportes",
                    "p_2023_art_hogar",
                    "p_2023_electronicos",
                    "p_2023_juguetes",
                    "p_2023_libros",
                    "p_2023_muebles",
                    "p_2023_deportes"
                  ],
                  "y": {
                    "bdata": "rrUwkzP2BEDPGLiNY2tOQOWSytw1WA1AU3pmY054+z8lskRi7kk+QL1wqcINv+s/AAAAAACtAUB00UUX/YxPQIwuuuiivAlARhdddNH/9T8AAAAAQGk1QKOLLrooXyFADWNORQ+d8z92iD64X0FQQAS001Y1+wVAiMYh6Jgq+z9tcPoAto80QDzps+DTfSFAo1uZLuOpCEBKnj0H1GZQQAAAAAAAAAAAxG9XRytI+z/AC9AL8vgxQEix4Xn9QydA",
                    "dtype": "f8"
                  }
                },
                {
                  "name": "Santa Marta",
                  "type": "bar",
                  "x": [
                    "p_2020_art_hogar",
                    "p_2020_electronicos",
                    "p_2020_juguetes",
                    "p_2020_libros",
                    "p_2020_muebles",
                    "p_2020_deportes",
                    "p_2021_art_hogar",
                    "p_2021_electronicos",
                    "p_2021_juguetes",
                    "p_2021_libros",
                    "p_2021_muebles",
                    "p_2021_deportes",
                    "p_2022_art_hogar",
                    "p_2022_electronicos",
                    "p_2022_juguetes",
                    "p_2022_libros",
                    "p_2022_muebles",
                    "p_2022_deportes",
                    "p_2023_art_hogar",
                    "p_2023_electronicos",
                    "p_2023_juguetes",
                    "p_2023_libros",
                    "p_2023_muebles",
                    "p_2023_deportes"
                  ],
                  "y": {
                    "bdata": "n9Z6yH+JGUCFpRTeANpGQBmHwIacrxNA6R7HMpRPAEBj4v/zYpo7QI8uXmvDsipAhlc4AwVNFUCm2arAsE5GQNC9NlUd8gRAx1N9SzBoCUBGtqiWCqJBQCuQ6Lj8/yFAvWzzkjAk4j+vPDn9t8lQQM/EOLPKrQRAdIy9PdUZ/T/zyI3BSfk5QKB4K6vhdf4/yvCbn/sPFEB09LIuz7lKQPvYKMDEfNs/L3y6mrVUCkC7JSdPvsdCQFshN4MVF9A/",
                    "dtype": "f8"
                  }
                },
                {
                  "name": "Soacha",
                  "type": "bar",
                  "x": [
                    "p_2020_art_hogar",
                    "p_2020_electronicos",
                    "p_2020_juguetes",
                    "p_2020_libros",
                    "p_2020_muebles",
                    "p_2020_deportes",
                    "p_2021_art_hogar",
                    "p_2021_electronicos",
                    "p_2021_juguetes",
                    "p_2021_libros",
                    "p_2021_muebles",
                    "p_2021_deportes",
                    "p_2022_art_hogar",
                    "p_2022_electronicos",
                    "p_2022_juguetes",
                    "p_2022_libros",
                    "p_2022_muebles",
                    "p_2022_deportes",
                    "p_2023_art_hogar",
                    "p_2023_electronicos",
                    "p_2023_juguetes",
                    "p_2023_libros",
                    "p_2023_muebles",
                    "p_2023_deportes"
                  ],
                  "y": {
                    "bdata": "AAAAAAAAAADvvffee69PQAAAAAAAAAAAAAAAAAAAAAAQQgghhFBCQAAAAAAAAAAAAAAAAAAAAAA5uOGim6ZYQAAAAAAAAAAAAAAAAAAAAAAAAAAAAAAAALzxkUcXWfY/AAAAAAAAAADH81TQiCdRQAAAAAAAAAAAsF2P1W8f7z80VT1nRYUzQIfBhLE3xyVAAAAAAAAAAAAAAAAAAABZQAAAAAAAAAAAAAAAAAAAAAAAAAAAAAAAAAAAAAAAAAAA",
                    "dtype": "f8"
                  }
                },
                {
                  "name": "Valledupar",
                  "type": "bar",
                  "x": [
                    "p_2020_art_hogar",
                    "p_2020_electronicos",
                    "p_2020_juguetes",
                    "p_2020_libros",
                    "p_2020_muebles",
                    "p_2020_deportes",
                    "p_2021_art_hogar",
                    "p_2021_electronicos",
                    "p_2021_juguetes",
                    "p_2021_libros",
                    "p_2021_muebles",
                    "p_2021_deportes",
                    "p_2022_art_hogar",
                    "p_2022_electronicos",
                    "p_2022_juguetes",
                    "p_2022_libros",
                    "p_2022_muebles",
                    "p_2022_deportes",
                    "p_2023_art_hogar",
                    "p_2023_electronicos",
                    "p_2023_juguetes",
                    "p_2023_libros",
                    "p_2023_muebles",
                    "p_2023_deportes"
                  ],
                  "y": {
                    "bdata": "AAAAAAAAAAAAAAAAAAAAANNmwGtDezlA14b2lgeTCkAVMljolsxRQAAAAAAAAAAAaZAGaZAGEUAAAAAAAAAAAAAAAAAAAAAAAAAAAAAAAAD5lm/5lu9XQAAAAAAAAAAAOFFNvGGPNEAtnQyxrU5HQAAAAAAAAAAAAAAAAAAAAAAAAAAAAAAAADe6zHChaUBAAAAAAAAAAAAAAAAAAAAAAAAAAAAAAAAAAAAAAAAAAAAAAAAAAABZQAAAAAAAAAAA",
                    "dtype": "f8"
                  }
                },
                {
                  "name": "Villavicencio",
                  "type": "bar",
                  "x": [
                    "p_2020_art_hogar",
                    "p_2020_electronicos",
                    "p_2020_juguetes",
                    "p_2020_libros",
                    "p_2020_muebles",
                    "p_2020_deportes",
                    "p_2021_art_hogar",
                    "p_2021_electronicos",
                    "p_2021_juguetes",
                    "p_2021_libros",
                    "p_2021_muebles",
                    "p_2021_deportes",
                    "p_2022_art_hogar",
                    "p_2022_electronicos",
                    "p_2022_juguetes",
                    "p_2022_libros",
                    "p_2022_muebles",
                    "p_2022_deportes",
                    "p_2023_art_hogar",
                    "p_2023_electronicos",
                    "p_2023_juguetes",
                    "p_2023_libros",
                    "p_2023_muebles",
                    "p_2023_deportes"
                  ],
                  "y": {
                    "bdata": "AAAAAAAAAAAfLBJtKd9QQHe4mT7gwvc/ZEk1w8pgA0A6tjNDBmU7QGRJNcPKYPM/AAAAAAAAAADgisXrP3kgQAAAAAAAAAAAAAAAAAAAAACeG6WG7phVQFwwI76XfhVAeZll2vzUJUARJmM/GYcsQBTfpcqCkfY/AAAAAAAAAABQ9M2uAstBQNWsarRr6UJAAAAAAAAAAAAAAAAAAABZQAAAAAAAAAAAAAAAAAAAAAAAAAAAAAAAAAAAAAAAAAAA",
                    "dtype": "f8"
                  }
                }
              ],
              "layout": {
                "barmode": "group",
                "legend": {
                  "title": {
                    "text": "Tienda"
                  }
                },
                "template": {
                  "data": {
                    "bar": [
                      {
                        "error_x": {
                          "color": "#2a3f5f"
                        },
                        "error_y": {
                          "color": "#2a3f5f"
                        },
                        "marker": {
                          "line": {
                            "color": "#E5ECF6",
                            "width": 0.5
                          },
                          "pattern": {
                            "fillmode": "overlay",
                            "size": 10,
                            "solidity": 0.2
                          }
                        },
                        "type": "bar"
                      }
                    ],
                    "barpolar": [
                      {
                        "marker": {
                          "line": {
                            "color": "#E5ECF6",
                            "width": 0.5
                          },
                          "pattern": {
                            "fillmode": "overlay",
                            "size": 10,
                            "solidity": 0.2
                          }
                        },
                        "type": "barpolar"
                      }
                    ],
                    "carpet": [
                      {
                        "aaxis": {
                          "endlinecolor": "#2a3f5f",
                          "gridcolor": "white",
                          "linecolor": "white",
                          "minorgridcolor": "white",
                          "startlinecolor": "#2a3f5f"
                        },
                        "baxis": {
                          "endlinecolor": "#2a3f5f",
                          "gridcolor": "white",
                          "linecolor": "white",
                          "minorgridcolor": "white",
                          "startlinecolor": "#2a3f5f"
                        },
                        "type": "carpet"
                      }
                    ],
                    "choropleth": [
                      {
                        "colorbar": {
                          "outlinewidth": 0,
                          "ticks": ""
                        },
                        "type": "choropleth"
                      }
                    ],
                    "contour": [
                      {
                        "colorbar": {
                          "outlinewidth": 0,
                          "ticks": ""
                        },
                        "colorscale": [
                          [
                            0,
                            "#0d0887"
                          ],
                          [
                            0.1111111111111111,
                            "#46039f"
                          ],
                          [
                            0.2222222222222222,
                            "#7201a8"
                          ],
                          [
                            0.3333333333333333,
                            "#9c179e"
                          ],
                          [
                            0.4444444444444444,
                            "#bd3786"
                          ],
                          [
                            0.5555555555555556,
                            "#d8576b"
                          ],
                          [
                            0.6666666666666666,
                            "#ed7953"
                          ],
                          [
                            0.7777777777777778,
                            "#fb9f3a"
                          ],
                          [
                            0.8888888888888888,
                            "#fdca26"
                          ],
                          [
                            1,
                            "#f0f921"
                          ]
                        ],
                        "type": "contour"
                      }
                    ],
                    "contourcarpet": [
                      {
                        "colorbar": {
                          "outlinewidth": 0,
                          "ticks": ""
                        },
                        "type": "contourcarpet"
                      }
                    ],
                    "heatmap": [
                      {
                        "colorbar": {
                          "outlinewidth": 0,
                          "ticks": ""
                        },
                        "colorscale": [
                          [
                            0,
                            "#0d0887"
                          ],
                          [
                            0.1111111111111111,
                            "#46039f"
                          ],
                          [
                            0.2222222222222222,
                            "#7201a8"
                          ],
                          [
                            0.3333333333333333,
                            "#9c179e"
                          ],
                          [
                            0.4444444444444444,
                            "#bd3786"
                          ],
                          [
                            0.5555555555555556,
                            "#d8576b"
                          ],
                          [
                            0.6666666666666666,
                            "#ed7953"
                          ],
                          [
                            0.7777777777777778,
                            "#fb9f3a"
                          ],
                          [
                            0.8888888888888888,
                            "#fdca26"
                          ],
                          [
                            1,
                            "#f0f921"
                          ]
                        ],
                        "type": "heatmap"
                      }
                    ],
                    "histogram": [
                      {
                        "marker": {
                          "pattern": {
                            "fillmode": "overlay",
                            "size": 10,
                            "solidity": 0.2
                          }
                        },
                        "type": "histogram"
                      }
                    ],
                    "histogram2d": [
                      {
                        "colorbar": {
                          "outlinewidth": 0,
                          "ticks": ""
                        },
                        "colorscale": [
                          [
                            0,
                            "#0d0887"
                          ],
                          [
                            0.1111111111111111,
                            "#46039f"
                          ],
                          [
                            0.2222222222222222,
                            "#7201a8"
                          ],
                          [
                            0.3333333333333333,
                            "#9c179e"
                          ],
                          [
                            0.4444444444444444,
                            "#bd3786"
                          ],
                          [
                            0.5555555555555556,
                            "#d8576b"
                          ],
                          [
                            0.6666666666666666,
                            "#ed7953"
                          ],
                          [
                            0.7777777777777778,
                            "#fb9f3a"
                          ],
                          [
                            0.8888888888888888,
                            "#fdca26"
                          ],
                          [
                            1,
                            "#f0f921"
                          ]
                        ],
                        "type": "histogram2d"
                      }
                    ],
                    "histogram2dcontour": [
                      {
                        "colorbar": {
                          "outlinewidth": 0,
                          "ticks": ""
                        },
                        "colorscale": [
                          [
                            0,
                            "#0d0887"
                          ],
                          [
                            0.1111111111111111,
                            "#46039f"
                          ],
                          [
                            0.2222222222222222,
                            "#7201a8"
                          ],
                          [
                            0.3333333333333333,
                            "#9c179e"
                          ],
                          [
                            0.4444444444444444,
                            "#bd3786"
                          ],
                          [
                            0.5555555555555556,
                            "#d8576b"
                          ],
                          [
                            0.6666666666666666,
                            "#ed7953"
                          ],
                          [
                            0.7777777777777778,
                            "#fb9f3a"
                          ],
                          [
                            0.8888888888888888,
                            "#fdca26"
                          ],
                          [
                            1,
                            "#f0f921"
                          ]
                        ],
                        "type": "histogram2dcontour"
                      }
                    ],
                    "mesh3d": [
                      {
                        "colorbar": {
                          "outlinewidth": 0,
                          "ticks": ""
                        },
                        "type": "mesh3d"
                      }
                    ],
                    "parcoords": [
                      {
                        "line": {
                          "colorbar": {
                            "outlinewidth": 0,
                            "ticks": ""
                          }
                        },
                        "type": "parcoords"
                      }
                    ],
                    "pie": [
                      {
                        "automargin": true,
                        "type": "pie"
                      }
                    ],
                    "scatter": [
                      {
                        "fillpattern": {
                          "fillmode": "overlay",
                          "size": 10,
                          "solidity": 0.2
                        },
                        "type": "scatter"
                      }
                    ],
                    "scatter3d": [
                      {
                        "line": {
                          "colorbar": {
                            "outlinewidth": 0,
                            "ticks": ""
                          }
                        },
                        "marker": {
                          "colorbar": {
                            "outlinewidth": 0,
                            "ticks": ""
                          }
                        },
                        "type": "scatter3d"
                      }
                    ],
                    "scattercarpet": [
                      {
                        "marker": {
                          "colorbar": {
                            "outlinewidth": 0,
                            "ticks": ""
                          }
                        },
                        "type": "scattercarpet"
                      }
                    ],
                    "scattergeo": [
                      {
                        "marker": {
                          "colorbar": {
                            "outlinewidth": 0,
                            "ticks": ""
                          }
                        },
                        "type": "scattergeo"
                      }
                    ],
                    "scattergl": [
                      {
                        "marker": {
                          "colorbar": {
                            "outlinewidth": 0,
                            "ticks": ""
                          }
                        },
                        "type": "scattergl"
                      }
                    ],
                    "scattermap": [
                      {
                        "marker": {
                          "colorbar": {
                            "outlinewidth": 0,
                            "ticks": ""
                          }
                        },
                        "type": "scattermap"
                      }
                    ],
                    "scattermapbox": [
                      {
                        "marker": {
                          "colorbar": {
                            "outlinewidth": 0,
                            "ticks": ""
                          }
                        },
                        "type": "scattermapbox"
                      }
                    ],
                    "scatterpolar": [
                      {
                        "marker": {
                          "colorbar": {
                            "outlinewidth": 0,
                            "ticks": ""
                          }
                        },
                        "type": "scatterpolar"
                      }
                    ],
                    "scatterpolargl": [
                      {
                        "marker": {
                          "colorbar": {
                            "outlinewidth": 0,
                            "ticks": ""
                          }
                        },
                        "type": "scatterpolargl"
                      }
                    ],
                    "scatterternary": [
                      {
                        "marker": {
                          "colorbar": {
                            "outlinewidth": 0,
                            "ticks": ""
                          }
                        },
                        "type": "scatterternary"
                      }
                    ],
                    "surface": [
                      {
                        "colorbar": {
                          "outlinewidth": 0,
                          "ticks": ""
                        },
                        "colorscale": [
                          [
                            0,
                            "#0d0887"
                          ],
                          [
                            0.1111111111111111,
                            "#46039f"
                          ],
                          [
                            0.2222222222222222,
                            "#7201a8"
                          ],
                          [
                            0.3333333333333333,
                            "#9c179e"
                          ],
                          [
                            0.4444444444444444,
                            "#bd3786"
                          ],
                          [
                            0.5555555555555556,
                            "#d8576b"
                          ],
                          [
                            0.6666666666666666,
                            "#ed7953"
                          ],
                          [
                            0.7777777777777778,
                            "#fb9f3a"
                          ],
                          [
                            0.8888888888888888,
                            "#fdca26"
                          ],
                          [
                            1,
                            "#f0f921"
                          ]
                        ],
                        "type": "surface"
                      }
                    ],
                    "table": [
                      {
                        "cells": {
                          "fill": {
                            "color": "#EBF0F8"
                          },
                          "line": {
                            "color": "white"
                          }
                        },
                        "header": {
                          "fill": {
                            "color": "#C8D4E3"
                          },
                          "line": {
                            "color": "white"
                          }
                        },
                        "type": "table"
                      }
                    ]
                  },
                  "layout": {
                    "annotationdefaults": {
                      "arrowcolor": "#2a3f5f",
                      "arrowhead": 0,
                      "arrowwidth": 1
                    },
                    "autotypenumbers": "strict",
                    "coloraxis": {
                      "colorbar": {
                        "outlinewidth": 0,
                        "ticks": ""
                      }
                    },
                    "colorscale": {
                      "diverging": [
                        [
                          0,
                          "#8e0152"
                        ],
                        [
                          0.1,
                          "#c51b7d"
                        ],
                        [
                          0.2,
                          "#de77ae"
                        ],
                        [
                          0.3,
                          "#f1b6da"
                        ],
                        [
                          0.4,
                          "#fde0ef"
                        ],
                        [
                          0.5,
                          "#f7f7f7"
                        ],
                        [
                          0.6,
                          "#e6f5d0"
                        ],
                        [
                          0.7,
                          "#b8e186"
                        ],
                        [
                          0.8,
                          "#7fbc41"
                        ],
                        [
                          0.9,
                          "#4d9221"
                        ],
                        [
                          1,
                          "#276419"
                        ]
                      ],
                      "sequential": [
                        [
                          0,
                          "#0d0887"
                        ],
                        [
                          0.1111111111111111,
                          "#46039f"
                        ],
                        [
                          0.2222222222222222,
                          "#7201a8"
                        ],
                        [
                          0.3333333333333333,
                          "#9c179e"
                        ],
                        [
                          0.4444444444444444,
                          "#bd3786"
                        ],
                        [
                          0.5555555555555556,
                          "#d8576b"
                        ],
                        [
                          0.6666666666666666,
                          "#ed7953"
                        ],
                        [
                          0.7777777777777778,
                          "#fb9f3a"
                        ],
                        [
                          0.8888888888888888,
                          "#fdca26"
                        ],
                        [
                          1,
                          "#f0f921"
                        ]
                      ],
                      "sequentialminus": [
                        [
                          0,
                          "#0d0887"
                        ],
                        [
                          0.1111111111111111,
                          "#46039f"
                        ],
                        [
                          0.2222222222222222,
                          "#7201a8"
                        ],
                        [
                          0.3333333333333333,
                          "#9c179e"
                        ],
                        [
                          0.4444444444444444,
                          "#bd3786"
                        ],
                        [
                          0.5555555555555556,
                          "#d8576b"
                        ],
                        [
                          0.6666666666666666,
                          "#ed7953"
                        ],
                        [
                          0.7777777777777778,
                          "#fb9f3a"
                        ],
                        [
                          0.8888888888888888,
                          "#fdca26"
                        ],
                        [
                          1,
                          "#f0f921"
                        ]
                      ]
                    },
                    "colorway": [
                      "#636efa",
                      "#EF553B",
                      "#00cc96",
                      "#ab63fa",
                      "#FFA15A",
                      "#19d3f3",
                      "#FF6692",
                      "#B6E880",
                      "#FF97FF",
                      "#FECB52"
                    ],
                    "font": {
                      "color": "#2a3f5f"
                    },
                    "geo": {
                      "bgcolor": "white",
                      "lakecolor": "white",
                      "landcolor": "#E5ECF6",
                      "showlakes": true,
                      "showland": true,
                      "subunitcolor": "white"
                    },
                    "hoverlabel": {
                      "align": "left"
                    },
                    "hovermode": "closest",
                    "mapbox": {
                      "style": "light"
                    },
                    "paper_bgcolor": "white",
                    "plot_bgcolor": "#E5ECF6",
                    "polar": {
                      "angularaxis": {
                        "gridcolor": "white",
                        "linecolor": "white",
                        "ticks": ""
                      },
                      "bgcolor": "#E5ECF6",
                      "radialaxis": {
                        "gridcolor": "white",
                        "linecolor": "white",
                        "ticks": ""
                      }
                    },
                    "scene": {
                      "xaxis": {
                        "backgroundcolor": "#E5ECF6",
                        "gridcolor": "white",
                        "gridwidth": 2,
                        "linecolor": "white",
                        "showbackground": true,
                        "ticks": "",
                        "zerolinecolor": "white"
                      },
                      "yaxis": {
                        "backgroundcolor": "#E5ECF6",
                        "gridcolor": "white",
                        "gridwidth": 2,
                        "linecolor": "white",
                        "showbackground": true,
                        "ticks": "",
                        "zerolinecolor": "white"
                      },
                      "zaxis": {
                        "backgroundcolor": "#E5ECF6",
                        "gridcolor": "white",
                        "gridwidth": 2,
                        "linecolor": "white",
                        "showbackground": true,
                        "ticks": "",
                        "zerolinecolor": "white"
                      }
                    },
                    "shapedefaults": {
                      "line": {
                        "color": "#2a3f5f"
                      }
                    },
                    "ternary": {
                      "aaxis": {
                        "gridcolor": "white",
                        "linecolor": "white",
                        "ticks": ""
                      },
                      "baxis": {
                        "gridcolor": "white",
                        "linecolor": "white",
                        "ticks": ""
                      },
                      "bgcolor": "#E5ECF6",
                      "caxis": {
                        "gridcolor": "white",
                        "linecolor": "white",
                        "ticks": ""
                      }
                    },
                    "title": {
                      "x": 0.05
                    },
                    "xaxis": {
                      "automargin": true,
                      "gridcolor": "white",
                      "linecolor": "white",
                      "ticks": "",
                      "title": {
                        "standoff": 15
                      },
                      "zerolinecolor": "white",
                      "zerolinewidth": 2
                    },
                    "yaxis": {
                      "automargin": true,
                      "gridcolor": "white",
                      "linecolor": "white",
                      "ticks": "",
                      "title": {
                        "standoff": 15
                      },
                      "zerolinecolor": "white",
                      "zerolinewidth": 2
                    }
                  }
                },
                "title": {
                  "text": "Porcentaje de ganancia al año por Categoria"
                },
                "xaxis": {
                  "title": {
                    "text": "Año"
                  }
                },
                "yaxis": {
                  "title": {
                    "text": "% de ganancia"
                  }
                }
              }
            }
          },
          "metadata": {},
          "output_type": "display_data"
        }
      ],
      "source": [
        "import plotly.graph_objects as go\n",
        "\n",
        "tiendas_plot = porcentaje_de_ganancia.index.tolist()\n",
        "anos_plot_nn = porcentaje_de_ganancia.columns.tolist()\n",
        "\n",
        "# Crear una figura inicial con la primera tienda\n",
        "fig = go.Figure()\n",
        "\n",
        "# Agregar trazas para cada tienda\n",
        "for local in porcentaje_de_ganancia.index:\n",
        "    fig.add_trace(go.Bar(\n",
        "        x=anos_plot_nn,\n",
        "        y=porcentaje_de_ganancia.loc[local],  \n",
        "        name=local,  # Nombre de la tienda\n",
        "    ))\n",
        "\n",
        "# Configurar el diseño del gráfico\n",
        "fig.update_layout(\n",
        "    title=\"Porcentaje de ganancia al año por Categoria\",\n",
        "    xaxis_title=\"Año\",\n",
        "    yaxis_title=\"% de ganancia\",\n",
        "    barmode= \"group\",\n",
        "    legend_title=\"Tienda\",\n",
        "      \n",
        ")"
      ]
    },
    {
      "cell_type": "code",
      "execution_count": 38,
      "metadata": {
        "id": "S2JeaCykZNy9"
      },
      "outputs": [
        {
          "name": "stderr",
          "output_type": "stream",
          "text": [
            "C:\\Users\\herna\\AppData\\Local\\Temp\\ipykernel_23460\\1545782739.py:3: DeprecationWarning:\n",
            "\n",
            "*scatter_mapbox* is deprecated! Use *scatter_map* instead. Learn more at: https://plotly.com/python/mapbox-to-maplibre/\n",
            "\n"
          ]
        },
        {
          "data": {
            "application/vnd.plotly.v1+json": {
              "config": {
                "plotlyServerURL": "https://plot.ly"
              },
              "data": [
                {
                  "customdata": {
                    "bdata": "AAAAqyOa2UEAAAAklfDOQQAAAChNlrxBAAAAsIiAqUEAAAAwwc2dQQAAAGAyGpdBAAAAQFtslkEAAAAwMnCUQQAAAFA4rZBBAAAAgCdOjkEAAAAgV/iHQQAAAEAvIIZBAAAAAHLfckEAAACAwn5xQQAAAIAgC2hBAAAAgPE7ZkEAAAAAVSFmQQAAAACROF1BAAAAAERHVUE=",
                    "dtype": "f8",
                    "shape": "19, 1"
                  },
                  "hovertemplate": "<b>%{hovertext}</b><br><br>Ganancia=%{marker.color}<br>lat=%{lat}<br>lon=%{lon}<extra></extra>",
                  "hovertext": [
                    "Bogotá",
                    "Medellín",
                    "Cali",
                    "Pereira",
                    "Barranquilla",
                    "Cartagena",
                    "Cúcuta",
                    "Bucaramanga",
                    "Riohacha",
                    "Leticia",
                    "Santa Marta",
                    "Pasto",
                    "Neiva",
                    "Manizales",
                    "Villavicencio",
                    "Soacha",
                    "Armenia",
                    "Inírida",
                    "Valledupar"
                  ],
                  "lat": {
                    "bdata": "OC140VdwEkBuTE9Y4gEZQMhBCTNtfwtAN2xblNlAE0BWvJF55O8lQD8djxmozCRA+kSeJF2TH0BV+3Q8ZoAcQLtE9dbAFidAeO49XHLcEMBeaK7TSHsmQLSTwVHyavM/eqUsQxxrB0D0FaQZi0YUQMUgsHJokRBAUyKJXkZREkBRpWYPtCISQJXUCWgi7A5AWvCiryDtJEA=",
                    "dtype": "f8"
                  },
                  "legendgroup": "",
                  "lon": {
                    "bdata": "rBxaZDuFUsCSlsrbEeRSwD0K16NwIVPAyhr1EI3sUsB87ZklAbJSwEXwv5Xs4FLATRB1H4AgUsDkg57NqkdSwLyReeQPOlLAQPuRIjJ8UcAipkQSvYxSwAclzLT9UVPAcsRafArSUsCw5gDBHOFSwGOXqN4aaFLAmUf+YOCNUsChvmVOl+tSwJAxdy0h+1DAXKyowTRQUsA=",
                    "dtype": "f8"
                  },
                  "marker": {
                    "color": {
                      "bdata": "AAAAqyOa2UEAAAAklfDOQQAAAChNlrxBAAAAsIiAqUEAAAAwwc2dQQAAAGAyGpdBAAAAQFtslkEAAAAwMnCUQQAAAFA4rZBBAAAAgCdOjkEAAAAgV/iHQQAAAEAvIIZBAAAAAHLfckEAAACAwn5xQQAAAIAgC2hBAAAAgPE7ZkEAAAAAVSFmQQAAAACROF1BAAAAAERHVUE=",
                      "dtype": "f8"
                    },
                    "coloraxis": "coloraxis",
                    "size": {
                      "bdata": "AAAAqyOa2UEAAAAklfDOQQAAAChNlrxBAAAAsIiAqUEAAAAwwc2dQQAAAGAyGpdBAAAAQFtslkEAAAAwMnCUQQAAAFA4rZBBAAAAgCdOjkEAAAAgV/iHQQAAAEAvIIZBAAAAAHLfckEAAACAwn5xQQAAAIAgC2hBAAAAgPE7ZkEAAAAAVSFmQQAAAACROF1BAAAAAERHVUE=",
                      "dtype": "f8"
                    },
                    "sizemode": "area",
                    "sizeref": 1909031.4444444445
                  },
                  "mode": "markers",
                  "name": "",
                  "showlegend": false,
                  "subplot": "mapbox",
                  "type": "scattermapbox"
                }
              ],
              "layout": {
                "coloraxis": {
                  "colorbar": {
                    "title": {
                      "text": "Ganancia"
                    }
                  },
                  "colorscale": [
                    [
                      0,
                      "#0d0887"
                    ],
                    [
                      0.1111111111111111,
                      "#46039f"
                    ],
                    [
                      0.2222222222222222,
                      "#7201a8"
                    ],
                    [
                      0.3333333333333333,
                      "#9c179e"
                    ],
                    [
                      0.4444444444444444,
                      "#bd3786"
                    ],
                    [
                      0.5555555555555556,
                      "#d8576b"
                    ],
                    [
                      0.6666666666666666,
                      "#ed7953"
                    ],
                    [
                      0.7777777777777778,
                      "#fb9f3a"
                    ],
                    [
                      0.8888888888888888,
                      "#fdca26"
                    ],
                    [
                      1,
                      "#f0f921"
                    ]
                  ]
                },
                "legend": {
                  "itemsizing": "constant",
                  "tracegroupgap": 0
                },
                "mapbox": {
                  "center": {
                    "lat": 5.834900526315789,
                    "lon": -74.08506421052633
                  },
                  "domain": {
                    "x": [
                      0,
                      1
                    ],
                    "y": [
                      0,
                      1
                    ]
                  },
                  "style": "carto-positron",
                  "zoom": 5
                },
                "template": {
                  "data": {
                    "bar": [
                      {
                        "error_x": {
                          "color": "#2a3f5f"
                        },
                        "error_y": {
                          "color": "#2a3f5f"
                        },
                        "marker": {
                          "line": {
                            "color": "#E5ECF6",
                            "width": 0.5
                          },
                          "pattern": {
                            "fillmode": "overlay",
                            "size": 10,
                            "solidity": 0.2
                          }
                        },
                        "type": "bar"
                      }
                    ],
                    "barpolar": [
                      {
                        "marker": {
                          "line": {
                            "color": "#E5ECF6",
                            "width": 0.5
                          },
                          "pattern": {
                            "fillmode": "overlay",
                            "size": 10,
                            "solidity": 0.2
                          }
                        },
                        "type": "barpolar"
                      }
                    ],
                    "carpet": [
                      {
                        "aaxis": {
                          "endlinecolor": "#2a3f5f",
                          "gridcolor": "white",
                          "linecolor": "white",
                          "minorgridcolor": "white",
                          "startlinecolor": "#2a3f5f"
                        },
                        "baxis": {
                          "endlinecolor": "#2a3f5f",
                          "gridcolor": "white",
                          "linecolor": "white",
                          "minorgridcolor": "white",
                          "startlinecolor": "#2a3f5f"
                        },
                        "type": "carpet"
                      }
                    ],
                    "choropleth": [
                      {
                        "colorbar": {
                          "outlinewidth": 0,
                          "ticks": ""
                        },
                        "type": "choropleth"
                      }
                    ],
                    "contour": [
                      {
                        "colorbar": {
                          "outlinewidth": 0,
                          "ticks": ""
                        },
                        "colorscale": [
                          [
                            0,
                            "#0d0887"
                          ],
                          [
                            0.1111111111111111,
                            "#46039f"
                          ],
                          [
                            0.2222222222222222,
                            "#7201a8"
                          ],
                          [
                            0.3333333333333333,
                            "#9c179e"
                          ],
                          [
                            0.4444444444444444,
                            "#bd3786"
                          ],
                          [
                            0.5555555555555556,
                            "#d8576b"
                          ],
                          [
                            0.6666666666666666,
                            "#ed7953"
                          ],
                          [
                            0.7777777777777778,
                            "#fb9f3a"
                          ],
                          [
                            0.8888888888888888,
                            "#fdca26"
                          ],
                          [
                            1,
                            "#f0f921"
                          ]
                        ],
                        "type": "contour"
                      }
                    ],
                    "contourcarpet": [
                      {
                        "colorbar": {
                          "outlinewidth": 0,
                          "ticks": ""
                        },
                        "type": "contourcarpet"
                      }
                    ],
                    "heatmap": [
                      {
                        "colorbar": {
                          "outlinewidth": 0,
                          "ticks": ""
                        },
                        "colorscale": [
                          [
                            0,
                            "#0d0887"
                          ],
                          [
                            0.1111111111111111,
                            "#46039f"
                          ],
                          [
                            0.2222222222222222,
                            "#7201a8"
                          ],
                          [
                            0.3333333333333333,
                            "#9c179e"
                          ],
                          [
                            0.4444444444444444,
                            "#bd3786"
                          ],
                          [
                            0.5555555555555556,
                            "#d8576b"
                          ],
                          [
                            0.6666666666666666,
                            "#ed7953"
                          ],
                          [
                            0.7777777777777778,
                            "#fb9f3a"
                          ],
                          [
                            0.8888888888888888,
                            "#fdca26"
                          ],
                          [
                            1,
                            "#f0f921"
                          ]
                        ],
                        "type": "heatmap"
                      }
                    ],
                    "histogram": [
                      {
                        "marker": {
                          "pattern": {
                            "fillmode": "overlay",
                            "size": 10,
                            "solidity": 0.2
                          }
                        },
                        "type": "histogram"
                      }
                    ],
                    "histogram2d": [
                      {
                        "colorbar": {
                          "outlinewidth": 0,
                          "ticks": ""
                        },
                        "colorscale": [
                          [
                            0,
                            "#0d0887"
                          ],
                          [
                            0.1111111111111111,
                            "#46039f"
                          ],
                          [
                            0.2222222222222222,
                            "#7201a8"
                          ],
                          [
                            0.3333333333333333,
                            "#9c179e"
                          ],
                          [
                            0.4444444444444444,
                            "#bd3786"
                          ],
                          [
                            0.5555555555555556,
                            "#d8576b"
                          ],
                          [
                            0.6666666666666666,
                            "#ed7953"
                          ],
                          [
                            0.7777777777777778,
                            "#fb9f3a"
                          ],
                          [
                            0.8888888888888888,
                            "#fdca26"
                          ],
                          [
                            1,
                            "#f0f921"
                          ]
                        ],
                        "type": "histogram2d"
                      }
                    ],
                    "histogram2dcontour": [
                      {
                        "colorbar": {
                          "outlinewidth": 0,
                          "ticks": ""
                        },
                        "colorscale": [
                          [
                            0,
                            "#0d0887"
                          ],
                          [
                            0.1111111111111111,
                            "#46039f"
                          ],
                          [
                            0.2222222222222222,
                            "#7201a8"
                          ],
                          [
                            0.3333333333333333,
                            "#9c179e"
                          ],
                          [
                            0.4444444444444444,
                            "#bd3786"
                          ],
                          [
                            0.5555555555555556,
                            "#d8576b"
                          ],
                          [
                            0.6666666666666666,
                            "#ed7953"
                          ],
                          [
                            0.7777777777777778,
                            "#fb9f3a"
                          ],
                          [
                            0.8888888888888888,
                            "#fdca26"
                          ],
                          [
                            1,
                            "#f0f921"
                          ]
                        ],
                        "type": "histogram2dcontour"
                      }
                    ],
                    "mesh3d": [
                      {
                        "colorbar": {
                          "outlinewidth": 0,
                          "ticks": ""
                        },
                        "type": "mesh3d"
                      }
                    ],
                    "parcoords": [
                      {
                        "line": {
                          "colorbar": {
                            "outlinewidth": 0,
                            "ticks": ""
                          }
                        },
                        "type": "parcoords"
                      }
                    ],
                    "pie": [
                      {
                        "automargin": true,
                        "type": "pie"
                      }
                    ],
                    "scatter": [
                      {
                        "fillpattern": {
                          "fillmode": "overlay",
                          "size": 10,
                          "solidity": 0.2
                        },
                        "type": "scatter"
                      }
                    ],
                    "scatter3d": [
                      {
                        "line": {
                          "colorbar": {
                            "outlinewidth": 0,
                            "ticks": ""
                          }
                        },
                        "marker": {
                          "colorbar": {
                            "outlinewidth": 0,
                            "ticks": ""
                          }
                        },
                        "type": "scatter3d"
                      }
                    ],
                    "scattercarpet": [
                      {
                        "marker": {
                          "colorbar": {
                            "outlinewidth": 0,
                            "ticks": ""
                          }
                        },
                        "type": "scattercarpet"
                      }
                    ],
                    "scattergeo": [
                      {
                        "marker": {
                          "colorbar": {
                            "outlinewidth": 0,
                            "ticks": ""
                          }
                        },
                        "type": "scattergeo"
                      }
                    ],
                    "scattergl": [
                      {
                        "marker": {
                          "colorbar": {
                            "outlinewidth": 0,
                            "ticks": ""
                          }
                        },
                        "type": "scattergl"
                      }
                    ],
                    "scattermap": [
                      {
                        "marker": {
                          "colorbar": {
                            "outlinewidth": 0,
                            "ticks": ""
                          }
                        },
                        "type": "scattermap"
                      }
                    ],
                    "scattermapbox": [
                      {
                        "marker": {
                          "colorbar": {
                            "outlinewidth": 0,
                            "ticks": ""
                          }
                        },
                        "type": "scattermapbox"
                      }
                    ],
                    "scatterpolar": [
                      {
                        "marker": {
                          "colorbar": {
                            "outlinewidth": 0,
                            "ticks": ""
                          }
                        },
                        "type": "scatterpolar"
                      }
                    ],
                    "scatterpolargl": [
                      {
                        "marker": {
                          "colorbar": {
                            "outlinewidth": 0,
                            "ticks": ""
                          }
                        },
                        "type": "scatterpolargl"
                      }
                    ],
                    "scatterternary": [
                      {
                        "marker": {
                          "colorbar": {
                            "outlinewidth": 0,
                            "ticks": ""
                          }
                        },
                        "type": "scatterternary"
                      }
                    ],
                    "surface": [
                      {
                        "colorbar": {
                          "outlinewidth": 0,
                          "ticks": ""
                        },
                        "colorscale": [
                          [
                            0,
                            "#0d0887"
                          ],
                          [
                            0.1111111111111111,
                            "#46039f"
                          ],
                          [
                            0.2222222222222222,
                            "#7201a8"
                          ],
                          [
                            0.3333333333333333,
                            "#9c179e"
                          ],
                          [
                            0.4444444444444444,
                            "#bd3786"
                          ],
                          [
                            0.5555555555555556,
                            "#d8576b"
                          ],
                          [
                            0.6666666666666666,
                            "#ed7953"
                          ],
                          [
                            0.7777777777777778,
                            "#fb9f3a"
                          ],
                          [
                            0.8888888888888888,
                            "#fdca26"
                          ],
                          [
                            1,
                            "#f0f921"
                          ]
                        ],
                        "type": "surface"
                      }
                    ],
                    "table": [
                      {
                        "cells": {
                          "fill": {
                            "color": "#EBF0F8"
                          },
                          "line": {
                            "color": "white"
                          }
                        },
                        "header": {
                          "fill": {
                            "color": "#C8D4E3"
                          },
                          "line": {
                            "color": "white"
                          }
                        },
                        "type": "table"
                      }
                    ]
                  },
                  "layout": {
                    "annotationdefaults": {
                      "arrowcolor": "#2a3f5f",
                      "arrowhead": 0,
                      "arrowwidth": 1
                    },
                    "autotypenumbers": "strict",
                    "coloraxis": {
                      "colorbar": {
                        "outlinewidth": 0,
                        "ticks": ""
                      }
                    },
                    "colorscale": {
                      "diverging": [
                        [
                          0,
                          "#8e0152"
                        ],
                        [
                          0.1,
                          "#c51b7d"
                        ],
                        [
                          0.2,
                          "#de77ae"
                        ],
                        [
                          0.3,
                          "#f1b6da"
                        ],
                        [
                          0.4,
                          "#fde0ef"
                        ],
                        [
                          0.5,
                          "#f7f7f7"
                        ],
                        [
                          0.6,
                          "#e6f5d0"
                        ],
                        [
                          0.7,
                          "#b8e186"
                        ],
                        [
                          0.8,
                          "#7fbc41"
                        ],
                        [
                          0.9,
                          "#4d9221"
                        ],
                        [
                          1,
                          "#276419"
                        ]
                      ],
                      "sequential": [
                        [
                          0,
                          "#0d0887"
                        ],
                        [
                          0.1111111111111111,
                          "#46039f"
                        ],
                        [
                          0.2222222222222222,
                          "#7201a8"
                        ],
                        [
                          0.3333333333333333,
                          "#9c179e"
                        ],
                        [
                          0.4444444444444444,
                          "#bd3786"
                        ],
                        [
                          0.5555555555555556,
                          "#d8576b"
                        ],
                        [
                          0.6666666666666666,
                          "#ed7953"
                        ],
                        [
                          0.7777777777777778,
                          "#fb9f3a"
                        ],
                        [
                          0.8888888888888888,
                          "#fdca26"
                        ],
                        [
                          1,
                          "#f0f921"
                        ]
                      ],
                      "sequentialminus": [
                        [
                          0,
                          "#0d0887"
                        ],
                        [
                          0.1111111111111111,
                          "#46039f"
                        ],
                        [
                          0.2222222222222222,
                          "#7201a8"
                        ],
                        [
                          0.3333333333333333,
                          "#9c179e"
                        ],
                        [
                          0.4444444444444444,
                          "#bd3786"
                        ],
                        [
                          0.5555555555555556,
                          "#d8576b"
                        ],
                        [
                          0.6666666666666666,
                          "#ed7953"
                        ],
                        [
                          0.7777777777777778,
                          "#fb9f3a"
                        ],
                        [
                          0.8888888888888888,
                          "#fdca26"
                        ],
                        [
                          1,
                          "#f0f921"
                        ]
                      ]
                    },
                    "colorway": [
                      "#636efa",
                      "#EF553B",
                      "#00cc96",
                      "#ab63fa",
                      "#FFA15A",
                      "#19d3f3",
                      "#FF6692",
                      "#B6E880",
                      "#FF97FF",
                      "#FECB52"
                    ],
                    "font": {
                      "color": "#2a3f5f"
                    },
                    "geo": {
                      "bgcolor": "white",
                      "lakecolor": "white",
                      "landcolor": "#E5ECF6",
                      "showlakes": true,
                      "showland": true,
                      "subunitcolor": "white"
                    },
                    "hoverlabel": {
                      "align": "left"
                    },
                    "hovermode": "closest",
                    "mapbox": {
                      "style": "light"
                    },
                    "paper_bgcolor": "white",
                    "plot_bgcolor": "#E5ECF6",
                    "polar": {
                      "angularaxis": {
                        "gridcolor": "white",
                        "linecolor": "white",
                        "ticks": ""
                      },
                      "bgcolor": "#E5ECF6",
                      "radialaxis": {
                        "gridcolor": "white",
                        "linecolor": "white",
                        "ticks": ""
                      }
                    },
                    "scene": {
                      "xaxis": {
                        "backgroundcolor": "#E5ECF6",
                        "gridcolor": "white",
                        "gridwidth": 2,
                        "linecolor": "white",
                        "showbackground": true,
                        "ticks": "",
                        "zerolinecolor": "white"
                      },
                      "yaxis": {
                        "backgroundcolor": "#E5ECF6",
                        "gridcolor": "white",
                        "gridwidth": 2,
                        "linecolor": "white",
                        "showbackground": true,
                        "ticks": "",
                        "zerolinecolor": "white"
                      },
                      "zaxis": {
                        "backgroundcolor": "#E5ECF6",
                        "gridcolor": "white",
                        "gridwidth": 2,
                        "linecolor": "white",
                        "showbackground": true,
                        "ticks": "",
                        "zerolinecolor": "white"
                      }
                    },
                    "shapedefaults": {
                      "line": {
                        "color": "#2a3f5f"
                      }
                    },
                    "ternary": {
                      "aaxis": {
                        "gridcolor": "white",
                        "linecolor": "white",
                        "ticks": ""
                      },
                      "baxis": {
                        "gridcolor": "white",
                        "linecolor": "white",
                        "ticks": ""
                      },
                      "bgcolor": "#E5ECF6",
                      "caxis": {
                        "gridcolor": "white",
                        "linecolor": "white",
                        "ticks": ""
                      }
                    },
                    "title": {
                      "x": 0.05
                    },
                    "xaxis": {
                      "automargin": true,
                      "gridcolor": "white",
                      "linecolor": "white",
                      "ticks": "",
                      "title": {
                        "standoff": 15
                      },
                      "zerolinecolor": "white",
                      "zerolinewidth": 2
                    },
                    "yaxis": {
                      "automargin": true,
                      "gridcolor": "white",
                      "linecolor": "white",
                      "ticks": "",
                      "title": {
                        "standoff": 15
                      },
                      "zerolinecolor": "white",
                      "zerolinewidth": 2
                    }
                  }
                },
                "title": {
                  "text": "Distribución geográfica de las ganancias"
                }
              }
            }
          },
          "metadata": {},
          "output_type": "display_data"
        }
      ],
      "source": [
        "import plotly.express as px\n",
        "\n",
        "fig = px.scatter_mapbox(utilidades, lat=\"lat\", lon=\"lon\",\n",
        "                        color=\"Ganancia\", size=\"Ganancia\", size_max=30, zoom=5, mapbox_style=\"carto-positron\",\n",
        "                        hover_name=\"Lugar de Compra\", hover_data=\"Ganancia\", center={\"lat\":float(utilidades[\"lat\"].mean()), \"lon\": float(utilidades[\"lon\"].mean())},\n",
        "                        title=\"Distribución geográfica de las ganancias\")\n",
        "fig.show()"
      ]
    },
    {
      "cell_type": "code",
      "execution_count": 39,
      "metadata": {
        "id": "0tSdCie9ZQlt"
      },
      "outputs": [
        {
          "data": {
            "text/html": [
              "<div>\n",
              "<style scoped>\n",
              "    .dataframe tbody tr th:only-of-type {\n",
              "        vertical-align: middle;\n",
              "    }\n",
              "\n",
              "    .dataframe tbody tr th {\n",
              "        vertical-align: top;\n",
              "    }\n",
              "\n",
              "    .dataframe thead th {\n",
              "        text-align: right;\n",
              "    }\n",
              "</style>\n",
              "<table border=\"1\" class=\"dataframe\">\n",
              "  <thead>\n",
              "    <tr style=\"text-align: right;\">\n",
              "      <th></th>\n",
              "      <th>Lugar de Compra</th>\n",
              "      <th>lat</th>\n",
              "      <th>lon</th>\n",
              "      <th>Precio</th>\n",
              "      <th>Costo de envío</th>\n",
              "      <th>Calificación</th>\n",
              "      <th>Ganancia</th>\n",
              "      <th>p_ganancia/precio</th>\n",
              "      <th>p_costo/precio</th>\n",
              "    </tr>\n",
              "  </thead>\n",
              "  <tbody>\n",
              "    <tr>\n",
              "      <th>0</th>\n",
              "      <td>Bogotá</td>\n",
              "      <td>4.60971</td>\n",
              "      <td>-74.08175</td>\n",
              "      <td>1.814858e+09</td>\n",
              "      <td>96730000.0</td>\n",
              "      <td>4.113619</td>\n",
              "      <td>1.718128e+09</td>\n",
              "      <td>94.670107</td>\n",
              "      <td>5.329893</td>\n",
              "    </tr>\n",
              "    <tr>\n",
              "      <th>1</th>\n",
              "      <td>Medellín</td>\n",
              "      <td>6.25184</td>\n",
              "      <td>-75.56359</td>\n",
              "      <td>1.096669e+09</td>\n",
              "      <td>58502600.0</td>\n",
              "      <td>3.926534</td>\n",
              "      <td>1.038167e+09</td>\n",
              "      <td>94.665429</td>\n",
              "      <td>5.334571</td>\n",
              "    </tr>\n",
              "    <tr>\n",
              "      <th>2</th>\n",
              "      <td>Cali</td>\n",
              "      <td>3.43722</td>\n",
              "      <td>-76.52250</td>\n",
              "      <td>5.065261e+08</td>\n",
              "      <td>26913900.0</td>\n",
              "      <td>4.046673</td>\n",
              "      <td>4.796122e+08</td>\n",
              "      <td>94.686572</td>\n",
              "      <td>5.313428</td>\n",
              "    </tr>\n",
              "    <tr>\n",
              "      <th>3</th>\n",
              "      <td>Pereira</td>\n",
              "      <td>4.81333</td>\n",
              "      <td>-75.69611</td>\n",
              "      <td>2.259273e+08</td>\n",
              "      <td>12000300.0</td>\n",
              "      <td>4.013540</td>\n",
              "      <td>2.139270e+08</td>\n",
              "      <td>94.688424</td>\n",
              "      <td>5.311576</td>\n",
              "    </tr>\n",
              "    <tr>\n",
              "      <th>4</th>\n",
              "      <td>Barranquilla</td>\n",
              "      <td>10.96854</td>\n",
              "      <td>-74.78132</td>\n",
              "      <td>1.320405e+08</td>\n",
              "      <td>7034600.0</td>\n",
              "      <td>3.803226</td>\n",
              "      <td>1.250059e+08</td>\n",
              "      <td>94.672392</td>\n",
              "      <td>5.327608</td>\n",
              "    </tr>\n",
              "    <tr>\n",
              "      <th>5</th>\n",
              "      <td>Cartagena</td>\n",
              "      <td>10.39972</td>\n",
              "      <td>-75.51444</td>\n",
              "      <td>1.023767e+08</td>\n",
              "      <td>5478500.0</td>\n",
              "      <td>4.020661</td>\n",
              "      <td>9.689820e+07</td>\n",
              "      <td>94.648685</td>\n",
              "      <td>5.351315</td>\n",
              "    </tr>\n",
              "    <tr>\n",
              "      <th>6</th>\n",
              "      <td>Cúcuta</td>\n",
              "      <td>7.89391</td>\n",
              "      <td>-72.50782</td>\n",
              "      <td>9.936910e+07</td>\n",
              "      <td>5319100.0</td>\n",
              "      <td>3.940860</td>\n",
              "      <td>9.405000e+07</td>\n",
              "      <td>94.647129</td>\n",
              "      <td>5.352871</td>\n",
              "    </tr>\n",
              "    <tr>\n",
              "      <th>7</th>\n",
              "      <td>Bucaramanga</td>\n",
              "      <td>7.12539</td>\n",
              "      <td>-73.11980</td>\n",
              "      <td>9.057330e+07</td>\n",
              "      <td>4849000.0</td>\n",
              "      <td>3.977901</td>\n",
              "      <td>8.572430e+07</td>\n",
              "      <td>94.646325</td>\n",
              "      <td>5.353675</td>\n",
              "    </tr>\n",
              "    <tr>\n",
              "      <th>8</th>\n",
              "      <td>Riohacha</td>\n",
              "      <td>11.54444</td>\n",
              "      <td>-72.90722</td>\n",
              "      <td>7.387970e+07</td>\n",
              "      <td>3932800.0</td>\n",
              "      <td>3.895706</td>\n",
              "      <td>6.994690e+07</td>\n",
              "      <td>94.676752</td>\n",
              "      <td>5.323248</td>\n",
              "    </tr>\n",
              "    <tr>\n",
              "      <th>9</th>\n",
              "      <td>Leticia</td>\n",
              "      <td>-4.21528</td>\n",
              "      <td>-69.94056</td>\n",
              "      <td>6.714990e+07</td>\n",
              "      <td>3595100.0</td>\n",
              "      <td>3.922535</td>\n",
              "      <td>6.355480e+07</td>\n",
              "      <td>94.646157</td>\n",
              "      <td>5.353843</td>\n",
              "    </tr>\n",
              "    <tr>\n",
              "      <th>10</th>\n",
              "      <td>Santa Marta</td>\n",
              "      <td>11.24079</td>\n",
              "      <td>-74.19904</td>\n",
              "      <td>5.310050e+07</td>\n",
              "      <td>2831600.0</td>\n",
              "      <td>3.596026</td>\n",
              "      <td>5.026890e+07</td>\n",
              "      <td>94.667470</td>\n",
              "      <td>5.332530</td>\n",
              "    </tr>\n",
              "    <tr>\n",
              "      <th>11</th>\n",
              "      <td>Pasto</td>\n",
              "      <td>1.21361</td>\n",
              "      <td>-77.28111</td>\n",
              "      <td>4.901430e+07</td>\n",
              "      <td>2613300.0</td>\n",
              "      <td>4.148936</td>\n",
              "      <td>4.640100e+07</td>\n",
              "      <td>94.668291</td>\n",
              "      <td>5.331709</td>\n",
              "    </tr>\n",
              "    <tr>\n",
              "      <th>12</th>\n",
              "      <td>Neiva</td>\n",
              "      <td>2.92730</td>\n",
              "      <td>-75.28189</td>\n",
              "      <td>2.089800e+07</td>\n",
              "      <td>1108400.0</td>\n",
              "      <td>3.800000</td>\n",
              "      <td>1.978960e+07</td>\n",
              "      <td>94.696143</td>\n",
              "      <td>5.303857</td>\n",
              "    </tr>\n",
              "    <tr>\n",
              "      <th>13</th>\n",
              "      <td>Manizales</td>\n",
              "      <td>5.06889</td>\n",
              "      <td>-75.51738</td>\n",
              "      <td>1.936790e+07</td>\n",
              "      <td>1022900.0</td>\n",
              "      <td>3.634146</td>\n",
              "      <td>1.834500e+07</td>\n",
              "      <td>94.718581</td>\n",
              "      <td>5.281419</td>\n",
              "    </tr>\n",
              "    <tr>\n",
              "      <th>14</th>\n",
              "      <td>Villavicencio</td>\n",
              "      <td>4.14200</td>\n",
              "      <td>-73.62664</td>\n",
              "      <td>1.333360e+07</td>\n",
              "      <td>727900.0</td>\n",
              "      <td>3.827586</td>\n",
              "      <td>1.260570e+07</td>\n",
              "      <td>94.540859</td>\n",
              "      <td>5.459141</td>\n",
              "    </tr>\n",
              "    <tr>\n",
              "      <th>15</th>\n",
              "      <td>Soacha</td>\n",
              "      <td>4.57937</td>\n",
              "      <td>-74.21682</td>\n",
              "      <td>1.231770e+07</td>\n",
              "      <td>660600.0</td>\n",
              "      <td>3.894737</td>\n",
              "      <td>1.165710e+07</td>\n",
              "      <td>94.636986</td>\n",
              "      <td>5.363014</td>\n",
              "    </tr>\n",
              "    <tr>\n",
              "      <th>16</th>\n",
              "      <td>Armenia</td>\n",
              "      <td>4.53389</td>\n",
              "      <td>-75.68111</td>\n",
              "      <td>1.224290e+07</td>\n",
              "      <td>640300.0</td>\n",
              "      <td>3.464286</td>\n",
              "      <td>1.160260e+07</td>\n",
              "      <td>94.770030</td>\n",
              "      <td>5.229970</td>\n",
              "    </tr>\n",
              "    <tr>\n",
              "      <th>17</th>\n",
              "      <td>Inírida</td>\n",
              "      <td>3.86530</td>\n",
              "      <td>-67.92390</td>\n",
              "      <td>8.087900e+06</td>\n",
              "      <td>427800.0</td>\n",
              "      <td>3.642857</td>\n",
              "      <td>7.660100e+06</td>\n",
              "      <td>94.710617</td>\n",
              "      <td>5.289383</td>\n",
              "    </tr>\n",
              "    <tr>\n",
              "      <th>18</th>\n",
              "      <td>Valledupar</td>\n",
              "      <td>10.46314</td>\n",
              "      <td>-73.25322</td>\n",
              "      <td>5.886300e+06</td>\n",
              "      <td>308300.0</td>\n",
              "      <td>4.071429</td>\n",
              "      <td>5.578000e+06</td>\n",
              "      <td>94.762414</td>\n",
              "      <td>5.237586</td>\n",
              "    </tr>\n",
              "  </tbody>\n",
              "</table>\n",
              "</div>"
            ],
            "text/plain": [
              "   Lugar de Compra       lat       lon        Precio  Costo de envío  \\\n",
              "0           Bogotá   4.60971 -74.08175  1.814858e+09      96730000.0   \n",
              "1         Medellín   6.25184 -75.56359  1.096669e+09      58502600.0   \n",
              "2             Cali   3.43722 -76.52250  5.065261e+08      26913900.0   \n",
              "3          Pereira   4.81333 -75.69611  2.259273e+08      12000300.0   \n",
              "4     Barranquilla  10.96854 -74.78132  1.320405e+08       7034600.0   \n",
              "5        Cartagena  10.39972 -75.51444  1.023767e+08       5478500.0   \n",
              "6           Cúcuta   7.89391 -72.50782  9.936910e+07       5319100.0   \n",
              "7      Bucaramanga   7.12539 -73.11980  9.057330e+07       4849000.0   \n",
              "8         Riohacha  11.54444 -72.90722  7.387970e+07       3932800.0   \n",
              "9          Leticia  -4.21528 -69.94056  6.714990e+07       3595100.0   \n",
              "10     Santa Marta  11.24079 -74.19904  5.310050e+07       2831600.0   \n",
              "11           Pasto   1.21361 -77.28111  4.901430e+07       2613300.0   \n",
              "12           Neiva   2.92730 -75.28189  2.089800e+07       1108400.0   \n",
              "13       Manizales   5.06889 -75.51738  1.936790e+07       1022900.0   \n",
              "14   Villavicencio   4.14200 -73.62664  1.333360e+07        727900.0   \n",
              "15          Soacha   4.57937 -74.21682  1.231770e+07        660600.0   \n",
              "16         Armenia   4.53389 -75.68111  1.224290e+07        640300.0   \n",
              "17         Inírida   3.86530 -67.92390  8.087900e+06        427800.0   \n",
              "18      Valledupar  10.46314 -73.25322  5.886300e+06        308300.0   \n",
              "\n",
              "    Calificación      Ganancia  p_ganancia/precio  p_costo/precio  \n",
              "0       4.113619  1.718128e+09          94.670107        5.329893  \n",
              "1       3.926534  1.038167e+09          94.665429        5.334571  \n",
              "2       4.046673  4.796122e+08          94.686572        5.313428  \n",
              "3       4.013540  2.139270e+08          94.688424        5.311576  \n",
              "4       3.803226  1.250059e+08          94.672392        5.327608  \n",
              "5       4.020661  9.689820e+07          94.648685        5.351315  \n",
              "6       3.940860  9.405000e+07          94.647129        5.352871  \n",
              "7       3.977901  8.572430e+07          94.646325        5.353675  \n",
              "8       3.895706  6.994690e+07          94.676752        5.323248  \n",
              "9       3.922535  6.355480e+07          94.646157        5.353843  \n",
              "10      3.596026  5.026890e+07          94.667470        5.332530  \n",
              "11      4.148936  4.640100e+07          94.668291        5.331709  \n",
              "12      3.800000  1.978960e+07          94.696143        5.303857  \n",
              "13      3.634146  1.834500e+07          94.718581        5.281419  \n",
              "14      3.827586  1.260570e+07          94.540859        5.459141  \n",
              "15      3.894737  1.165710e+07          94.636986        5.363014  \n",
              "16      3.464286  1.160260e+07          94.770030        5.229970  \n",
              "17      3.642857  7.660100e+06          94.710617        5.289383  \n",
              "18      4.071429  5.578000e+06          94.762414        5.237586  "
            ]
          },
          "execution_count": 39,
          "metadata": {},
          "output_type": "execute_result"
        }
      ],
      "source": [
        "utilidades"
      ]
    },
    {
      "cell_type": "markdown",
      "metadata": {},
      "source": [
        "Finalmente para poder tomar una decision objetiva en base a cual de todas la sucursales debe cerrar se obtiene un indicador basado en la rentabilidad, las calificaciones obtenidas. El valor mas bajo deberá ser la sucursar que debera cerrar"
      ]
    },
    {
      "cell_type": "code",
      "execution_count": null,
      "metadata": {},
      "outputs": [],
      "source": []
    },
    {
      "cell_type": "code",
      "execution_count": 40,
      "metadata": {},
      "outputs": [
        {
          "data": {
            "text/plain": [
              "np.float64(584437600.0)"
            ]
          },
          "execution_count": 40,
          "metadata": {},
          "output_type": "execute_result"
        }
      ],
      "source": [
        "# Calcular el total de ingresos y el promedio de calificaciones por año y por lugar de compra\n",
        "ingresos_calificaciones = db_tiendas.groupby([\"Lugar de Compra\", \"año\"]).agg({\n",
        "    \"Precio\": \"sum\",\n",
        "    \"Calificación\": \"mean\"\n",
        "}).reset_index().rename(columns={\"Precio\": \"Total Ingresos\", \"Calificación\": \"Promedio Calificación\"})\n",
        "\n",
        "ingresos_calificaciones[\"Total Ingresos\"].max()"
      ]
    },
    {
      "cell_type": "code",
      "execution_count": 41,
      "metadata": {},
      "outputs": [],
      "source": [
        "ingresos_calificaciones[\"ingreso_normalizado\"] = (ingresos_calificaciones[\"Total Ingresos\"]-ingresos_calificaciones[\"Total Ingresos\"].min())/(ingresos_calificaciones[\"Total Ingresos\"].max()-ingresos_calificaciones[\"Total Ingresos\"].min())\n",
        "ingresos_calificaciones[\"calificacion_normalizada\"] = (ingresos_calificaciones[\"Promedio Calificación\"]-ingresos_calificaciones[\"Promedio Calificación\"].min())/(ingresos_calificaciones[\"Promedio Calificación\"].max()-ingresos_calificaciones[\"Promedio Calificación\"].min())\n",
        "\n",
        "\n"
      ]
    },
    {
      "cell_type": "code",
      "execution_count": 42,
      "metadata": {},
      "outputs": [
        {
          "data": {
            "text/html": [
              "<div>\n",
              "<style scoped>\n",
              "    .dataframe tbody tr th:only-of-type {\n",
              "        vertical-align: middle;\n",
              "    }\n",
              "\n",
              "    .dataframe tbody tr th {\n",
              "        vertical-align: top;\n",
              "    }\n",
              "\n",
              "    .dataframe thead th {\n",
              "        text-align: right;\n",
              "    }\n",
              "</style>\n",
              "<table border=\"1\" class=\"dataframe\">\n",
              "  <thead>\n",
              "    <tr style=\"text-align: right;\">\n",
              "      <th></th>\n",
              "      <th>Lugar de Compra</th>\n",
              "      <th>año</th>\n",
              "      <th>Total Ingresos</th>\n",
              "      <th>Promedio Calificación</th>\n",
              "      <th>ingreso_normalizado</th>\n",
              "      <th>calificacion_normalizada</th>\n",
              "    </tr>\n",
              "  </thead>\n",
              "  <tbody>\n",
              "    <tr>\n",
              "      <th>0</th>\n",
              "      <td>Armenia</td>\n",
              "      <td>2020</td>\n",
              "      <td>5382100.0</td>\n",
              "      <td>3.111111</td>\n",
              "      <td>0.009001</td>\n",
              "      <td>0.190476</td>\n",
              "    </tr>\n",
              "    <tr>\n",
              "      <th>1</th>\n",
              "      <td>Armenia</td>\n",
              "      <td>2021</td>\n",
              "      <td>5500300.0</td>\n",
              "      <td>3.250000</td>\n",
              "      <td>0.009204</td>\n",
              "      <td>0.250000</td>\n",
              "    </tr>\n",
              "    <tr>\n",
              "      <th>2</th>\n",
              "      <td>Armenia</td>\n",
              "      <td>2022</td>\n",
              "      <td>1135400.0</td>\n",
              "      <td>4.000000</td>\n",
              "      <td>0.001734</td>\n",
              "      <td>0.571429</td>\n",
              "    </tr>\n",
              "    <tr>\n",
              "      <th>3</th>\n",
              "      <td>Armenia</td>\n",
              "      <td>2023</td>\n",
              "      <td>225100.0</td>\n",
              "      <td>5.000000</td>\n",
              "      <td>0.000176</td>\n",
              "      <td>1.000000</td>\n",
              "    </tr>\n",
              "    <tr>\n",
              "      <th>4</th>\n",
              "      <td>Barranquilla</td>\n",
              "      <td>2020</td>\n",
              "      <td>48804300.0</td>\n",
              "      <td>3.828283</td>\n",
              "      <td>0.083314</td>\n",
              "      <td>0.497835</td>\n",
              "    </tr>\n",
              "    <tr>\n",
              "      <th>...</th>\n",
              "      <td>...</td>\n",
              "      <td>...</td>\n",
              "      <td>...</td>\n",
              "      <td>...</td>\n",
              "      <td>...</td>\n",
              "      <td>...</td>\n",
              "    </tr>\n",
              "    <tr>\n",
              "      <th>70</th>\n",
              "      <td>Valledupar</td>\n",
              "      <td>2023</td>\n",
              "      <td>238600.0</td>\n",
              "      <td>5.000000</td>\n",
              "      <td>0.000199</td>\n",
              "      <td>1.000000</td>\n",
              "    </tr>\n",
              "    <tr>\n",
              "      <th>71</th>\n",
              "      <td>Villavicencio</td>\n",
              "      <td>2020</td>\n",
              "      <td>3482700.0</td>\n",
              "      <td>3.750000</td>\n",
              "      <td>0.005751</td>\n",
              "      <td>0.464286</td>\n",
              "    </tr>\n",
              "    <tr>\n",
              "      <th>72</th>\n",
              "      <td>Villavicencio</td>\n",
              "      <td>2021</td>\n",
              "      <td>2812400.0</td>\n",
              "      <td>4.000000</td>\n",
              "      <td>0.004604</td>\n",
              "      <td>0.571429</td>\n",
              "    </tr>\n",
              "    <tr>\n",
              "      <th>73</th>\n",
              "      <td>Villavicencio</td>\n",
              "      <td>2022</td>\n",
              "      <td>6916100.0</td>\n",
              "      <td>3.692308</td>\n",
              "      <td>0.011627</td>\n",
              "      <td>0.439560</td>\n",
              "    </tr>\n",
              "    <tr>\n",
              "      <th>74</th>\n",
              "      <td>Villavicencio</td>\n",
              "      <td>2023</td>\n",
              "      <td>122400.0</td>\n",
              "      <td>5.000000</td>\n",
              "      <td>0.000000</td>\n",
              "      <td>1.000000</td>\n",
              "    </tr>\n",
              "  </tbody>\n",
              "</table>\n",
              "<p>75 rows × 6 columns</p>\n",
              "</div>"
            ],
            "text/plain": [
              "   Lugar de Compra   año  Total Ingresos  Promedio Calificación  \\\n",
              "0          Armenia  2020       5382100.0               3.111111   \n",
              "1          Armenia  2021       5500300.0               3.250000   \n",
              "2          Armenia  2022       1135400.0               4.000000   \n",
              "3          Armenia  2023        225100.0               5.000000   \n",
              "4     Barranquilla  2020      48804300.0               3.828283   \n",
              "..             ...   ...             ...                    ...   \n",
              "70      Valledupar  2023        238600.0               5.000000   \n",
              "71   Villavicencio  2020       3482700.0               3.750000   \n",
              "72   Villavicencio  2021       2812400.0               4.000000   \n",
              "73   Villavicencio  2022       6916100.0               3.692308   \n",
              "74   Villavicencio  2023        122400.0               5.000000   \n",
              "\n",
              "    ingreso_normalizado  calificacion_normalizada  \n",
              "0              0.009001                  0.190476  \n",
              "1              0.009204                  0.250000  \n",
              "2              0.001734                  0.571429  \n",
              "3              0.000176                  1.000000  \n",
              "4              0.083314                  0.497835  \n",
              "..                  ...                       ...  \n",
              "70             0.000199                  1.000000  \n",
              "71             0.005751                  0.464286  \n",
              "72             0.004604                  0.571429  \n",
              "73             0.011627                  0.439560  \n",
              "74             0.000000                  1.000000  \n",
              "\n",
              "[75 rows x 6 columns]"
            ]
          },
          "execution_count": 42,
          "metadata": {},
          "output_type": "execute_result"
        }
      ],
      "source": [
        "ingresos_calificaciones"
      ]
    },
    {
      "cell_type": "code",
      "execution_count": 43,
      "metadata": {},
      "outputs": [],
      "source": [
        "ingresos_calificaciones[\"indicador\"]= ingresos_calificaciones[\"ingreso_normalizado\"] * 0.8 + ingresos_calificaciones[\"calificacion_normalizada\"] * 0.2"
      ]
    },
    {
      "cell_type": "code",
      "execution_count": 44,
      "metadata": {},
      "outputs": [
        {
          "data": {
            "text/html": [
              "<div>\n",
              "<style scoped>\n",
              "    .dataframe tbody tr th:only-of-type {\n",
              "        vertical-align: middle;\n",
              "    }\n",
              "\n",
              "    .dataframe tbody tr th {\n",
              "        vertical-align: top;\n",
              "    }\n",
              "\n",
              "    .dataframe thead th {\n",
              "        text-align: right;\n",
              "    }\n",
              "</style>\n",
              "<table border=\"1\" class=\"dataframe\">\n",
              "  <thead>\n",
              "    <tr style=\"text-align: right;\">\n",
              "      <th></th>\n",
              "      <th>Lugar de Compra</th>\n",
              "      <th>año</th>\n",
              "      <th>Total Ingresos</th>\n",
              "      <th>Promedio Calificación</th>\n",
              "      <th>ingreso_normalizado</th>\n",
              "      <th>calificacion_normalizada</th>\n",
              "      <th>indicador</th>\n",
              "    </tr>\n",
              "  </thead>\n",
              "  <tbody>\n",
              "    <tr>\n",
              "      <th>0</th>\n",
              "      <td>Armenia</td>\n",
              "      <td>2020</td>\n",
              "      <td>5382100.0</td>\n",
              "      <td>3.111111</td>\n",
              "      <td>0.009001</td>\n",
              "      <td>0.190476</td>\n",
              "      <td>0.045296</td>\n",
              "    </tr>\n",
              "    <tr>\n",
              "      <th>1</th>\n",
              "      <td>Armenia</td>\n",
              "      <td>2021</td>\n",
              "      <td>5500300.0</td>\n",
              "      <td>3.250000</td>\n",
              "      <td>0.009204</td>\n",
              "      <td>0.250000</td>\n",
              "      <td>0.057363</td>\n",
              "    </tr>\n",
              "    <tr>\n",
              "      <th>2</th>\n",
              "      <td>Armenia</td>\n",
              "      <td>2022</td>\n",
              "      <td>1135400.0</td>\n",
              "      <td>4.000000</td>\n",
              "      <td>0.001734</td>\n",
              "      <td>0.571429</td>\n",
              "      <td>0.115673</td>\n",
              "    </tr>\n",
              "    <tr>\n",
              "      <th>3</th>\n",
              "      <td>Armenia</td>\n",
              "      <td>2023</td>\n",
              "      <td>225100.0</td>\n",
              "      <td>5.000000</td>\n",
              "      <td>0.000176</td>\n",
              "      <td>1.000000</td>\n",
              "      <td>0.200141</td>\n",
              "    </tr>\n",
              "    <tr>\n",
              "      <th>4</th>\n",
              "      <td>Barranquilla</td>\n",
              "      <td>2020</td>\n",
              "      <td>48804300.0</td>\n",
              "      <td>3.828283</td>\n",
              "      <td>0.083314</td>\n",
              "      <td>0.497835</td>\n",
              "      <td>0.166219</td>\n",
              "    </tr>\n",
              "    <tr>\n",
              "      <th>...</th>\n",
              "      <td>...</td>\n",
              "      <td>...</td>\n",
              "      <td>...</td>\n",
              "      <td>...</td>\n",
              "      <td>...</td>\n",
              "      <td>...</td>\n",
              "      <td>...</td>\n",
              "    </tr>\n",
              "    <tr>\n",
              "      <th>70</th>\n",
              "      <td>Valledupar</td>\n",
              "      <td>2023</td>\n",
              "      <td>238600.0</td>\n",
              "      <td>5.000000</td>\n",
              "      <td>0.000199</td>\n",
              "      <td>1.000000</td>\n",
              "      <td>0.200159</td>\n",
              "    </tr>\n",
              "    <tr>\n",
              "      <th>71</th>\n",
              "      <td>Villavicencio</td>\n",
              "      <td>2020</td>\n",
              "      <td>3482700.0</td>\n",
              "      <td>3.750000</td>\n",
              "      <td>0.005751</td>\n",
              "      <td>0.464286</td>\n",
              "      <td>0.097458</td>\n",
              "    </tr>\n",
              "    <tr>\n",
              "      <th>72</th>\n",
              "      <td>Villavicencio</td>\n",
              "      <td>2021</td>\n",
              "      <td>2812400.0</td>\n",
              "      <td>4.000000</td>\n",
              "      <td>0.004604</td>\n",
              "      <td>0.571429</td>\n",
              "      <td>0.117969</td>\n",
              "    </tr>\n",
              "    <tr>\n",
              "      <th>73</th>\n",
              "      <td>Villavicencio</td>\n",
              "      <td>2022</td>\n",
              "      <td>6916100.0</td>\n",
              "      <td>3.692308</td>\n",
              "      <td>0.011627</td>\n",
              "      <td>0.439560</td>\n",
              "      <td>0.097214</td>\n",
              "    </tr>\n",
              "    <tr>\n",
              "      <th>74</th>\n",
              "      <td>Villavicencio</td>\n",
              "      <td>2023</td>\n",
              "      <td>122400.0</td>\n",
              "      <td>5.000000</td>\n",
              "      <td>0.000000</td>\n",
              "      <td>1.000000</td>\n",
              "      <td>0.200000</td>\n",
              "    </tr>\n",
              "  </tbody>\n",
              "</table>\n",
              "<p>75 rows × 7 columns</p>\n",
              "</div>"
            ],
            "text/plain": [
              "   Lugar de Compra   año  Total Ingresos  Promedio Calificación  \\\n",
              "0          Armenia  2020       5382100.0               3.111111   \n",
              "1          Armenia  2021       5500300.0               3.250000   \n",
              "2          Armenia  2022       1135400.0               4.000000   \n",
              "3          Armenia  2023        225100.0               5.000000   \n",
              "4     Barranquilla  2020      48804300.0               3.828283   \n",
              "..             ...   ...             ...                    ...   \n",
              "70      Valledupar  2023        238600.0               5.000000   \n",
              "71   Villavicencio  2020       3482700.0               3.750000   \n",
              "72   Villavicencio  2021       2812400.0               4.000000   \n",
              "73   Villavicencio  2022       6916100.0               3.692308   \n",
              "74   Villavicencio  2023        122400.0               5.000000   \n",
              "\n",
              "    ingreso_normalizado  calificacion_normalizada  indicador  \n",
              "0              0.009001                  0.190476   0.045296  \n",
              "1              0.009204                  0.250000   0.057363  \n",
              "2              0.001734                  0.571429   0.115673  \n",
              "3              0.000176                  1.000000   0.200141  \n",
              "4              0.083314                  0.497835   0.166219  \n",
              "..                  ...                       ...        ...  \n",
              "70             0.000199                  1.000000   0.200159  \n",
              "71             0.005751                  0.464286   0.097458  \n",
              "72             0.004604                  0.571429   0.117969  \n",
              "73             0.011627                  0.439560   0.097214  \n",
              "74             0.000000                  1.000000   0.200000  \n",
              "\n",
              "[75 rows x 7 columns]"
            ]
          },
          "execution_count": 44,
          "metadata": {},
          "output_type": "execute_result"
        }
      ],
      "source": [
        "ingresos_calificaciones"
      ]
    },
    {
      "cell_type": "code",
      "execution_count": 45,
      "metadata": {},
      "outputs": [],
      "source": [
        "pivot_ingresos_calificaciones = ingresos_calificaciones.pivot(index='Lugar de Compra', columns=['año'], values='indicador').fillna(0)"
      ]
    },
    {
      "cell_type": "code",
      "execution_count": null,
      "metadata": {},
      "outputs": [],
      "source": [
        "pivot_ingresos_calificaciones[\"promedio_indicador\"] = (pivot_ingresos_calificaciones[2020] + pivot_ingresos_calificaciones[2021] + pivot_ingresos_calificaciones[2022] + pivot_ingresos_calificaciones[2023])/4\n",
        "\n"
      ]
    },
    {
      "cell_type": "code",
      "execution_count": 48,
      "metadata": {},
      "outputs": [],
      "source": [
        "pivot_ingresos_calificaciones.sort_values(by=\"promedio_indicador\", ascending=False, inplace=True)"
      ]
    },
    {
      "cell_type": "code",
      "execution_count": 49,
      "metadata": {},
      "outputs": [
        {
          "data": {
            "text/html": [
              "<div>\n",
              "<style scoped>\n",
              "    .dataframe tbody tr th:only-of-type {\n",
              "        vertical-align: middle;\n",
              "    }\n",
              "\n",
              "    .dataframe tbody tr th {\n",
              "        vertical-align: top;\n",
              "    }\n",
              "\n",
              "    .dataframe thead th {\n",
              "        text-align: right;\n",
              "    }\n",
              "</style>\n",
              "<table border=\"1\" class=\"dataframe\">\n",
              "  <thead>\n",
              "    <tr style=\"text-align: right;\">\n",
              "      <th>año</th>\n",
              "      <th>2020</th>\n",
              "      <th>2021</th>\n",
              "      <th>2022</th>\n",
              "      <th>2023</th>\n",
              "      <th>promedio_indicador</th>\n",
              "    </tr>\n",
              "    <tr>\n",
              "      <th>Lugar de Compra</th>\n",
              "      <th></th>\n",
              "      <th></th>\n",
              "      <th></th>\n",
              "      <th></th>\n",
              "      <th></th>\n",
              "    </tr>\n",
              "  </thead>\n",
              "  <tbody>\n",
              "    <tr>\n",
              "      <th>Bogotá</th>\n",
              "      <td>0.906475</td>\n",
              "      <td>0.920938</td>\n",
              "      <td>0.859444</td>\n",
              "      <td>0.294492</td>\n",
              "      <td>0.745337</td>\n",
              "    </tr>\n",
              "    <tr>\n",
              "      <th>Medellín</th>\n",
              "      <td>0.529907</td>\n",
              "      <td>0.636804</td>\n",
              "      <td>0.559687</td>\n",
              "      <td>0.209963</td>\n",
              "      <td>0.484090</td>\n",
              "    </tr>\n",
              "    <tr>\n",
              "      <th>Cali</th>\n",
              "      <td>0.340444</td>\n",
              "      <td>0.300880</td>\n",
              "      <td>0.336332</td>\n",
              "      <td>0.194579</td>\n",
              "      <td>0.293059</td>\n",
              "    </tr>\n",
              "    <tr>\n",
              "      <th>Pereira</th>\n",
              "      <td>0.206960</td>\n",
              "      <td>0.211605</td>\n",
              "      <td>0.208390</td>\n",
              "      <td>0.138230</td>\n",
              "      <td>0.191296</td>\n",
              "    </tr>\n",
              "    <tr>\n",
              "      <th>Cartagena</th>\n",
              "      <td>0.124400</td>\n",
              "      <td>0.159955</td>\n",
              "      <td>0.197063</td>\n",
              "      <td>0.105748</td>\n",
              "      <td>0.146791</td>\n",
              "    </tr>\n",
              "    <tr>\n",
              "      <th>Bucaramanga</th>\n",
              "      <td>0.151606</td>\n",
              "      <td>0.153828</td>\n",
              "      <td>0.147795</td>\n",
              "      <td>0.126219</td>\n",
              "      <td>0.144862</td>\n",
              "    </tr>\n",
              "    <tr>\n",
              "      <th>Barranquilla</th>\n",
              "      <td>0.166219</td>\n",
              "      <td>0.157523</td>\n",
              "      <td>0.136834</td>\n",
              "      <td>0.105623</td>\n",
              "      <td>0.141550</td>\n",
              "    </tr>\n",
              "    <tr>\n",
              "      <th>Valledupar</th>\n",
              "      <td>0.151415</td>\n",
              "      <td>0.052308</td>\n",
              "      <td>0.137793</td>\n",
              "      <td>0.200159</td>\n",
              "      <td>0.135419</td>\n",
              "    </tr>\n",
              "    <tr>\n",
              "      <th>Riohacha</th>\n",
              "      <td>0.148097</td>\n",
              "      <td>0.113601</td>\n",
              "      <td>0.142587</td>\n",
              "      <td>0.128848</td>\n",
              "      <td>0.133283</td>\n",
              "    </tr>\n",
              "    <tr>\n",
              "      <th>Pasto</th>\n",
              "      <td>0.119676</td>\n",
              "      <td>0.178440</td>\n",
              "      <td>0.163711</td>\n",
              "      <td>0.067059</td>\n",
              "      <td>0.132221</td>\n",
              "    </tr>\n",
              "    <tr>\n",
              "      <th>Cúcuta</th>\n",
              "      <td>0.162671</td>\n",
              "      <td>0.141736</td>\n",
              "      <td>0.165044</td>\n",
              "      <td>0.046820</td>\n",
              "      <td>0.129068</td>\n",
              "    </tr>\n",
              "    <tr>\n",
              "      <th>Leticia</th>\n",
              "      <td>0.146067</td>\n",
              "      <td>0.111638</td>\n",
              "      <td>0.159725</td>\n",
              "      <td>0.097686</td>\n",
              "      <td>0.128779</td>\n",
              "    </tr>\n",
              "    <tr>\n",
              "      <th>Villavicencio</th>\n",
              "      <td>0.097458</td>\n",
              "      <td>0.117969</td>\n",
              "      <td>0.097214</td>\n",
              "      <td>0.200000</td>\n",
              "      <td>0.128160</td>\n",
              "    </tr>\n",
              "    <tr>\n",
              "      <th>Neiva</th>\n",
              "      <td>0.126940</td>\n",
              "      <td>0.121547</td>\n",
              "      <td>0.036437</td>\n",
              "      <td>0.200160</td>\n",
              "      <td>0.121271</td>\n",
              "    </tr>\n",
              "    <tr>\n",
              "      <th>Soacha</th>\n",
              "      <td>0.137298</td>\n",
              "      <td>0.177027</td>\n",
              "      <td>0.047311</td>\n",
              "      <td>0.115272</td>\n",
              "      <td>0.119227</td>\n",
              "    </tr>\n",
              "    <tr>\n",
              "      <th>Armenia</th>\n",
              "      <td>0.045296</td>\n",
              "      <td>0.057363</td>\n",
              "      <td>0.115673</td>\n",
              "      <td>0.200141</td>\n",
              "      <td>0.104618</td>\n",
              "    </tr>\n",
              "    <tr>\n",
              "      <th>Inírida</th>\n",
              "      <td>0.180259</td>\n",
              "      <td>0.002374</td>\n",
              "      <td>0.119866</td>\n",
              "      <td>0.115048</td>\n",
              "      <td>0.104386</td>\n",
              "    </tr>\n",
              "    <tr>\n",
              "      <th>Santa Marta</th>\n",
              "      <td>0.086712</td>\n",
              "      <td>0.077445</td>\n",
              "      <td>0.128349</td>\n",
              "      <td>0.109705</td>\n",
              "      <td>0.100553</td>\n",
              "    </tr>\n",
              "    <tr>\n",
              "      <th>Manizales</th>\n",
              "      <td>0.133398</td>\n",
              "      <td>0.103739</td>\n",
              "      <td>0.043571</td>\n",
              "      <td>0.000000</td>\n",
              "      <td>0.070177</td>\n",
              "    </tr>\n",
              "  </tbody>\n",
              "</table>\n",
              "</div>"
            ],
            "text/plain": [
              "año                  2020      2021      2022      2023  promedio_indicador\n",
              "Lugar de Compra                                                            \n",
              "Bogotá           0.906475  0.920938  0.859444  0.294492            0.745337\n",
              "Medellín         0.529907  0.636804  0.559687  0.209963            0.484090\n",
              "Cali             0.340444  0.300880  0.336332  0.194579            0.293059\n",
              "Pereira          0.206960  0.211605  0.208390  0.138230            0.191296\n",
              "Cartagena        0.124400  0.159955  0.197063  0.105748            0.146791\n",
              "Bucaramanga      0.151606  0.153828  0.147795  0.126219            0.144862\n",
              "Barranquilla     0.166219  0.157523  0.136834  0.105623            0.141550\n",
              "Valledupar       0.151415  0.052308  0.137793  0.200159            0.135419\n",
              "Riohacha         0.148097  0.113601  0.142587  0.128848            0.133283\n",
              "Pasto            0.119676  0.178440  0.163711  0.067059            0.132221\n",
              "Cúcuta           0.162671  0.141736  0.165044  0.046820            0.129068\n",
              "Leticia          0.146067  0.111638  0.159725  0.097686            0.128779\n",
              "Villavicencio    0.097458  0.117969  0.097214  0.200000            0.128160\n",
              "Neiva            0.126940  0.121547  0.036437  0.200160            0.121271\n",
              "Soacha           0.137298  0.177027  0.047311  0.115272            0.119227\n",
              "Armenia          0.045296  0.057363  0.115673  0.200141            0.104618\n",
              "Inírida          0.180259  0.002374  0.119866  0.115048            0.104386\n",
              "Santa Marta      0.086712  0.077445  0.128349  0.109705            0.100553\n",
              "Manizales        0.133398  0.103739  0.043571  0.000000            0.070177"
            ]
          },
          "execution_count": 49,
          "metadata": {},
          "output_type": "execute_result"
        }
      ],
      "source": [
        "pivot_ingresos_calificaciones"
      ]
    },
    {
      "cell_type": "markdown",
      "metadata": {},
      "source": [
        "Luego de normalizado los ingresos y las calificaciones para poder poder compararlos con las calificaciones, se le otorgo un peso del 0.8 a los ingresos y un 0.2 a las calificaciones. Tras la creacion de este indicador obtenemos que la sucursal mas tentativa para que cierre sus puertas es **Manizales**"
      ]
    },
    {
      "cell_type": "markdown",
      "metadata": {},
      "source": []
    }
  ],
  "metadata": {
    "colab": {
      "provenance": []
    },
    "kernelspec": {
      "display_name": "Python 3",
      "name": "python3"
    },
    "language_info": {
      "codemirror_mode": {
        "name": "ipython",
        "version": 3
      },
      "file_extension": ".py",
      "mimetype": "text/x-python",
      "name": "python",
      "nbconvert_exporter": "python",
      "pygments_lexer": "ipython3",
      "version": "3.12.7"
    }
  },
  "nbformat": 4,
  "nbformat_minor": 0
}
